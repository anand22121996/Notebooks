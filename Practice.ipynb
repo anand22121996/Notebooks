{
 "cells": [
  {
   "cell_type": "code",
   "execution_count": 1,
   "metadata": {},
   "outputs": [],
   "source": [
    "import string \n",
    "import random"
   ]
  },
  {
   "cell_type": "code",
   "execution_count": null,
   "metadata": {},
   "outputs": [],
   "source": [
    "length = 6\n",
    "while True:\n",
    "    code = ''.join(random.choices(string.ascii_uppercase, k=length))"
   ]
  },
  {
   "cell_type": "code",
   "execution_count": null,
   "metadata": {},
   "outputs": [],
   "source": []
  },
  {
   "cell_type": "code",
   "execution_count": null,
   "metadata": {},
   "outputs": [],
   "source": []
  },
  {
   "cell_type": "code",
   "execution_count": null,
   "metadata": {},
   "outputs": [],
   "source": []
  },
  {
   "cell_type": "code",
   "execution_count": 1,
   "metadata": {},
   "outputs": [],
   "source": [
    "def null_decorator(func):\n",
    "    return func\n",
    "def greet():\n",
    "    return 'Hello!'\n",
    "\n",
    "greet = null_decorator(greet)"
   ]
  },
  {
   "cell_type": "code",
   "execution_count": 2,
   "metadata": {},
   "outputs": [
    {
     "data": {
      "text/plain": [
       "'Hello!'"
      ]
     },
     "execution_count": 2,
     "metadata": {},
     "output_type": "execute_result"
    }
   ],
   "source": [
    "greet()"
   ]
  },
  {
   "cell_type": "code",
   "execution_count": 3,
   "metadata": {},
   "outputs": [],
   "source": [
    "def uppercase(func):\n",
    "    def wrapper():\n",
    "        original_result = func()\n",
    "        modified_result = original_result.upper()\n",
    "        return modified_result\n",
    "    return wrapper"
   ]
  },
  {
   "cell_type": "code",
   "execution_count": 18,
   "metadata": {},
   "outputs": [],
   "source": [
    "#@uppercase\n",
    "def i():\n",
    "    return 'hellp'"
   ]
  },
  {
   "cell_type": "code",
   "execution_count": 23,
   "metadata": {},
   "outputs": [],
   "source": [
    "def strong(func):\n",
    "    def wrapper():\n",
    "        return '<strong>' + func() + '</strong>'\n",
    "    return wrapper\n",
    "\n",
    "def emphasis(func):\n",
    "    def wrapper():\n",
    "        return '<em>' + func() + '</em>'\n",
    "    return wrapper"
   ]
  },
  {
   "cell_type": "code",
   "execution_count": 27,
   "metadata": {},
   "outputs": [],
   "source": [
    "@emphasis\n",
    "@strong\n",
    "def greet():\n",
    "    return 'Hello!'"
   ]
  },
  {
   "cell_type": "code",
   "execution_count": 28,
   "metadata": {},
   "outputs": [
    {
     "data": {
      "text/plain": [
       "'<em><strong>Hello!</strong></em>'"
      ]
     },
     "execution_count": 28,
     "metadata": {},
     "output_type": "execute_result"
    }
   ],
   "source": [
    "greet()"
   ]
  },
  {
   "cell_type": "code",
   "execution_count": 37,
   "metadata": {},
   "outputs": [],
   "source": [
    "x = 23\n",
    "y = 20\n",
    "r = x+y\n",
    "result = 'addition of x and y is '+str(r)"
   ]
  },
  {
   "cell_type": "code",
   "execution_count": 38,
   "metadata": {},
   "outputs": [
    {
     "data": {
      "text/plain": [
       "'addition of x and y is 43'"
      ]
     },
     "execution_count": 38,
     "metadata": {},
     "output_type": "execute_result"
    }
   ],
   "source": [
    "result"
   ]
  },
  {
   "cell_type": "code",
   "execution_count": 41,
   "metadata": {},
   "outputs": [],
   "source": []
  },
  {
   "cell_type": "code",
   "execution_count": 43,
   "metadata": {},
   "outputs": [
    {
     "name": "stdout",
     "output_type": "stream",
     "text": [
      "hello\n"
     ]
    },
    {
     "ename": "AttributeError",
     "evalue": "'NoneType' object has no attribute 'upper'",
     "output_type": "error",
     "traceback": [
      "\u001b[1;31m---------------------------------------------------------------------------\u001b[0m",
      "\u001b[1;31mAttributeError\u001b[0m                            Traceback (most recent call last)",
      "\u001b[1;32m<ipython-input-43-df2debd4d371>\u001b[0m in \u001b[0;36m<module>\u001b[1;34m\u001b[0m\n\u001b[0;32m      1\u001b[0m \u001b[1;33m@\u001b[0m\u001b[0mup\u001b[0m\u001b[1;33m\u001b[0m\u001b[1;33m\u001b[0m\u001b[0m\n\u001b[1;32m----> 2\u001b[1;33m \u001b[1;32mdef\u001b[0m \u001b[0ms\u001b[0m\u001b[1;33m(\u001b[0m\u001b[1;33m)\u001b[0m\u001b[1;33m:\u001b[0m\u001b[1;33m\u001b[0m\u001b[1;33m\u001b[0m\u001b[0m\n\u001b[0m\u001b[0;32m      3\u001b[0m     \u001b[0mprint\u001b[0m\u001b[1;33m(\u001b[0m\u001b[1;34m'hello'\u001b[0m\u001b[1;33m)\u001b[0m\u001b[1;33m\u001b[0m\u001b[1;33m\u001b[0m\u001b[0m\n",
      "\u001b[1;32m<ipython-input-41-2698da8cd089>\u001b[0m in \u001b[0;36mup\u001b[1;34m(func)\u001b[0m\n\u001b[0;32m      1\u001b[0m \u001b[1;32mdef\u001b[0m \u001b[0mup\u001b[0m\u001b[1;33m(\u001b[0m\u001b[0mfunc\u001b[0m\u001b[1;33m)\u001b[0m\u001b[1;33m:\u001b[0m\u001b[1;33m\u001b[0m\u001b[1;33m\u001b[0m\u001b[0m\n\u001b[1;32m----> 2\u001b[1;33m     \u001b[1;32mreturn\u001b[0m \u001b[0mfunc\u001b[0m\u001b[1;33m(\u001b[0m\u001b[1;33m)\u001b[0m\u001b[1;33m.\u001b[0m\u001b[0mupper\u001b[0m\u001b[1;33m(\u001b[0m\u001b[1;33m)\u001b[0m\u001b[1;33m\u001b[0m\u001b[1;33m\u001b[0m\u001b[0m\n\u001b[0m",
      "\u001b[1;31mAttributeError\u001b[0m: 'NoneType' object has no attribute 'upper'"
     ]
    }
   ],
   "source": []
  },
  {
   "cell_type": "code",
   "execution_count": 45,
   "metadata": {},
   "outputs": [],
   "source": [
    "link = 'sddfdgdsg'\n",
    "l = ['hello','world','aan']"
   ]
  },
  {
   "cell_type": "code",
   "execution_count": 47,
   "metadata": {},
   "outputs": [],
   "source": [
    "l[2] = link"
   ]
  },
  {
   "cell_type": "code",
   "execution_count": 48,
   "metadata": {},
   "outputs": [
    {
     "data": {
      "text/plain": [
       "'sddfdgdsg'"
      ]
     },
     "execution_count": 48,
     "metadata": {},
     "output_type": "execute_result"
    }
   ],
   "source": [
    "l[2]"
   ]
  },
  {
   "cell_type": "code",
   "execution_count": 1,
   "metadata": {},
   "outputs": [],
   "source": [
    "import pandas as pd"
   ]
  },
  {
   "cell_type": "code",
   "execution_count": 5,
   "metadata": {},
   "outputs": [
    {
     "data": {
      "text/html": [
       "<div>\n",
       "<style scoped>\n",
       "    .dataframe tbody tr th:only-of-type {\n",
       "        vertical-align: middle;\n",
       "    }\n",
       "\n",
       "    .dataframe tbody tr th {\n",
       "        vertical-align: top;\n",
       "    }\n",
       "\n",
       "    .dataframe thead th {\n",
       "        text-align: right;\n",
       "    }\n",
       "</style>\n",
       "<table border=\"1\" class=\"dataframe\">\n",
       "  <thead>\n",
       "    <tr style=\"text-align: right;\">\n",
       "      <th></th>\n",
       "      <th>product_name</th>\n",
       "      <th>product_price</th>\n",
       "    </tr>\n",
       "  </thead>\n",
       "  <tbody>\n",
       "    <tr>\n",
       "      <th>0</th>\n",
       "      <td>Realme C11 (Rich Grey, 32 GB)</td>\n",
       "      <td>₹7,499</td>\n",
       "    </tr>\n",
       "    <tr>\n",
       "      <th>1</th>\n",
       "      <td>Realme C11 (Rich Green, 32 GB)</td>\n",
       "      <td>₹7,499</td>\n",
       "    </tr>\n",
       "    <tr>\n",
       "      <th>2</th>\n",
       "      <td>Realme Narzo 20A (Glory Silver, 64 GB)</td>\n",
       "      <td>₹9,499</td>\n",
       "    </tr>\n",
       "    <tr>\n",
       "      <th>3</th>\n",
       "      <td>Karbonn K24 Plus Pro</td>\n",
       "      <td>₹1,099</td>\n",
       "    </tr>\n",
       "    <tr>\n",
       "      <th>4</th>\n",
       "      <td>Realme Narzo 20A (Victory Blue, 64 GB)</td>\n",
       "      <td>₹9,499</td>\n",
       "    </tr>\n",
       "    <tr>\n",
       "      <th>5</th>\n",
       "      <td>Realme Narzo 20A (Glory Silver, 32 GB)</td>\n",
       "      <td>₹8,499</td>\n",
       "    </tr>\n",
       "    <tr>\n",
       "      <th>6</th>\n",
       "      <td>POCO M3 (Power Black, 128 GB)</td>\n",
       "      <td>₹11,999</td>\n",
       "    </tr>\n",
       "    <tr>\n",
       "      <th>7</th>\n",
       "      <td>POCO M3 (Cool Blue, 64 GB)</td>\n",
       "      <td>₹10,999</td>\n",
       "    </tr>\n",
       "    <tr>\n",
       "      <th>8</th>\n",
       "      <td>POCO M2 (Brick Red, 64 GB)</td>\n",
       "      <td>₹9,999</td>\n",
       "    </tr>\n",
       "    <tr>\n",
       "      <th>9</th>\n",
       "      <td>Realme 7i (Fusion Blue, 64 GB)</td>\n",
       "      <td>₹11,999</td>\n",
       "    </tr>\n",
       "    <tr>\n",
       "      <th>10</th>\n",
       "      <td>Realme 7i (Fusion Green, 64 GB)</td>\n",
       "      <td>₹11,999</td>\n",
       "    </tr>\n",
       "    <tr>\n",
       "      <th>11</th>\n",
       "      <td>Realme Narzo 20 Pro (White Knight, 64 GB)</td>\n",
       "      <td>₹13,999</td>\n",
       "    </tr>\n",
       "    <tr>\n",
       "      <th>12</th>\n",
       "      <td>Redmi 9i (Nature Green, 64 GB)</td>\n",
       "      <td>₹8,299</td>\n",
       "    </tr>\n",
       "    <tr>\n",
       "      <th>13</th>\n",
       "      <td>Realme Narzo 20 (Glory Silver, 128 GB)</td>\n",
       "      <td>₹11,499</td>\n",
       "    </tr>\n",
       "    <tr>\n",
       "      <th>14</th>\n",
       "      <td>Realme Narzo 20 (Glory Silver, 64 GB)</td>\n",
       "      <td>₹10,499</td>\n",
       "    </tr>\n",
       "    <tr>\n",
       "      <th>15</th>\n",
       "      <td>Realme Narzo 20 (Victory Blue, 128 GB)</td>\n",
       "      <td>₹11,499</td>\n",
       "    </tr>\n",
       "    <tr>\n",
       "      <th>16</th>\n",
       "      <td>Realme Narzo 20 (Victory Blue, 64 GB)</td>\n",
       "      <td>₹10,499</td>\n",
       "    </tr>\n",
       "    <tr>\n",
       "      <th>17</th>\n",
       "      <td>Redmi 9 Prime (Space Blue, 64 GB)</td>\n",
       "      <td>₹9,499</td>\n",
       "    </tr>\n",
       "    <tr>\n",
       "      <th>18</th>\n",
       "      <td>Realme C15 (Power Silver, 64 GB)</td>\n",
       "      <td>₹9,999</td>\n",
       "    </tr>\n",
       "    <tr>\n",
       "      <th>19</th>\n",
       "      <td>Realme C15 (Power Blue, 64 GB)</td>\n",
       "      <td>₹9,999</td>\n",
       "    </tr>\n",
       "    <tr>\n",
       "      <th>20</th>\n",
       "      <td>Redmi 9 Prime (Mint Green, 64 GB)</td>\n",
       "      <td>₹9,499</td>\n",
       "    </tr>\n",
       "    <tr>\n",
       "      <th>21</th>\n",
       "      <td>Realme C12 (Power Silver, 32 GB)</td>\n",
       "      <td>₹8,499</td>\n",
       "    </tr>\n",
       "    <tr>\n",
       "      <th>22</th>\n",
       "      <td>Realme C12 (Power Blue, 32 GB)</td>\n",
       "      <td>₹8,499</td>\n",
       "    </tr>\n",
       "    <tr>\n",
       "      <th>23</th>\n",
       "      <td>Realme C15 (Power Blue, 32 GB)</td>\n",
       "      <td>₹8,999</td>\n",
       "    </tr>\n",
       "  </tbody>\n",
       "</table>\n",
       "</div>"
      ],
      "text/plain": [
       "                                 product_name product_price\n",
       "0               Realme C11 (Rich Grey, 32 GB)        ₹7,499\n",
       "1              Realme C11 (Rich Green, 32 GB)        ₹7,499\n",
       "2      Realme Narzo 20A (Glory Silver, 64 GB)        ₹9,499\n",
       "3                        Karbonn K24 Plus Pro        ₹1,099\n",
       "4      Realme Narzo 20A (Victory Blue, 64 GB)        ₹9,499\n",
       "5      Realme Narzo 20A (Glory Silver, 32 GB)        ₹8,499\n",
       "6               POCO M3 (Power Black, 128 GB)       ₹11,999\n",
       "7                  POCO M3 (Cool Blue, 64 GB)       ₹10,999\n",
       "8                  POCO M2 (Brick Red, 64 GB)        ₹9,999\n",
       "9              Realme 7i (Fusion Blue, 64 GB)       ₹11,999\n",
       "10            Realme 7i (Fusion Green, 64 GB)       ₹11,999\n",
       "11  Realme Narzo 20 Pro (White Knight, 64 GB)       ₹13,999\n",
       "12             Redmi 9i (Nature Green, 64 GB)        ₹8,299\n",
       "13     Realme Narzo 20 (Glory Silver, 128 GB)       ₹11,499\n",
       "14      Realme Narzo 20 (Glory Silver, 64 GB)       ₹10,499\n",
       "15     Realme Narzo 20 (Victory Blue, 128 GB)       ₹11,499\n",
       "16      Realme Narzo 20 (Victory Blue, 64 GB)       ₹10,499\n",
       "17          Redmi 9 Prime (Space Blue, 64 GB)        ₹9,499\n",
       "18           Realme C15 (Power Silver, 64 GB)        ₹9,999\n",
       "19             Realme C15 (Power Blue, 64 GB)        ₹9,999\n",
       "20          Redmi 9 Prime (Mint Green, 64 GB)        ₹9,499\n",
       "21           Realme C12 (Power Silver, 32 GB)        ₹8,499\n",
       "22             Realme C12 (Power Blue, 32 GB)        ₹8,499\n",
       "23             Realme C15 (Power Blue, 32 GB)        ₹8,999"
      ]
     },
     "execution_count": 5,
     "metadata": {},
     "output_type": "execute_result"
    }
   ],
   "source": [
    "pd.read_csv(r'C:\\Users\\Anand kumar\\Desktop\\sc\\sc\\an.csv')"
   ]
  },
  {
   "cell_type": "code",
   "execution_count": 6,
   "metadata": {},
   "outputs": [
    {
     "data": {
      "text/html": [
       "<div>\n",
       "<style scoped>\n",
       "    .dataframe tbody tr th:only-of-type {\n",
       "        vertical-align: middle;\n",
       "    }\n",
       "\n",
       "    .dataframe tbody tr th {\n",
       "        vertical-align: top;\n",
       "    }\n",
       "\n",
       "    .dataframe thead th {\n",
       "        text-align: right;\n",
       "    }\n",
       "</style>\n",
       "<table border=\"1\" class=\"dataframe\">\n",
       "  <thead>\n",
       "    <tr style=\"text-align: right;\">\n",
       "      <th></th>\n",
       "      <th>product_name</th>\n",
       "      <th>product_price</th>\n",
       "    </tr>\n",
       "  </thead>\n",
       "  <tbody>\n",
       "    <tr>\n",
       "      <th>0</th>\n",
       "      <td>Realme C11 (Rich Green, 32 GB)</td>\n",
       "      <td>₹7,499</td>\n",
       "    </tr>\n",
       "    <tr>\n",
       "      <th>1</th>\n",
       "      <td>Realme C11 (Rich Grey, 32 GB)</td>\n",
       "      <td>₹7,499</td>\n",
       "    </tr>\n",
       "    <tr>\n",
       "      <th>2</th>\n",
       "      <td>POCO M3 (Power Black, 128 GB)</td>\n",
       "      <td>₹11,999</td>\n",
       "    </tr>\n",
       "    <tr>\n",
       "      <th>3</th>\n",
       "      <td>Karbonn K24 Plus Pro</td>\n",
       "      <td>₹1,099</td>\n",
       "    </tr>\n",
       "    <tr>\n",
       "      <th>4</th>\n",
       "      <td>Realme Narzo 20A (Glory Silver, 64 GB)</td>\n",
       "      <td>₹9,499</td>\n",
       "    </tr>\n",
       "    <tr>\n",
       "      <th>5</th>\n",
       "      <td>Realme Narzo 20A (Victory Blue, 32 GB)</td>\n",
       "      <td>₹8,499</td>\n",
       "    </tr>\n",
       "    <tr>\n",
       "      <th>6</th>\n",
       "      <td>Realme Narzo 20A (Glory Silver, 32 GB)</td>\n",
       "      <td>₹8,499</td>\n",
       "    </tr>\n",
       "    <tr>\n",
       "      <th>7</th>\n",
       "      <td>POCO M3 (Power Black, 64 GB)</td>\n",
       "      <td>₹10,999</td>\n",
       "    </tr>\n",
       "    <tr>\n",
       "      <th>8</th>\n",
       "      <td>POCO M2 (Brick Red, 64 GB)</td>\n",
       "      <td>₹9,999</td>\n",
       "    </tr>\n",
       "    <tr>\n",
       "      <th>9</th>\n",
       "      <td>POCO M3 (Cool Blue, 64 GB)</td>\n",
       "      <td>₹10,999</td>\n",
       "    </tr>\n",
       "    <tr>\n",
       "      <th>10</th>\n",
       "      <td>Realme 7i (Fusion Green, 64 GB)</td>\n",
       "      <td>₹11,999</td>\n",
       "    </tr>\n",
       "    <tr>\n",
       "      <th>11</th>\n",
       "      <td>Realme Narzo 20 Pro (White Knight, 64 GB)</td>\n",
       "      <td>₹13,999</td>\n",
       "    </tr>\n",
       "    <tr>\n",
       "      <th>12</th>\n",
       "      <td>Realme 7i (Fusion Blue, 64 GB)</td>\n",
       "      <td>₹11,999</td>\n",
       "    </tr>\n",
       "    <tr>\n",
       "      <th>13</th>\n",
       "      <td>Redmi 9i (Nature Green, 64 GB)</td>\n",
       "      <td>₹8,299</td>\n",
       "    </tr>\n",
       "    <tr>\n",
       "      <th>14</th>\n",
       "      <td>Realme Narzo 20 (Victory Blue, 128 GB)</td>\n",
       "      <td>₹11,499</td>\n",
       "    </tr>\n",
       "    <tr>\n",
       "      <th>15</th>\n",
       "      <td>Realme Narzo 20 (Glory Silver, 64 GB)</td>\n",
       "      <td>₹10,499</td>\n",
       "    </tr>\n",
       "    <tr>\n",
       "      <th>16</th>\n",
       "      <td>Realme Narzo 20 (Victory Blue, 64 GB)</td>\n",
       "      <td>₹10,499</td>\n",
       "    </tr>\n",
       "    <tr>\n",
       "      <th>17</th>\n",
       "      <td>Realme Narzo 20 (Glory Silver, 128 GB)</td>\n",
       "      <td>₹11,499</td>\n",
       "    </tr>\n",
       "    <tr>\n",
       "      <th>18</th>\n",
       "      <td>Redmi 9 Prime (Space Blue, 64 GB)</td>\n",
       "      <td>₹9,499</td>\n",
       "    </tr>\n",
       "    <tr>\n",
       "      <th>19</th>\n",
       "      <td>Realme C15 (Power Blue, 64 GB)</td>\n",
       "      <td>₹9,999</td>\n",
       "    </tr>\n",
       "    <tr>\n",
       "      <th>20</th>\n",
       "      <td>Realme C15 (Power Silver, 64 GB)</td>\n",
       "      <td>₹9,999</td>\n",
       "    </tr>\n",
       "    <tr>\n",
       "      <th>21</th>\n",
       "      <td>Redmi 9 Prime (Mint Green, 64 GB)</td>\n",
       "      <td>₹9,499</td>\n",
       "    </tr>\n",
       "    <tr>\n",
       "      <th>22</th>\n",
       "      <td>Realme C12 (Power Blue, 32 GB)</td>\n",
       "      <td>₹8,499</td>\n",
       "    </tr>\n",
       "    <tr>\n",
       "      <th>23</th>\n",
       "      <td>Realme C12 (Power Silver, 32 GB)</td>\n",
       "      <td>₹8,499</td>\n",
       "    </tr>\n",
       "    <tr>\n",
       "      <th>24</th>\n",
       "      <td>Realme C15 (Power Blue, 32 GB)</td>\n",
       "      <td>₹8,999</td>\n",
       "    </tr>\n",
       "    <tr>\n",
       "      <th>25</th>\n",
       "      <td>Realme 6 (Comet Blue, 64 GB)</td>\n",
       "      <td>₹12,999</td>\n",
       "    </tr>\n",
       "    <tr>\n",
       "      <th>26</th>\n",
       "      <td>POCO M2 (Brick Red, 128 GB)</td>\n",
       "      <td>₹10,999</td>\n",
       "    </tr>\n",
       "    <tr>\n",
       "      <th>27</th>\n",
       "      <td>Realme 7i (Fusion Blue, 128 GB)</td>\n",
       "      <td>₹12,999</td>\n",
       "    </tr>\n",
       "    <tr>\n",
       "      <th>28</th>\n",
       "      <td>Realme 7i (Fusion Green, 128 GB)</td>\n",
       "      <td>₹12,999</td>\n",
       "    </tr>\n",
       "    <tr>\n",
       "      <th>29</th>\n",
       "      <td>Karbonn K24 Plus Pro</td>\n",
       "      <td>₹1,099</td>\n",
       "    </tr>\n",
       "    <tr>\n",
       "      <th>30</th>\n",
       "      <td>Realme 6 (Comet White, 64 GB)</td>\n",
       "      <td>₹12,999</td>\n",
       "    </tr>\n",
       "    <tr>\n",
       "      <th>31</th>\n",
       "      <td>Infinix Hot 10 (Ocean Wave, 64 GB)</td>\n",
       "      <td>₹9,499</td>\n",
       "    </tr>\n",
       "    <tr>\n",
       "      <th>32</th>\n",
       "      <td>Infinix Hot 10 (Amber Red, 128 GB)</td>\n",
       "      <td>₹10,999</td>\n",
       "    </tr>\n",
       "    <tr>\n",
       "      <th>33</th>\n",
       "      <td>Infinix Hot 10 (Moonlight Jade, 64 GB)</td>\n",
       "      <td>₹9,499</td>\n",
       "    </tr>\n",
       "    <tr>\n",
       "      <th>34</th>\n",
       "      <td>Infinix Hot 10 (Amber Red, 64 GB)</td>\n",
       "      <td>₹9,499</td>\n",
       "    </tr>\n",
       "    <tr>\n",
       "      <th>35</th>\n",
       "      <td>Infinix Hot 10 (Obsidian Black, 64 GB)</td>\n",
       "      <td>₹9,499</td>\n",
       "    </tr>\n",
       "    <tr>\n",
       "      <th>36</th>\n",
       "      <td>Infinix Hot 10 (Ocean Wave, 128 GB)</td>\n",
       "      <td>₹10,999</td>\n",
       "    </tr>\n",
       "    <tr>\n",
       "      <th>37</th>\n",
       "      <td>Realme 7 (Mist Blue, 64 GB)</td>\n",
       "      <td>₹14,999</td>\n",
       "    </tr>\n",
       "    <tr>\n",
       "      <th>38</th>\n",
       "      <td>Realme Narzo 20 Pro (Black Ninja, 128 GB)</td>\n",
       "      <td>₹15,999</td>\n",
       "    </tr>\n",
       "    <tr>\n",
       "      <th>39</th>\n",
       "      <td>Realme Narzo 20 Pro (Black Ninja, 64 GB)</td>\n",
       "      <td>₹13,999</td>\n",
       "    </tr>\n",
       "    <tr>\n",
       "      <th>40</th>\n",
       "      <td>Realme Narzo 20 Pro (White Knight, 128 GB)</td>\n",
       "      <td>₹15,999</td>\n",
       "    </tr>\n",
       "    <tr>\n",
       "      <th>41</th>\n",
       "      <td>Infinix Smart 4 Plus (Quetzal Cyan, 32 GB)</td>\n",
       "      <td>₹7,999</td>\n",
       "    </tr>\n",
       "    <tr>\n",
       "      <th>42</th>\n",
       "      <td>Infinix Smart 4 Plus (Midnight Black, 32 GB)</td>\n",
       "      <td>₹7,999</td>\n",
       "    </tr>\n",
       "    <tr>\n",
       "      <th>43</th>\n",
       "      <td>Infinix Smart 4 Plus (Ocean Wave, 32 GB)</td>\n",
       "      <td>₹7,999</td>\n",
       "    </tr>\n",
       "    <tr>\n",
       "      <th>44</th>\n",
       "      <td>POCO C3 (Arctic Blue, 32 GB)</td>\n",
       "      <td>₹7,499</td>\n",
       "    </tr>\n",
       "    <tr>\n",
       "      <th>45</th>\n",
       "      <td>POCO M3 (Cool Blue, 128 GB)</td>\n",
       "      <td>₹11,999</td>\n",
       "    </tr>\n",
       "    <tr>\n",
       "      <th>46</th>\n",
       "      <td>POCO C3 (Arctic Blue, 64 GB)</td>\n",
       "      <td>₹8,499</td>\n",
       "    </tr>\n",
       "    <tr>\n",
       "      <th>47</th>\n",
       "      <td>Redmi 9 Prime (Matte Black, 64 GB)</td>\n",
       "      <td>₹9,499</td>\n",
       "    </tr>\n",
       "  </tbody>\n",
       "</table>\n",
       "</div>"
      ],
      "text/plain": [
       "                                    product_name product_price\n",
       "0                 Realme C11 (Rich Green, 32 GB)        ₹7,499\n",
       "1                  Realme C11 (Rich Grey, 32 GB)        ₹7,499\n",
       "2                  POCO M3 (Power Black, 128 GB)       ₹11,999\n",
       "3                           Karbonn K24 Plus Pro        ₹1,099\n",
       "4         Realme Narzo 20A (Glory Silver, 64 GB)        ₹9,499\n",
       "5         Realme Narzo 20A (Victory Blue, 32 GB)        ₹8,499\n",
       "6         Realme Narzo 20A (Glory Silver, 32 GB)        ₹8,499\n",
       "7                   POCO M3 (Power Black, 64 GB)       ₹10,999\n",
       "8                     POCO M2 (Brick Red, 64 GB)        ₹9,999\n",
       "9                     POCO M3 (Cool Blue, 64 GB)       ₹10,999\n",
       "10               Realme 7i (Fusion Green, 64 GB)       ₹11,999\n",
       "11     Realme Narzo 20 Pro (White Knight, 64 GB)       ₹13,999\n",
       "12                Realme 7i (Fusion Blue, 64 GB)       ₹11,999\n",
       "13                Redmi 9i (Nature Green, 64 GB)        ₹8,299\n",
       "14        Realme Narzo 20 (Victory Blue, 128 GB)       ₹11,499\n",
       "15         Realme Narzo 20 (Glory Silver, 64 GB)       ₹10,499\n",
       "16         Realme Narzo 20 (Victory Blue, 64 GB)       ₹10,499\n",
       "17        Realme Narzo 20 (Glory Silver, 128 GB)       ₹11,499\n",
       "18             Redmi 9 Prime (Space Blue, 64 GB)        ₹9,499\n",
       "19                Realme C15 (Power Blue, 64 GB)        ₹9,999\n",
       "20              Realme C15 (Power Silver, 64 GB)        ₹9,999\n",
       "21             Redmi 9 Prime (Mint Green, 64 GB)        ₹9,499\n",
       "22                Realme C12 (Power Blue, 32 GB)        ₹8,499\n",
       "23              Realme C12 (Power Silver, 32 GB)        ₹8,499\n",
       "24                Realme C15 (Power Blue, 32 GB)        ₹8,999\n",
       "25                  Realme 6 (Comet Blue, 64 GB)       ₹12,999\n",
       "26                   POCO M2 (Brick Red, 128 GB)       ₹10,999\n",
       "27               Realme 7i (Fusion Blue, 128 GB)       ₹12,999\n",
       "28              Realme 7i (Fusion Green, 128 GB)       ₹12,999\n",
       "29                          Karbonn K24 Plus Pro        ₹1,099\n",
       "30                 Realme 6 (Comet White, 64 GB)       ₹12,999\n",
       "31            Infinix Hot 10 (Ocean Wave, 64 GB)        ₹9,499\n",
       "32            Infinix Hot 10 (Amber Red, 128 GB)       ₹10,999\n",
       "33        Infinix Hot 10 (Moonlight Jade, 64 GB)        ₹9,499\n",
       "34             Infinix Hot 10 (Amber Red, 64 GB)        ₹9,499\n",
       "35        Infinix Hot 10 (Obsidian Black, 64 GB)        ₹9,499\n",
       "36           Infinix Hot 10 (Ocean Wave, 128 GB)       ₹10,999\n",
       "37                   Realme 7 (Mist Blue, 64 GB)       ₹14,999\n",
       "38     Realme Narzo 20 Pro (Black Ninja, 128 GB)       ₹15,999\n",
       "39      Realme Narzo 20 Pro (Black Ninja, 64 GB)       ₹13,999\n",
       "40    Realme Narzo 20 Pro (White Knight, 128 GB)       ₹15,999\n",
       "41    Infinix Smart 4 Plus (Quetzal Cyan, 32 GB)        ₹7,999\n",
       "42  Infinix Smart 4 Plus (Midnight Black, 32 GB)        ₹7,999\n",
       "43      Infinix Smart 4 Plus (Ocean Wave, 32 GB)        ₹7,999\n",
       "44                  POCO C3 (Arctic Blue, 32 GB)        ₹7,499\n",
       "45                   POCO M3 (Cool Blue, 128 GB)       ₹11,999\n",
       "46                  POCO C3 (Arctic Blue, 64 GB)        ₹8,499\n",
       "47            Redmi 9 Prime (Matte Black, 64 GB)        ₹9,499"
      ]
     },
     "execution_count": 6,
     "metadata": {},
     "output_type": "execute_result"
    }
   ],
   "source": [
    "pd.read_csv(r'C:\\Users\\Anand kumar\\Desktop\\sc\\sc\\an.csv')"
   ]
  },
  {
   "cell_type": "code",
   "execution_count": 7,
   "metadata": {},
   "outputs": [
    {
     "data": {
      "text/html": [
       "<div>\n",
       "<style scoped>\n",
       "    .dataframe tbody tr th:only-of-type {\n",
       "        vertical-align: middle;\n",
       "    }\n",
       "\n",
       "    .dataframe tbody tr th {\n",
       "        vertical-align: top;\n",
       "    }\n",
       "\n",
       "    .dataframe thead th {\n",
       "        text-align: right;\n",
       "    }\n",
       "</style>\n",
       "<table border=\"1\" class=\"dataframe\">\n",
       "  <thead>\n",
       "    <tr style=\"text-align: right;\">\n",
       "      <th></th>\n",
       "      <th>product_name</th>\n",
       "      <th>product_price</th>\n",
       "    </tr>\n",
       "  </thead>\n",
       "  <tbody>\n",
       "    <tr>\n",
       "      <th>0</th>\n",
       "      <td>Realme C11 (Rich Grey, 32 GB)</td>\n",
       "      <td>₹7,499</td>\n",
       "    </tr>\n",
       "    <tr>\n",
       "      <th>1</th>\n",
       "      <td>Realme C11 (Rich Green, 32 GB)</td>\n",
       "      <td>₹7,499</td>\n",
       "    </tr>\n",
       "    <tr>\n",
       "      <th>2</th>\n",
       "      <td>POCO M3 (Cool Blue, 64 GB)</td>\n",
       "      <td>₹10,999</td>\n",
       "    </tr>\n",
       "    <tr>\n",
       "      <th>3</th>\n",
       "      <td>Karbonn K24 Plus Pro</td>\n",
       "      <td>₹1,099</td>\n",
       "    </tr>\n",
       "    <tr>\n",
       "      <th>4</th>\n",
       "      <td>Realme Narzo 20A (Glory Silver, 64 GB)</td>\n",
       "      <td>₹9,499</td>\n",
       "    </tr>\n",
       "    <tr>\n",
       "      <th>...</th>\n",
       "      <td>...</td>\n",
       "      <td>...</td>\n",
       "    </tr>\n",
       "    <tr>\n",
       "      <th>235</th>\n",
       "      <td>Realme 6 Pro (Lightning Blue, 128 GB)</td>\n",
       "      <td>₹17,999</td>\n",
       "    </tr>\n",
       "    <tr>\n",
       "      <th>236</th>\n",
       "      <td>Vivo Y11 (Agate Red, 32 GB)</td>\n",
       "      <td>₹9,490</td>\n",
       "    </tr>\n",
       "    <tr>\n",
       "      <th>237</th>\n",
       "      <td>Vivo Y11 (Mineral Blue, 32 GB)</td>\n",
       "      <td>₹9,490</td>\n",
       "    </tr>\n",
       "    <tr>\n",
       "      <th>238</th>\n",
       "      <td>Kechaoda K112</td>\n",
       "      <td>₹1,314</td>\n",
       "    </tr>\n",
       "    <tr>\n",
       "      <th>239</th>\n",
       "      <td>Snexian Rock</td>\n",
       "      <td>₹1,299</td>\n",
       "    </tr>\n",
       "  </tbody>\n",
       "</table>\n",
       "<p>240 rows × 2 columns</p>\n",
       "</div>"
      ],
      "text/plain": [
       "                               product_name product_price\n",
       "0             Realme C11 (Rich Grey, 32 GB)        ₹7,499\n",
       "1            Realme C11 (Rich Green, 32 GB)        ₹7,499\n",
       "2                POCO M3 (Cool Blue, 64 GB)       ₹10,999\n",
       "3                      Karbonn K24 Plus Pro        ₹1,099\n",
       "4    Realme Narzo 20A (Glory Silver, 64 GB)        ₹9,499\n",
       "..                                      ...           ...\n",
       "235   Realme 6 Pro (Lightning Blue, 128 GB)       ₹17,999\n",
       "236             Vivo Y11 (Agate Red, 32 GB)        ₹9,490\n",
       "237          Vivo Y11 (Mineral Blue, 32 GB)        ₹9,490\n",
       "238                           Kechaoda K112        ₹1,314\n",
       "239                            Snexian Rock        ₹1,299\n",
       "\n",
       "[240 rows x 2 columns]"
      ]
     },
     "execution_count": 7,
     "metadata": {},
     "output_type": "execute_result"
    }
   ],
   "source": [
    "pd.read_csv(r'C:\\Users\\Anand kumar\\Desktop\\sc\\sc\\an.csv')"
   ]
  },
  {
   "cell_type": "code",
   "execution_count": 15,
   "metadata": {},
   "outputs": [],
   "source": [
    "df = pd.read_csv(r'C:\\Users\\Anand kumar\\Desktop\\sc\\sc\\an1.csv')"
   ]
  },
  {
   "cell_type": "code",
   "execution_count": 16,
   "metadata": {},
   "outputs": [
    {
     "data": {
      "text/plain": [
       "(960, 2)"
      ]
     },
     "execution_count": 16,
     "metadata": {},
     "output_type": "execute_result"
    }
   ],
   "source": [
    "df.shape"
   ]
  },
  {
   "cell_type": "code",
   "execution_count": 22,
   "metadata": {},
   "outputs": [],
   "source": [
    "l = [3,78,'hjhjh']"
   ]
  },
  {
   "cell_type": "code",
   "execution_count": 27,
   "metadata": {},
   "outputs": [],
   "source": [
    "t = (2,3,'sfdf')"
   ]
  },
  {
   "cell_type": "code",
   "execution_count": 32,
   "metadata": {},
   "outputs": [],
   "source": [
    "s = {2,23,2,2,4,4}"
   ]
  },
  {
   "cell_type": "code",
   "execution_count": 33,
   "metadata": {},
   "outputs": [
    {
     "data": {
      "text/plain": [
       "{2, 4, 23}"
      ]
     },
     "execution_count": 33,
     "metadata": {},
     "output_type": "execute_result"
    }
   ],
   "source": [
    "s"
   ]
  },
  {
   "cell_type": "code",
   "execution_count": 42,
   "metadata": {},
   "outputs": [],
   "source": [
    "class Person:\n",
    "    age = 25\n",
    "\n",
    "    def printAge(cls):\n",
    "        print('The age is:', cls.age)\n",
    "\n",
    "\n",
    "    # create printAge class method\n",
    "#Person.printAge = classmethod(Person.printAge)\n"
   ]
  },
  {
   "cell_type": "code",
   "execution_count": 43,
   "metadata": {},
   "outputs": [
    {
     "ename": "TypeError",
     "evalue": "printAge() missing 1 required positional argument: 'cls'",
     "output_type": "error",
     "traceback": [
      "\u001b[1;31m---------------------------------------------------------------------------\u001b[0m",
      "\u001b[1;31mTypeError\u001b[0m                                 Traceback (most recent call last)",
      "\u001b[1;32m<ipython-input-43-b1f55ee52dbd>\u001b[0m in \u001b[0;36m<module>\u001b[1;34m\u001b[0m\n\u001b[1;32m----> 1\u001b[1;33m \u001b[0mPerson\u001b[0m\u001b[1;33m.\u001b[0m\u001b[0mprintAge\u001b[0m\u001b[1;33m(\u001b[0m\u001b[1;33m)\u001b[0m\u001b[1;33m\u001b[0m\u001b[1;33m\u001b[0m\u001b[0m\n\u001b[0m",
      "\u001b[1;31mTypeError\u001b[0m: printAge() missing 1 required positional argument: 'cls'"
     ]
    }
   ],
   "source": [
    "Person.printAge()"
   ]
  },
  {
   "cell_type": "code",
   "execution_count": 46,
   "metadata": {},
   "outputs": [
    {
     "name": "stdout",
     "output_type": "stream",
     "text": [
      "Adam's age is: 19\n",
      "John's age is: 36\n"
     ]
    }
   ],
   "source": [
    "from datetime import date\n",
    "\n",
    "# random Person\n",
    "class Person:\n",
    "    def __init__(self, name, age):\n",
    "        self.name = name\n",
    "        self.age = age\n",
    "\n",
    "    @classmethod\n",
    "    def fromBirthYear(cls, name, birthYear):\n",
    "        return cls(name, date.today().year - birthYear)\n",
    "\n",
    "    def display(self):\n",
    "        print(self.name + \"'s age is: \" + str(self.age))\n",
    "\n",
    "person = Person('Adam', 19)\n",
    "person.display()\n",
    "\n",
    "person1 = Person.fromBirthYear('John',  1985)\n",
    "person1.display()"
   ]
  },
  {
   "cell_type": "code",
   "execution_count": 49,
   "metadata": {},
   "outputs": [],
   "source": [
    "def parse(self, response):\n",
    "        print('[parse] url:', response.url)\n",
    "        # extract all links from page\n",
    "        all_links = response.xpath('*//a/@href').extract()\n",
    "        # iterate over links\n",
    "        for link in all_links:\n",
    "            print('[+] link:', link)\n",
    "            #yield scrapy.http.Request(url=\"http://www.myntra.com\" + link, callback=self.print_this_link)\n",
    "            full_link = response.urljoin(link)\n",
    "            yield scrapy.http.Request(url=full_link, callback=self.print_this_link)\n",
    "\n",
    "\n",
    "def print_this_link(self, response):\n",
    "    print('[print_this_link] url:', response.url)\n",
    "    title = response.xpath('//title/text()').get() # get() will replace extract() in the future\n",
    "    text = response.xpath('//body/text()').get()\n",
    "    yield {'url': response.url, 'title': title, 'text': text}"
   ]
  },
  {
   "cell_type": "code",
   "execution_count": 56,
   "metadata": {},
   "outputs": [
    {
     "ename": "NameError",
     "evalue": "name 'scrapy' is not defined",
     "output_type": "error",
     "traceback": [
      "\u001b[1;31m---------------------------------------------------------------------------\u001b[0m",
      "\u001b[1;31mNameError\u001b[0m                                 Traceback (most recent call last)",
      "\u001b[1;32m<ipython-input-56-6f48b6ad6cce>\u001b[0m in \u001b[0;36m<module>\u001b[1;34m\u001b[0m\n\u001b[1;32m----> 1\u001b[1;33m \u001b[1;32mclass\u001b[0m \u001b[0mWikiSpider\u001b[0m\u001b[1;33m(\u001b[0m\u001b[0mscrapy\u001b[0m\u001b[1;33m.\u001b[0m\u001b[0mSpider\u001b[0m\u001b[1;33m)\u001b[0m\u001b[1;33m:\u001b[0m\u001b[1;33m\u001b[0m\u001b[1;33m\u001b[0m\u001b[0m\n\u001b[0m\u001b[0;32m      2\u001b[0m     \u001b[0mname\u001b[0m \u001b[1;33m=\u001b[0m \u001b[1;34m'wiki'\u001b[0m\u001b[1;33m\u001b[0m\u001b[1;33m\u001b[0m\u001b[0m\n\u001b[0;32m      3\u001b[0m     \u001b[0mallowed_domains\u001b[0m \u001b[1;33m=\u001b[0m \u001b[1;33m[\u001b[0m\u001b[1;34m'https://en.wikipedia.org/wiki/NumPy'\u001b[0m\u001b[1;33m]\u001b[0m\u001b[1;33m\u001b[0m\u001b[1;33m\u001b[0m\u001b[0m\n\u001b[0;32m      4\u001b[0m     \u001b[0mstart_urls\u001b[0m \u001b[1;33m=\u001b[0m \u001b[1;33m[\u001b[0m\u001b[1;34m'http://https://en.wikipedia.org/wiki/NumPy/'\u001b[0m\u001b[1;33m]\u001b[0m\u001b[1;33m\u001b[0m\u001b[1;33m\u001b[0m\u001b[0m\n\u001b[0;32m      5\u001b[0m \u001b[1;33m\u001b[0m\u001b[0m\n",
      "\u001b[1;31mNameError\u001b[0m: name 'scrapy' is not defined"
     ]
    }
   ],
   "source": [
    "class WikiSpider(scrapy.Spider):\n",
    "    name = 'wiki'\n",
    "    allowed_domains = ['https://en.wikipedia.org/wiki/NumPy']\n",
    "    start_urls = ['http://https://en.wikipedia.org/wiki/NumPy/']\n",
    "\n",
    "    def parse(self, response):\n",
    "        print('[parse] url:', response.url)\n",
    "        all_links = response.xpath('*//a/@href').extract()\n",
    "        for link in all_links:\n",
    "            print('[+] link:', link)\n",
    "            #yield scrapy.http.Request(url=\"http://www.myntra.com\" + link, callback=self.print_this_link)\n",
    "            full_link = response.urljoin(link)\n",
    "            yield scrapy.http.Request(url=full_link, callback=self.print_this_link)\n",
    "    \n",
    "    def print_this_link(self, response):\n",
    "        print('[print_this_link] url:', response.url)\n",
    "        title = response.xpath('//title/text()').get() # get() will replace extract() in the future\n",
    "        text = response.xpath('//body/text()').get()\n",
    "        yield {'url': response.url, 'title': title, 'text': text}"
   ]
  },
  {
   "cell_type": "code",
   "execution_count": 62,
   "metadata": {},
   "outputs": [
    {
     "ename": "ModuleNotFoundError",
     "evalue": "No module named 'response'",
     "output_type": "error",
     "traceback": [
      "\u001b[1;31m---------------------------------------------------------------------------\u001b[0m",
      "\u001b[1;31mModuleNotFoundError\u001b[0m                       Traceback (most recent call last)",
      "\u001b[1;32m<ipython-input-62-49c8127123fe>\u001b[0m in \u001b[0;36m<module>\u001b[1;34m\u001b[0m\n\u001b[0;32m      1\u001b[0m \u001b[1;32mfrom\u001b[0m \u001b[0murllib\u001b[0m\u001b[1;33m.\u001b[0m\u001b[0mparse\u001b[0m \u001b[1;32mimport\u001b[0m \u001b[0murlparse\u001b[0m\u001b[1;33m\u001b[0m\u001b[1;33m\u001b[0m\u001b[0m\n\u001b[1;32m----> 2\u001b[1;33m \u001b[1;32mimport\u001b[0m \u001b[0mresponse\u001b[0m\u001b[1;33m\u001b[0m\u001b[1;33m\u001b[0m\u001b[0m\n\u001b[0m",
      "\u001b[1;31mModuleNotFoundError\u001b[0m: No module named 'response'"
     ]
    }
   ],
   "source": [
    "from urllib.parse import urlparse"
   ]
  },
  {
   "cell_type": "code",
   "execution_count": 58,
   "metadata": {},
   "outputs": [],
   "source": [
    "link = 'https://en.wikipedia.org/wiki/NumPy'"
   ]
  },
  {
   "cell_type": "code",
   "execution_count": 66,
   "metadata": {},
   "outputs": [],
   "source": [
    "import urllib.request\n",
    "with urllib.request.urlopen('http://python.org/') as response:\n",
    "    html = response"
   ]
  },
  {
   "cell_type": "code",
   "execution_count": 69,
   "metadata": {},
   "outputs": [
    {
     "data": {
      "text/html": [
       "<div>\n",
       "<style scoped>\n",
       "    .dataframe tbody tr th:only-of-type {\n",
       "        vertical-align: middle;\n",
       "    }\n",
       "\n",
       "    .dataframe tbody tr th {\n",
       "        vertical-align: top;\n",
       "    }\n",
       "\n",
       "    .dataframe thead th {\n",
       "        text-align: right;\n",
       "    }\n",
       "</style>\n",
       "<table border=\"1\" class=\"dataframe\">\n",
       "  <thead>\n",
       "    <tr style=\"text-align: right;\">\n",
       "      <th></th>\n",
       "      <th>domain</th>\n",
       "      <th>host_url</th>\n",
       "      <th>sub_domain</th>\n",
       "      <th>tld</th>\n",
       "      <th>url_from</th>\n",
       "      <th>url_to</th>\n",
       "    </tr>\n",
       "  </thead>\n",
       "  <tbody>\n",
       "    <tr>\n",
       "      <th>0</th>\n",
       "      <td>en.wikipedia.org</td>\n",
       "      <td>NaN</td>\n",
       "      <td>NaN</td>\n",
       "      <td>NaN</td>\n",
       "      <td>https://en.wikipedia.org/wiki/NumPy</td>\n",
       "      <td>https://en.wikipedia.org/wiki/NumPy</td>\n",
       "    </tr>\n",
       "    <tr>\n",
       "      <th>1</th>\n",
       "      <td>en.wikipedia.org</td>\n",
       "      <td>NaN</td>\n",
       "      <td>NaN</td>\n",
       "      <td>NaN</td>\n",
       "      <td>https://en.wikipedia.org/wiki/NumPy</td>\n",
       "      <td>https://en.wikipedia.org/wiki/Software_developer</td>\n",
       "    </tr>\n",
       "    <tr>\n",
       "      <th>2</th>\n",
       "      <td>en.wikipedia.org</td>\n",
       "      <td>NaN</td>\n",
       "      <td>NaN</td>\n",
       "      <td>NaN</td>\n",
       "      <td>https://en.wikipedia.org/wiki/NumPy</td>\n",
       "      <td>https://en.wikipedia.org/wiki/Travis_Oliphant</td>\n",
       "    </tr>\n",
       "    <tr>\n",
       "      <th>3</th>\n",
       "      <td>en.wikipedia.org</td>\n",
       "      <td>NaN</td>\n",
       "      <td>NaN</td>\n",
       "      <td>NaN</td>\n",
       "      <td>https://en.wikipedia.org/wiki/NumPy</td>\n",
       "      <td>https://en.wikipedia.org/wiki/Software_release...</td>\n",
       "    </tr>\n",
       "    <tr>\n",
       "      <th>4</th>\n",
       "      <td>en.wikipedia.org</td>\n",
       "      <td>NaN</td>\n",
       "      <td>NaN</td>\n",
       "      <td>NaN</td>\n",
       "      <td>https://en.wikipedia.org/wiki/NumPy</td>\n",
       "      <td>https://en.wikipedia.org/wiki/Repository_(vers...</td>\n",
       "    </tr>\n",
       "    <tr>\n",
       "      <th>...</th>\n",
       "      <td>...</td>\n",
       "      <td>...</td>\n",
       "      <td>...</td>\n",
       "      <td>...</td>\n",
       "      <td>...</td>\n",
       "      <td>...</td>\n",
       "    </tr>\n",
       "    <tr>\n",
       "      <th>216</th>\n",
       "      <td>www.mediawiki.org</td>\n",
       "      <td>NaN</td>\n",
       "      <td>NaN</td>\n",
       "      <td>NaN</td>\n",
       "      <td>https://en.wikipedia.org/wiki/NumPy</td>\n",
       "      <td>https://www.mediawiki.org/wiki/Special:MyLangu...</td>\n",
       "    </tr>\n",
       "    <tr>\n",
       "      <th>217</th>\n",
       "      <td>stats.wikimedia.org</td>\n",
       "      <td>NaN</td>\n",
       "      <td>NaN</td>\n",
       "      <td>NaN</td>\n",
       "      <td>https://en.wikipedia.org/wiki/NumPy</td>\n",
       "      <td>https://stats.wikimedia.org/</td>\n",
       "    </tr>\n",
       "    <tr>\n",
       "      <th>218</th>\n",
       "      <td>foundation.wikimedia.org</td>\n",
       "      <td>NaN</td>\n",
       "      <td>NaN</td>\n",
       "      <td>NaN</td>\n",
       "      <td>https://en.wikipedia.org/wiki/NumPy</td>\n",
       "      <td>https://foundation.wikimedia.org/wiki/Cookie_s...</td>\n",
       "    </tr>\n",
       "    <tr>\n",
       "      <th>219</th>\n",
       "      <td>wikimediafoundation.org</td>\n",
       "      <td>NaN</td>\n",
       "      <td>NaN</td>\n",
       "      <td>NaN</td>\n",
       "      <td>https://en.wikipedia.org/wiki/NumPy</td>\n",
       "      <td>https://wikimediafoundation.org/</td>\n",
       "    </tr>\n",
       "    <tr>\n",
       "      <th>220</th>\n",
       "      <td>www.mediawiki.org</td>\n",
       "      <td>NaN</td>\n",
       "      <td>NaN</td>\n",
       "      <td>NaN</td>\n",
       "      <td>https://en.wikipedia.org/wiki/NumPy</td>\n",
       "      <td>https://www.mediawiki.org/</td>\n",
       "    </tr>\n",
       "  </tbody>\n",
       "</table>\n",
       "<p>221 rows × 6 columns</p>\n",
       "</div>"
      ],
      "text/plain": [
       "                       domain  host_url  sub_domain  tld  \\\n",
       "0            en.wikipedia.org       NaN         NaN  NaN   \n",
       "1            en.wikipedia.org       NaN         NaN  NaN   \n",
       "2            en.wikipedia.org       NaN         NaN  NaN   \n",
       "3            en.wikipedia.org       NaN         NaN  NaN   \n",
       "4            en.wikipedia.org       NaN         NaN  NaN   \n",
       "..                        ...       ...         ...  ...   \n",
       "216         www.mediawiki.org       NaN         NaN  NaN   \n",
       "217       stats.wikimedia.org       NaN         NaN  NaN   \n",
       "218  foundation.wikimedia.org       NaN         NaN  NaN   \n",
       "219   wikimediafoundation.org       NaN         NaN  NaN   \n",
       "220         www.mediawiki.org       NaN         NaN  NaN   \n",
       "\n",
       "                                url_from  \\\n",
       "0    https://en.wikipedia.org/wiki/NumPy   \n",
       "1    https://en.wikipedia.org/wiki/NumPy   \n",
       "2    https://en.wikipedia.org/wiki/NumPy   \n",
       "3    https://en.wikipedia.org/wiki/NumPy   \n",
       "4    https://en.wikipedia.org/wiki/NumPy   \n",
       "..                                   ...   \n",
       "216  https://en.wikipedia.org/wiki/NumPy   \n",
       "217  https://en.wikipedia.org/wiki/NumPy   \n",
       "218  https://en.wikipedia.org/wiki/NumPy   \n",
       "219  https://en.wikipedia.org/wiki/NumPy   \n",
       "220  https://en.wikipedia.org/wiki/NumPy   \n",
       "\n",
       "                                                url_to  \n",
       "0                  https://en.wikipedia.org/wiki/NumPy  \n",
       "1     https://en.wikipedia.org/wiki/Software_developer  \n",
       "2        https://en.wikipedia.org/wiki/Travis_Oliphant  \n",
       "3    https://en.wikipedia.org/wiki/Software_release...  \n",
       "4    https://en.wikipedia.org/wiki/Repository_(vers...  \n",
       "..                                                 ...  \n",
       "216  https://www.mediawiki.org/wiki/Special:MyLangu...  \n",
       "217                       https://stats.wikimedia.org/  \n",
       "218  https://foundation.wikimedia.org/wiki/Cookie_s...  \n",
       "219                   https://wikimediafoundation.org/  \n",
       "220                         https://www.mediawiki.org/  \n",
       "\n",
       "[221 rows x 6 columns]"
      ]
     },
     "execution_count": 69,
     "metadata": {},
     "output_type": "execute_result"
    }
   ],
   "source": [
    "pd.read_csv(r'C:\\Users\\Anand kumar\\Desktop\\domains\\domains\\1.csv')"
   ]
  },
  {
   "cell_type": "code",
   "execution_count": 5,
   "metadata": {},
   "outputs": [],
   "source": [
    "import pandas as pd"
   ]
  },
  {
   "cell_type": "code",
   "execution_count": null,
   "metadata": {},
   "outputs": [],
   "source": []
  },
  {
   "cell_type": "code",
   "execution_count": 6,
   "metadata": {},
   "outputs": [
    {
     "ename": "FileNotFoundError",
     "evalue": "[Errno 2] File C:\\Users\\Anand kumar\\Desktop\\domains\\domains\\an.csv does not exist: 'C:\\\\Users\\\\Anand kumar\\\\Desktop\\\\domains\\\\domains\\\\an.csv'",
     "output_type": "error",
     "traceback": [
      "\u001b[1;31m---------------------------------------------------------------------------\u001b[0m",
      "\u001b[1;31mFileNotFoundError\u001b[0m                         Traceback (most recent call last)",
      "\u001b[1;32m<ipython-input-6-92f81c58caa9>\u001b[0m in \u001b[0;36m<module>\u001b[1;34m\u001b[0m\n\u001b[1;32m----> 1\u001b[1;33m \u001b[0mpd\u001b[0m\u001b[1;33m.\u001b[0m\u001b[0mread_csv\u001b[0m\u001b[1;33m(\u001b[0m\u001b[1;34mr'C:\\Users\\Anand kumar\\Desktop\\domains\\domains\\an.csv'\u001b[0m\u001b[1;33m)\u001b[0m\u001b[1;33m\u001b[0m\u001b[1;33m\u001b[0m\u001b[0m\n\u001b[0m",
      "\u001b[1;32mc:\\users\\anand kumar\\appdata\\local\\programs\\python\\python38\\lib\\site-packages\\pandas\\io\\parsers.py\u001b[0m in \u001b[0;36mparser_f\u001b[1;34m(filepath_or_buffer, sep, delimiter, header, names, index_col, usecols, squeeze, prefix, mangle_dupe_cols, dtype, engine, converters, true_values, false_values, skipinitialspace, skiprows, skipfooter, nrows, na_values, keep_default_na, na_filter, verbose, skip_blank_lines, parse_dates, infer_datetime_format, keep_date_col, date_parser, dayfirst, cache_dates, iterator, chunksize, compression, thousands, decimal, lineterminator, quotechar, quoting, doublequote, escapechar, comment, encoding, dialect, error_bad_lines, warn_bad_lines, delim_whitespace, low_memory, memory_map, float_precision)\u001b[0m\n\u001b[0;32m    674\u001b[0m         )\n\u001b[0;32m    675\u001b[0m \u001b[1;33m\u001b[0m\u001b[0m\n\u001b[1;32m--> 676\u001b[1;33m         \u001b[1;32mreturn\u001b[0m \u001b[0m_read\u001b[0m\u001b[1;33m(\u001b[0m\u001b[0mfilepath_or_buffer\u001b[0m\u001b[1;33m,\u001b[0m \u001b[0mkwds\u001b[0m\u001b[1;33m)\u001b[0m\u001b[1;33m\u001b[0m\u001b[1;33m\u001b[0m\u001b[0m\n\u001b[0m\u001b[0;32m    677\u001b[0m \u001b[1;33m\u001b[0m\u001b[0m\n\u001b[0;32m    678\u001b[0m     \u001b[0mparser_f\u001b[0m\u001b[1;33m.\u001b[0m\u001b[0m__name__\u001b[0m \u001b[1;33m=\u001b[0m \u001b[0mname\u001b[0m\u001b[1;33m\u001b[0m\u001b[1;33m\u001b[0m\u001b[0m\n",
      "\u001b[1;32mc:\\users\\anand kumar\\appdata\\local\\programs\\python\\python38\\lib\\site-packages\\pandas\\io\\parsers.py\u001b[0m in \u001b[0;36m_read\u001b[1;34m(filepath_or_buffer, kwds)\u001b[0m\n\u001b[0;32m    446\u001b[0m \u001b[1;33m\u001b[0m\u001b[0m\n\u001b[0;32m    447\u001b[0m     \u001b[1;31m# Create the parser.\u001b[0m\u001b[1;33m\u001b[0m\u001b[1;33m\u001b[0m\u001b[1;33m\u001b[0m\u001b[0m\n\u001b[1;32m--> 448\u001b[1;33m     \u001b[0mparser\u001b[0m \u001b[1;33m=\u001b[0m \u001b[0mTextFileReader\u001b[0m\u001b[1;33m(\u001b[0m\u001b[0mfp_or_buf\u001b[0m\u001b[1;33m,\u001b[0m \u001b[1;33m**\u001b[0m\u001b[0mkwds\u001b[0m\u001b[1;33m)\u001b[0m\u001b[1;33m\u001b[0m\u001b[1;33m\u001b[0m\u001b[0m\n\u001b[0m\u001b[0;32m    449\u001b[0m \u001b[1;33m\u001b[0m\u001b[0m\n\u001b[0;32m    450\u001b[0m     \u001b[1;32mif\u001b[0m \u001b[0mchunksize\u001b[0m \u001b[1;32mor\u001b[0m \u001b[0miterator\u001b[0m\u001b[1;33m:\u001b[0m\u001b[1;33m\u001b[0m\u001b[1;33m\u001b[0m\u001b[0m\n",
      "\u001b[1;32mc:\\users\\anand kumar\\appdata\\local\\programs\\python\\python38\\lib\\site-packages\\pandas\\io\\parsers.py\u001b[0m in \u001b[0;36m__init__\u001b[1;34m(self, f, engine, **kwds)\u001b[0m\n\u001b[0;32m    878\u001b[0m             \u001b[0mself\u001b[0m\u001b[1;33m.\u001b[0m\u001b[0moptions\u001b[0m\u001b[1;33m[\u001b[0m\u001b[1;34m\"has_index_names\"\u001b[0m\u001b[1;33m]\u001b[0m \u001b[1;33m=\u001b[0m \u001b[0mkwds\u001b[0m\u001b[1;33m[\u001b[0m\u001b[1;34m\"has_index_names\"\u001b[0m\u001b[1;33m]\u001b[0m\u001b[1;33m\u001b[0m\u001b[1;33m\u001b[0m\u001b[0m\n\u001b[0;32m    879\u001b[0m \u001b[1;33m\u001b[0m\u001b[0m\n\u001b[1;32m--> 880\u001b[1;33m         \u001b[0mself\u001b[0m\u001b[1;33m.\u001b[0m\u001b[0m_make_engine\u001b[0m\u001b[1;33m(\u001b[0m\u001b[0mself\u001b[0m\u001b[1;33m.\u001b[0m\u001b[0mengine\u001b[0m\u001b[1;33m)\u001b[0m\u001b[1;33m\u001b[0m\u001b[1;33m\u001b[0m\u001b[0m\n\u001b[0m\u001b[0;32m    881\u001b[0m \u001b[1;33m\u001b[0m\u001b[0m\n\u001b[0;32m    882\u001b[0m     \u001b[1;32mdef\u001b[0m \u001b[0mclose\u001b[0m\u001b[1;33m(\u001b[0m\u001b[0mself\u001b[0m\u001b[1;33m)\u001b[0m\u001b[1;33m:\u001b[0m\u001b[1;33m\u001b[0m\u001b[1;33m\u001b[0m\u001b[0m\n",
      "\u001b[1;32mc:\\users\\anand kumar\\appdata\\local\\programs\\python\\python38\\lib\\site-packages\\pandas\\io\\parsers.py\u001b[0m in \u001b[0;36m_make_engine\u001b[1;34m(self, engine)\u001b[0m\n\u001b[0;32m   1112\u001b[0m     \u001b[1;32mdef\u001b[0m \u001b[0m_make_engine\u001b[0m\u001b[1;33m(\u001b[0m\u001b[0mself\u001b[0m\u001b[1;33m,\u001b[0m \u001b[0mengine\u001b[0m\u001b[1;33m=\u001b[0m\u001b[1;34m\"c\"\u001b[0m\u001b[1;33m)\u001b[0m\u001b[1;33m:\u001b[0m\u001b[1;33m\u001b[0m\u001b[1;33m\u001b[0m\u001b[0m\n\u001b[0;32m   1113\u001b[0m         \u001b[1;32mif\u001b[0m \u001b[0mengine\u001b[0m \u001b[1;33m==\u001b[0m \u001b[1;34m\"c\"\u001b[0m\u001b[1;33m:\u001b[0m\u001b[1;33m\u001b[0m\u001b[1;33m\u001b[0m\u001b[0m\n\u001b[1;32m-> 1114\u001b[1;33m             \u001b[0mself\u001b[0m\u001b[1;33m.\u001b[0m\u001b[0m_engine\u001b[0m \u001b[1;33m=\u001b[0m \u001b[0mCParserWrapper\u001b[0m\u001b[1;33m(\u001b[0m\u001b[0mself\u001b[0m\u001b[1;33m.\u001b[0m\u001b[0mf\u001b[0m\u001b[1;33m,\u001b[0m \u001b[1;33m**\u001b[0m\u001b[0mself\u001b[0m\u001b[1;33m.\u001b[0m\u001b[0moptions\u001b[0m\u001b[1;33m)\u001b[0m\u001b[1;33m\u001b[0m\u001b[1;33m\u001b[0m\u001b[0m\n\u001b[0m\u001b[0;32m   1115\u001b[0m         \u001b[1;32melse\u001b[0m\u001b[1;33m:\u001b[0m\u001b[1;33m\u001b[0m\u001b[1;33m\u001b[0m\u001b[0m\n\u001b[0;32m   1116\u001b[0m             \u001b[1;32mif\u001b[0m \u001b[0mengine\u001b[0m \u001b[1;33m==\u001b[0m \u001b[1;34m\"python\"\u001b[0m\u001b[1;33m:\u001b[0m\u001b[1;33m\u001b[0m\u001b[1;33m\u001b[0m\u001b[0m\n",
      "\u001b[1;32mc:\\users\\anand kumar\\appdata\\local\\programs\\python\\python38\\lib\\site-packages\\pandas\\io\\parsers.py\u001b[0m in \u001b[0;36m__init__\u001b[1;34m(self, src, **kwds)\u001b[0m\n\u001b[0;32m   1889\u001b[0m         \u001b[0mkwds\u001b[0m\u001b[1;33m[\u001b[0m\u001b[1;34m\"usecols\"\u001b[0m\u001b[1;33m]\u001b[0m \u001b[1;33m=\u001b[0m \u001b[0mself\u001b[0m\u001b[1;33m.\u001b[0m\u001b[0musecols\u001b[0m\u001b[1;33m\u001b[0m\u001b[1;33m\u001b[0m\u001b[0m\n\u001b[0;32m   1890\u001b[0m \u001b[1;33m\u001b[0m\u001b[0m\n\u001b[1;32m-> 1891\u001b[1;33m         \u001b[0mself\u001b[0m\u001b[1;33m.\u001b[0m\u001b[0m_reader\u001b[0m \u001b[1;33m=\u001b[0m \u001b[0mparsers\u001b[0m\u001b[1;33m.\u001b[0m\u001b[0mTextReader\u001b[0m\u001b[1;33m(\u001b[0m\u001b[0msrc\u001b[0m\u001b[1;33m,\u001b[0m \u001b[1;33m**\u001b[0m\u001b[0mkwds\u001b[0m\u001b[1;33m)\u001b[0m\u001b[1;33m\u001b[0m\u001b[1;33m\u001b[0m\u001b[0m\n\u001b[0m\u001b[0;32m   1892\u001b[0m         \u001b[0mself\u001b[0m\u001b[1;33m.\u001b[0m\u001b[0munnamed_cols\u001b[0m \u001b[1;33m=\u001b[0m \u001b[0mself\u001b[0m\u001b[1;33m.\u001b[0m\u001b[0m_reader\u001b[0m\u001b[1;33m.\u001b[0m\u001b[0munnamed_cols\u001b[0m\u001b[1;33m\u001b[0m\u001b[1;33m\u001b[0m\u001b[0m\n\u001b[0;32m   1893\u001b[0m \u001b[1;33m\u001b[0m\u001b[0m\n",
      "\u001b[1;32mpandas\\_libs\\parsers.pyx\u001b[0m in \u001b[0;36mpandas._libs.parsers.TextReader.__cinit__\u001b[1;34m()\u001b[0m\n",
      "\u001b[1;32mpandas\\_libs\\parsers.pyx\u001b[0m in \u001b[0;36mpandas._libs.parsers.TextReader._setup_parser_source\u001b[1;34m()\u001b[0m\n",
      "\u001b[1;31mFileNotFoundError\u001b[0m: [Errno 2] File C:\\Users\\Anand kumar\\Desktop\\domains\\domains\\an.csv does not exist: 'C:\\\\Users\\\\Anand kumar\\\\Desktop\\\\domains\\\\domains\\\\an.csv'"
     ]
    }
   ],
   "source": [
    "pd.read_csv(r'C:\\Users\\Anand kumar\\Desktop\\domains\\domains\\an.csv')"
   ]
  },
  {
   "cell_type": "code",
   "execution_count": 7,
   "metadata": {},
   "outputs": [],
   "source": [
    "df = pd.read_csv(r'C:\\Users\\Anand kumar\\Desktop\\domains.csv')"
   ]
  },
  {
   "cell_type": "code",
   "execution_count": 14,
   "metadata": {},
   "outputs": [
    {
     "data": {
      "text/html": [
       "<div>\n",
       "<style scoped>\n",
       "    .dataframe tbody tr th:only-of-type {\n",
       "        vertical-align: middle;\n",
       "    }\n",
       "\n",
       "    .dataframe tbody tr th {\n",
       "        vertical-align: top;\n",
       "    }\n",
       "\n",
       "    .dataframe thead th {\n",
       "        text-align: right;\n",
       "    }\n",
       "</style>\n",
       "<table border=\"1\" class=\"dataframe\">\n",
       "  <thead>\n",
       "    <tr style=\"text-align: right;\">\n",
       "      <th></th>\n",
       "      <th>domain</th>\n",
       "      <th>host_url</th>\n",
       "      <th>sub_domain</th>\n",
       "      <th>tld</th>\n",
       "      <th>url_from</th>\n",
       "      <th>url_to</th>\n",
       "    </tr>\n",
       "  </thead>\n",
       "  <tbody>\n",
       "    <tr>\n",
       "      <th>0</th>\n",
       "      <td>facebook</td>\n",
       "      <td>www.facebook.com</td>\n",
       "      <td>www</td>\n",
       "      <td>com</td>\n",
       "      <td>https://oxosolutions.com</td>\n",
       "      <td>https://www.facebook.com/oxosolutions/</td>\n",
       "    </tr>\n",
       "    <tr>\n",
       "      <th>1</th>\n",
       "      <td>twitter</td>\n",
       "      <td>twitter.com</td>\n",
       "      <td>NaN</td>\n",
       "      <td>com</td>\n",
       "      <td>https://oxosolutions.com</td>\n",
       "      <td>https://twitter.com/oxosolutions</td>\n",
       "    </tr>\n",
       "    <tr>\n",
       "      <th>2</th>\n",
       "      <td>youtube</td>\n",
       "      <td>www.youtube.com</td>\n",
       "      <td>www</td>\n",
       "      <td>com</td>\n",
       "      <td>https://oxosolutions.com</td>\n",
       "      <td>https://www.youtube.com/oxosolutions</td>\n",
       "    </tr>\n",
       "    <tr>\n",
       "      <th>3</th>\n",
       "      <td>linkedin</td>\n",
       "      <td>www.linkedin.com</td>\n",
       "      <td>www</td>\n",
       "      <td>com</td>\n",
       "      <td>https://oxosolutions.com</td>\n",
       "      <td>https://www.linkedin.com/company/oxo-solutions/</td>\n",
       "    </tr>\n",
       "    <tr>\n",
       "      <th>4</th>\n",
       "      <td>oxosolutions</td>\n",
       "      <td>oxosolutions.com</td>\n",
       "      <td>NaN</td>\n",
       "      <td>com</td>\n",
       "      <td>https://oxosolutions.com</td>\n",
       "      <td>https://oxosolutions.com/</td>\n",
       "    </tr>\n",
       "    <tr>\n",
       "      <th>...</th>\n",
       "      <td>...</td>\n",
       "      <td>...</td>\n",
       "      <td>...</td>\n",
       "      <td>...</td>\n",
       "      <td>...</td>\n",
       "      <td>...</td>\n",
       "    </tr>\n",
       "    <tr>\n",
       "      <th>832405</th>\n",
       "      <td>mediawiki</td>\n",
       "      <td>www.mediawiki.org</td>\n",
       "      <td>www</td>\n",
       "      <td>org</td>\n",
       "      <td>https://ar.wikipedia.org/w/index.php?from=%D8%...</td>\n",
       "      <td>https://www.mediawiki.org/wiki/Special:MyLangu...</td>\n",
       "    </tr>\n",
       "    <tr>\n",
       "      <th>832406</th>\n",
       "      <td>wikimedia</td>\n",
       "      <td>foundation.wikimedia.org</td>\n",
       "      <td>foundation</td>\n",
       "      <td>org</td>\n",
       "      <td>https://ar.wikipedia.org/w/index.php?from=%D8%...</td>\n",
       "      <td>https://foundation.wikimedia.org/wiki/Cookie_s...</td>\n",
       "    </tr>\n",
       "    <tr>\n",
       "      <th>832407</th>\n",
       "      <td>wikipedia</td>\n",
       "      <td>ar.m.wikipedia.org</td>\n",
       "      <td>ar.m</td>\n",
       "      <td>org</td>\n",
       "      <td>https://ar.wikipedia.org/w/index.php?from=%D8%...</td>\n",
       "      <td>https://ar.m.wikipedia.org/w/index.php?from=%D...</td>\n",
       "    </tr>\n",
       "    <tr>\n",
       "      <th>832408</th>\n",
       "      <td>wikimediafoundation</td>\n",
       "      <td>wikimediafoundation.org</td>\n",
       "      <td>NaN</td>\n",
       "      <td>org</td>\n",
       "      <td>https://ar.wikipedia.org/w/index.php?from=%D8%...</td>\n",
       "      <td>https://wikimediafoundation.org/</td>\n",
       "    </tr>\n",
       "    <tr>\n",
       "      <th>832409</th>\n",
       "      <td>mediawiki</td>\n",
       "      <td>www.mediawiki.org</td>\n",
       "      <td>www</td>\n",
       "      <td>org</td>\n",
       "      <td>https://ar.wikipedia.org/w/index.php?from=%D8%...</td>\n",
       "      <td>https://www.mediawiki.org/</td>\n",
       "    </tr>\n",
       "  </tbody>\n",
       "</table>\n",
       "<p>832410 rows × 6 columns</p>\n",
       "</div>"
      ],
      "text/plain": [
       "                     domain                  host_url  sub_domain  tld  \\\n",
       "0                  facebook          www.facebook.com         www  com   \n",
       "1                   twitter               twitter.com         NaN  com   \n",
       "2                   youtube           www.youtube.com         www  com   \n",
       "3                  linkedin          www.linkedin.com         www  com   \n",
       "4              oxosolutions          oxosolutions.com         NaN  com   \n",
       "...                     ...                       ...         ...  ...   \n",
       "832405            mediawiki         www.mediawiki.org         www  org   \n",
       "832406            wikimedia  foundation.wikimedia.org  foundation  org   \n",
       "832407            wikipedia        ar.m.wikipedia.org        ar.m  org   \n",
       "832408  wikimediafoundation   wikimediafoundation.org         NaN  org   \n",
       "832409            mediawiki         www.mediawiki.org         www  org   \n",
       "\n",
       "                                                 url_from  \\\n",
       "0                                https://oxosolutions.com   \n",
       "1                                https://oxosolutions.com   \n",
       "2                                https://oxosolutions.com   \n",
       "3                                https://oxosolutions.com   \n",
       "4                                https://oxosolutions.com   \n",
       "...                                                   ...   \n",
       "832405  https://ar.wikipedia.org/w/index.php?from=%D8%...   \n",
       "832406  https://ar.wikipedia.org/w/index.php?from=%D8%...   \n",
       "832407  https://ar.wikipedia.org/w/index.php?from=%D8%...   \n",
       "832408  https://ar.wikipedia.org/w/index.php?from=%D8%...   \n",
       "832409  https://ar.wikipedia.org/w/index.php?from=%D8%...   \n",
       "\n",
       "                                                   url_to  \n",
       "0                  https://www.facebook.com/oxosolutions/  \n",
       "1                        https://twitter.com/oxosolutions  \n",
       "2                    https://www.youtube.com/oxosolutions  \n",
       "3         https://www.linkedin.com/company/oxo-solutions/  \n",
       "4                               https://oxosolutions.com/  \n",
       "...                                                   ...  \n",
       "832405  https://www.mediawiki.org/wiki/Special:MyLangu...  \n",
       "832406  https://foundation.wikimedia.org/wiki/Cookie_s...  \n",
       "832407  https://ar.m.wikipedia.org/w/index.php?from=%D...  \n",
       "832408                   https://wikimediafoundation.org/  \n",
       "832409                         https://www.mediawiki.org/  \n",
       "\n",
       "[832410 rows x 6 columns]"
      ]
     },
     "execution_count": 14,
     "metadata": {},
     "output_type": "execute_result"
    }
   ],
   "source": [
    "df"
   ]
  },
  {
   "cell_type": "code",
   "execution_count": 19,
   "metadata": {},
   "outputs": [
    {
     "name": "stdout",
     "output_type": "stream",
     "text": [
      "['www.editorandpublisher.com', 'www.guttmacher.org', 'www.iupress.indiana.edu', 'www.puffinfoundation.org', 'www.suffolk.police.uk', 'www.estonica.org', 'th.m.wikipedia.org', 'pl.fifa.com', 'search.mlp.cz', 'www.lasd.org', 'therussianreader.com', 'www.grandprix-plouay.com', 'www.philosophyofmusic.org', 'www.registrucentras.lt', 'www.acmilan.com', 'epa.oszk.hu', 'www.svabhinava.org', 'www.gettysburgmajestic.org', 'www.tkrossia.ru', 'prosvita-ks.co.ua', 'www.aguasdelcondado.es', 'universiade2013.sportresult.com', 'www.electricpig.co.uk', 'www.kanglaonline.com', 'www.arka.gdynia.pl', 'www.lopezgroup.org', 'www.mospat.ru', 'www.indystar.com', 'www.urm.lt', 'licensing.fcc.gov', 'isni.org', 'www.russianorthodoxchurch.ws', 'tech.huanqiu.com', 'www.museum-preslav.com', 'popwatch.ew.com', 'www.1914-1918.net', 'forums.eune.leagueoflegends.com', 'xeb.imer.gob.mx', 'ccms.ukzn.ac.za', 'www.apnaorg.com', 'friedrich.uni-trier.de', 'cellone.com', 'maps.vlasenko.net', 'io.m.wikipedia.org', 'www.perfil.com', 'pl.wikivoyage.org', 'komorkomania.pl', 'index.org.ru', 'www.rfpl.org', 'philanthropynewsdigest.org', 'www.mofa.gov.tw', 'www.themarysue.com', 'video.mail.ru', 'www.gki.gov.by', 'www.oup.com', 'www.agsci.colostate.edu', 'www.sovsport.ru', 'saint-juste.narod.ru', 'muslimby.info', 'www.accessmylibrary.com', 'www.hickoksports.com', 'www.mns.gov.ua', 'www.cccco.edu', 'www.dvddemystified.com', 'blogs.britannica.com', 'www.vz.ru', 'beyondthebookcast.com', 'www.business-service-muenchen.de', 'studyport.ru', 'www.lauraalonso.org', 'www.diocesi.trieste.it', 'd-nk.com.ua', 'www.weltfussball.de', 'www.irs.in.ua', 'www.theweatherprediction.com', 'bagachka.um.la', 'www.gophersports.com', 'wikimania2017.wikimedia.org', 'www.co.chenango.ny.us', 'www.hoovers.com', 'support.riotgames.com', 'av.wikipedia.org', 'bse.sci-lib.com', 'opac.biblio.polito.it', 'fox2now.com', 'lifehacker.com', 'www.villawalsh.org', 'impact.ref.ac.uk', 'www.thinkingchinese.com', '193.204.12.8', 'startfresh.newhomesource.com', 'www.dotdash.com', 'krytykapolityczna.pl', 'www.national-geographic.cz', 'www.shophq.com', 'digibib.kobv.de', 'mapserver.lib.virginia.edu', 'www.stnicholascenter.org', 'www.mindat.org', 'www.opoccuu.com', 'economia.elpais.com', 'www.bliza.net', 'hrono.ru', 'gctelegram.com', 'ccsearch.creativecommons.org', 'www.aria.com.au', 'www.nexgenwind.com', 'www.ci.mtnview.ca.us', 'sciencecitykolkata.org.in', 'www.cbt.biblioteche.provincia.tn.it', 'www.newcanadian.ru', 'kultura.onet.pl', 'www.rakuten.com', 'www.pen-international.org', 'www.pbsc.com', 'technology.darlic.com', 'www.gazzetta.it', 'all-docs.ru', 'rostovnadonu.bezformata.ru', 'www.natgeo.ro', 'orel.rsl.ru', 'tr.wikipedia.org', 'www.dp.ru', 'www.imgw.pl', 'www.omahalibrary.org', 'www.thedownholdproject.info', 'www.aytosalamanca.es', 'middleeast.about.com', 'bhawanipur.in', 'www.exchangerate.com', 'to.wikipedia.org', 'paidcontent.org', 'br.wikipedia.org', 'amtspresse.staatsbibliothek-berlin.de', 'diq.m.wikipedia.org', 'de.bookmooch.com', 'www.indiaamericatoday.com', 'www.columbusalive.com', 'www.ajr.org', 'www.thearda.com', 'family.jrank.org', 'msu.edu', 'www.autoweek.com', 'nnpz.com.ua', 'www.freep.com', 'www.spanisharts.com', 'zip4.usps.com', 'www.telesurtv.net', 'plataformarecorridosciclistas.org', 'www.news.com', 'www.billboard.com', 'hatreon.net', 'zh.wiktionary.org', 'www.hispanictvsummit.com', 'zpravy.aktualne.cz', 'www.powerliftingwatch.com', 'uwin-primo.hosted.exlibrisgroup.com', 'www.mpusd.k12.ca.us', 'www.interbrand.com', 'infomisto.com', 'www.erikandanna.com', 'bbciplayerlinux.sourceforge.net', 'techrasa.com', 'ace.wikipedia.org', 'www.weathermanwatson.com', 'cran.ent.sirsidynix.net.uk', 'chem.nlm.nih.gov', 'www.benzinga.com', 'www.wcva.org', 'trove.nla.gov.au', 'www.diariodesevilla.es', 'addison.vt.edu', 'public.oed.com', 'www.aparat.com', 'www.bergen.org', 'menmedia.co.uk', 'www.maremagnum.com', 'www.eecl.colostate.edu', 'summit.syr.edu', 'enthusiast.hardocp.com', 'www.o2.pl', 'de.statista.com', 'anno.onb.ac.at', 'www.ebay.com', 'ontheissues.org', 'authoritarianism.blogspot.com', 'www.azetalibri.it', 'slownik-online.pl', 'www.nieblaayuntamiento.es', 'www.mapama.gob.es', 'aleph.sdum.uminho.pt', 'siteanalytics.compete.com', 'india-hijras.com', 'www.archivoinfojus.gob.ar', 'www.kahaku.go.jp', 'www.bgbl.de', 'curation.cs.manchester.ac.uk', 'www.mtv.com', 'books.google.by', 'elections.ap.org', 'www.lrb.co.uk', 'www.commonlii.org', 'www.oxfordaspiremuseums.org', 'www.krakow.pl', 'sah.wikipedia.org', 'www.irr.org.uk', 'www.sogdianapamir.tj', 'opac.provincia.brescia.it', 'tv.sky.com', 'buscon.rae.es', 'www.sanofi-aventis.us', 'www.humanrightsfirst.org', 'nominis.cef.fr', 'www.ansd.sn', 'www.tcd.ie', 'kuopio.finna.fi', 'ask.rks-gov.net', 'bibliolandia.comperio.it', 'catalog.umd.edu', 'www.cooperstowncs.org', 'www.thesoshalnetwork.com', 'bereg-rda.gov.ua', 'www.globyne-rada.gov.ua', 'ru.on.worldcat.org', 'www1.nancy.fr', 'dalarna.elib.se', 'hermesbooks.com', 'kmsfc.com', 'directorio.directoriolegislativo.org', 'www.blu-ray.com', 'town.canton.ma.us', 'mvcommunityshuttle.com', 'tl.wikisource.org', 'av.m.wikipedia.org', 'www.hudsoncountyclerk.org', 'www.musiccenter.org', 'immigration.darlic.com', 'www.thedrum.com', 'tilashotspot.com', 'libcat.dartmouth.edu', 'www.saintjosephscollege.ws', 'archive.thetablet.co.uk', 'pals.polarislibrary.com', 'cartagines.net', 'www.ngv.vic.gov.au', 'ipac.geelonglibraries.vic.gov.au', 'www.ustream.tv', 'www.naz.edu', 'ucu.edu.ua', 'www.autokrata.pl', 'no.wikipedia.org', 'www.uniintech.ru', 'www.sierrabermeja.es', 'aleph.techlib.cz', 'bestpravo.com', 'www.ramapo.edu', 'www.business2community.com', 'www.thehistorypress.co.uk', 'www.uawire.org', 'coollib.net', 'www.gipuzkoa.eus', 'www.calbears.com', 'pti.regione.sicilia.it', 'www.southbendtribune.com', 'www.gatewaycityradio.com', 'gwiazdy.wp.pl', 'www.macworld.com', 'kff.in', 'betterlifetv.tv', 'pamplinmedia.com', 'www.jstor.org.www2.lib.ku.edu:2048', 'www.rusarchives.ru', 'social.techcrunch.com', 'www.turismodecanarias.com', 'business.financialpost.com', 'www.gnb.ca', 'library.deakin.edu.au', 'frp.wikipedia.org', 'leftinmsu.narod.ru', 'www.zwoje-scrolls.com', 'discover.elgar.govt.nz', 'www.thewrap.com', 'www.dmtm.com', 'search.ligazakon.ua', 'mirlyn.lib.umich.edu', 'www.firstladies.org', 'www.yale.edu', 'metalspace.ru', 'www.tourclub.com.ua', 'www.igromania.ru', 'www.wired.com', 'ckis.cuni.cz', 'www.mokka.hu', 'www.washingtonpost.com', 'www.dlibrary.go.kr', 'www.broadcastingcable.com', 'www.navytimes.com', 'www.bruno-latour.fr', 'sw.wikipedia.org', 'dziejesie.wp.pl', 'mashable.com', 'www.tomshardware.com', 'www.pzpn.pl', 'vastmanland.elib.se', 'tyzhden.ua', 'www.mclaren.com', 'www.zambiatourism.com', 'www.factruz.ru', 'www.duke.edu', 'www.eeo.com.cn', 'prostir.museum', 'www.mediaaccess.org.au', 'www.northjersey.com', 'wikisource.org', 'www.kdmid.ru', 'www.go68.ru', 'www.gctelegram.com', 'www.sitiodeciclismo.net', 'www.wto.org', 'www.courant.com', 'www.francisfrith.com', 'es.m.wikipedia.org', 'www.unctv.org', 'www.nikolsobor.org', 'www.clearinghouse.net', 'arz.m.wikipedia.org', 'www.geobibline.cz', 'sd.m.wikipedia.org', 'tychyna.com', 'www.hist.msu.ru', 'russian.rt.com', 'data.kcmo.org', 'bccls.org', 'www.sekowa.info', 'sustainababble.fish', 'www.co.bergen.nj.us', 'www.h-net.org', 'www.bicycling.com', 'countycat.mcfls.org', 'www.orthodoxwiki.org', 'www.sport.pl', 'ckcacademy.com', 'mysite.mweb.co.za', 'www.russians.ca', 'www.council.gov.ru', 'www.royalsignalsassociation.co.uk', 'www.theredmill.org', 'www.pnct.net', 'www.nationalgeographic.co.kr', 'www.youa.com', 'wikimediaukraine.wordpress.com', 'ycharts.com', 'www.studlife.com', 'passaiccountynj.org', 'catalog.mvlc.org', 'www.bhutanobserver.bt', 'metro.co.uk', 'www.moital.gov.il', 'www.otvaga2004.narod.ru', 'www.orthodoxlinks.info', 'mediamemo.allthingsd.com', 'tk.m.wikipedia.org', 'www.youthresources.ws', 'opacol.unior.it', 'donlib.ru', 't.me', 'www.arkansasonline.com', 'zik.com.ua', 'www.coversproject.com', 'www.bmms.ro', 'www.ostchem.com', 'dosits.org', 'xal.wikipedia.org', 'www.ametsoc.org', 'www.plsinfo.org', 'blogs.msdn.com', 'www.tvnewsday.com', 'www.ohiolink.edu', 'www.bafta.org', 'uselectionatlas.org', 'posvitdr.com.ua', 'nssdc.gsfc.nasa.gov', 'library.lg.ua', 'www.kcata.org', 'www.walkoffame.com', 'knigomania.bg', 'ideologs.com', 'www.vladimir-city.ru', 'www.idcide.com', 'polotes.tesoro.it', 'barichev.ru', 'bcl.m.wikipedia.org', 'www.hudsoncountysheriff.org', 'www.df.gob.mx', 'www.iansa.org', 'www.fordham.edu', 'bip.um.bransk.wrotapodlasia.pl', 'bialykruk.pl', 'www.frontierwars.co.za', 'www.morristown-nj.org', 'www.goldenglobes.org', 'www.thebookseller.com', 'www.bookpool.com', 'www.bpi.co.uk', 'www.velonews.com', 'www.kotka.fi', 'www.indiana.edu', 'news.vice.com', 'bioproj.sabr.org', 'www.uni-koeln.de', 'opac.iub.edu.bd', 'histclo.com', 'm.vk.com', 'www.copac.ac.uk', 'gerald-massey.org.uk', 'clicnet.clic.edu', 'web.amnesty.org', 'penton.com', 'glk.wikipedia.org', 'zenodo.org', 'www.mnhs.org', 'www.streamingmedia.com', 'www.markhorrell.com', 'www.home-guard.org.uk', 'www.cobiss.si', 'www.ukcensusdata.com', 'sk.sagepub.com', 'www.discovernikkei.org', 'ishop.wordsworth.com', 'demoscope.ru', 'opac.giustizia.it', 'www.boomsbeat.com', 'www.meteo.be', 'www.dailyjournal.net', 'us.blizzard.com', 'www.psyartjournal.com', 'blog.wired.com', 'kulturalnemedia.pl', '625.uk.com', 'ar.wikibooks.org', 'tinypic.com', 'www.vccircle.com', 'results.enr.clarityelections.com', 'www.fuentedecantos.net', 'www.technewsworld.com', 'www.ohiohistorycentral.org', 'articles.businessinsider.com', 'opac.comune.firenze.it', 'learning.blogs.nytimes.com', 'www.girlscoutsofpaloalto.org', 'ru.kke.gr', 'www.lyonresearch.com', 'www.greytown.co.za', 'parade.com', 'newsgerrig.com', 'dld-conference.com', 'frp.m.wikipedia.org', 'mike.oldfield.org.pl', 'www.jaallesiyaad.com', 'www.theverge.com', 'hi.wikinews.org', 'thelede.blogs.nytimes.com', 'www.citylab.com', 'bark.cwmars.org', 'www.biografiasyvidas.com', 'educate-yourself.org', 'observer.theguardian.com', 'www.wvgazette.com', 'www.pwd.punjab.gov.pk', 'ilo.m.wikipedia.org', 'stocks.us.reuters.com', 'www.therichest.com', 'www.deadboypro.com', 'sip.lex.pl', 'australianmuseum.net.au', 'www.rostov-time.ru', 'www.somerset.edu', 'www.morrisparks.net', 'pysar.net', 'www.emporis.com', 'www.cr.nps.gov', 'www.newizv.ru', 'www.interfax-religion.com', 'beta.companieshouse.gov.uk', 'interfax.com.ua', 'bio.acousti.ca', 'films-online.su', 'vologda-eparhia.ru', 'www.portofklaipeda.lt', 'portal.unesco.org', 'www.brooklyn-usa.org', 'opac.unimc.it', 'news.cnfol.com', 'www.riftherald.com', 'www.christianbook.com', 'xisbn.worldcat.org', 'www.hydrol-earth-syst-sci.net', 'catalogo.pusc.it', 'www.dmilk.com.ua', 'www.worldbank.org', 'www.arbitr.ru', 'hdr.undp.org', 'www.vardot.com', 'old.nabludatel.ru', 'fj.wikipedia.org', 'books.search.ebay.com', 'ifflab.org', 'www.radiosagua.icrt.cu', 'www.rozhlas.cz', 'sporteology.net', 'www.tvcatchup.com', 'www.kiplinger.com', 'www.psych.org', 'vphil.ru', 'www.iol.co.za', 'blizzard.com', 'www.milkeninstitute.org', 'www.whatdotheyknow.com', 'www.the-ifa.org', 'www.creedence-online.net', 'lib.misto.kiev.ua', 'www.npd.com', 'rulers.org', 'www.brainyhistory.com', 'elementy.ru', 'www.lacity.org', 'www.alibris.com', 'www.climatecounts.org', 'www.geonames.org', 'rhpp.up.krakow.pl', 'relatio.ro', 'www.insidernj.com', 'www.storyofpakistan.com', 'ph.news.yahoo.com', 'www.pm.gov.uk', 'www.centralcallegal.org', 'search.express.ebay.com', 'www.brasilescola.com', 'izvestia.ru', 'labornotes.org', 'm.theglobeandmail.com', 'www.kosarka.bosnian-sport.com', 'catalog.slcpl.org', 'www.farisardegna.it', 'vancouversun.com', 'ksjs.org', 'www.hunterdon-chamber.org', 'ks.synthmusic.info', 'youtu.be', 'www.corpsarchive.de', 'www.forbes.ru', 'www.coreyhaim.us', 'www.walpole.ma.us', 'catalogue.leidenuniv.nl', 'www.artsjournal.com', 'www.generalist.org.uk', 'forums.freedompop.com', 'www.kremlin.ru', 'www.energy-charts.de', 'www.forum-orthodoxe.com', 'www.tagesspiegel.de', 'savejersey.com', 'www.editorialteide.es', 'www.essexsurrogate.com', 'www.rferl.org', 'www.deutschlandfunknova.de', 'hispanismo.org', 'awards.bafta.org', 'cwcolumbus.com', 'www.onwar.com', 'www.monmouthcountylib.org', 'www.eeoc.gov', 'www.seniorcenterfc.com', 'digital.library.okstate.edu', 'www.bookrags.com', 'cat.llgc.org.uk', 'www.booksprice.com', 'doverlanemusicconference.org', 'www.newsweek.pl', 'www.miteco.gob.es', 'haku.helmet.fi', 'www.msn.com', 'hypertextbook.com', 'www.fernandosavater.com', 'kw.wikipedia.org', 'www.im.nrw.de', 'www.diputaciodetarragona.net', 'www.theargylls.co.uk', 'ia.wikipedia.org', 'www.sabbathlive.com', 'www.electronicdesign.com', 'webpac.vtc.edu.hk', 'www.raritanval.edu', 'www.hcstonline.org', 'www.litencyc.com', 'www.livingstonetourism.com', 'www.picador.com', 'www.apartheidmuseum.org', 'biblioteca.casadelacultura.gob.ec', 'www.flipkart.com', 'citylimits.org', 'www.dw.de', 'cyclinginflanders.cc', 'www.eyewitnesstohistory.com', 'drohobych.ucoz.ua', 'bs.sejm.gov.pl', 'iso639-3.sil.org', 'knjiznica.ffzg.hr', 'dialnet.unirioja.es', 'www.cwnews.com', 'seyhan.library.boun.edu.tr', 'mwl.wikipedia.org', 'www.nbcnewyork.com', 'www.uc.edu', 'rucont.ru', 'vision.bibliocommons.com', 'www.iencyklopedie.cz', 'www.newzimbabwe.com', 'www.oxfordhandbooks.com', 'mt.wikipedia.org', 'broadcastingcable.com', 'morriscountynj.gov', 'elmwoodpark.bccls.org', 'ta.wikiquote.org', 'www.vie-publique.fr', 'buchsuch.ch', 'www.panchamonline.com', 'www.interklasa.pl', 'www.visitingspain.es', 'www.edwardvictor.com', 'www.iwantmedia.com', 'www.olimpijski.pl', 'www.gdynia-portal.pl', 'www.vitalvoices.org:80', 'libblagoevgrad.org', 'magnusmanske.de', 'news.smh.com.au', 'www.californiaprehistory.com', 'www.nyrock.com', 'circokirchner.com', 'rapidcityjournal.com', 'econsultancy.com', 'tvrain.ru', 'www.culturagalega.org', 'www.rayoherald.com', 'observer.com', 'www.cpcweb.com', 'www.pushsquare.com', 'library.sl.nsw.gov.au', 'blog.nola.com', 'petscan.wmflabs.org', 'www.bergenmuseum.com', 'www.footboom.kz', 'www.teraz.sk', 'www.nationalgeographic.com', 'www.esa.int', 'top.rbc.ru', 'www.dingir.cz', 'rozdory.com', 'pando.com', 'ngo.darlic.com', 'species.wikimedia.org', 'ukrainaincognita.com', 'taylorandfrancis.com', 'se.bookchecker.com', 'aioneframework.com', 'www.orthedu.ru', 'www.clusterdepesca.es', 'mdc.ulpgc.es', 'www.rockonthenet.com', 'sccl.bibliocommons.com', 'clemsonifc.theginsystem.com', 'eu-football.info', 'skyarts.sky.com', 'osowa.com', 'www.knjiznica.it', 'dv.wikipedia.org', 'courses.lumenlearning.com', 'www.ethnologue.org', 'www.patrimonionatural.org', 'livablemht.org', 'www.usv.ro', 'ccuc.cbuc.es', 'id.wikiquote.org', 'scienceblogs.com', 'oca.org', 'www.cnn.com', 'www.labirint.ru', 'www.rbbg.it', 'www.apple.com', 'www.1up.com', 'www.battle.net', 'www.salman-rushdie.com', 'www.cira.colostate.edu', 'russdom.ru', 'www.lsnews.co.uk', 'www.lefigaro.fr', 'www.usmint.gov', 'www.tccb.gov.tr', 'www.holymakkah.gov.sa', 'www.rw.by', 'www.tvnewsroom.co.uk', '31.186.254.79', 'vulcan.bham.lib.al.us', 'www.agora.pl', 'support.freedompop.com', 'radio.garden', 'www.lasvegassun.com', 'pt.wikiquote.org', 'www.yesworld.com', 'www.aaai.org', 'www.pagina12.com.ar', 'www.rulers.org', 'www.1tv.tj', 'www.wikimediafoundation.org', 'www.capitalnewyork.com', 'www.nflplayers.com', 'www.tojnews.org', 'uk.wikibooks.org', 'rostov-dom.info', 'www.miamiherald.com', 'www.oswegocounty.com', 'ho.wikipedia.org', 'www.unaids.org', 'koha.ulusiada.pt', 'blog.compete.com', 'www.usab.com', 'www.cricbuzz.com', 'catalog.lib.utexas.edu', 'www.bn.com', 'www.californiahistoricallandmarks.com', 'dinoanimals.pl', 'www.africana.ru', 'webcat.sudbury.library.on.ca', 'www.hossli.com', 'www.genetics.org', 'www.weather2travel.com', 'the-ifa.org', 'payne.house.gov', 'www.adriss.net', 'fr.nicebooks.com', 'www.filmon.com', 'www.lolesports.com', 'deepl.com', 'www.buchfreund.de', 'records.cityofsacramento.org', 'www.semana.com', 'montereyamberjacks.com', 'www.fosspatents.com', 'www.bookkoob.co.uk', 'www.nb.no', 'articles.baltimoresun.com', 'www.grove.k12.ok.us', 'www.iit.edu', 'www.dgbiblio.unam.mx', 'www.bia.com', 'www.indianpolo.com', 'www.pegasusarchive.org', 'libsearch.aut.ac.nz', 'hyperphysics.phy-astr.gsu.edu', 'www.coe.int', 'www.vtb.ru', 'www.ers-inc.com', 'bundesbank.de', 'catalog.plsinfo.org', 'lyndhurstnews.org', 'fr.bookchecker.com', 'www.legalcheek.com', 'www.kansas.com', 'www.jerseycitymuseum.org', 'www.rossija.info', 'www.stadtpanoramen.de', 'www.brooklyneagle.com', 'www.worldofbasketball.org', 'fortune.com', 'www.buchhai.de', 'opac.perpusnas.go.id', 'www.chipolbrok.com.pl', 'www.biografischportaal.nl', 'www.independent.ie', 'www.inc.com', 'tierradesabor.elnortedecastilla.es', 'www.hls-dhs-dss.ch', 'islam.in.ua', 'www.southdublinlibraries.ie', 'library.dur.ac.uk', 'tech.ebu.ch', 'support.twitter.com', 'fpev.es', 'www.uco.es', 'stq.wikipedia.org', 'gl.wikipedia.org', 'www.voiceofroma.com', 'wiadomosci.onet.pl', 'kordynet.com', 'www.questia.com', 'historico.elpais.com.uy', 'doeswhat.com', 'discovermagazine.com', 'www.wcnuradio.com', 'www.basquetcatala.com', 'www.dailydot.com', 'www.state.nj.us', 'uprom.info', 'isbn.org', 'identi.ca', 'www.ipsb.nina.gov.pl', 'www.jamesbotkos.org', 'www.rechargenews.com', 'nationalpost.com', 'www.colorline.com', 'www.ajterrassa.es', 'mccfms.org', 'www.gannett.com', 'www.themalaysianinsight.com', 'www.adif.es', 'www.imfdb.org', 'enc-dic.com', 'www.tg.net.pl', 'www.cjr.org', 'www.eagletribune.com', 'content-ind.cricinfo.com', 'msn.foxsports.com', 'nell.boulderlibrary.org', 'document.kremlin.ru', 'olc1.ohiolink.edu', 'www.area-codes.com', 'www.inquisitr.com', 'www.insidermedia.com', 'www.hko.gov.hk', 'newjerseypublicsafety.state.nj.us', 'news.com', 'lararnastidning.se', 'primo.nlr.ru', 'statmodeling.stat.columbia.edu', 'www.globest.com', 'catalogue.westvanlibrary.ca', 'www.chessgames.com', 'el.wikipedia.org', 'www.tathya.in', 'lowcosteuropa.wordpress.com', 'www.amazon.it', 'resultados.elpais.com', 'sc.wikipedia.org', 'www.ferrariworldabudhabi.com', 'reproductiverights.org', 'search.half.ebay.com', 'www.timesofisrael.com', 'www.katedra.org.ua', 'otokar.com.ua', 'www.pme.gov.sa', 'dispenser.info.tm', 'www.amccauley.ch', 'www.ebooks.gr', 'techcrunch.com', 'www.njbg.org', 'austria-forum.org', 'www.globallabourrights.org', 'litviny.blogspot.com', 'www.nationalhistoricalregister.com', 'www.bookchecker.de', 'vimeo.com', 'www.multipressjaen.com', 'www.easttime.ru', 'www.wdl.org', 'soccernet.espn.go.com', 'www.mysanantonio.com', 'aleph.uea.ac.uk', 'www.travellers.ru', 'search.ebscohost.com', 'www.slovoidilo.ua', 'establishment.com.ua', 'regnum.ru', 'www.skyscrapercenter.com', 'www.mauripekkarinen.fi', 'friuli.on-line.it', 'www.igf.com', 'kpbc.umk.pl', 'bigthink.com', 'www.noisecreep.com', 'www.asiaoutlookmag.com', 'chernobyl.info', 'rybnsovet.idknet.com', 'vo.m.wikipedia.org', 'www.active.com', 'www.governing.com', 'www.vallecastodocultura.org', 'www.richlandlibrary.com', 'www.bergencountyclerk.org', 'zywiec.naszemiasto.pl', 'w32.ville.gatineau.qc.ca', 'vs.aka-online.de', 'www.bseindia.com', 'mustelid.physiol.ox.ac.uk', 'www.adl.org', 'www.bizcommunity.com', 'm.rediff.com', 'www.rostov-gorod.ru', 'content-usa.cricinfo.com', 'eastbengalvsmohunbagan.blogspot.in', 'search.trln.org', 'autoweek.com', 'www.bgcentar.org.rs', 'www.fenimoreartmuseum.org', 'www.elhierrodigital.es', 'mfa.kz', 'rusrev.com', 'www.qvmagazine.com', 'chr.wikipedia.org', 'news.postimees.ee', 'www.sun.com', 'www.zobbel.de', 'www.ncjajudo.org', 'scholar.google.com', 'www.guinnessworldrecords.com', 'www.zyciewarszawy.pl', 'www.eurosport.fr', 'www.auditbureau.org', 'kab.wikipedia.org', 'ironmaiden.webvis.net', 'lb.ua', 'www.lp.edu.ua', 'dushanbe21vek.freenet.tj', 'articles.cnn.com', 'ga.wikipedia.org', 'www.melaniesafka.com', 'www.bretagne-classique-ouest-france.bzh', 'gorby.ru', 'www.sallyoldfield.com', 'en.populationdata.net', 'usvirginislands.thistv.com', 'www.mtm.org', 'teatrnn.pl', 'www.shopshorthills.com', 'en.kremlingames.com', 'tieba.baidu.com', 'ci.nii.ac.jp', 'www.in2lol.com', 'katalog.svkul.cz', 'www.abellabooks.com', 'thomascranelibrary.org', 'aleph.lib.vutbr.cz', 'www.empleo.gob.es', 'www.ngsiberia.ru', 'www.factcheck.org', 'www.geobytes.com', 'bcts.bergen.org', 'www.mercurynews.com', 'library.uh.edu', 'www.thedailybeast.com', 'ps.wikipedia.org', 'www.saeima.lv', 'www.deutsche-schutzgebiete.de', 'voiceofserbia.org', 'permalink.obvsg.at', 'nah.m.wikipedia.org', 'ew.com', 'bbcnewstvchannel.blogspot.in', 'www.mhk.pl', 'www.atlasinternational.com', 'www.isjm.org', 'portal.mfa.kz', 'aleph.etat.lu', 'cat.cisti-icist.nrc-cnrc.gc.ca', 'www.dipualba.es', 'shop.wki.it', 'national-revolutionary.blogspot.com', 'glavcom.ua', 'library.adelaide.edu.au', 'search.gmarket.co.kr', 'history.franko.lviv.ua', 'xiangcun.baidu.com', 'www.spottedbylocals.com', 'www.androidcentral.com', 'npgallery.nps.gov', 'arseblog.com', 'te.wikipedia.org', 'www.dipucr.com', 'www.isbn-international.org', 'ny.wikipedia.org', 'chinadigitaltimes.net', 'www.popcom.gov.ph', 'www.kssip.gov.pl', 'www.marca.com', 'timetravel.mementoweb.org', 'www.antelopevalley.com', 'www.bestinslot.co', 'www.galslovo.if.ua', 'dovidnyk.in.ua', 's322673425.online.de', 'mkt.unwto.org', 'szlaki.pttk.pl', 'azbyka.ru', 'www.360architects.com', 'www.connorfloor.com', 'www.leagueofthesouth.net', 'president.al', 'kea.massey.ac.nz', 'www.cyclingquotes.com', 'nobelprize.org', 'www.elchecf.es', 'www.arts.gov', 'www.austlii.edu.au', 'historylib.org', 'bklyn.newspapers.com', 'www.burlingame.org', 'www.lyngsat.com', 'www.torcedores.com', 'nso.m.wikipedia.org', 'www.bartleby.com', 'ukrmap.su', 'www.oneontahighalumni.org', 'en.people.cn', 'corporate.tribune.com', 'www.caltrain.com', 'gseis.ucla.edu', 'be-tarask.m.wikipedia.org', 'www.whatcar.com', 'www.daumcorp.com', 'biblio.comune.pistoia.it', 'butan.ru', 'www.religion.in.ua', 'polouda.sebina.it', 'sacramento.cbslocal.com', 'pa.wikipedia.org', 'www.news-leader.com', 'www.nocowanie.pl', 'precursorblog.com', 'projects.propublica.org', 'www.lovelybooks.de', 'hirosima.scepsis.ru', 'ie.m.wikipedia.org', 'www.british-history.ac.uk', 'www.rottentomatoes.com', 'bibliotek.molndal.se', 'www.utexas.edu', 'digg.com', 'www.wsj.com', 'www.nanosysinc.com', 'www.stifterverein.org', 'www.barrypopik.com', 'www.hudsonreporter.com', 'www.mtcmarathon.org', 'www.philstar.com', 'chargers.com', 'londonrecruits.vam.ac.uk', 'gazeta.dt.ua', 'www.nobelprize.org', 'www.lukow.pl', 'www.lapdonline.org', 'www.superiorne.com', 'rada.info', 'news.microsoft.com', 'www.fab.ad', 'elpais.com', 'www.juancervera.com', 'www.marketingmagazine.co.uk', 'www.manchester.lib.nh.us', 'www.wbhof.com', 'www.historylearningsite.co.uk', 'www.mnsu.edu', 'kremlin.ru', 'archive.timesonline.co.uk', 'epe.lac-bac.gc.ca', 'www.movity.it', 'www.kron4.com', 'www.obctheater.com', 'www.tourolaw.edu', 'www.mzzjw.gd.gov.cn', 'www.ourcomputerheritage.org', 'www.tumblr.com', 'www.mexicodesconocido.com.mx', 'finanse.wp.pl', 'www.demarestlibrary.org', 'sires.house.gov', 'blog.insidetheapple.net', 'www.foxflash.com', 'dcit.clemson.edu', 'www.genealogia.ee', 'sl.m.wikipedia.org', 'csusystem.edu', 'www.eurogamer.net', 'news.cnet.com', 'eizvestia.com', 'fourweekmba.com', 'www.bibliotheek.nl', 'www.zawya.com', 'www.karpaty.info', 'www.observatoriosostenibilidad.com', 'www.thebigsouthconference.org', 'www.poesi.as', 'interbrand.com', 'www.airfleets.net', 'www.heinrichbernd.de', 'www.avenidas.org', 'www.filmaffinity.com', 'www.veche.ru', 'insuloamaziq.blogspot.com.es', 'www.reuters.com', 'www.macnn.com', 'www.rybalymo.org.ua', 'ru.uefa.com', 'game.ettoday.net', 'www.uaf.edu', 'teleshow.wp.pl', 'www.bea.gov', 'gisweb.kcmo.org', 'www.britishcolumbia.com', 'esa.un.org', 'www.324.cat', 'www.rivervalelibrary.org', 'apple2history.org', 'www.larazon.es', 'www.telegraphindia.com', 'www.rushchronicles.com', 'services.ukrposhta.com', 'mrj.wikipedia.org', 'theadvocate.com', 'restaurants.pitch.com', 'www.livemint.com', 'www.rv.gov.ua', 'www.2112.net', 'uk.reuters.com', 'www.lib.uea.ac.uk', 'www.kdla.ky.gov', 'www.pcadvisor.co.uk', 'baike.baidu.com', 'www.onstagemag.com', 'www.abebooks.com', 'archive.org', 'supreme.justia.com', 'www.wikiindex.org', 'fa.wikipedia.org', 'words.usask.ca', 'www.redlinechina.com', 'sdcl.org', 'www.grad.clemson.edu', 'www.pasala.com.mx', 'www.thestatesmanonline.com', 'kleyff.pl', 'www.biblioteche.unipg.it', 'alex.onb.ac.at', 'www.challenge.co.uk', 'pubs.usgs.gov', 'fin61.ru', 'www.gutenberg.net', 'www.armymuseums.org.uk', 'www.amazon.com.au', 'www.sotovik.ru', 'www.mineralatlas.eu', 'www.argylls1945to1971.co.uk', 'www.aerohelp.ru', 'hz.wikipedia.org', 'ocln.org', 'aleph.sbg.ac.at', 'www.sitnews.us', 'www.russianresources.lt', 'gutenberg.spiegel.de', 'www.romanialibera.ro', 'ondemandbooks.com', 'www.elizabethan-era.org.uk', 'new.wikipedia.org', 'www.gov.au', 'www.raremaps.com', 'germaniya.net', 'www.dublincity.ie', 'www.nn.by', 'opac.nlc.gov.cn', 'www.snpolytechnic.com', 'www.tollfreeairline.com', 'www.challengerschool.com', 'www.ibj.com', 'pap.wikipedia.org', 'www.gum.gov.pl', 'www.kkvysociny.cz', 'opac.keele.ac.uk', 'www.arqnet.pt', 'www.slovak-republic.org', 'www.dsnews.ua', 'www.library.dcu.ie', 'donbass.ua', 'wybory2018.pkw.gov.pl', 'procause.com', 'www.zipar.org.zm', 'dailycaller.com', 'knigi.gbg.bg', 'www.hockeydb.com', 'pl.wikinews.org', 'www.elkanodata.com', 'www.wavenewspapers.com', 'www.vh1.com', 'library.st-andrews.ac.uk', 'www.jukeboxmetal.com', 'domwarminski.pl', 'publicfiles.fcc.gov', 'www.kolkatafootballs.com', 'www.irconnect.com', 'gdconlineawards.com', 'catalog.library.colostate.edu', 'www.ekwiatkowski.poznan.pl', 'pitch.com', 'archive.fiba.com', 'ja.wikipedia.org', 'www.jamesbond.com', 'www.artculture.tj', 'demographia.net', 'www.techdigest.tv', 'www.mobilitytechzone.com', 'campi.cab.cnea.gov.ar', 'ribak.com.ua', 'ua.referats.net.ua', 'www.ncicap.org', 'www.dwheeler.com', 'break.com', 'superhistoria.pl', 'www.arkarugby.pl', 'hist243.blogs.wm.edu', 'www.northeastmedals.co.uk', 'www.marketwatch.com', 'www.radio.cz', 'pinterest.com', 'www.sfchronicle.com', 'maps.google.es', 'tvp.info', 'www.newsday.com', 'www.mantleplumes.org', 'www.business-standard.com', 'viatel.kiev.ua', 'www.crunchbase.com', 'www.ecured.cu', 'stats.allblacks.com', 'new.sportarena.com', 'mcdc2.missouri.edu', 'om.wikipedia.org', 'abcnews.go.com', 'www.registerguard.com', 'www.allmovie.com', 'www.estantevirtual.com.br', 'current.org', 'www.robweir.com', 'www.afriquejet.com', 'ccl6.in', 'www.schoenhausenelbe.de', 'wam.seals.ac.za', 'www.aviationweek.com', 'www.wp.pl', 'www.kickoffindia.com', 'www.office-augusta.com', 'www.allaboutmexicocity.com', 'encyclopedia.federalism.org', 'nextgen.lloydslistintelligence.com', 'de.bogoslov.ru', 'thedownholdproject.centraldesktop.com', 'www.bookzone.com.ua', 'www.simpletoremember.com', 'www.redbeemedia.com', 'tmora.org', 'www.golos-ameriki.ru', 'opac.kbr.be', 'az.wikipedia.org', 'www.gospodarkamorska.pl', 'www.sfusd.k12.ca.us', 'www.editorial.planeta.es', 'www.marshallscholarship.org', 'www.dot.ny.gov', 'www.theaircanadacentre.com', 'mandrivnuk.at.ua', 'africanactivist.msu.edu', 'banglapedia.search.com.bd', 'www.pressphotohistory.com', 'www.jclibrary.org', 'dutchcharts.nl', 'www.greentechmedia.com', 'tourandtravels.darlic.com', 'www.dipusevilla.es', 'www.islandnet.com', 'myportelizabeth.co.za', 'www.conjur.com.br', 'catalogue.lib.if.ua', 'aleph.libsu.uni-sofia.bg:8991', 'www.clemson.edu', 'www.norwellschools.org', 'idiscover.lib.cam.ac.uk', 'hu.m.wikipedia.org', 'tv.kttz.org', 'statistics.gov.rw', 'tritonia.finna.fi', 'www.bcpo.net', 'www.halifaxpubliclibraries.ca', 'digiday.com', 'adeer-lyinad2.blogspot.com', 'www.shanson.ua', 'digit.ru', 'www.downtownjournal.com', 'www.wmvca.org', 'www.southasiaarchive.com', 'www.metaltraveller.com', 'ricchiepoveri.com', 'www-pw.physics.uiowa.edu', 'www.greenreportcard.org', 'gocalifornia.about.com', 'encrypted.google.com', 'www.mashreghnews.ir', 'www.stern.nyu.edu', 'a-ingwar.blogspot.com', 'exte.sirsi.net', 'www.unian.net', 'www.investopedia.com', 'vnews.mv', 'www.ghco.com', 'www.rock-progresivo.com', 'readr.ru', 'www.saintpeters.edu', 'archive.today', 'kara.allthingsd.com', 'www.sportskeeda.com', 'www.spacefacts.de', 'www.natgeo.com.cn', 'www.cronista.com', 'yandex.ru', 'www.cygnus-x1.net', 'stefanbatoryoceanliner.weebly.com', 'portal.d-nb.de', 'www.rawnarch.com', 'www.snpp.com', 'www.worldstadiums.com', 'www.encyclopediaofarkansas.net', 'www.rep.routledge.com', 'tl.wikipedia.org', 'archives.radio-canada.ca', 'www.nndb.com', 'www.fda.gov', 'gizmodo.com', 'search.eb.com', 'www.dallascvb.com', 'pewforum.org', 'cv.wikipedia.org', 'www.eumed.net', 'stary.naszdziennik.pl', 'britannica.com', 'www.mpls.lib.mn.us', 'www.oazoo.com', 'www.sabcnews.com', 'www.silive.com', 'africacheck.org', 'castor.tugraz.at:80', 'nike.org.pl', 'www.diecezja.zgora.pl', 'www.macobserver.com', 'bigtravel.in.ua', 'gramota.ru', 'rozklady.mpk.krakow.pl', 'canadianguide.info', 'www.health.com', 'sdb-web2.biblio.usherbrooke.ca', 'www.insidehighered.com', 'arhiva.kgz.hr', 'www.searchenginejournal.com', 'www.harringtonpark.bccls.org', 'opensourcebridge.org', 'www.indiantelevision.com', 'ipac.canterbury.ac.nz', 'wuu.wikipedia.org', 'www.london2012.com', 'wikanda.cordobapedia.es', 'www.ana-aeroportos.pt', 'aleph18.sibul.ul.pt', 'www.finweb.pl', 'www.styl.pl', 'www.brightwire.com', 'www.channelnewsasia.com', 'www.norwellpubliclibrary.org', 'polosbn.bnnonline.it', 'www.stvalora.com', 'tw.news.yahoo.com', 'myv.wikipedia.org', 'www.president-sovet.ru', 'www.bookcascade.co.uk', 'danielsimpson.blogspot.com', 'www.geopostcodes.com', 'www.progarchives.com', 'www.londonstockexchange.com', 'ingoirle.com', 'conservation.warnercnr.colostate.edu', 'library.twu.ca', 'polariscatalog.piercecountylibrary.org', 'www.sandwichpubliclibrary.com', 'timelines.ws', 'www.sejm-wielki.pl', 'www.officeforstudents.org.uk', 'www.bertrand.pt', 'latimesblogs.latimes.com', 'aytoguadalmez.com', 'www.tnca.cricket', 'www.thenational.scot', 'playbackonline.ca', 'www.arribes.net', 'www.kreiva.org', 'www.baseball-almanac.com', 'www.romadecade.org', 'snl.no', 'classicrock.about.com', 'www.virginmedia.com', 'www.uefa.com', 'www.languages-study.com', 'ukrtvr.org', 'neos.library.ualberta.ca', 'www.techradar.com', 'www.epl.ee', 'www.firstvoices.com', 'lwd.dol.state.nj.us', 'www.onlineworldofwrestling.com', 'www.pnas.org', 'www.pcgamer.com', 'www.google.bg', 'www.tbray.org', 'www.hobokenmuseum.org', 'www.glenridgelibrary.org', 'www.agitclub.ru', 'ltg.wikipedia.org', 'iii.lib.odu.edu', 'zh.wikisource.org', 'wals.info', 'www.kotaku.com.au', 'www.biblionet.gr', 'www.dyntaxa.se', 'przemyska.pl', 'bancroft.library.ca.gov', 'app.education.state.mn.us', 'sejm.gov.pl', 'articles.nydailynews.com', 'www.gimwilk.lap.pl', 'discovery.nationalarchives.gov.uk', 'www.cidh.oas.org', 'www.sleafordstandard.co.uk', 'www.outinjersey.net', 'jroller.com', 'pics.livejournal.com', 'demo.istat.it', 'www.ittf.com', 'www.rootsweb.com', 'www.cityofsanmateo.org', 'www.aftenposten.no', 'www.mspairport.com', 'freedompop.com', 'sjsuspartans.com', 'www.shipraiders.com', 'ia-centr.ru', 'za.m.wikipedia.org', 'www.routledgehandbooks.com', 'www.caminodelalengua.com', 'www.gazetaprawna.pl', 'www.timesnownews.com', 'www.nationalgeographic.nl', 'heritage.thetimes.co.za', 'haw.wikipedia.org', 'soccerlens.com', 'so.wikipedia.org', 'landmarkcases.c-span.org', 'www.aaanet.org', 'www.wheaton.edu', 'www.olympic.ind.in', 'www.joinfreesat.co.uk', 'asumag.com', 'the-aiff.com', 'russiancinema.ru', 'www.bookva.org', 'www.huffingtonpost.es', 'www.tkb.org', 'www.flb.ru', 'www.kroraina.com', 'www.skysports.com', 'chytanka.com.ua', 'www.geographic.hu', 'www.njcu.edu', 'archive.bangordailynews.com', 'www.statesman.com', 'weekend.rian.ru', 'portal.uc3m.es', 'www.museophile.com', 'old09403.khstu.ru', 'washingtonmonthly.com', 'ukrcenter.com', 'ren.tv', 'en.wikichecker.com', 'www.cronica.com.ar', 'www.grinnellsga.com', 'www.larepublica.com.uy', 'www.fredrika.net', 'katalogi.bn.org.pl', 'kyyti.finna.fi', 'library.clamsnet.org', 'www.cobiss.ba', 'www.iolfree.ie', 'www.myspace.com', 'www.avalanchepress.com', 'www.portoflosangeles.org', 'servicio-tecnico-balay-valencia-sat.negocio.site', 'fox4kc.com', 'www.tshaonline.org', 'bigenc.ru', 'www.stumbleupon.com', 'cgsc.contentdm.oclc.org', 'www.bibliosip.it', 'www.biz.colostate.edu', 'wuu.m.wikipedia.org', 'fama.us.es', 'www.polity.co.uk', 'www.apocalyptism.ru', 'www.kirjaverkko.fi', 'tl.wikiquote.org', 'presentationarchive.com', 'www.orthodox-leer.de', 'www.abacusnews.com', 'www.unionleader.com', 'www.bookia.gr', 'anodis.com', 'www.fleetwoodmac.net', 'www.boxinginsider.com', 'www.newsdial.com', 'www2.assemblee-nationale.fr', 'www.njwomenshistory.org', 'opac.seab.gr', 'iii-server.ualr.edu', 'www.keijimutohcentral.com', 'konyv.ker.eso.hu', 'books.google.ru', 'ucsi.ent.sirsidynix.net.au', 'abilita.fi', 'dugward.ru', 'maidanua.org', 'inthesetimes.com', 'lb.wikipedia.org', 'www.submarino.com.br', 'collections.ushmm.org', 'www.echo.msk.ru', 'www.caf.es', 'www.theeuropeanlibrary.org', 'www.kaliningrad.ru', 'www.koreatimes.co.kr', 'www.dalycity.org', 'cdo.wikipedia.org', 'www.co.delaware.ny.us', 'countrystudies.us', 'www.grinnell.edu', 'statewidedatabase.org', 'www.click.ro', 'www.omaha-beach.org', 'public.ebookcentral.proquest.com', 'lecsiko.com', 'asdemo.iatp.by', 'www.ifs.du.edu', 'katalog.nsk.hr', 'www.geocities.jp', 'www.google.com.ua', 'www.budapesttelegraph.com', 'www.wusa9.com', 'allaboutromania.ru', 'www.threemonkeysonline.com', 'enciclopedia.us.es', 'nds.m.wikipedia.org', '30stm.buzznet.com', 'sos.nh.gov', 'www.alexanderyakovlev.org', 'www.novinar.de', 'www.mondotimes.com', 'nehandaradio.com', 'designmuseum.org', 'phabricator.wikimedia.org', 'www.mariner.org', 'www.marketingvox.com', 'ru.rodovid.org', 'uatoday.tv', 'www.blacksabbath.com', 'te.m.wikipedia.org', 'entertainment.oneindia.in', 'apologetika.com', 'www.lagrandeobserver.com', 'www.krotov.info', 'aione.oxosolutions.com', 'www.umoloda.kiev.ua', 'accesswdun.com', 'www.bibliotek.dk', 'bgr.com', 'varosh.com.ua', 'www.eurweb.com', 'www.ksat.com', 'www.nola.com', 'sc.m.wikipedia.org', 'www.hpa-polo.co.uk', 'www.kinopoisk.ru', 'www.intlgymnast.com', 'www.ubs.com', 'www.kolkatasports.com', 'paper.hindustantimes.com', 'www.engadget.com', 'www.jazzmanrecords.co.uk', 'www.deadlineclub.org', 'www.lahsa.org', 'www.complex.com', 'www.epravda.com.ua', 'www.mot.krakow.pl', 'www.westwoodpubliclibrary.org', 'www.streamingmediaglobal.com', 'www.ereserves.mcneese.edu', 'dl.acm.org', 'libpac.sdsu.edu', 'ast.wikipedia.org', 'iframe.vertaa.fi', 'leagueoflegends.com', 'venturesafrica.com', 'www.nationalreview.com', 'revarchiv.narod.ru', 'www.dreamcricket.com', 'vls.wikipedia.org', 'www.foodbusinessnews.net', 'kuchnia.ze-swiata.pl', 'www.fundacionpatrimoniocyl.es', 'www.c-able.ne.jp', 'www.belfasttelegraph.co.uk', 'www.cecu.de', 'lbsihol.unimaas.nl:8180', 'www.lavozdegalicia.es', 'www.inec.go.cr', 'www.concentricsky.com', 'www.dglobe.com', 'www.taxfoundation.org', 'observer.guardian.co.uk', 'www.election.demon.co.uk', 'ech.case.edu', 'www.chatham.edu', 'www.polkomtel.pl', 'novanet.ns.ca', 'www.americanethnography.com', 'slide.news.sina.com.cn', 'id.wikibooks.org', 'www.pewglobal.org', 'xn--80aafi6cg.if.ua', 'www.nature.com', 'www.osu.edu', 'officialanuk.webs.com', 'www.aradon.ro', 'www.naturalworlds.org', 'www.porbase.org', 'studentmedia.colostate.edu', 'sa.wikipedia.org', 'hsb.wikipedia.org', 'rusnovosti.ru', 'kv.wikipedia.org', 'inosmi.ru', 'www.turismodecastellon.com', 'www.worldaudit.org', 'www.bishopsgate.org.uk', 'womenincongress.house.gov', 'www.daum.net', 'www.bignewsnetwork.com', 'www.rockymountainnews.com', 'bc.wimbp.lodz.pl', '93rdhighlanders.com', 'www.ekspress.ee', 'legis.state.va.us', 'www1.folha.uol.com.br', 'www.propertynews.pl', 'lfn.wikipedia.org', 'www.sailwx.info', 'ar.m.wikipedia.org', 'today.reuters.co.uk', 'sakhapress.ru', 'tl.wikibooks.org', 'jyu.finna.fi', 'www.mikesweeney.org', 'www.chinainternetwatch.com', 'www.library.pub.ro', 'news.ru', 'www.anus.com', 'km.wikipedia.org', 'www.r-o-k.de', 'pravo.ru', 'www.zg.org.pl', 'www.jimwegryn.com', 'www.wpunj.edu', 'www.nupedia.com', 'www.advocate.com', 'www.folklore.org', 'mk.wikipedia.org', 'search.nationallibrary.bg', 'www.salemnews.com', 'www.wap.org', 'www.kommersant.ru', 'bpy.wikipedia.org', 'www.fapas.es', 'www.rollingstone.com', 'aleph1.libnet.ac.il', 'metrotransit.org', 'aleph20.unipa.it:8991', 'www.andersoncooper.com', 'www.gaz.com.br', 'www.dealbaceteasantiago.es', 'www12.statcan.ca', 'www.kirjastot.fi', 'www.ub.uni-heidelberg.de', 'nyelvkonyvbolt.hu', 'www.saxo.com', 'www.enca.com', 'garfield.bccls.org', 'www.nlai.ir', 'cincodias.elpais.com', 'external.oneonta.edu', 'www.worldwildlife.org', 'www.thegazette.co.uk', 'www.betterworld.com', 'teachinghistory.org', 'morningstaronline.co.uk', 'www.tennis.com', 'www.salford.gov.uk', 'paperspast.natlib.govt.nz', 'www.sunday-guardian.com', 'www.cihefe.es', 'news-front.info', 'nds.wikipedia.org', 'www.afrika.no', 'www.omniglot.com', 'tools.darlic.com', 'video.wp.pl', 'pulsefilms.com', 'www.rfbr.ru', 'malarze.com', 'www.dst.dk', 'es.wiktionary.org', 'www.ericdigests.org', 'www.nprus.ru', 'www.stat.si', 'www.cooperstownchamber.org', 'www.truth-out.org', 'www.cjonline.com', 'www.lapressedujour.net', 'www.politicsweb.co.za', 'www.coldwar.ru', 'ar.wiktionary.org', 'cy.wikipedia.org', 'www.sbnfvg.it', 'search.webrostov.ru', 'da.wikipedia.org', 'www.worldcat.org', 'mojazarplata.by', 'www.rajanews.com', 'www.ria.ie', 'www.godow.pl', 'www.imf.org', 'cityofpacificgrove.org', 'laboratoires.univ-reunion.fr', 'www.lamonitor.com', 'wikimania.wikimedia.org', 'search.alexanderstreet.com', 'www.ci.worthington.mn.us', 'psh.techlib.cz', 'docm.castillalamancha.es', 'www.princeton.edu', 'www.rjp.pan.pl', 'www.idfa.nl', 'www.jacksonville.com', 'www.tv-live.org.uk', 'www.access-board.gov', 'filmow.com', 'www.erevistas.csic.es', 'nassmer.blogspot.cz', 'www.dnestrschutz.com', 'sddp.ent.sirsi.net', 'runewsweek.ru', 'www.e-stat.go.jp', 'www.broadbandtvnews.com', 'www.webmd.com', 'www.orthodoxe-kirche-schwerin.de', 'authority.bibsys.no', 'onlinebooks.library.upenn.edu', 'www.iltalehti.fi', 'oula.finna.fi', 'www.kshs.org', 'ko.wiktionary.org', 'en.chessbase.com', 'www.monicagagliano.com', 'www.dnaindia.com', 'jbc.bj.uj.edu.pl', 'www.cooperativa.cl', 'www.nodo50.org', 'weirdnj.com', 'sportowefakty.wp.pl', 'cityofpalaces.tripod.com', 'www.lvivcenter.org', 'www.tommyturnquest.org', 'www.soligorsk.gov.by', 'archive.buffalorising.com', 'innopac.wits.ac.za', 'poezia.org', 'www.noticiasdjaen.es', 'www.ffc.org.au', 'hyw.wikipedia.org', 'www.ochakovinfo.narod.ru', 'www.rivne.org', 'www.nhra.com', 'www.oaklandnjlibrary.org', 'townofbrookevillemd.org', 'roa-rup.wikipedia.org', 'catalog.oaklandlibrary.org', 'www.brandrepublic.com', 'www.zoomit.ir', 'ssd.jpl.nasa.gov', 'kl.m.wikipedia.org', 'rue.m.wikipedia.org', 'www.parlamentodeandalucia.es', 'fly.twitter.com', 'izdavam.com', 'ca.wiktionary.org', 'source.colostate.edu', 'forums.euw.leagueoflegends.com', 'vue.gov.ua', 'www.arhiva.serbia.gov.rs', 'rockarch.org', 'cnu.edu', 'www.cnusd.k12.ca.us', 'www.kcchorale.org', 'webappl.hcdn.gov.ar', 'www.monde-diplomatique.fr', 'www.subwaynut.com', 'xn--80aafi6cg.in.ua', 'vechorka.kiev.ua', 'www.habsburger.net', '193.205.156.4', 'www.deputacionlugo.gal', 'www.library.ucdavis.edu', 'petitsamisdelacommune.chez-alice.fr', 'dealbook.nytimes.com', 'mskod.com', 'zh.wikiquote.org', 'kline.house.gov', 'decentralization.gov.ua', 'zsbransk.masternet.pl', 'scn.wikipedia.org', 'www.assemblee-nationale.fr', 'www.mohawkcommunity.com', 'www.amazon.com', 'www.ualberta.ca', 'www.adriaticbasket.com', 'www.teleweb-mallorca.com', 'www.bizkaia.eus', 'www.ccyl.es', 'minorityhealth.hhs.gov', 'www.historyworld.net', 'www.musicline.de', 'vilnius.lt', 'www.skm.pkp.pl', 'leagueoflegends.wikia.com', 'www.business-anti-corruption.com', 'blog.onedrive.com', 'www.bangkokpost.com', 'traveler.oklahomaagritourism.com', 'tv.wp.pl', 'www.hani.co.kr', 'www.3eck.org', 'www.unicat.be', 'gladlycast.com', 'www.bop.gov', 'www.ac360.com', 'www.hindusamajmandir.org', 'sco.m.wikipedia.org', 'din.wikipedia.org', 'www.nextbigwhat.com', 'tourofnilgiris.com', 'uchebniki.ws', 'www.iucnredlist.org', 'www.upi.com', 'www.fbi.gov', 'iph.ras.ru', 'sobor.patriarchia.ru', 'www.robgagnon.net', 'www.uniondeactores.com', 'books.google.co.in', 'campusrec.colostate.edu', 'daily.rbc.ua', 'www.spainbusiness.com', 'www.donland.ru', 'www.boerse-frankfurt.de', 'www.thebrazillawblog.com', 'sg.finance.yahoo.com', 'old.nasledie.ru', 'www.celc.info', 'opac.jslib.org.cn', 'www.pccc.edu', 'library.zu.edu.ua', 'elibrary.mel.org', 'encyclopediaofarkansas.net', 'findarticles.com', 'www.tvgenius.net', 'www.today.com', 'moto.wp.pl', 'sfera-tv.com.ua', 'cain.ulst.ac.uk', 'www.thecatalogblog.com', 'maximum.fm', 'archiwalny.mon.gov.pl', 'phabricator.wikimedia.bg', 'www.btmemories.com', 'www.curiator.com', 'www.bfca.org', 'www.antyradio.pl', 'www.londonlive.co.uk', 'www.olympic.org', 'www.ontarioca.gov', 'n-t.ru', 'www.dubossary.ru', 'zoz.msw.gov.pl', 'www.kbp.org.ph', 'www.atominfo.ru', 'www.prisonstudies.org', 'www.rus-sky.com', 'pib.nic.in', 'www.cmnh.org', 'revistas.ucm.es', 'mn.m.wikipedia.org', 'www.gazeta.spb.ru', 'sister-cities.org', 'www.liveleak.com', 'bh.m.wikipedia.org', 'www.yorkshireeveningpost.co.uk', 'www.epravo.kz', 'www.alexa.com', 'news.4399.com', 'montvale.bccls.org', 'www.gwizdow.pl', 'www.mediapost.com', 'www.coloradoan.com', 'www.devonheritage.org', 'www.labyrinth.ru', 'www.cultureandrecreation.gov.au', 'www.pitpass.com', 'in.linkedin.com', 'www.kidok.com', 'catalogue.nlg.gr', 'bdtd.bce.unb.br', 'www.nettavisen.no', 'www.kas.de', 'jkpl.ent.sirsi.net', 'gdyniaradio.com', '213.225.206.138', 'metvnetwork.com', 'www.ilo.org', 'www.aiqb.es', 'www.ktva.com', 'docs.bilibili.cn', 'www.bloomfield.edu', 'www.warwick.ac.uk', 'www.newsinfo.colostate.edu', 'www.library.yorku.ca', 'webarchive.nationalarchives.gov.uk', 'www.nzhistory.net.nz', 'www.mohunbaganac.com', 'magazyn.wp.pl', 'warmaz.pl', 'censusreporter.org', 'be-x-old.wikipedia.org', 'www.findarticles.com', 'www.enorsai.com.ar', 'www.sbn.it', 'www.strasbourg-reor.org', 'www.gdansk.pl', 'shelaghspencer.com', 'www.yoyow.com', 'bestof.ign.com', 'ff.wikipedia.org', 'www.network18online.com', '193.30.112.134', 'library.ege.edu.tr', 'www.sprintcenter.com', 'www.audi.com', 'liquipedia.net', 'lienminhgarena.vn', 'www.dpz.es', 'www.culturanavarra.es', 'www.jeaniegreene.com', 'bibliotek.dk', 'www.history.com', 'adevarul.ro', 'vasylsymonenko.in.ua', 'wwjnewsradio.radio.com', 'www.scottishaffairs.org', 'www.polskieradio.pl', 'www.doingbusiness.org', 'opac.consorziocidis.it', 'www.dodonline.co.uk', 'www.kommersant.ua', 'www.library.lviv.ua', 'www.nysun.com', 'www.10best.com', 'www.gay.ru', 'www.world-history.ru', 'www.statista.com', 'nwis.waterdata.usgs.gov', 'www.sncf.com', 'www.kolkatabookfair.net', '1576.ua', 'play.tm', 'libelli.narod.ru', 'www.dallasnews.com', 'et.m.wikipedia.org', 'www.sify.com', 'vorlage_gse.test', 'onlinelibrary.wiley.com', 'conflictologist.org', 'euverc.colostate.edu', 'gulfnews.com', 'altright.com', 'www.ortho-hetero.ru', 'iii.ocls.info', 'artlibraries.on.worldcat.org', 'bo.wikipedia.org', 'orthofr.de', 'www.geek.com', 'www.locatecolleges.com', 'lg.wikipedia.org', 'www.patriarchia.ru', 'www.buchpreis24.de', 'www.theopennotebook.com', 'plataformaelectoral.jne.gob.pe', 'thes.bncf.firenze.sbn.it', 'wenku.baidu.com', 'id.worldcat.org', 'www2.harimaya.com', 'veterinarynews.dvm360.com', 'www.aljazeera.net', 'www.tyden.cz', 'www.bibliotu.it', 'www.skymovies.com', 'philpapers.org', 'www.ua-football.com', 'visualrian.ru', 'warszawa.wyborcza.pl', 'www.livrariacultura.com.br', 'travelwanderings.com', 'sdp.pl', 'lenizdat.ru', 'in-space.ru', 'lms01.harvard.edu', 'www6.lexisnexis.com', 'www.tele.ru', 'www.ign.com', 'www.thomascrampton.com', 'www.record.xl.pt', 'crime.in.ua', 'votesmart.org', 'www.digitalhistory.uh.edu', 'tut.finna.fi', 'www.newtimes.ru', 'zh.wikivoyage.org', 'inh.wikipedia.org', 'www.sclj.ru', 'pag.wikipedia.org', 'www.academieroyale.be', 'www.danubio.org.uy', 'lis12.eto-ya.com', 'www.toysrusinc.com', 'www.countryclubplaza.com', 'www.flickriver.com', 'www.itis.gov', 'www.bookmooch.com', 'lutheran.ru', 'jagiellonski.pl', 'haidamac.org.ua', 'www.rbc.ru', 'www.dharmanet.org', 'gtk.verkkokirjasto.fi', 'www.tologistic.ru', '132.162.37.16', 'www.bg.cobiss.net', 'www.kcet.org', 'bbc.github.io', 'www.christhospital.org', 'www.bergen.com', 'www.10sballs.com', 'www.artsalivecouncil.org', 'nsportal.ru', 'www.nelson-atkins.org', 'anberlin.buzznet.com', 'liguria.on-line.it', 'climatebase.ru', 'troy.lib.sfu.ca', 'doc-films.com', 'www.nazariapak.info', 'info.sjsu.edu', 'www.biblioteken.fi', 'lccn.loc.gov', 'desafiointernacional.las.leagueoflegends.com', 'oregondigital.org', 'www.dundee.ac.uk', 'home.bway.net', 'www.adlibris.com', 'catho.org', 'oxosolutions.com', 'ftp.atdd.noaa.gov', 'www.natgeo.fi', 'ikononenko.info', 'jimjim.ntlib.nt.gov.au', 'tubular.net', 'www.kinoart.ru', 'www.santiebeati.it', 'www.inteulada.it', 'www.maudsleybrc.nihr.ac.uk', 'news.tochka.net', 'more', 'www.mysky.com.ph', 'velonews.competitor.com', 'football.ua', 'www.newyorker.com', 'www.kyivpost.com', 'meduza.io', 'www.campusbin.com', 'ti.wikipedia.org', 'www.bathroomreader.com', 'uateka.com', 'war.m.wikipedia.org', 'iso.wikipedia.org', 'online.hemscottir.com', 'www.ridgefieldpubliclibrary.com', 'sos.oregon.gov', 'www.paloaltochamber.com', 'collections.tepapa.govt.nz', 'kamunikat.org', 'www.harvardsquarelibrary.org', 'www.geni.com', 'www.memo.ru', 'webapp.inei.gob.pe:8080', 'www.theguardian.com', 'www.jayhawks.org', 'www.novosti-kosmonavtiki.ru', 'www.titantv.com', 'www.cnbcafrica.com', 'www.mapsofindia.com', 'hk.news.yahoo.com', 'www.bank.gov.ua', 'report.if.ua', 'johnsonlib.org', 'www.hoophall.com', 'www.efa.com.eg', 'www.zr.ru', 'www.polobibliotecario.biella.it', 'en.intelextrememasters.com', 'isbn.nu', 'www.bergenfieldlibrary.org', 'rkd.nl', 'www.nla.gov.au', 'www.austinchronicle.com', 'beautifulpixels.com', 'www.documentcloud.org', 'www.euractiv.com', 'www.calend.ru', 'www.midlandparklibrary.org', 'www.landofbasketball.com', 'cclt20.in', 'dreamitinc.com', 'www.illiterarty.com', 'zstm.pl', 'babelfish.yahoo.com', 'originweb.info', 'www.money.pl', 'retecedro.comperio.it', 'www.firstversions.com', 'www.qi.com', 'www.nynganobserver.com.au', 'hoopedia.nba.com', 'www.polobibliotecario.provincia.bt.it', 'ast.wikisource.org', 'news.worldofapple.com', 'imsu-doneck.info', 'www.treccani.it', 'www.rahvaraamat.ee', 'vbsw.vbs.rs', 'www.aanitearkisto.fi', 'www.stavanger-kulturhus.no', 'www.musicradar.com', 'www.sbpchieti.it', 'prowrestlingillustrated.blogspot.com', 'chroniclingamerica.loc.gov', 'www.railwaypreservation.com', 'www.melodyfuse.com', 'voyager.auckland.ac.nz', 'www.theidentgallery.com', 'www.ecampus.com', 'www.ianfleming.com', 'www.n2yo.com', 'www.sdhpr.org', 'www.malopolskie.pl', 'scholarship.law.duke.edu', 'news.abs-cbn.com', 'www.mnhn.fr', 'www.sztetl.org.pl', 'kurier.at', 'librariesaustralia.nla.gov.au', 'history.princeton.edu', 'www.shropshireregimentalmuseum.co.uk', 'zh.wikibooks.org', 'www.pap.pl', 'made-in-ukraine.info', 'spadok.org', 'www.thesportbible.com', 'orbis.uottawa.ca', 'www.corps-arminia.de', 'www.rbkc.gov.uk', 'new.asianews.it', 'tech.fortune.cnn.com', 'www.thisisnottingham.co.uk', 'www.bogatynia.dwr.pl', 'www.donhornazo.com', 'www.ashdenawards.org', 'hpl.bibliocommons.com', 'www.twpofwashingtonpl.org', 'firstlook.org', 'database.ukrcensus.gov.ua', 'www.expertreviews.co.uk', 'dev.goodboydigital.com', 'www.cre.gov.uk', 'zhistory.org.ua', 'maurice.bgsu.edu', 'joongangdaily.joins.com', 'www.brownstoner.com', 'www.praviteli.org', 'www.psmag.com', 'www.theindiantalks.com', 'beta.fortune.com', 'uninews.unimelb.edu.au', 'libhip.desmoineslibrary.com', 'a-dyukov.livejournal.com', 'istorfakt.ru', 'www.qub.ac.uk', 'www.patriarh.ua', 'www.ut.ee', 'library.mit.edu', 'www.gegnir.is', 'wikicars.org', 'www.vilniustransport.lt', 'www.ji.lviv.ua', 'www.scb.se', 'www.alm.com', 'www.wbsports.in', 'wandern.ch', 'www.emmyonline.org', 'www.democracy.ru', 'www.autobild.es', 'www.wtatour.com', 'www.nkj.ru', 'www.greatbendks.net', 'buw.uw.edu.pl', 'www.nhvweb.net', 'tvnz.co.nz', 'google.org.ua', 'www.federalspace.ru', 'muse.mcgill.ca', 'www.bandinlunis.com', 'mir24.tv', 'rutgersatrvcc.org', 'www.gov.rw', 'apostrophe.com.ua', 'www.thecrimson.harvard.edu', 'www.thegoal.com', 'history.mk.ua', 'teemu.linneanet.fi', 'li.wikipedia.org', 'www.diba.es', 'www.ciil.org', 'wiseweb.bfrl.nl', 'www.ifstat.gov.ua', 'www.motoringresearch.com', 'www.abgeordnetenwatch.de', 'www.qsa.gov.qa', 'worlds.lolesports.com', 'www.tulane.edu', 'skyscraperpage.com', 'photo-lviv.in.ua', 'www.thejc.com', 'autograf.asp.gda.pl', 'cat.lib.unimelb.edu.au', 'motlc.specialcol.wiesenthal.com', 'portal-credo.ru', 'www.old.grandpress.press.pl', 'www.schurz.com', 'www.tnr.com', 'union.baidu.com', 'tvbythenumbers.com', 'www.portademariola.com', 'www.iii.co.uk', 'navgtr.org', 'k.sina.com.cn', 'www.minneapolisparks.org', 'www.budget.gov.au', 'www.dailysabah.com', 'dlib.rsl.ru', 'library.harvard.edu', 'www.univda.it', 'www.webelements.com', 'www.collegian.com', 'innopac.lib.kth.se', 'www.dailymail.co.uk', 'khelnow.com', 'www.cheyennebottoms.net', 'www.geocities.com', 'www.pocket-lint.com', 'www.ekmair.ukma.edu.ua', 'diamond.temple.edu', 'stats.oecd.org', 'www.thescenela.com', 'media.ed.ac.uk', 'www.denverpost.com', 'www.gemius.pl', 'www.hhmi.org', 'tvbythenumbers.zap2it.com', 'www.mmo-champion.com', 'www.entertainment-iuk.com', 'www.dphuesca.es', 'www.lamoncloa.gob.es', 'gov.bih.nic.in', 'www.dsae.co.za', 'www1.curriculum.edu.au', 'www.angelfire.com', 'www.ina.fr', 'www.ictna.ir', 'filmlondon.org.uk', 'www.ipa-don.ru', 'www.rp.pl', 'bdl.stat.gov.pl', 'www.ocasia.org', 'mzn.wikipedia.org', 'rush.robpagano.com', 'rostov.stream-tv.ru', 'eml.m.wikipedia.org', 'www.irishtimes.com', 'www.pyromusic.net', 'sabbathlive.com', 'www.camaradealmeria.es', 'www.lericipea.com', 'www.damas-sa.es', 'futureplc.com', 'www.standard.co.uk', 'www.eppc.org', 'www.govtrack.us', 'opac.uniroma1.it', 'www.istpravda.com.ua', 'www.geekwire.com', 'www.foxnews.com', 'www.ebooklyn.net', 'www.angloboerwar.com', 'www.thepeoplespeak.com', 'peeringdb.com', 'www.discoverontariocalifornia.org', 'www.volynpost.com', 'www.90minut.pl', 'la.m.wikipedia.org', 'sled.alaska.edu', 'www.newint.org', 'armiakrajowakrzeszowice.eles.pl', 'catalog.wrlc.org', 'www.ine.pt', 'www.noticiasdenavarra.com', 'www.downhold.org', 'leadernewspapers.net', 'oneonta.ny.us', 'www.sjpl.org', 'www.ontario.org', 'www.cbc.ca', 'tvschedule.zap2it.com', '99percentinvisible.org', 'www.bileniopublicaciones.com', 'www.mountainview.gov', 'www.bookbutler.ch', 'linguistics.hss.ntu.edu.sg', 'www.zimbabwe-stock-exchange.com', 'kolkatainformation.org', 'www.cooperstownny.org', 'www.fsb.ru', 'www.ypbooks.co.kr', 'www.distro.tv', 'www.panlex.org', 'tudelft.on.worldcat.org', 'www.gettysburg.edu', 'www.ncls.org.au', 'citizenlab.org', 'www.turkstat.gov.tr', 'www.chenangocounty.org', 'www.thisismoney.co.uk', 'www.orthodoxeurope.org', 'cnhi-can.com', 'www.elnuevoherald.com', 'shpl.dlibrary.org', 'www.cyfrowypolsat.pl', 'festivals.indobase.com', 'www.mvwsd.org', 'news.err.ee', 'sl.wikisource.org', 'www.spicestech.com', 'lib.colostate.edu', 'www.iblist.com', 'aleph.osu.cz', 'www.fox7.blackhills.com', 'www.biographien.ac.at', 'simple.wikipedia.org', 'wireless2.fcc.gov', 'iportal.rada.gov.ua', 'www.fortunecity.com', 'li.m.wikipedia.org', 'depts.washington.edu', 'library.hull.ac.uk', 'www.adinebook.com', 'www.wbt.com', 'www.humanrights.is', 'www.baronweather.com', 'thebrainfever.com', 'wikirank.di.unimi.it', 'www.oeaw.ac.at', 'siguaray.com.mx', 'tg.wikipedia.org', 'www.itu.int', 'santiagotimes.cl', 'polskanarowery.sport.pl', 'www.cohassetlibrary.org', 'www.lawlibrary.ru', 'grani.ru', 'googleblog.blogspot.com', 'orthodox.org.ua', 'models.com', 'www.panteonnarodowy.pl', 'www.un.org', 'www.baidu.jp', 'www.radar-cns.org', 'denstoredanske.dk', 'www.pravenc.ru', 'www.dikoepole.org', 'www.cricketcountry.com', 'publishing.cdlib.org', 'www.zumi.pl', 'gl.m.wikipedia.org', 'lowendmac.com', 'news.findlaw.com', 'www.bandurastyle.com', 'www.roanoke.com', 'nowyobywatel.pl', 'purl.fdlp.gov', 'www.szimandron.hu', 'rbr.com', 'www.celebfamily.club', 'losalamos.ent.sirsi.net', 'www.popsci.com', 'www.aib.it', 'galaktika-s.com.ua', 'www.dekoder.org', 'pielgrzymka1.w.interia.pl', 'foundation.wikimedia.org', 'www.hdr.undp.org', 'www.menassat.com', 'www.wdaz.com', 'www.revistaalcuza.com', 'deportes.elpais.com', 'global.britannica.com', 'www.brooklynmuseum.org', 'law.justia.com', 'www.ieg-mainz.de', 'hyderabadpolice.gov.in', 'www.state.la.us', 'pfl.wikipedia.org', '7thbattalion.tumblr.com', 'ku.wikipedia.org', 'bip.gdansk.pl', 'wherechangeobama.blogspot.com', 'www.avert.org', 'business.inquirer.net', 'www.technation.com', 'www.radiolatidos.com', 'www.nihr.ac.uk', 'www.sandiegopride.org', 'personal.darlic.com', 'economipedia.com', 'www.earthinpictures.com', 'www.admin.ch', 'www.tvguide.com', 'arstechnica.co.uk', 'www.bismarck-stiftung.de', 'irsn.org', 'www.nfl.com', 'www.countrywatch.com', 'www.russian-church.de', 'bitacoraqueen.blogspot.com', 'www.malopolanin.pl', 'www.trtworld.com', 'www.ianchadwick.com', 'rus.delfi.lv', 'www.dol.gov', 'www.facebook.com', 'bibliotek.orebro.se', 'nabo.nb.no', 'thediplomat.com', 'www.jw.org', 'stratechery.com', 'www.ukrinform.ua', 'www.bfbs.com', 'amnesia.in.ua', 'lol.qq.com', 'islandpines.roblib.upei.ca', 'books.google.fr', 'www.ulib.org', 'www.iimes.ru', 'basketball.realgm.com', 'webbook.nist.gov', 'www.uselectionatlas.org', 'kbp.wikipedia.org', 'www.abscbnmobile.com', 'www.saintjosaphat.org', 'adherents.com', 'zh-classical.m.wikipedia.org', 'www.sheratonkansascityhotel.com', 'www.newstimeafrica.com', 'www.swl.usace.army.mil', 'www.fox8live.com', 'www.cbahoopsonline.com', 'www.mediawiki.org', 'ourcampaigns.com', 'www.energysavingtrust.org.uk', 'aleph.edu.ro', 'www2.sharonherald.com', 'www.chconline.org', 'www.parl.gc.ca', 'www.nj.com', 'www.theglobeandmail.com', 'www.project-syndicate.org', 'www.goya.com', 'www.gazetawroclawska.pl', 'www.tvhelp.org.uk', 'www.sos.arkansas.gov', 'www.routledge.com', 'utdirect.utexas.edu', 'countrymeters.info', 'gazeta.ua', 'www.e-reading.club', 'sistercities.lacity.org', 'www.miningartifacts.org', 'www.my9ny.com', 'dk.bookchecker.com', 'www.ftc.gov', 'biblioteca.univalle.edu.co', 'www.areweinyourstate.org', 'www.palparklibrary.org', 'www.moneycontrol.com', 'kalusz.io.ua', 'dds.edu.ua', 'www.tartareandesire.com', '212.1.70.66:8991', 'mouri.gozaru.jp', 'uofl.on.worldcat.org', 'wzzw.wordpress.com', 'www.co-ks-arkansasrivercompactadmin.org', 'www.tvtechnology.com', 'www.bostonherald.com', 'senate.ca.gov', 'vec.wikipedia.org', 'it.m.wikipedia.org', 'www.pilas.es', 'vufind.mzk.cz', 'imp-primo.hosted.exlibrisgroup.com', 'ejwiki.org', 'www.austindailyherald.com', 'www.mc2school.org', 'www.press.umich.edu', 'oradell.bccls.org', 'coollib.com', 'www.ph.ucla.edu', 'wikimediafoundation.org', 'www.espinof.com', 'www.oxosolutions.com', 'siris-archives.si.edu', 'ssl.reddit.com', 'sr.m.wikipedia.org', 'rc.doe.state.nj.us', 'www.worldsoundtrackacademy.com', 'www.cinemania.es', 'studiomoniker.com', 'www.allaboutbookpublishing.com', 'www.klrwp.pl', 'www.asiamattersforamerica.org', 'oleksandriya-libr.rv.ua', 'www.redevangelica.es', 'www.bcetyt.ru', 'lecco.biblioteche.it', 'www.zeenews.com', 'www.weforum.org', 'www.whois.com', 'www.worldfootball.net', 'www.ipolitics.ru', 'www.doobiebros.com', 'library.bilgi.edu.tr', 'piliakalniai.lt', 'thesandb.com', 'go.worldbank.org', 'marco.org', 'commons.wikimedia.org', 'www.bipm.org', 'www.cidcm.umd.edu', 'kk.m.wikipedia.org', 'infomalin.biz', 'www.catholic-hierarchy.org', 'www.macworld.co.uk', 'nuevoproyecto01.wordpress.com', 'www.haudenosauneeconfederacy.com', 'www.bogpriser.dk', 'www.media-online.ru', 'www.worldometers.info', 'timesmachine.nytimes.com', 'www.cellular1to1.com', 'www.lileks.com', 'www.drofa.com.ua', 'library.ucl.ac.uk', 'www.finmarket.ru', 'www.ckmc.org', 'www.santaclara.org', 'libcat.smu.edu', 'rg.ru', 'zh.wikinews.org', 'www.gutenberg.org', 'www.unithistories.com', 'www.virtualtourist.com', 'wbai.org', 'whoswho.co.za', 'www.everyhit.co.uk', 'iucat.iu.edu', 'www.sacbee.com', 'catalogue.aucklandcitylibraries.com', 'www.issafrica.org', 'hispaniasacra.revistas.csic.es', 'www.rmi.org', 'stat-nkr.am', 'www.galychyna.fm', 'www.pueblos-espana.org', 'aleph.iulm.it', 'nplnj.org', 'www.nr2.ru', 'www.kwiatkowski.edu.pl', 'www.jmc.sjsu.edu', 'www.tvnwarszawa.pl', 'www.castillodecortegana.com', 'www.histori.ca', 'www.pkal.org', 'islamonline.com', 'www.espnfcasia.com', 'health.unian.net', 'eprints.lancs.ac.uk', 'www.dontr.ru', 'nds.wikibooks.org', 'new.paho.org', 'www.csic.es', 'www.yorkshirevolunteers.org.uk', 'www.kobv.de', 'www.bilibili.tv', 'regione.sardegna.it', 'www.futureplc.com', 'openoffice.org', 'www.segrinnell.org', 'www.krepublishers.com%2f02-journals%2ft-anth%2fanth-09-0-000-000-2007-web%2fanth-09-1-000-000-2007-abst-pdf%2fanth-09-1-073-078-2007-422-%2520%258atrkalj-g%2fanth-09-1-073-078-2007-422-%2520%258atrkalj-g-tt.pdf', 'biznes.trojmiasto.pl', 'www.cankaoxiaoxi.com', 'www.rts.org.uk', 'helka.linneanet.fi', 'www.digitalspy.com', 'rakowicka18.pl', 'insideevs.com', 'www.holbrookpubliclibrary.org', 'internacional.elpais.com', 'www.sandiegohistory.org', 'radiopyatnica.com.ua', 'www.legis.state.wi.us', 'krc.wikipedia.org', 'njmonthly.com', 'krynica.info', 'www3.lrs.lt', 'leggerepiace.it', 'www.aimc.es', 'osn.bkb-vityaz.ru', 'www.bizagra.com', 'www.crete-1941.org.uk', 'visittajikistan.tj', 'discover.livebrary.com', 'www.autoreview.ru', 'www.metalhammer.co.uk', 'polkomtel.com.pl', 'www.basketref.com', 'www.pcpro.co.uk', 'aleph01.cineca.it', 'newteevee.com', 'www.forum.4historie.pl', 'campus.usal.es', 'ipac.lincoln.ac.nz', 'www.miltonlibrary.org', 'translate.google.com.my', 'www.fantasticfiction.com', 'www.ci.olympia.wa.us', 'www.congreso.es', 'wcplnj.org', 'www.american.edu', 'content.cdlib.org', 'historiainformatyki.pl', 'www.daftlogic.com', 'www.panorama.ru', 'apostrophe.ua', 'www.pusc.it', 'www.lvivlis.gov.ua', 'maerskline.com', 'arabthought.org', 'www.theairwaves.net', 'www.hcp.ma', 'www.sundancechannel.com', 'www.progbibliography.de', 'www.robtex.com', 'www.cnyhiking.com', 'mirnyatom.net', 'wikipedialibrary.wmflabs.org', 'indiatoday.intoday.in', 'yo.wikipedia.org', 'www.dpteruel.es', 'my.safaribooksonline.com', 'lan.leagueoflegends.com', 'www.hclib.org', 'www.soundtrack.net', 'www.cprf.info', 'www.elnortedecastilla.es', 'saleen.com', 'lol.garena.ph', 'blog.mozilla.org', 'www.tblstat.net', 'onas.wp.pl', 'routledge.com', 'www.hklba.org', 'www.usal.es', 'dlibra.bibliotekaelblaska.pl', 'www.cbsnews.com', 'somali.name', 'www.businesstoday.in', 'translatewiki.net', 'projects.two-n.com', 'www.udaipurtimes.com', 'imsu-kyiv.com', 'www.worldwar1.com', 'www.springer.com', 'www.israelnationalnews.com', 'libcat.clemson.edu', 'agenciasindautor.sep.gob.mx', 'www.wykop.pl', 'www.sublet.com', 'www.ec-patr.org', 'pafarmersmarket.org', 'www.rememberingrostov.com', 'www.townofmorristown.org', 'support.brightcove.com', 'eu.leagueoflegends.com', 'en.asiangames2018.id', 'www.hrlc.org.au', 'whc.unesco.org', 'www.webster.com', 'media.www.thespartandaily.com', 'wonkhe.com', 'www.gamasutra.com', 'gn.wikipedia.org', 'spartandaily.com', 'forgotten-yesterdays.com', 'www.mass.gov', 'www.rokmp.de', 'www.gosduma.net', 'www.ibookdb.net', 'works.bepress.com', 'my.wikipedia.org', 'www.dcs.warwick.ac.uk', 'ir.iac.com', 'news.pn', 'www.salon.com', 'www.fender.com', 'www.tjyun.com', 'rusidea.org', 'chiron.tamu.edu', 'privet-rostov.ru', 'agricola.nal.usda.gov', 'earthtrends.wri.org', 'www.montevideo.com.uy', 'www.wirtualnemedia.pl', 'norfolk.spydus.co.uk', 'www.rebuildingi93.com', 'sci.esa.int', 'tacoma.bibliocommons.com', 'szlaki-zachodniopomorskie.pl', 'lopezlink.ph', 'stat.uz', 'blog.trendmicro.com', 'www.cracovia-leopolis.pl', 'info.org.ua', 'www.me.gov.ua', 'gukr.com', 'facebook.com', 'www.umma.ru', 'www.routledgeperformancearchive.com', 'www.nasza-arka.pl', 'www.virtualmuseum.ca', 'www.mik.nrw.de', 'www.thuto.org', 'zakon1.rada.gov.ua', 'www.valuepenguin.com', 'yes-rivne.com.ua', 'ub-goobi-pr2.ub.uni-greifswald.de', 'www.puroresucentral.com', 'www.miastomuzyki.pl', '100years.upi.com', 'www.minzdravsoc.ru', 'www.orientarch.uni-halle.de', 'grebinky-rada.gov.ua', 'findabook.co.il', 'www.petersons.com', 'www.glenrocklibrary.org', 'history.donrise.ru', 'ik.wikipedia.org', 'www.avclub.com', 'www.knigabg.com', 'www.volkswagen-newsroom.com', 'journals.sagepub.com', 'www.tilastopaja.net', 'www.searchengines.ru', 'romove.radio.cz', 'www.juliushonnor.com', 'www.presidency.ucsb.edu', 'www.cviog.uga.edu', 'kobieta.wp.pl', 'hif.m.wikipedia.org', 'www.bankier.pl', 'annieawards.org', 'inventors.about.com', 'tcy.wikipedia.org', 'southafricatoday.net', 'www.thepoliticalcesspool.org', 'news.advocate.com', 'apps.who.int', 'ls2pac.snap.lib.ca.us', 'www.coveritlive.com', 'archive.wikiwix.com', 'www.wotsat.com:80', 'www.iss.it', 'www.info.gov.za', 'de.structurae.de', 'alma.abo.fi', 'isni-url.oclc.nl', 'www.tuaw.com', 'www.ipl-schedule.net', 'natemat.pl', 'www.sitiodolivro.pt', 'arquivo.pt', 'zpravy.idnes.cz', 'rug.on.worldcat.org', 'www.vox.com', 'www.bibliotekar.ru', 'poetyka.uazone.net', 'www.wook.pt', 'bibliomp.comperio.it', 'fr.wikinews.org', 'trellisnew.tug-libraries.on.ca', 'ekologia.pl', 'www.odfalliance.org', 'www.wkyc.com', 'www.uni-muenster.de', 'jp.leagueoflegends.com', 'www.byways.org', 'www.president.gov.ua', 'www.indianchild.com', 'www.religionfacts.com', 'www.kpl.cricket', 'ringtv.craveonline.com', 'www.kearnylibrary.org', 'ru.unesco.org', 'elib.nplu.org', 'www.publicevents.ru', 'www.ambito.com', 'www.hosteltur.com', 'lol.garena.in.th', 'www.cbs.com', 'www.albertleatribune.com', 'www.stuff.tv', 'm.forbes.ru', 'en.wiktionary.org', 'skyvision.sky.com', 'about.56.com', 'catholicschoolsnj.org', 'rv.archives.gov.ua', 'nds-nl.m.wikipedia.org', 'legalservices.darlic.com', 'pmindia.nic.in', 'entertainment.timesonline.co.uk', 'web.worldbank.org', 'frontiers.loc.gov', 'www.fedstat.ru', 'ukrssr.com.ua', 'www.nikola-ygodnik.narod.ru', 'dokumenty.rcl.gov.pl', 'www.sasugabooks.com', 'books.google.lk', 'www.delawarecountyfair.org', 'zh-min-nan.m.wikipedia.org', 'wol.jw.org', 'www.lux.fm', 'www.lwsmosowa.com', 'www.fbcv.es', 'www.afghanland.com', 'uap-asia-primo.hosted.exlibrisgroup.com', 'www.lasy.gov.pl', 'dhr.dos.state.fl.us', 'www.1rnd.ru', 'www.countyhealthrankings.org', 'america.aljazeera.com', 'opendata.drohobych-rada.gov.ua', 'libr.rv.ua', 'www.mediamatters.org', 'www.litopys.com.ua', 'www.iranchamber.com', 'www.digitaltvpackages.co.uk', 'pl.wikimedia.org', 'www.miketyson.com', 'ukr.lb.ua', 'allindiaradio.org', 'mnpals.cord.edu', 'www.shawneechamber.com', 'www.dailyecho.co.uk', 'ourworldindata.org', 'en.wikivoyage.org', 'biblioteca.usac.edu.gt', 'uk.businessinsider.com', 'www.sam.hi-ho.ne.jp', 'australia.gov.au', 'ng.wikipedia.org', 'www.cablefax.com', 'books.google.com.pr', 'www.dock10.co.uk', 'www.sk-gaming.com', 'fanpix.famousfix.com', 'mfa.uz', 'portal.abczdrowie.pl', 'www.comu.edu.tr', 'www.sanews.gov.za', 'www.chvk.ch', 'dumont.bccls.org', 'www.upenn.edu', 'lol.mmosite.com', 'www.gorn.agh.edu.pl', 'searchit.lib.ksu.edu', 'arz.wikipedia.org', 'lol.17173.com', 'www.ngsgenealogy.org', 'www.spa.gov.sa', 'www.wirefly.com', 'dir.icm.edu.pl', 'wesleycollege.aquabrowser.com', 'fictionbook.ru', 'lungaction.org', 'www.sportowefakty.pl', 'www.1394ta.org', 'www.wikimedia.org.ph', 'www.economist.com', 'www.regjeringen.no', 'www.charitynavigator.org', 'intelsib.com', 'bbc.co.uk', 'www.newlife-bg.com', 'www.sca.org', 'www.katehizis.ru', 'e-spacio.uned.es', 'moto.onet.pl', 'www.quantcast.com', 'chronicle.com', 'www.bom.gov.au', 'oneontany.com', 'www.specialolympics.org', 'www.portal-credo.ru', 'www.linksnet.de', 'mill1.sjlibrary.org', 'ceb.m.wikipedia.org', 'blogs.reuters.com', 'www.usaultimate.org', 'www.parkpac.org', 'www.hppr.org', 'www.gazeta.ru', 'wrota.warmia.mazury.pl', 'www.iaph.es', 'www.ukrweekly.com', 'bpl.bibliocommons.com', 'www.latribunadealbacete.es', 'www.seattletimes.com', 'itre.cis.upenn.edu', 'collegian.com', 'www.osowa.com', 'www.freesfonline.de', 'polon.nauka.gov.pl', 'www.gso.gov.vn', 'bibliotek.upplandsvasby.se', 'www.etymonline.com', 'video.tpt.org', 'www.census2011.co.in', 'na.wikipedia.org', 'isimbardi.comperio.it', 'www.iaaf.org', 'dyvys.info', 'finance.fortune.cnn.com', 'www.jewishmemory.md', 'sg.wikipedia.org', 'lib.pu.acad.bg', 'plaza.ufl.edu', 'www.bloomberg.com', 'www.thrillist.com', 'e-spacio.uned.es:8080', 'www.biyokulule.com', 'big5.china.com.cn', 'www.chicagua.com', '028028.com', 'rufabula.com', 'www.fetchbook.ca', 'investor.brightcove.com', 'entrepreneurship.hbs.edu', 'lv.m.wikipedia.org', 'www.fin24.com', 'sebina.sspa.it', 'www.smartbooks-bg.com', '2009-2017.state.gov', 'catalogue.banq.qc.ca', 'stakeholders.ofcom.org.uk', 'www.ozarksfn.com', 'www.mg.co.za', 'aylesburytenantsfirst.org.uk', 'orbis.library.yale.edu', 'www.hillaryclinton.com', 'www.warrennj.org', 'www.universiteitleiden.nl', 'news.mail.ru', 'www.gov.uk', 'www.mccchurch.org', 'www.trustnordisk.com', 'culturalanalytics.org', 'www.sahistory.org.za', 'www.npr.org', 'www.elperiodicoextremadura.com', 'vertaa.fi', 'www.india9.com', 'bartoncountymuseum.org', 'www.clemsontigers.com', 'calendar.pravmir.ru', 'mh.wikipedia.org', 'tech.qq.com', 'paloalto.fewblocks.com', 'foma.ru', 'ru.tsn.ua', 'www.pennysharesonline.com', 'used.addall.com', 'www.sinab.unal.edu.co', 'archive.fo', 'poetry.uazone.net', 'www.nytimes.com', 'www.bnrd.gov.do', 'melinda.kansalliskirjasto.fiv', 'www.ablenews.co.kr', 'www.empereur.com', 'timeline.leagueoflegends.com', 'dreamtheater.com', 'www.terrashop.de', 'bjn.m.wikipedia.org', 'www.gov.gd', 'www.addall.com', 'washingtontimes.com', 'smarttelecom.ie', 'ark.cdlib.org', 'news.verizonwireless.com', 'www.baseball-reference.com', 'www.sports-reference.com', 'linkedin.com', 'www.heraldsun.com.au', 'www.proel.org', 'www.pro-football-reference.com', 'mapm35.narod.ru', 'diariofranjiverde.com', 'telegraph.co.uk', 'housing.cnu.edu', 'www.gorgas.gob.pa', 'www.biblioz.com', 'www.e-dp.pl', 'www.km.ru', 'books.evc-cit.info', 'www.apa.org', 'myhillsdalelibrary.org', 'www.kmcgov.in', 'bandaancha.eu', 'www.mirror99.com', 'www.buw.uw.edu.pl', 'ec.europa.eu', 'www.peoples.org.ru', 'www.ukrstat.gov.ua', 'www.sfgate.com', 'www.cuartopoder.es', 'www.europaworld.com', 'gadzetomania.pl', 'aleph.library.pub.ro:8991', 'community.nowtv.com', 'blaqkaudio.buzznet.com', 'www.emedicine.com', 'vilkovo.pp.ua', 'www.belarus21.by', 'lbe.wikipedia.org', 'stadt.winterthur.ch', 'www.dnevnik.bg', 'nl.go.kr', 'earlyradiohistory.us', 'www.15min.lt', 'www.mcvuk.com', 'volkswagenag.com', 'www.redbull.com', 'www.soas.ac.uk', 'svobodna.org.ua', 'rusk.ru', 'www.wwltv.com', 'blacksabbath.com', 'wybory2002.pkw.gov.pl', 'noticias.lainformacion.com', 'cbs.gov.sd', 'an.m.wikipedia.org', 'www.greatnorthroad.org', 'iabotdeadurl.invalid', 'www.trud.cc', 'opac.unipv.it', 'eur-lex.europa.eu', 'mai.wikipedia.org', 'www.polskaniezwykla.pl', 'sbu.gov.ua', 'www.suncountry.com', 'www.thesouthafricaguide.com', 'library.uq.edu.au', 'library.ucc.ie', 'www.ew.com', 'www.1sn.ru', 'www.metal-observer.com', 'www.vice.com', 'www.komu.com', 'www.thenewcivilrightsmovement.com', 'tet.wikipedia.org', 'morriscountyclerk.org', 'www.minardi.it', 'www.eastoklahoma.worldweb.com', 'www.biblioteka.uz.ua', 'www.mailonsunday.co.uk', 'bat-smg.wikipedia.org', 'es.wikiquote.org', 'aviationweek.com', 'sviluppoeconomico.sebina.it', 'www.reddit.com', 'britannicashop.britannica.co.uk', 'www.halloffame.fiba.com', 'wikistats.ins.cwi.nl', 'www.aaib.dft.gov.uk', 'wuerzburgwiki.de', 'oukasrv6.ouka.fi:8001', 'mafia.z04.org.ua', 'aleph.glos.ac.uk', 'www.businessinsider.com', 'forum.yurclub.ru', 'francis.williams.edu', 'bfaapp.bizkaia.net', 'ekai.pl', 'andrewsullivan.thedailybeast.com', 'www.rutherfordlibrary.org', 'ruleoflaw.org.za', 'www.ralston.ac', 'education.darlic.com', 'www.ursus.com.pl', 'wa.wikipedia.org', 'faafl.org', 'leopac6.nypl.org', 'litakcent.com', 'www.grossmanacademy.org', 'ty.wikipedia.org', 'sanfrancisco.cbslocal.com', 'searchlib.ut.ac.ir', 'news.ebc.net.tw', 'www.tychyna.com.ua', 'www.polskatimes.pl', 'www.bu.uni.torun.pl', 'www.wrestlingnewssource.com', 'www.onlinetech.com', 'fa.m.wikipedia.org', 'www.hlta.org', 'id.m.wikipedia.org', 'www.atimes.com', 'uk.wikivoyage.org', 'www.agost.com', 'www.bassplayer.com', 'www.sandiegolibrary.org', 'tech.sina.com.cn', 'prawo.amu.edu.pl', 'www.ecuadorencifras.gob.ec', 'ww2.lib.metu.edu.tr', 'www.rosvesty.ru', 'rostov-gorod.ru', 'www.diclib.com', 'www.euskalnet.net', 'www.dipsanet.es', 'wikibrary.org', 'www.knowledge4africa.com', 'www.smith.edu', 'www.abingtonpl.org', 'nelligan.ville.montreal.qc.ca', 'inuitcircumpolar.com', 'www.worldswithoutend.com', 'endnowfoundation.org', 'www.bookdepository.com', 'www.computing.co.uk', 'www.bg.ru', 'www.sale-award.org', 'citatrafico.es', 'historia.gazeta.pl', 'portal.dnb.de', 'www.millcitymuseum.org', 'seance.ru', 'www.nationalgeographic.it', 'archive.azcentral.com', 'www.wartimememoriesproject.com', 'www.stagetext.org', 'sitiodeciclismo.net', 'gtrklnr.com', 'www.gizmodo.co.uk', 'new.m.wikipedia.org', 'www.randomhouse.com', 'www.manta.com', 'dumatv.ru', 'books.google.co.kr', 'www.digitaljournal.com', 'www.ted.com', 'www.ukonscreen.com', 'www.day.kiev.ua', 'www.cbf.cz', 'www.refworld.org', 'www.thebigo.com', 'www.macstories.net', 'cricketarchive.com', 'ukr-pravda.in.ua', 'executive.darlic.com', 'sccl.santaclaraca.gov', 'www.graton.su', 'pascrell.house.gov', 'despoblacion.blogia.com', 'br.m.wikipedia.org', 'www.jvc.com', 'daum.net', 'dodontitikaka.narod.ru', 'www.zephoria.org', 'ava.md', 'penelope.uchicago.edu', 'www.themoscowtimes.com', 'bibliolucca.it', 'rm.wikipedia.org', 'www.farsnews.com', 'www1.internationalliving.com', 'www.castles.com.ua', 'www.blueridgeheritage.com', 'sp.ideal.es', 'global.espn.com', 'www.zamstats.gov.zm', 'www.tarifaweb.com', 'www.totalmoney.pl', 'chronicle.uchicago.edu', 'www.bratislava.sk', 'www.u-s-history.com', 'www.sport-express.ru', 'www.theinspirationroom.com', 'sormland.elib.se', 'scholar.google.pl', 'alerozin.narod.ru', 'www.ru-90.ru', 'theology.doshisha.ac.jp:8008', 'unito-opac.cineca.it', 'snap.com.ua', 'gigcat.midhudson.org', 'www.bnp.org.uk', 'www.busrep.co.za', 'www.csn.edu', 'dushanbeplaza.tj', 'www.petroleumhistory.org', 'www.lrfoundation.org.uk', 'eagle.brooklynpubliclibrary.org', 'rus.delfi.ee', 'www.iranicaonline.org', 'www.itv-f1.com', 'www.fembio.org', 'weblogina.com', 'www.socialistgroup.eu', 'paramountstations.com', 'www.norrkoping.se', 'www.hindustantimes.com', 'www.huffingtonpost.com', 'news.yahoo.com', 'bibliopadova.comperio.it', 'www.afrol.com', 'hsprod.investis.com', 'home.bt.com', 'www.amazon.com.br', 'www.current.com.au', 'vslopac.iimahd.ernet.in', 'elitetrader.ru', 'www.arkansashouse.org', 'www.laopinion.es', 'www.stat.gov.rs', 'pzf.land.kiev.ua', 'medievalrus.narod.ru', 'ideas.repec.org', 'www.chipubweb.org', 'mediawiki.org', 'amardeepsinghgill.com', 'finance.ifeng.com', 'www.aiatsis.gov.au', 'epp.eurostat.ec.europa.eu', 'www.bookimpact.com', 'www.librinlinea.it', 'www.santaclarachamber.org', 'khovar.tj', 'reelchicago.com', 'www.sportnetwork.net', 'rca.usal.es', 'bits.blogs.nytimes.com', 'www.law.cornell.edu', 'www.retrobibliothek.de', 'earthquake.usgs.gov', 'www.worldwhoswho.com', '123ru.net', 'www.edulandia.pl', 'es.wikibooks.org', 'www.wbur.org', 'www.sdcl.org', 'epn.sagepub.com', 'quickstats.censusdata.abs.gov.au', 'www.economistgroup.com', 'www.wdaftv4.com', 'satkurier.pl', 'scn.m.wikipedia.org', 'www.protoporia.gr', 'www.totalprosports.com', 'www.signonsandiego.com', 'www.country-data.com', 'www.ushmm.org', 'www.southafrica.info', 'ar.wikiquote.org', 'vitryna.com.ua', 'www.rnntv.com', 'www.kpbc.ukw.edu.pl', 'bookline.hu', 'www.mv-voice.com', 'www.keynoodle.com', 'www.dobreprogramy.pl', 'kurs.if.ua', 'www.laliga.es', 'isaran.ru', 'www.scribd.com', 'technology.timesonline.co.uk', 'english.hani.co.kr', 'www.f1.v10.pl', 'www.bilibili.com', 'www.somerset-hills.org', 'reader.digitale-sammlungen.de', 'x-o-k-a.narod.ru', 'www.njit.edu', 'www.wondereur.com', 'catalog.utt.edu.tt', 'nekrologi.wyborcza.pl', 'solarhousehistory.com', 'dl.mospace.umsystem.edu', 'www.ignis.org', 'clinton6.nara.gov', 'www.caixinglobal.com', 'baczaldolny.weebly.com', 'www.njtransit.com', 'ar.wikipedia.org', 'fbc.pionier.net.pl', 'www.docracy.com', 'www.bworldonline.com', 'adondeirhoy.com', 'www.diariodeleon.es', 'slounik.org', 'www.mid.ru', 'books.google.es', 'www.wwe.com', 'www.arkansasstateparks.com', 'www.huaralexplorers.com', 'nexus.leagueoflegends.com', 'www.indianretailer.com', 'www.consultivodecanarias.org', 'amnesty.org.pl', 'www.unitedstatescapitals.org', 'www.wordspy.com', 'fdasis.nlm.nih.gov', 'www.ipni.org', 'subtle.darlic.com', 'www.kaliningradkg.polemb.net', 'nesn.com', 'laxstrom.name', 'results.beijing2008.cn', 'press.cern', 'www.britishnewspaperarchive.co.uk', 'www.tgdaily.com', 'www.memoire-du-cyclisme.eu', 'balkaninsight.com', 'kosarka.hr', 'www.amazon.in', 'www.carlabruni.com', 'libris.kb.se', 'www.topnews.in', 'encore.dlsu.edu.ph', 'gorodskoyportal.ru', 'extreme.lviv.ua', 'www.telemundo.com', 'uniarts.finna.fi', 'www.argianpress.net', 'cache.bcub.ro', 'www.ubka.uni-karlsruhe.de', 'www.cumbriasmuseumofmilitarylife.org', 'www.newscaststudio.com', 'enewsworld.mnet.com', 'opac.provincia.brindisi.it', 'www.gamerankings.com', 'jazztimes.com', 'sport.tvn24.pl', 'users.auth.gr', 'www.inkkc.com', 'www.russia-today.ru', 'www.legoland.com', 'uppersaddleriverlibrary.org', 'www.belltower.news', 'www.diocesisdejaen.es', 'www.international.ucla.edu', 'www.hs-augsburg.de', 'blogs.pravda.com.ua', 'it.wikiquote.org', 'www.20minutos.es', 'henrietta.liswa.wa.gov.au', 'www.jednostki-miary.pl', 'culture.unian.net', 'sfpl.lib.ca.us', 'medeniye.org', 'dir.yahoo.com', 'pilot.wp.pl', 'eo.m.wikipedia.org', 'www.onwardtogether.org', 'www.territorial.de', 'www.pravos.org', 'www.cagematch.de', 'www.tourism.gov.bt', 'ftp.ncdc.noaa.gov', 'experts.about.com', 'www.pe.com', 'www.britannica.com', 'www.polona.pl:80', 'www.librami.it', 'news.yale.edu', 'www.talkingbiznews.com', 'www.statelibrary.state.pa.us', 'maps.google.com', 'www.apte.org', 'raketoff.ru', 'outreach.wikimedia.org', 'www.freeview.co.uk', 'de.wiktionary.org', 'www.formula1.pl', 'ay.wikipedia.org', 'www.luminous-lint.com', 'search.obvsg.at', 'www.vconline.org.uk', 'www.finneycounty.org', 'espanol.upi.com', 'www.interfax.ru', 'www.open.edu', 'xn--90ax2c.xn--p1ai', 'unscear.org', 'www.junoawards.ca', 'fi.librarything.com', 'torrentfreak.com', 'www.dip-badajoz.es', 'www.ateneodecordoba.com', 'ethnoconflict.ru', '24tv.ua', 'www.statsf1.com', 'radio-locator.com', 'mitropolia.spb.ru', 'www.booklooker.de', 'alephnew.bibnat.ro:8991', 'www.klisf.info', 'crdl.usg.edu', 'www.eastoregonian.com', 'sq.wikipedia.org', 'studio.brightcove.com', 'www.emc.ncep.noaa.gov', 'usuarios.lycos.es', 'www.thegreyandsimcoeforesters.org', 'www.carnegie-libraries.org', 'www.essexsheriff.com', 'sk.wikipedia.org', 'pravo.by', 'www.sierraclub.org', 'www.vehi.net', 'www.allgame.com', 'gottheimer.house.gov', 'su.m.wikipedia.org', 'xtools.wmflabs.org', 'zea.wikipedia.org', 'www.knoxnews.com', 'www.ciudadaniaexterior.empleo.gob.es', 'www.uleb.net', 'kansaspress.ku.edu', 'equaltimetv.wordpress.com', 'www.trini.ru', 'ww2.turknazipartisi.com', 'pi.wikipedia.org', 'hi.baidu.com', 'www.people.com', 'za.wikipedia.org', 'www.delbarton.org', 'www.kriso.ee', 'news.km.ru', 'www.worldofbooks.com', 'www.iwbf.org', 'kvk.ubka.uni-karlsruhe.de', 'www.ln.mid.ru', 'www.indiansoccerlive.com', 'www.fm.colostate.edu', 'www.klaus-schulze.com', 'library.kuet.ac.bd', 'www.imdb.com', 'biblio-aleph.unisa.it', 'www.harappa.com', 'www.libreriadelsanto.it', 'sprinterzy.com', 'www.bccls.org', 'www.comscore.com', 'www.werkowski.eu', 'njjewishnews.timesofisrael.com', 'findbook.ru', 'www.consortiumnews.com', 'quod.lib.umich.edu', 'ws.arin.net', 'www.omloophetnieuwsblad.be', 'www.lacma.org', 'stat.gov.kz', 'hypptv.tm.com.my', 'www.computer-museum.ru', 'www.joe.ie', 'www.kzp.pl', 'www.storiaradiotv.it', 'news.samsung.com', 'www.ordersofbattle.com', 'www.embalses.net', 'www.shrinershospitalsforchildren.org', 'www.gazetakrakowska.pl', 'historiasconhistoria.es', 'klymenko.data-tec.net', 'recombu.com', 'publiclands.colostate.edu', 'quisestlullus.narpan.net', 'www.sjsu.edu', 'aleph.svkhk.cz', 'e24.no', 'steen.free.fr', 'www.championat.com', 'www.swrailway.gov.ua', 'colombo.imss.fi.it', 'read.cnu.edu', 'humanism.org.uk', 'notizie.alguer.it', 'www.oasis-open.org', 'www.mfa.am', 'www.innovacap.com', 'baskino.com', 'www.gotlib.goteborg.se', 'thegameawards.com', 'investors.target.com', 'mag.newsweek.com', 'www.eastbengaltherealpower.com', 'peacebyjesus.witnesstoday.org', 'catalog.lib.auburn.edu', 'blog.arqueologiadelpuntdevista.com', 'www.londonancestor.com', 'consiglio.regione.sardegna.it', 'www.evesun.com', 'news.harvard.edu', 'structurae.net', 'jam.m.wikipedia.org', 'www.all-docs.ru', 'www.rostovobl.ru', 'bbc.com', 'www.rusrep.ru', 'product.info.apple.com', 'www.kharchenko.com', 'www.parks.ca.gov', 'www.bokkap.se', 'www.slideshare.net', 'brumario.usal.es', 'democracynow.org', 'www.ram.org', 'www.floridamemory.com', 'www.formulatv.com', 'ukr.vipreshebnik.ru', 'emersonlibrary.org', 'www.nsad.ru', 'www.fairlawnlibrary.org', 'www.sabavision.com', 'www.theyworkforyou.com', 'www.rogerebert.com', 'opac.lib.rpi.edu', 'opac.uniurb.it', 'ii.wikipedia.org', '3cosascampaign.wordpress.com', 'www.digital-noise.net', 'www.comune.rimini.it', 'www.genealogybuff.com', 'www.vojvodina.gov.rs', 'gamerlimit.com', 'radiotoday.co.uk', 'www.uflib.ufl.edu', 'www.karkonosze.ws', 'www.jewishledger.com', 'makeitok.org', 'www.basquetcatala.cat', 'www.rfkmemorial.org', 'xmf.wikipedia.org', 'novosti.err.ee', 'bjp.rcpsych.org', 'gu.wikipedia.org', 'de.m.wikipedia.org', 'www.turismocastillalamancha.com', 'vk.com', 'www.ambitoediciones.com', 'www.my20denver.com', 'sprintnews.ru', 'www.aena.es', 'www.dziennik.com', 'english.peopledaily.com.cn', 'www.riveredgepubliclibrary.org', 'www.aracena.es', 'www.iihf.com', 'revistas.unileon.es', 'www.deon.pl', 'www.songfacts.com', 'www.standardmedia.co.ke', 'csul.iii.com', 'www.fas.org', 'www.santaclaraca.gov', 'www.film.org.pl', 'library.ua', 'blog.csn.edu', 'www.yuryzavadsky.com', 'ja.m.wikipedia.org', 'www.spbmuseum.ru', 'bs.m.wikipedia.org', 'pridnestrovie.net', 'www.fybush.com', 'onecard.network', 'www.politicususa.com', 'aleph.lib.cas.cz', 'cavehillopac.cavehill.uwi.edu', 'pravenc.ru', 'avtomaniya.com', 'regiments.org', 'ktul.com', 'www.fanews.co.za', 'forumakademickie.pl', 'www.bigwords.com', 'www.bahamas.gov.bs', 'www.fia.com', 'www.samurai-archives.com', 'hr.m.wikipedia.org', 'www.zipsites.ru', 'steelburgernews.co.za', 'www.worthingtonwindsurfing.com', 'latsis.name', 'www.rutgersatrvcc.org', 'worldcatlibraries.org', 'www.evz.ro', 'www.wgtn.net', 'marinet.lib.ca.us', 'www.macnewsworld.com', 'melvyl.cdlib.org', 'www.beet.tv', 'www.m-w.com', 'memo.ru', 'lol.ahgame.com', 'oilnews.com.ua', 'sirsi.tcpl.lib.in.us', 'www.larramendi.es', 'www.lavoz.com.ar', 'm.weibo.cn', 'www.dymocks.com.au', 'www.arvelle.de', 'lib.ex.ac.uk', 'www.acig.org', 'nauka-polska.pl', 'slovnik.juls.savba.sk', 'www.wikimedia.fr', 'www.from-ua.com', 'europeanheritagealliance.eu', 'www.laits.utexas.edu', 'ksh.wikipedia.org', 'www.yorkandlancs.org.uk', 'www.buzznet.com', 'meta.wikimedia.org', 'www.imperial-research.net', 'www.komputer.cuprum.pl', 'www.wilmingtonstar.com', 'i-league.org', 'news.un.org', 'www.militarypower.com.br', 'www.user-agents.org', 'www.iac.es', 'www.lacomarcadepuertollano.com', 'www.bol.com', 'dic.academic.ru', 'www.asiabooks.com', 'radar.wp.pl', 'www.knihovny.cz', 'magik.gmu.edu', 'www.polityka.pl', 'www.itartass.ur.ru', 'sah.m.wikipedia.org', 'turkmenbusiness.org', 'domodi.pl', 'www.jaen.es', 'www.nenjmms.com', 'pagina.jccm.es', 'nrhp.focus.nps.gov', 'www.wbtv.com', 'www.benoni.de', 'www.urapcenter.org', 'aec.gov.au', 'blog.namecheap.com', 'search.library.tu.ac.th', 'www.google.com', 'www.townofnorwell.net', 'cricketnext.in.com', 'www.hwaonline.com', 'mantova.on-line.it', 'kvk.bibliothek.kit.edu', 'tr.leagueoflegends.com', '10times.com', 'darlic.com', 'www.sobor.de', 'www.asian-athlete.com', 'thesunpilots.buzznet.com', 'www.techcentral.ie', 'rian.ru', 'www.motorsport.com', 'celebmix.com', 'poisk-zakona.ru', 'europeana.eu', 'tass.com', 'wikipedia.org', 'ehasl.cvmbs.colostate.edu', 'ipac.lib.uchicago.edu', 'www.ci.superior.ne.us', 'www.mpibpc.gwdg.de', 'www.bravewords.com', 'www.snn.ir', 'www.bpb.de', 'oc.m.wikipedia.org', 'surjitfoodplaza.com', 'web.ccsu.edu', 'hcc.techradar.com', 'www.mhl.org', 'www.tennessean.com', 'www.stoughtonlibrary.org', 'www.statistics.gov.uk', 'www.shgresources.com', 'blog.pucp.edu.pe', 'kpss.net.ru', 'nymag.com', 'hip.pcin.on.ca', 'technology.inquirer.net', 'dotesports.com', 'www.wilbo.pl:80', 'www.newsweek.com', 'www.lemonde.fr', 'www.achrnews.com', 'www.spd.org', 'www.nrp.org', 'tvnewsroom.org', 'www.diariodealmeria.es', 'www.sportbusiness.com', 'wiredforbooks.org', 'lastu.finna.fi', 'www.syracuse.com', 'www.techinasia.com', 'www.ithacajournal.com', 'duma.consultant.ru', 'www.garden-city.org', 'www.ynical.org', 'www.universal-music.co.jp', 'api.parliament.uk', 'www.nseindia.com', 'opc4.utsp.utwente.nl', 'www.bcci.tv', 'www.apollo.ee', 'www.mid-day.com', 'www.library.nuigalway.ie', 'www.seatemperature.org', 'www.seattlepi.com', 'iu.wikipedia.org', 'www.conflictologist.org', 'www.fpb.pt', 'de.wikiquote.org', 'books.google.at', 'eisenhower.archives.gov', 'catalog.oslri.net', 'www.fox26houston.com', 'mykolaiv.lviv.ua', 'www.ncsi.gov.om', 'www.kctv5.com', 'catalog.spl.org', 'uk.wiktionary.org', 'www.rcpsych.ac.uk', 'www.essex-countynj.org', 'sourceforge.net', '192.167.107.66', 'www.americaninno.com', 'www.2000.ua', 'ibm.bcut.ro', 'cult.gov.ua', 'www.elcorreo.com', 'www.ine.gob.bo', 'www.httpuseragent.org', 'www.dsec.gov.mo', 'www.bellevuememorialpark.com', 'www.mancity.com', 'www.pewresearch.org', 'gangnamgamers.com', 'mhr.wikipedia.org', 'www.hamline.edu', 'research.archives.gov', 'uk.m.wikipedia.org', 'testpilots.ru', 'seahawks.whshost.com', 'nbuv.gov.ua', 'www.dkfz.de', 'carnby.altervista.org', 'www.mayorsagainstillegalguns.org', 'www.halls.london.ac.uk', 'www.folklib.net', 'www.paloaltohistory.org', 'www.dhs.gov', 'www.beachcalifornia.com', 'www.laguerrede1870enimages.fr', 'www.hoopsrumors.com', 'www.instytutksiazki.pl', 'openaccessbutton.org', 'drohobych-rada.gov.ua', 'plus.pl', 'vuz.edunetwork.ru', 'www.ixbt.com', 'opacsol.comune.livorno.it', 'dzieje.pl', 'verkkokirjasto.vaasa.fi:8000', 'shoutyourabortion.com', 'crfop.gdos.gov.pl', 'smcl.org', 'www.elcorreogallego.es', 'www.tva.ru', 'medlineplus.gov', 'digital.library.umsystem.edu', 'shop.auspost.com.au', 'www.parovoz.com', 'blip.tv', 'www.soft-press.com', 'www.jewish-guide.pl', 'www.globalsecurity.org', '939theeagle.com', 'dom.wp.pl', 'philipdick.com', 'ko.wikisource.org', 'pares.mcu.es', 'forum.boinaslava.net', 'rns.online', 'www.icex.es', 'www.rri.ro', 'www.bis-ans-ende-der-welt.net', 'www.mfa.gov.lv', 'inventure.com.ua', 'blogs.scientificamerican.com', 'www.dirco.gov.za', 'www.novinite.com', 'www.baranovichi.by', 'www.kedyw.info', 'sedeelectronica.bde.es', 'www.oeod.uci.edu', 'www.deh.gov.au', 'www.fogcam.org', 'royalsignals.org', 'www.tvchannellists.com', 'www.rockpeaks.com', 'www.crfg.org', 'whitmanpubliclibrary.org', 'www.ng.ru', 'www.turjaen.com', 'www.sabujmaroonswapno.com', 'cweb.ccclib.org', 'www.toqonline.com', 'www.monografias.com', 'pubs.acs.org', 'www.vanderbilt.edu', 'www.vertebradosibericos.org', 'adsabs.harvard.edu', 'ir.abs-cbn.com', 'www.soundonsound.com', 'spaceflightnow.com', 'kuchnia.wp.pl', 'www.lyndhurstll.com', 'lostprophets.buzznet.com', 'www.swissstats.bfs.admin.ch', 'www.kkr.in', 'www.tandfonline.com', 'www.endangeredlanguages.com', 'www.loc.gov', 'www.smarttelecom.ie', 'itunes.apple.com', 'kalushfm.com.ua', 'map-bms.wikipedia.org', 'corporate.comcast.com', 'www.mcu.es', 'www.expressnews.com', 'www.sanskrit-lexicon.uni-koeln.de', 'www.ci.ontario.ca.us', 'teletext.mb21.co.uk', 'www.rt.com', 'www.utpjournals.com', 'news.ltn.com.tw', 'www.operating-system.org', 'sabew.org', 'germanmap.ru', 'explore.bl.uk', 'risc01.sabanciuniv.edu', 'meridian-tour.tj', 'www.dailyrecord.com', 'www.nationalfootballmuseum.com', 'www.thecaptainslog.org', 'naleph.doc.ua.pt', 'sib-solid.ru', 'www.stanford.edu', 'encyclopedie.snyke.com', 'ak.wikipedia.org', 'www.nba.com', 'www.regioset.pl', 'northarlington.bccls.org', 'www.edibleapple.com', 'ce.m.wikipedia.org', 'www.workmall.com', 'www.communitymediacenter.net', 'www.politico.eu', 'www.urbaneconomics.ru', 'got.wikipedia.org', 'entsyklopeedia.ee', 'www.a9.com', 'newsok.com', 'techtalkafrica.com', 'www.comunicacion.jcyl.es', 'www.wkbl.or.kr', 'www.hospitalitynet.org', 'www.stlgs.org', 'connect.innovateuk.org', 'geeksputnik.tv', 'www.teamortho.us', 'www.morristown.com', 'gomel-region.by', 'www.thehindubusinessline.com', 'www.6juin1944.com', 'www.palmbeachpost.com', 'www.jokers.de', 'www.ilstatehouse.com', 'www.hierarchy.religare.ru', 'wetter.spiegel.de', 'www.akgrot.wieliczka.eu', 'www.radiodumdum.com', 'www2.tv-ark.org.uk', 'ancestry.mweb.co.za', 'portal.kobv.de', 'azcapitol.lib.az.us', 'masjidannur.org', 'blog.einstein.ai', 'frontline.thehindu.com', 'flycdw.com', 'www.volkswagenag.com', 'www.blueplaques.co.za', 'www.drummerworld.com', 'aut.nkp.cz', 'www.history.vn.ua', 'amp.dw.com', 'www.ine.es', 'www.lavenezueladeantier.net', 'opacsbn.regioneumbria.eu', 'ru.wikiquote.org', 'www.sjpmv.org', 'www.americanas.com.br', 'www.businessgreen.com', 'www.univ.kiev.ua', 'www.olvia.idknet.com', 'www.aerotime.aero', 'www.tiferesonline.com', 'www.encyclopediaofukraine.com', 'www.radiotimes.com', 'www.thecanadianencyclopedia.ca', 'glamrap.pl', 'tech.groups.yahoo.com', 'istvolyn.info', 'lol.garena.tw', 'www.catalog.slsa.sa.gov.au', 'www.birdcenter.org', 'www.yadvashem.org', 'www.blackseanews.net', 'hooptactics.com', 'melinda.kansalliskirjasto.fi', 'archiwum.rp.pl', 'lists.hcs.harvard.edu', 'elcorreoweb.es', 'www.apcj.org', 'www.garbanzodepedrosillo.com', 'www.theodora.com', 'www.weather.gov.hk', 'www.mnpals.org', '2001.ukrcensus.gov.ua', 'www.pagez.ru', 'metrocafe.pl', 'www.binal.ac.pa', 'bambots.brucemyers.com', 'www.cinquantamila.it', 'www.uci.ch', 'penny-arcade.com', 'www.idaireland.com', 'easyscienceforkids.com', 'www.zw.com.pl', 'www.opendemocracy.net', 'monihaku.kirjastot.fi', 'www.morrissuntribune.com', 'www.nationalgeographic.pt', 'www.newspapers.com', 'blogs.korrespondent.net', 'www.dua.com.ua', 'wayback.archive.org', 'www.commercechenango.com', 'www.fnatic.com', 'www.splcenter.org', 'www.kclibrary.org', 'blackathlete.net', 'pam.wikipedia.org', 've.wikipedia.org', 'celsoldc.instablogs.com', 'gkvbuilders.com', 'www.doh.gov.za', 'www.jewishvirtuallibrary.org', 'www.motorsportmagazine.com', 'www.canalsocial.net', 'www.tebeosfera.com', 'bookweb.kinokuniya.co.jp', 'www.state.gov', 'www.nationalgeographic.co.id', 'www.irehr.org', 'pl.wikipedia.org', 'petrimazepa.com', 'www.ukrlit.net', 'www.movie-locations.com', 'www.pcmag.com', 'www.explorenorth.com', 'www.the-aiff.com', 'archives.cbc.ca', 'www.columbia.edu', 'zn.ua', 'www.filmweb.pl', 'nrm.m.wikipedia.org', 'www.autogaraz.ru', 'webcat.cuyahoga.lib.oh.us', 'www.hagstova.fo', 'ceopledge.co.za', 'pogoda.ru.net', 'www.nats-uk.ead-it.com', 'www.metal-archives.com', 'catoute.unileon.es', 'galka.if.ua', 'www.netnomad.com', 'www.swingstate.com', 'www.medialibrary.it', 'otago.lconz.ac.nz', 'www.universalis.fr', 'udm.wikipedia.org', 'www.leaguelineup.com', 'saltt.ru', 'history.state.gov', 'www.drohobyczer-zeitung.com', 'www.cawater-info.net', 'www.pennlive.com', 'www.infoplease.com', 'www.slbenfica.pt', 'jocolibrary.bibliocommons.com', 'www.sexarchive.info', 'maakom.com', 'www.libraries.fi', 'imdb.com', 'www.dipgra.es', 'ciencia.diariodeavisos.com', 'www.hbci.com', 'www.belt.es', 'www.clemsonpendulum.org', 'www.prweek.com', 'qu.m.wikipedia.org', 'library.uri.edu', 'mywikieducation.blogspot.ru', 'www.wsu.edu:8001', 'www.univie.ac.at', 'www.memoire-du-cyclisme.net', 'news.tj', 'www.sports.ru', 'www.museosdetenerife.org', 'hotpress.com', 'www.africanews.com', 'fortleelibrary.org', 'www.newsinfo.ru', 'www.rebis.com.pl', 'www.nordestesalamanca.com', 'www.ssrc.org', 'm.webtoon.daum.net', 'www.cyberlink.com', 'www.agfc.com', 'www.montgomery-herald.com', 'www.alternet.org', 'e-vestnik.ru', 'factordaily.com', 'www.konkurent-krsk.ru', 'archive.boston.com', 'www.diseasesdatabase.com', 'hrcak.srce.hr', 'www.newspressnow.com', 'searchworks.stanford.edu', 'days.pravoslavie.ru', 'www.100megsfree4.com', 'www.dniester.org', 'sno-isle.bibliocommons.com', 'www.nordea.pl', 'top.hatnote.com', 'hemeroteca.lavanguardia.com', 'www.cso.ie', 'opac.unimi.it', 'meshb.nlm.nih.gov', 'www.tnpa.by', 'www.reckon.co.uk', 'www.hausner.com', 'www.spa-francorchamps.be', 'ig.m.wikipedia.org', 'porsse.kirjas.to', 'szl.m.wikipedia.org', 'koszfanpltl.pl.tl', 'dstormer6em3i4km.onion', 'www.taipeitimes.com', 'vdushanbe.ru', 'hak.wikipedia.org', 'www.isee.nc', 'www.hrono.info', 'www.screenonline.org.uk', 'www.berlin.de', 'cpl.bibliocommons.com', 'cdm.bostonathenaeum.org', 'imsu-vinnycja.com', 'intanin.lib.ku.ac.th', 'www.jfpl.org', 'winca.ent.sirsidynix.net', 'catalog.princeton.edu', 'www.rush.com', 'www.pvhfilm.nl', 'www.bioacoustics.info', 'www.isbnchile.cl', 'flavorwire.com', '195.128.252.159', 'www.hiddenarchitecture.net', 'personal.us.es', 'sartraccc.ru', 'www.centrasia.ru', 'pm.gc.ca', 'www.poetryclub.com.ua', 'bbs.lol.qq.com', 'lad.wikipedia.org', 'solarsystem.nasa.gov', 'edurss.ru', 'tvnmeteo.tvn24.pl', 'nv.ua', 'www.ncaasports.com', 'minprom.ua', 'www.iafd.com', 'culture.pl', 'hi.wikiversity.org', 'content.time.com', 'www.ferghana.ru', 'tygodnik.onet.pl', 'www.tarasiuk.com', 'www.chanrobles.com', 'www.shawneeok.org', 'www.comics.org', 'korrespondent.net', 'accessscience.com', 'kpoxa.info', 'mospat.ru', 'www.riik.ee', 'rpp.pe', 'www.tui.co.uk', 'dumonthistory.tv', 'www.monterey.org', 'law.moj.gov.tw', 'cofradiasdepescadores.com', 'www.westernfrontassociation.com', 'www.inst.at', 'www.nydailynews.com', 'www.uspto.gov', 'www.vesti.ru', 'www.pastscape.org.uk', 'www.ukrainians-world.org.ua', 'www.nbpl.org', 'sites.google.com', 'catalog.bccls.org', 'www.meadowlandslibertycvb.com', 'video.foxnews.com', 'www.bukvite.bg', 'opinie.wp.pl', 'noticias.juridicas.com', 'www0.mercurycenter.com', 'www.forum-ekonomiczne.pl', 'go.sky.com', 'www.southernsemioticreview.net', 'history.org.ua', 'zkrainynba.com', 'www.lalisio.com', 'clerk.house.gov', 'www.gcis.gov.za', 'www.gcac.edu.in', 'www.championat.ru', 'rivne.one', 'www.aec.gov.au', 'ceb.wikipedia.org', 'sport.trojmiasto.pl', 'www.vanityfair.com', 'www.strannik.de', 'www.ladipu.com', 'fc-zenit.ru', 'cdo.m.wikipedia.org', 'www.nws.noaa.gov', 'www2.ohchr.org', 'researchrepository.murdoch.edu.au', 'pzkosz.pl', 'www.chosowa.pl', 'ncsesdata.nsf.gov', 'history.rays-place.com', 'newsone.com', 'www.bplnj.org', 'judeotalk.com', 'video.tochka.net', 'www.cikrf.ru', 'www.terueldigital.es', 'www.geostat.ge', 'modernistyczny-poznan.blogspot.com', 'als.wikipedia.org', 'www.takungpao.com', 'www.cvk.gov.ua', 'heinonline.org', 'www.diariodemallorca.es', 'www.rosbalt.ru', 'www.foxtons.co.uk', 'news.day.az', 'www.pogoda.ru.net', 'catalogo.bne.es', 'www.washingtonmonthly.com', 'www.msz.gov.pl', 'www.space.com.ua', 'bookitpub.ragunda.se', 'www.commonchemistry.org', 'www.isbn-check.com', 'www.inowroclaw.pl', 'www.abs.gov.au', 'www.satbeams.com', 'www.peopleenespanol.com', 'www.glamsham.com', 'arabicaward.ae', 'arqueologiaypatrimonio.blogspot.com', 'windsor.concat.ca', 'medievaltimes.com', 'ambulanciaconwhisky.blogspot.com', 'catalog.loc.gov', 'www.ulworkplace.com', 'www.southafrica.net', 'boston.cbslocal.com', 'www.cyclingnews.com', 'wikileaks.org', 'www.roadrun.com', 'www.pricescan.com', 'www.madridactualidad.es', 'shop.buchkatalog.de', 'books.google.az', 'london.ac.uk', 'www.timesofmalta.com', 'blog.complimedia.com', 'www.bgbook.dir.bg', 'dspace.uni.lodz.pl:8080', 'biblioteca.uniandes.edu.co', 'www.e-bogatynia.pl', 'zakon.7law.info', 'www.cr-lorraine.fr', 'info.lycos.com', 'www.cincinnati.com', 'www.skymedia.co.uk', 'stats.grok.se', 'www.nravstvennost.info', 'zakon2.rada.gov.ua', 'www.oac.cdlib.org', 'gor.wikipedia.org', 'www.stat-nkr.am', 'alam1.aclibrary.org', 'esporte.hsw.uol.com.br', 'www.rutgersuniversitypress.org', 'www.uni-marburg.de', 'historic.ru', 'www.afr.com', 'www.librarycatalogue.act.gov.au', 'www.sport.ru', 'www.worldstatesmen.org', 'shtahanov.ru', 'aaplinvestors.net', 'www.bit-tech.net', 'aleph.sbt.ti.ch', 'html.ifoman.com.s3.amazonaws.com', 'heythrop.ac.uk', 'kirjasto.vaasa.fi', 'www.theinquirer.net', 'www.ut.net.ua', 'www.bibliotheken.at', 'tsn.ua', 'aunamendi.eusko-ikaskuntza.eus', 'pidruchniki.com', 'africanelections.tripod.com', 'www.iranica.com', 'www.cyclocity.lt', 'www.dibrary.net', 'www.tweaktown.com', 'www.niniwa22.cba.pl', 'bxr.m.wikipedia.org', 'www.worldoflearning.com', 'webpac.library.ipm.edu.mo', 'nextshark.com', 'internet.solidot.org', 'jacksonville.com', 'encyklopedia.interia.pl', 'sat.wikipedia.org', 'www.drive.ru', 'www.lyndhurstpoliceauxiliary.com', 'www.premier.gov.ru', 'search.books.com.tw', 'www.lifewire.com', 'piki.verkkokirjasto.fi', 'www.biomedcentral.com', 'serwis.zbaszyn.pl', 'www.afghanembassy.us', 'www.crabsodyinblue.com', 'www.fromsitetostory.org', 'www.newsarama.com', 'www.dzieje.pl', 'www.soccerbase.com', 'www.f4wonline.com', 'immigration.gov.mv', 'www.jsc.nasa.gov', 'mycatalogue.tbpl.ca', 'outreachdashboard.wmflabs.org', 'wcha.com', 'www.apta.com', 'www.plosone.org', 'www.orbitelcom.com', 'pluralism.org', 'www.semrush.com', 'www.mnvideovault.org', 'www.fbib-basket.com', 'tl.m.wikipedia.org', 'mbc.malopolska.pl', 'www.banglajol.info', 'moreshet.pl', 'www.embassybel.ru', 'www.directv.com', 'shn.wikipedia.org', 'www.pavekmuseum.org', 'www.dzienniklodzki.pl', 'viaf.org', 's1.q4cdn.com', 'www.highbeam.com', 'www.tovtry.kp.km.ua', 'www.kingscollections.org', 'dotdash.com', 'www.stolpersteine.eu', 'www.enciclopedia.cat', 'www.chernobyl-international.com', 'ceausescunicolae.wordpress.com', 'bdh-rd.bne.es', 'www.dziennik.pl', 'www.coit.es', 'www.tvnewscheck.com', 'sweepingzen.com', 'www.library.donetsk.ua', 'www.voanews.com', 'geomovements.com', 'nj.gov', 'www.metro.se', 'www.co.oswego.ny.us', 'www.elnoticierodigital.com', 'www.teamliquid.net', 'obriy.pib.com.ua', 'www.rankdex.com', 'www.asianweek.com', 'webmineral.com', 'www.dw-world.de', 'www.netball.org', 'www.noticiasdegipuzkoa.com', 'www.thejefffariasshow.com', 'www.qeca.org.uk', 'www.morrismuseum.org', 'portal.lviv.ua', 'www.irla.org', 'journals.openedition.org', 'www.adherents.com', 'www.freeenterprise.com', 'www.glbtq.com', 'www.bahamaspress.com', 'www.intute.ac.uk', 'www.readitswapit.co.uk', 'istpravda.com.ua', 'www.libreriacoletti.it', 'reformed.org', 'www.cultofmac.com', 'litgazeta.com.ua', 'www.the-sports.org', 'www.rte.ie', 'www.htsyndication.com', 'motocrossactionmag.com', 'libcat.unigoa.ac.in', 'cfs.mcz.harvard.edu', 'query.nytimes.com', 'chtyvo.org.ua', 'www.thedailycall.org', 'www.diariocordoba.com', 'www.visitnorway.com', 'www.tribunasalamanca.com', 'pravostok.ru', 'goty.gamespy.com', 'm.wyborcza.pl', 'www.hyperakt.com', 'www.ghanafa.org', 'smf.codeplex.com', 'www.julien-clerc.net', 'www.seonews.ru', 'www.zielonewrota.pl', 'www.fairvote.org', 'www.globalfirepower.com', 'uk.wikinews.org', 'www.politeianet.gr', 'itd.rada.gov.ua', 'www.suomalainen.com', 'www.tennisnow.com', '82.147.150.140', 'library.santaclaraca.gov', 'www.definiciones-de.com', 'en.m.wikipedia.org', '160.80.1.148:8992', 'www.antietamcable.com', 'www.newstatesman.com', 'www.okhistory.org', 'gazeta.tj', 'minneapolis.about.com', 'aleph.vkol.cz', 'www.penton.com', 'print.darlic.com', 'www.metrotransit.org', 'ua.igotoworld.com', 'sfpl.bibliocommons.com', 'www.brownsvilleherald.com', 'nl.m.wikipedia.org', 'www.citypopulation.de', 'radaronline.com', 'lcweb2.loc.gov', 'www.andorratelecom.ad', 'www.fibaasia.net', 'www.dsw.org', 'www.ottobib.com', 'www.guthrietheater.org', 'www.bookfinder.com', 'www.oxforddnb.com', 'scwm.gov.ua', 'www.secinfo.com', 'wayback.archive-it.org', 'splav.lviv.ua', 'pep.org.ua', 'www.livescience.com', 'www.crn.com', 'ontimehaulers.com.au', 'www.ua.emb-japan.go.jp', 'kolkatafootball.com', 'www.camenca.org', 'katalog.svkos.cz', 'www.nne.ru', 'shop.wikimedia.org', 'slovari.yandex.ru', 'mykolayiv.org', 'www.bibnat.ro', 'collections.stanford.edu', 'efp.org.uk', 'euronews.com', 'www.ama-assn.org', 'penneyvanderbilt.wordpress.com', 'studyqa.com', 'www.al-monitor.com', 'ischool.sjsu.edu', 'eursa.org', 'wawalove.wp.pl', 'www.castillosnet.org', 'www.kenilworthmedia.com', 'www.scenicwestsports.com', 'brightcove.com', 'nplu.org', 'growup.ethz.ch', 'fossilworks.org', 'www.chopinsociety.org', 'www.istat.it', 'ecatalog1.siouxcitylibrary.org', 'amateur-boxing.strefa.pl', 'sede.dgt.gob.es', 'search.lib.auth.gr', 'columbus.uhu.es', 'www.psychologytoday.com', 'pl.wikiquote.org', 'www.redbeemedia.com.au', 'www.old-vladimir.ru', 'www.wiking.edu.pl', 'www.booksmoothie.com', 'www.uhcougars.com', 'catalogolx.cm-lisboa.pt', 'www.cnhi-can.com', 'volume.revues.org', 'nm2000.kz', 'library.metu.edu.tr', 'www.sjlibrary.org', 'camenca.org', 'www.jamesbeard.org', 'www.bondfaro.com.br', 'edgewaterlibrary.org', 'www.wopl.org', 'www.pear-digital.com', 'lviv.expres.ua', 'capitolrecords.com', 'film.onet.pl:80', 'www.pravo.gov.ru', 'stats.espncricinfo.com', 'www.sofiarotaru.com', 'www.sudoc.abes.fr', 'www.stratfor.com', 'central.slpl.org', 'lgpolar.com', 'www.history.ucsb.edu', 'static.ofcom.org.uk', 'www.yivoencyclopedia.org', 'www.bartoncounty.org', 'www.eweek.com', 'www.news.harvard.edu', 'www.sailsinc.org', 'www.cityofsound.com', 'ta.m.wikipedia.org', 'www.gamespot.com', 'www.propublica.org', 'gosciniec.pttk.pl', 'www.amarok.ommadawn.net', 'www.learned.cz', 'www.clarkhoward.com', 'avellanoeducar2.blogspot.com.es', 'hcap.artstor.org', 'psephos.adam-carr.net', 'investing.businessweek.com', 'dialogundmenschenrecht.wordpress.com', 'www.bridgewaternj.gov', 'www.heraldicum.ru', 'colleges.usnews.rankingsandreviews.com', 'nebo.at.ua', 'www.law.upenn.edu', 'cadenaser.com', 'www.ukfree.tv', 'skyfi.org.ru', 'www.globalfinancialdata.com', '85.44.202.28', 'boyslikegirls.buzznet.com', 'www.splgoluchow.pl', 'www.newscientist.com', 'www.czernowitz-bukowina.de', 'biblioteche.provincia.ancona.it', 'pressoffice.virginmedia.com', 'youtube-global.blogspot.com', 'www.pewforum.org', 'zu.wikipedia.org', 'www.sbu.gov.ua', 'cbnweek.com', 'www.cellularone.com', 'pnt.wikipedia.org', 'rostov.4geo.ru', 'news.zdnet.co.uk', 'www.isd518.net', 'zh-yue.m.wikipedia.org', 'www.krytykapolityczna.pl', 'wiadomosci.wp.pl', 'ls2pac.lapl.org', 'casgc.ucsd.edu', 'sbcr.comperio.it', 'www.mjusticia.gob.es', 'wyborcza.pl', 'www.lyczkowski.net', 'www.eurosport.ru', 'www.mck.tarnow.pl', 'www.franklinlakeslibrary.org', 'cst.org.uk', 'www.nbcbayarea.com', 'www.canada.ca', 'ukraine-fm.com', 'www.sfexaminer.com', 'www.wikilengua.org', 'slovar.cc', 'www.allstates-flag.com', 'centrummedialne.pl', 'www.bhaskar.com', 'www.epodunk.com', 'newhistory.co.za', 'wcd.coe.int', 'business.clemson.edu', 'sd.wikipedia.org', 'wwd.com', 'www.thetennisspace.com', 'www2.lib.ncsu.edu', 'www.samro.org.za', 'woz.org', 'www.ubio.org', 'www.fourstateshomepage.com', 'www.internetnews.com', 'www.worldkorfball.org', 'af.wikipedia.org', 'zdb-katalog.de', 'www.blizzard.com', 'www.interfilmes.com', 'seattle.bibliocommons.com', 'apps.new.facebook.com', 'www.statuecruises.com', 'www.chinadaily.com.cn', 'www.nationalgeographic.bg', 'drive.google.com', 'digitalcollections.nypl.org', 'migration.ucdavis.edu', 'www.mvlc.org', 'datos.bne.es', 'www.depo.ua', 'www.jewishencyclopedia.com', 'billday.com', 'www.montclairlibrary.org', 'se.pricerunner.com', 'www.aquarium.ucsd.edu', 'digitallib.aut.ac.ir', 'nbnews.com.ua', 'sbs3.unisi.it:8991', 'reports.internic.net', 'www.kmv.gov.ua', 'www.college.harvard.edu', 'ballotpedia.org', 'lez.wikipedia.org', 'opac.unife.it', 'www.answers.com', 'umoloda.kiev.ua', 'www.stratfordschools.com', 'www.bucrep.cm', 'www.libsu.uni-sofia.bg', 'www.starpulse.com', 'btn.com', 'www.kinofilms.ua', 'audioforum.com', 'pms.wikipedia.org', 'www.cyclo-tourisme.com', 'www.orthodox-christianity.org', 'pix11.com', 'metalobsession.net', 'opac.giga-hamburg.de', 'newsru.co.il', 'lnfm1.sai.msu.ru', 'www.psychiatricnews.org', 'domino.un.org', 'www.peterburg.estemb.ru', 'saarenterprisesjal.com', 'www.twitch.tv', 'www.skyoffshore.co.uk', 'www-lib.soton.ac.uk', 'www.fundforpeace.org', 'ncbi.nlm.nih.gov', 'books.google.co.uk', 'www.crestaverde.com', 'sco.wikipedia.org', 'www.luag.org', 'www.eciclopedia.cat', 'www.hari-katha.org', 'www.entravision.com', 'lucl.kiev.ua', 'www.biblioteca.ufpe.br', 'www.pobeda.ru', 'www.on-this-day.com', 'www.ithome.com', 'www.football-italia.net', 'www.wellesley.edu', 'www.deol.ru', 'www.cvce.eu', 'www.ifc.com', 'www3.signonsandiego.com', 'kp.ru', 'as.wikipedia.org', 'chineseseoshifu.com', 'www.cgpe.es', 'youtube.com', 'www.cnet.com', 'finearts.cnu.edu', 'kcrta.org', 'www.lcc.gov.zm', 'fotoblogia.pl', 'ridgewoodfrontporch.com', 'blogs.mprnews.org', 'www.geocities.ws', 'www.politico.com', 'www.hasbrouckheightslibrary.org', 'www.thebooksinmylife.com', 'www.multichannel.com', 'www.mcnbiografias.com', 'www.geekshut.com', 'phenomena.nationalgeographic.com', 'allani.pl', 'www.armorial-register.com', 'thelinknewspaper.ca', 'www.armstat.am', 'www.thenews.pl', 'www.bib-bvb.de', 'www.opac.unina.it', 'www.gypsypsychicscams.com', 'www.mapa.es', 'gdansk.naszemiasto.pl', 'www.ssb.no', 'zh.m.wikipedia.org', 'www.adevarul.ro', 'musicbrainz.org', 'www.gobookshopping.com', 'catalogue.londonpubliclibrary.ca', 'mikeoldfieldofficial.com', 'sm.wikipedia.org', 'world-gazetteer.com', 'wloclawskie24.pl', 'www.kppg.waw.pl', 'www.kuenselonline.com', 'www.springfield-armory.com', 'www.freewebs.com', 'www.travelswise.com', 'www.faz.net', 'euw.leagueoflegends.com', 'www.merchantcircle.com', '192.167.107.142:8991', 'www.facs.org', 'nl.newsbank.com', 'websok.libris.kb.se', 'www.asub.ax', 'www.fakepapr.com', 'travel.yahoo.com', 'www.njecpo.org', 'ipac.kvkli.cz', 'archive.fortune.com', 'osp-rs.stat.gov.lt', 'www.tenaflylibrary.org', 'shawnee.schooldesk.net', 'www.pressgazette.co.uk', 'www.surnameindex.info', 'www.mlwerke.de', 'bioguide.congress.gov', 'www.dengi-info.com', 'wipfandstock.com', 'www.bleacherreport.com', 'adverbum.org', 'news.tvbs.com.tw', 'bonza.unilinc.edu.au', 'archiwum.kujawsko-pomorskie.pl', 'fi.wikipedia.org', 'www.thesun.co.uk', 'www.chl.kiev.ua', 'www.ramseylibrary.org', 'pubchem.ncbi.nlm.nih.gov', 'www.ir.colostate.edu', 'www.ninastibbe.com', 'fakty.interia.pl', 'marjorie-wiki.de', 'www.ceroi.net', 'etymonline.com', 'kelmenci.info', 'publishers.forewordreviews.com', 'biblioteki.umk.pl', 'www.ulib.niu.edu', 'news.163.com', 'www.ludovia.com', 'www.destatis.de', 'www.arktimes.com', 'www.kosarka.ba', 'www.acdc.com', 'kultura.trojmiasto.pl', 'cityroom.blogs.nytimes.com', 'www.theatlantic.com', 'www.bond007.pl', 'webpac.slcl.org', 'www.thingsmadethinkable.com', 'rivera-ortiz.com', 'konkurent-krsk.ru', 'www.svenskakyrkan.se', 'www.smithsonianmag.com', 'arileht.delfi.ee', 'www.antimusic.com', 'www.library.boun.edu.tr', 'www.fih.ch', 'gov.idaho.gov', 'www.stirlingcastle.gov.uk', 'massively.joystiq.com', 'sydney.edu.au', 'www.bdasports.com', 'cenewscenter.rutgers.edu', 'www.radiovaticana.org', 'bookhopper.co.uk', 'www.revolutionarynj.org', 'www.scotusblog.com', 'www.pastheritage.org', 'www.thepresidency.gov.za', 'www.innercirclecorona.com', 'www.motoforum.pl', 'www.ebaeza.com', 'kolkatatoday.com', 'www.vocativ.com', 'bookme.co.il', 'www.thefilmdetective.tv', 'sitecat.bmb-on-line.ro', 'zaxid.net', 'www.arkleg.state.ar.us', 'yeychannel.abs-cbn.com', 'www.mgar.net', 'sheriff.morriscountynj.gov', 'igv.sebina.it', 'pearljam.com', 'catalog.nypl.org', 'www.eco-tiras.org', 'www.neosoul.com', 'boyanov.com', 'cerkvarium.org', 'www.vub.ac.be', 'www.cdep.ro', 'static.fas.harvard.edu', 'dateandtime.info', 'www.danmarksbasketballforbund.basket.dk', 'www.nme.com', 'opac.nuigalway.ie', 'support.apple.com', 'tvnoviny.sk', 'www.myactivesg.com', 'thecwtc.com', 'fy.wikipedia.org', 'library.sdublincoco.ie', 'digitalcommons.law.scu.edu', 'is.librarything.com', 'www.ziggogo.tv', 'www.prestonkelly.com', 'www.judiciary.state.nj.us', 'egsc.usgs.gov', 'www.famousfix.com', 'www.provinciadecaceres.es', '81412.livejournal.com', 'books.wpl.ca', 'gawker.com', 'www.nomex.com', 'ps.psychiatryonline.org', 'www40.statcan.gc.ca', 'www.openstreetmap.org', 'www.ksmq.org', 'www.anmtvla.com', 'sh.m.wikipedia.org', 'www.theage.com.au', 'montrealgazette.com', 'www.helium.com', 'hi-news.ru', 'chartsbin.com', 'www.dbnl.org', 'www.agrupaciondecomparsas.com', 'sudafrica.costasur.com', 'www.fodors.com', 'www.biblio.com', 'www.leticiaocharan.org', 'www.chicagofilmarchives.org', 'www.aol.es', 'dlvisit.usc.es', 'www.rajbhasha.gov.in', 'bi.wikipedia.org', 'www.sfgov.org', 'www.insee.fr', 'www.christianpost.com', 'www.fergananews.com', 'kn.m.wikipedia.org', 'www.iloveindia.com', 'www.shapell.org', 'media.theage.com.au', 'www.michigan.gov', 'www.comitedesfetes-plouay.com', 'incubator.wikimedia.org', 'ufa.kp.ru', 'www.videonuze.com', 'www.mediaweek.co.uk', 'www.usa.com', 'www.alfiekohn.org', 'pisni.org.ua', 'www.newslikethis.com', 'aawsat.com', 'wiredspace.wits.ac.za', 'www.wz.lviv.ua', 'war.wikipedia.org', 'www.indianfootball.de', 'ultimateclassicrock.com', 'www.ufi.org', 'www.mahwahlibrary.org', 'facet.onet.pl', 'www.gq.com', 'ab.m.wikipedia.org', 'www.diagnoza.com', 'www.lenta.ru', 'www.ema-online.org', 'www.litdok.de', 'kino.rv.ua', 'pibmumbai.gov.in', 'www.proquest.com', 'www.tbxn.com', 'www.semanasantachinchilla.com', 'www.kcsufm.com', 'topgearrussia.ru', 'v.ifeng.com', 'www.elobservatodo.cl', 'kopkatalogs.lv', 'omaha.lib.ne.us', 'books.google.de', 'catalogue.shu.ac.uk', 'www.om.net', 'docs.darlic.com', 'www.mirror.co.uk', 'www.derbysulzers.com', 'travel.ria.ru', 'www.ukurier.gov.ua', 'blogs.sjsu.edu', 'ambrosiana.comperio.it', 'izput.narod.ru', 'www.efront.com', 'www.laptopmag.com', 'lubbockonline.com', 'www.cnii.com.cn', 'americanpregnancy.org', 'www.southamptonairport.com', 'ui.adsabs.harvard.edu', 'opac.cedoc.mo.it', 'ayibamagazine.com', 'legis.pe', 'www.spreadopendocument.org', 'www.royalsocietysa.org.za', 'lenta.ru', 'www.minneapolismn.gov', 'www.digitalspy.co.uk', 'www.eric.ed.gov', 'www.biblioclick.it', 'ol.gamersky.com', 'www.maplewoodlibrary.org', 'wrower.pl', 'corporate.univision.com', 'www.beachbasketball.com', 'www.nppa.org', 'www.jamesbond.com.pl', 'www.cybinka.pl', 'losangeles.dodgers.mlb.com', 'www.wprost.pl', 'www.spacedaily.com', 'www.co.monterey.ca.us', 'www.theneworleansadvocate.com', 'la.wikipedia.org', 'www.cableforum.co.uk', 'ur.m.wikipedia.org', 'www.consultant.ru', 'theamericanmuslim.org', 'www.mylightrail.com', 'www.football-info.ru', 'wz.lviv.ua', 'www.uhu.es', 'www.discovercorona.com', 'www.juntadeandalucia.es:9002', 'www.luxemburgensia.bnl.lu', 'sharebradenton.homestead.com', 'www.aljazeera.com', 'tvtropes.org', 'www.sportsbusinessjournal.com', 'www.arstechnica.com', 'www.library.kr.ua', 'www.isportsleague.com', 'www.manafinearts.com', 'rada.osowa.com', 'www.npsl.com', 'www.die-corps.de', 'sites.bergen.org', 'www.bmas.de', 'www.cepsa.com', 'uplink.jameslong.name', 'www.zkdp.pl', 'www.perspectivia.net', 'offshore.su', 'litvin.by', 'www.kmb-bibliothekskatalog.de', 'catholicexchange.com', 'www.stk.cz', 'beta.worldcat.org', 'www.usopen.org', 'www.africanpu.org', 'www.bravotv.com', 'kutuphane.gazi.edu.tr', 'mini.eastday.com', 'www.marxist.com', 'www.abc15.com', 'el.m.wikipedia.org', 'watsoncoleman.house.gov', 'lescharts.com', 'casopisargument.cz', 'sbjscollege.org', 'id.wikinews.org', 'm.ndtv.com', 'www.ibge.gov.br', 'www.cafeanimal.pl', 'objetoseducacionais2.mec.gov.br', 'www.discoverworld.com', 'ckb.wikipedia.org', 'www.sskch.pl', 'texty.org.ua', 'www.gameo.org', 'bayarea.comcastsportsnet.com', 'historyweblog.com', 'ne.m.wikipedia.org', 'www.allmusic.com', 'www.normanfinkelstein.com', 'sl.wikiversity.org', 'www.patheos.com', 'ingvarr.net.ru', 'www.ndl.go.jp', 'www.verizonwirelessarena.com', 'zeenews.india.com', 'www.vmagazine.com', 'viduramziu.istorija.net', 'www.statssa.gov.za', 'districts.gov.in', 'data.jewishgen.org', 'www.henryhudson.info', 'www.planetabasket.pt', 'www.pcworld.com', 'www.deutschestextarchiv.de', 'news.sina.com.cn', 'de.wikisource.org', 'www.ukrcenter.com', 'powroty.do', 'www.rodon.org', 'www.thehindu.com', 'www.dn.se', 'www.usmagazine.com', 'riaa.com', 'ofirmie.onet.pl', 'ru.euronews.com', 'np.cpami.gov.tw', 'news.xinhuanet.com', 'www.hopenothate.org.uk', 'stephenschneider.stanford.edu', '1opac.filipinaslibrary.org.ph', 'www.serenawilliams.com', 'www.journalism.co.uk', 'manilastandardtoday.com', 'www.colorado.gov', 'www.publishinghistory.com', 'guernseypress.com', 'hotel.darlic.com', 'www3.imperial.ac.uk', 'openurlgw.hbz-nrw.de', 'www.pctipp.ch', 'www.tjholmes.net', 'ru.wikinews.org', 'wemedia.ifeng.com', 'opac.help.edu.my', 'edition.cnn.com', 'www.antikvarium.hu', 'www.corporatenetwork.com', 'harvardmagazine.com', 'idents.tv', 'cliffsidepark.bccls.org', 'www.subrotocup.com', 'pediapress.com', 'www.candour.org.uk', 'www.teruelexiste.net', 'west-express.info', 'www.theatlanticwire.com', 'www.mofnp.gov.zm', 'providenie.narod.ru', 'lol.duowan.com', 'www.deuframat.de', 'lviv.web2ua.com', 'bialorus.pl:80', 'cs.wiktionary.org', 'www.usgamer.net', 'kokuafestival.com', 'www.mielofon.ru', 'www.fishnews.ru', 'hatlie.de', 'vda.comperio.it', 'www.sanjoseinside.com', 'www.playbill.com', 'hobokenlibrary.org', 'www.bessarabia.ru', 'www.buzzfeednews.com', 'rivne-trend.in.ua', 'www.ucd.ie', 'www.directvelo.com', 'somerset.njaes.rutgers.edu', 'www.fool.com', 'fox17.com', 'www.inpublishing.co.uk', 'www.sima.com', 'www.straightdope.com', 'www.ncbi.nlm.nih.gov', 'www.bismarcktuerme.de', 'www.tvwise.co.uk', 'index.hu', 'www.guiadelaradio.com', 'www.cityofjerseycity.org', 'www.plantcultures.org.uk', 'ktva.com', 'pview.findlaw.com', 'rockway.alliant.edu', 'rockhall.com', 'www.portlandonline.com', 'www.thetvroom.com', 'booklife.com', 'books.interros.ru', 'www.polskadrewniana.pl', 'property.timesonline.co.uk', 'www.longlines.com', 'market.mashape.com', 'digitalcommons.unl.edu', 'www.fresnorescuemission.org', 'pqasb.pqarchiver.com', 'www.hy-vee.com', 'www.thesixthaxis.com', 'www.wga.org', 'www.unn.com.ua', 'www.preistester.de', 'search.sunyconnect.suny.edu', 'kaa.wikipedia.org', 'charter97.org', 'authorscalendar.info', 'pa-fuera-telaranas.blogspot.com.ar', 'sputniknews.com', 'www.peo.gov.au', 'www.minabibliotek.se', 'hyw.m.wikipedia.org', 'www.nationalgeographic.pl', 'www.vostlit.info', 'heliometr-doklad.narod.ru', 'www.hoteldel.com', 'www.president.gov.by', 'na.leagueoflegends.com', 'cyclop.com.ua', 'www.tribuneindia.com', 'www.elespanol.com', 'tass.ru', 'worldcybergames.com', 'www.academia.edu', '193.204.111.37', 'igateways.sjsu.edu', 'www.casde.unl.edu', 'www.sbs.com.au', 'ventresslibrary.org', 'www.google.com.tr', 'buch.archinform.net', 'www.galychyna.if.ua', 'www.oyez.org', 'phx.corporate-ir.net', 'lcrm.lib.unc.edu', 'www.maritimearchives.co.uk', 'blogs.law.harvard.edu', 'sevilla.abc.es', 'www.southafrica-travel.net', 'diecezjazg.pl', 'clues.concordia.ca', 'www.gea-on.net', 'news.church.ua', 'www.mediashepherd.com', 'www.warheroes.ru', 'www.lavozdealmeria.es', 'corruption.rsuh.ru', 'plus.cobiss.si', 'www.msc.es', 'www.neilpeart.net', 'ug.edu.pl', 'www.mnpals.net', 'us.macmillan.com', 'www.sanbruno.ca.gov', 'www.cnews.ru', 'googleblog.blogspot.ru', 'dak.com.ua', 'articles.latimes.com', 'nadbuhom.free.ngo.pl', 'www.dunrada.org.ua', 'hepg.org', 'www.mnspokenword.org', 'www.ipn.gov.pl', 'w390w.gipuzkoa.net', 'www.galizien-deutsche.de', 'www.afro.com', 'bh.wikipedia.org', 'eos.org', 'argos.sdln.net', 'mapy.cz', 'www.nabu.de', 'www.antiquariat.de', 'www.vifaost.de', 'tn.com.ar', 'ocafs.oca.org', 'fjallfoss.fcc.gov', 'www.yugatech.com', 'hr-kosarka.com', 'www.sovross.ru', 'www.usembassy.org.uk', 'pac.lfpl.org', 'stedt.berkeley.edu', 'staging.computerhistory.org', 'sky.com', 'www.anuarieco.lacaixa.comunicacions.com', 'aleph.library.uu.nl', 'www.museum.vladimir.ru', 'www.computerconservationsociety.org', 'www.infoniac.com', 'www.hrw.org', 'www.heraldry.com.ua', 'woodridgememoriallibrary.org', 'm.newsru.com', 'www.rae.es', 'www.bigskyastroclub.org', 'www.eladerezo.com', 'adbonline.anu.edu.au', 'heydaybooks.com', 'www.library.itu.edu.tr', 'reformation-mark-brandenburg.de', 'www.membrana.ru', 'feb-web.ru', 'www.olympusat.com', 'www.andaluciarustica.com', 'www.historiavasca.com', 'www.villagelibraryofcooperstown.org', 'luettelo.helmet.fi', 'libro.uca.edu', 'www.vsrf.ru', 'xmf.m.wikipedia.org', 'sfpl.org', 'artsbeat.blogs.nytimes.com', 'omaha.bibliocommons.com', 'opendata.klaipeda.lt', 'indexmundi.com', 'www.floranimal.ru', 'www.chemport.ru', 'www.biography.com', 'www.orthodoxjapan.jp', 'www.news.com.au', 'volynonline.com', 'shawneeok.org', 'blog.oregonlive.com', 'www.madslinger.com', 'www.newjerseyhills.com', 'io.wikipedia.org', 'www.ktuu.com', 'www.vivezone.com', 'pioneers.grinnell.edu', 'www.agnuz.info', 'www.oscars.org', 'kp.ua', 'remacle.org', 'library.ucl.ac.uk:80', 'dziennikzwiazkowy.com', 'www.tonymartin.net', 'www.atlapedia.com', 'politicsdw.com', 'www.railway-technology.com', 'wyckofflibrary.org', 'www.cyclingweekly.co.uk', 'www.espncricinfo.com', 'de.wikipedia.org', 'hemeroteca.abc.es', 'nereus.lis.upatras.gr', 'lib.rus.ec', 'www.colapublib.org', 'www.booklife.com', 'micemm.com', 'mvlc.ent.sirsi.net', 'www.oldradio.com', 'www.vilniusticket.lt', 'news.viacom.com', 'www.wikinews.org', 'su.wikipedia.org', 'www.kaixin001.com', 'tennishead.net', 'www.laprovincia.es', 'www.e-periodica.ch', 'tigertownobserver.com', 'www.gsf.pl', 'fraza.ua', 'monterey.org', 'm.bbc.co.uk', 'www.artsrochester.org', 'www.thrasherswheat.org', 'stlouisfed.org', 'www.espn.in', 'elib.cs.berkeley.edu', 'www.personneltoday.com', 'identcentral.co.uk', 'www.kinokolo.ua', 'corporate.abs-cbn.com', 'isotopes.gov', 'www.paperbackswap.com', 'www.virginmediatv.ie', 'www.museo-de-la-muneca-onil.com', 'www.sabaidea.com', 'www.constitution.ru', 'freebit.cz', 'univiu.comperio.it', 'www.humanrightspoint.si', 'www.breakingnewsonline.net', 'motherboard.vice.com', 'www.nzz.ch', 'www.sangeetnatak.org', 'www.csen.org', 'www.derechoaragones.es', 'www.africankingdoms.com', 'www.hardnsoft.ru', 'www.gloobal.net', 'www.independentmail.com', 'szpitalwincentego.pl:80', 'basketball.hr', 'www.deutschland.de', 'www.betterlifetv.tv', 'schastliv.narod.ru', 'v-mire.net', 'www.tottenhamhotspur.com', 'primeministers.naa.gov.au', 'www.econetwireless.com', 'www.chass.utoronto.ca', 'tomfolio.com', 'ome-lexikon.uni-oldenburg.de', 'supct.law.cornell.edu', 'ht.wikipedia.org', 'www.fetchbook.info', 'www.clickgreen.org.uk', 'www.co.monmouth.nj.us', 'roa-tara.wikipedia.org', 'opac.unifi.it', 'www.idref.fr', 'aalborg.dk', 'www.thegreenguide.com', 'horol.at.ua', 'www.broadcastnow.co.uk', '132.248.67.3:8991', 'www.avonpubliclibrary.org', 'www.mvs.cz', 'www.footballsquads.co.uk', 'www.journalism.columbia.edu', 'www.groklaw.net', 'www.uamodna.com', 'fair.org', 'fratria.ru', 'fifaworldcup.yahoo.com', 'www.oldgazette.ru', 'www.pravda.ru', 'catalogue.univ-angers.fr', 'www.otsegocounty.com', 'news.iafrica.com', 'ibsf.info', 'www.humanism.org.uk', 'hitcon.org', 'search.electoralcommission.org.uk', 'pravo.levonevsky.org', 'pro.europeana.eu', 'www.deseretnews.com', 'www.mcclatchy.com', 'safari.oreilly.com', 'www2.hull.ac.uk', 'krasnoe.tv', 'legacy.utsandiego.com', 'beta.rian.ru', 'www.senat.fr', 'www.dipucr.es', 'www.ndwheat.com', 'www.bklynpubliclibrary.org', 'magyarorthodoxia.org', 'www.biciciclismo.com', 'www.libri.hu', 'www.karlskrona.se', 'football.sportal.bg', 'www.windowsphone.com', 'www.neosports.tv', 'bjn.wikipedia.org', 'www.nrpa.org', 'ha.wikipedia.org', 'www.deutsche-und-polen.de', 'ofiaromwojny.republika.pl', 'www.2shanbe.tj', 'hrpublishers.org', 'noticias.universia.edu.pe', 'www.wbc.poznan.pl', 'www.dushanbe.tj', 'www.who.int', 'citypages.com', 'ugkk.de', 'www.findsportsnow.com', 'the-bahamas.net', 'www.saclibrarycatalog.org', 'ottobib.com', 'www.historytoday.com', 'www-org.andalucia.org', 'lists.wikimedia.org', 'blogs.zdnet.com', 'www.outlookindia.com', 'www.abc17news.com', 'n94057.eos-intl.net', 'www.rtve.es', 'krcgtv.com', 'www.visitkc.com', 'sjpl.org', 'threadex.rcc-acis.org', 'theconversation.com', 'ask.bibsys.no', 'ro.m.wikipedia.org', 'vkus.narod.ru', 'digital-nirvana.com', 'webopac.bibliotecheprovinciavarese.it', 'intelligencesquaredus.org', 'aleph.uibk.ac.at', 'www.imperialhouse.ru', 'www.emediawire.com', 'news.vitebsk.cc', 'www.whitehouse.gov', 'www.treeceformayor.com', 'www.accelerator3359.com', 'www.e-belarus.org', 'www.lib.if.ua', 'www.elcorreodigital.com', 'www.tennisnews.com.ua', 'dienekes.blogspot.com', 'www.placeography.org', 'kk.wikipedia.org', 'wfmu.org', 'opac.apiit.edu.my', 'sol.unibo.it', 'www.jewishgalicia.net', 'www.wieiswieinoverijssel.nl', 'biznes.interia.pl', 'uk.rodovid.org', 'www.theadjustmentbureau.com', 'health.howstuffworks.com', 'library.iyte.edu.tr', 'www.heritage.org', 'www.chulabook.com', 'www.gorby.ru', 'www.indiasite.com', 'www.mlahanas.de', 'www.cnanalyst.com', 'www.cvmbs.colostate.edu', 'evp.harvard.edu', 'www.books.gr', 'technoaryanclub.com', 'www.adrecag.org', 'www.eglise.catholique.fr', 'thisnation.com', 'eco.com.ua', 'www.camaracastellon.com', 'www.bloodandhonour.com', 'www.nationalbookstore.com', 'www.jacotei.com.br', 'www.cpreec.org', 'www.onlinevideo.net', 'www.niemanlab.org', 'dif.org.ua', 'cofcc.org', 'idgpatrones.com', 'army.lv', 'www.dmoz.org', 'malmad.iucc.ac.il', 'www.montereyblues.com', 'newcatalog.library.cornell.edu', 'ca.m.wikipedia.org', 'www.archinform.net', 'www.dbb.de', 'ileadinnovationstudios.org', 'an.wikipedia.org', 'www.atsc.org', 'www.oapen.org', 'www.desmoinesregister.com', 'www.vikings.com', 'pnb.m.wikipedia.org', 'droginfo.com.ua', 'www.4-traders.com', 'ga.m.wikipedia.org', 'www.haz.de', 'www.premierleague.com', 'www.pskovcenter.ru', 'www.roszkowski.pl', 'www.apple-history.com', 'www.edp24.co.uk', 'www.nationalgeographic.ge', 'www.ft.com', 'www.eladelanto.com', 'unstats.un.org', 'www.ourdreamrun.com', 'www.new-most.info', 'www.helikon.bg', 'stthomassource.com', 'www.palosfrontera.com', 'polfair.com.pl', 'aliom.orthodoxy.ru', 'www.google.de', 'www.1911encyclopedia.org', 'sgssandhu.com', 'link.springer.com', 'openlibrary.org', 'cbbcat.net', 'book.naver.com', 'www.higheredjobs.com', 'www.keepmilitarymuseum.org', 'www.irishstatutebook.ie', 'locatorplus.gov', 'ril.com', 'cnews.canoe.ca', 'readit.today', 'www.pfl.ru', 'www.delmar.edu', 'kl.wikipedia.org', 'www.pinterest.co.uk', 'www.nsi.bg', 'www.floorballindia.org', 'www.gardencity.net', 'krc.m.wikipedia.org', 'www.huffingtonpost.de', 'news.minnesota.publicradio.org', 'www.national-football-teams.com', 'kn.wikipedia.org', 'rivne-city.com', 'www.archbip.mf.gov.pl', 'www.tvp.info', 'default.darlic.com', 'www.newsmax.com', 'atj.wikipedia.org', 'www.msu.tj', 'www.blackhillsfox.com', 'www.thaindian.com', 'slam.canoe.ca', 'www.lrp.lt', 'club-kaup.narod.ru', 'www.interfax-religion.ru', 'conmebol.com', 'ua.convdocs.org', 'eu.lolesports.com', '2shanbe.info', 'www.dcnyhistory.org', 'www.kristiansand.as', 'www.weather.com', 'gorizont.kinoplan.ru', 'sp8kbn.pl.tl', 'www.sjvls.org', 'www.riss.kr', 'se.wikipedia.org', 'kalushcity.if.ua', 'www.gp.org', 'kcls.bibliocommons.com', 'dzvony.com.ua', 'tum.wikipedia.org', 'opc4.kb.nl', 'www.drogobych.com', 'boosteria.org', 'www.allaboutjazz.com', 'freimore.uni-freiburg.de', 'www.lafeltrinelli.it', 'da.wiktionary.org', 'www.gatineau.ca', 'www.bejarfm.es', 'www.boa.aragon.es', 'www.africafundacion.org', 'weblogs.hitwise.com', 'solydarnist.org', 'furniture.darlic.com', 'prensahistorica.mcu.es', 'www.pro-oriente.at', 'oaklandlibrary.org', 'be-tarask.wikipedia.org', 'www.mobafire.com', 'www.timelesshemingway.com', 'www.hearya.com', 'trueviralnews.com', 'video.google.com', 'volter.linneanet.fi', 'catalog.forsythpl.org', 'content.grammy.com', 'usatoday30.usatoday.com', 'agost.com', 'www.coanj.com', 'www.eff.org', 'tl.wikinews.org', 'fr.slideshare.net', 'malopolskie.pl', 'www.eesti.pl', 'classicrock.teamrock.com', 'www.trygvebarstad.no', 'www.millenniumpost.in', 'www.osw.waw.pl', 'www.buzer.de', 'www.imediamonkey.com', 'www.col.org.il', 'www.karateindia.org', 'lists.wikimedia.bg', 'admissions.colostate.edu', 'mk.m.wikipedia.org', 'www.sectsco.org', 'www.iccu.sbn.it', 'inlandempireoutlook.org', 'www.jpost.com', 'frr.wikipedia.org', 'www.polskiklub.org', 'www.s4ulanguages.com', 'www.elperiodico.cat', 'www.kho-kho.tripurasports.com', 'soccernews.ru', 'www.iplt20.com', 'www.senado.es', 'www.asumag.com', 'ru.wikimedia.org', 'www1.ncdc.noaa.gov', 'www.scsnh.com', 'richpeoplethings.com', 'brewiarz.pl', 'www.museodelturron.com', 'tutcat.linneanet.fi', 'retrosheet.org', 'www.sigla.ru', 'www.bloc.com', 'sevkrimrus.narod.ru', 'law.shu.edu', 'www.oswego.edu', 'www.radmor.com.pl', 'www.donvrem.dspl.ru', 'www.russikona.ru', 'www.politics.hu', 'www.doj.gov.za', 'www.cbssports.com', 'aalt.law.uh.edu', 'www.feltet.dk', 'www.saclibrary.org', 'scriptures.ru', 'simpsonswiki.com', 'mumbrella.com.au', 'mr.wikipedia.org', 'www.black-sabbath.com', 'www.continent.kz', 'emmyonline.com', 'pt.wikipedia.org', 'webcat2.library.ubc.ca', 'www.bogotapubliclibrary.org', 'www.weatherbase.com', 'www.alleyinsider.com', 'www.calgarystampede.com', 'www.naco.org', 'rednatura.jcyl.es', 'histo.letour.fr', 'www.hillslist.info', 'cohoweb.gsfc.nasa.gov', 'corporate.britannica.com', 'www.storm.mg', 'lessons.com.ua', 'www.google.by', 'factfinder.census.gov', 'www.mbrdna.com', 'www.ukrinform.ru', 'www.booksale.org', 'www.australianexplorer.com', 'duma.gov.ru', 'compress.ru', 'www.oaklandlibrary.org', 'inwestor.wp.pl', 'www.carnegiefoundation.org', 'aillarionov.livejournal.com', 'www.rostoffdon.ru', 'www.eisenhowerinstitute.org', 'www.brookings.edu', 'www.peopleschoice.com', 'www.regels.org', 'www.iac.com', 'www.linkedin.com', 'textbookrevolution.org', 'www.scielo.org.ar', 'www.mediageneral.com', 'www.wirelessweek.com', 'www.fao.org', 'www.promojaen.es', 'uludag.edu.tr', 'www.forces.gc.ca', 'carnegieclassifications.iu.edu', 'www.bogoslov.ru', 'www.epa.gov', 'map.karabin.com.ua', 'www.nwba.org', 'lastwordontennis.com', 'www.isni.org', 'www.cppr.in', 'ks.wikipedia.org', 'www1.umn.edu', 'search.slv.vic.gov.au', 'www.guregipuzkoa.net', 'www.dnsstuff.com', 'cyber-sports.net', 'www.army.mod.uk', 'www.languageinindia.com', 'sb.by', 'www.archives.gov', 'www.columbiatribune.com', 'www.grocjusz.edu.pl', 'www.marefa.org', 'www.trin.cam.ac.uk', 'ayp.unia.es', 'zahidonline.com', '360tourplanners.com', 'book.coe.int', 'books.google.it', 'www.nascar.com', 'www.koerber-stiftung.de', 'globenewswire.com', 'www.khomko.rv.ua', 'profit.ndtv.com', 'www.isidore-of-seville.com', 'www.wargs.com', 'www.cityrating.com', 'amritsarworld.com', 'www.snookerheritage.co.uk', 'www.axios.com', 'allafrica.com', 'webopac.csbno.net', 'warchronicle.com', 'www.coopercrier.com', 'arc.wikipedia.org', 'olympic.ind.in', 'library.lib.asu.edu', 'wadowice24.pl', 'sd.net.ua', 'www.ostersundsbibliotek.se', 'www.watchungnj.com', 'en.wikiversity.org', 'www.asiawaves.net', 'www.duxburyfreelibrary.org', 'cdmag.com:80', 'www.kanehsatakevoices.com', 'www.mjhnyc.org', 'www5.statcan.gc.ca', 'www.bayareacensus.ca.gov', 'healthcare.darlic.com', 'fcls.ent.sirsi.net', 'hr.wikipedia.org', 'opac.sba.uniroma3.it', 'goliath.ecnext.com', 'katalog.hacettepe.edu.tr', 'www.busel.org', 'transparentcities.in.ua', 'www.booksite.ru', 'ffresh.com', 'www.ktvb.com', 'www.wyborcza.pl', 'nla.gov.au', 'kvoa.com', 'www.adventia.org', 'www.atpworldtour.com', 'www.scu.edu', 'www.millburnlibrary.org', 'www.orthodox.ee', 'www.barb.co.uk', 'www.ngagreyhounds.com', 'rostov-gorod.info', 'www.ngm.com', 'qz.com', 'www.vokrugsveta.ru', 'app.beebom.com', 'www.heritage.nf.ca', 'ir.baidu.com', 'dnipr.kievcity.gov.ua', 'www.radioworld.com', 'jonronson.com', 'www.rwanda-online.org', 'mn.wikipedia.org', 'www.antena3.ro', 'iabotmemento.invalid', 'www.metmuseum.org', 'www.llm-guide.com', 'www.macrumors.com', 'wa.m.wikipedia.org', 'collegeave.colostate.edu', 'encyclopedia.ushmm.org', 'www.amazon.com.mx', 'literat.ug.edu.pl', 'www.agentura.ru', 'www.nacubo.org', 'her.oxfordjournals.org', 'www.relatsencatala.com', 'www.constitution.garant.ru', 'www.engineeringnews.co.za', 'www.cyclingarchives.com', 'www.winnipegfirst.ca', 'www.softmaker.com', 'dosweb.dos.gov.jo', 'catalogue.bnf.fr', 'cultura.elpais.com', 'beha.my1.ru', 'abc13.com', 'www.business-magazine.ru', 'www.balkaninsight.com', 'www3.isrl.illinois.edu', 'clemsonenergy.com', 'www.mdjnet.dk', 'www.apnews.com', 'www.wired.co.uk', 'www.climatestations.com', 'aes.iupui.edu', 'www.appleinsider.com', 'www.redwoodcity.org', 'babelnet.org', 'members.sailing.org', 'www.cambridge.org', 'www.ada.gov', 'www.modelsblog.info', 'graphics.latimes.com', 'www.rappler.com', 'www.polskieradio24.pl', 'khodoriv.info', 'ballparkdigest.com', 'repozytorium.fn.org.pl', 'opac.regione.veneto.it', 'm.wikimediafoundation.org', 'www.progreviews.com', 'bianet.org', 'www.rsva.ru', 'catalog.mbln.org', 'opac.unibas.it', 'library.upt.ro', 'catalog.hcpl.net', 'www.experiencekc.com', 'lpj.pl', 'roselandpubliclibrary.org', 'www.nimitz.net', 'www.e-reading-lib.org', 'www.diarioregistrado.com', 'zh-min-nan.wikipedia.org', 'www.kiis.com.ua', 'www.wielkiejol.com', 'www.bodley.ox.ac.uk', 'awardsdatabase.oscars.org', 'www.golfdigest.com', 'pl.wikibooks.org', 'www.yesforyouth.co.za', 'www.romea.cz', 'www.copyright.com', 'books.google.com.tr', 'forums.na.leagueoflegends.com', 'littleferry.bccls.org', 'www.greatbendzoo.com', 'avalon.law.yale.edu', 'www.businessinsider.com.au', 'www.trembita-sea.com', 'unidosok.com', 'www.tvn24.pl', 'gigaom.com', 'www.interfax-russia.ru', 'mje.mcgill.ca', 'www.anc.org.za', 'www.netflixinvestor.com', 'www.dailystar.co.uk', 'www.edge.org', 'www.bengalweb.com', 'books.google.cat', 'library.anu.edu.au', 'inventaire.io', 'www.zdnet.com', 'krakow.wyborcza.pl', 'www.google.co.uk', 'www.kerala.gov.in', 'bowlingfederationofindia.com', 'newyorkbusiness.com', 'eastbengalclub.co.in', 'web.archive.org', 'www.hottopos.com', 'zakon.rada.gov.ua', 'www.tegna.com', 'chinook.colorado.edu', 'web.icenetwork.com', 'www.crmvet.org', 'www.dgtpuntos.com.es', 'www.themodernword.com', 'charts.org.nz', 'www.asiapacificmemo.ca', 'www.censusdata.abs.gov.au', 'users.skynet.be', 'arjournals.annualreviews.org', 'help.twitter.com', 'www.skysvibe.com', 'www.museociclismo.it', 'www.malaga.es', 'www.bonappetit.com', 'www.designweek.co.uk', 'www.nrcan.gc.ca', 'www.freebuf.com', 'www.army.mil.pl', 'vikna.if.ua', 'tech.wp.pl', 'www.library.britishcouncil.org.in', 'brownvboard.org', 'ecoteuve.eleconomista.es', 'www.phillytrib.com', 'glottolog.org', 'library.catalogue.tcd.ie', 'www.amnesty.org', 'millionreferatov.ru', 'www.breakingnews.ie', 'www.cnhinews.com', 'www.historicalsocietyofsomersethills.org', 'www.hudsoncountyprosecutorsofficenj.org', 'sssr.net.ru', 'www.regiments.org', 'theoutline.com', 'www.diputaciolleida.es', 'www.edicionespeninsula.com', 'oxforddictionaries.com', 'www.zpu-journal.ru', 'ashipunov.info', 'simania.co.il', 'www.historychannel.com', 'www.krotov.org', 'polobasilicatasbn.sebina.it', 'www.idea.de', 'library.liv.ac.uk', 'uk.gamespot.com', 'udn.com', 'planthardiness.ars.usda.gov', 'www.jonronson.com', 'lingvopro.abbyyonline.com', 'is.m.wikipedia.org', 'river.land.kiev.ua', 'www.media-general.com', 'myplacefp7.wordpress.com', 'football.ya1.ru', 'www.ptbus.com', 'www.icrc.org', 'www.britannica.com.au', 'www.xxl-online.ru', 'library.upol.cz', 'www.efli.com', 'www.kultura.pl.ua', 'www.northvalelibrary.org', 'data.csb.gov.lv', 'id.wiktionary.org', 'www.oxforddictionaries.com', 'podroze.gazeta.pl', 'www.chrysostom.org', 'ir.lib.uwo.ca', 'orthodoxchurch.tw', 'www.peakbagger.com', 'www.mmtrojmiasto.pl', 'phaidra.univie.ac.at', 'www.filmpolski.pl', 'census.gov', 'www.duedil.com', 'bksjec.in', 'catalogo.unipd.it', 'linuxcentre.net', 'www.taday.ru', 'opac.sbn.it', 'books.google.md', 'www.kingshealthpartners.org', '%d0%b4%d0%be%d0%ba.%d0%b8%d1%81%d1%82%d0%be%d1%80%d0%b8%d1%8f.%d1%80%d1%84', 'www.kwbturow.pgegiek.pl', 'www.mpls.k12.mn.us', 'www.transparency.org', 'www.databasefootball.com', 'www.commondreams.org', 'libcat.dublincity.ie', 'www.pioneer.org', 'archive.northjersey.com', 'joancollinsarchive.blogspot.com', 'www.dhs.ca.gov', 'www.biographi.ca', 'www.state.me.us', 'www.ontarioplaques.com', 'www.kabaddiikf.com', 'www.bib.ulb.ac.be', 'www.dt.ua', 'rosreestr.ru', 'libcat.tamu.edu', 'www.womenshealth.com.au', 'osxdaily.com', 'radioinsight.com', 'biblioteca.ecci.edu.co', 'myrotvorets.center', 'www.europarl.europa.eu', 'www.nam.ac.uk', 'soccernetindia.net', 'www.footballdatabase.com', 'alcdata.narod.ru', 'www.mcn-nsn.gov', 'ig.wikipedia.org', 'www.lawrussia.ru', 'news.fastcompany.com', 'azb.wikipedia.org', 'www.ogcnice.com', 'media.clemson.edu', 'ortodoxszemle.wordpress.com', 'www.paiz.gov.pl', 'www.riarealty.ru', 'www-ssl.intel.com', 'www.montereycountyweekly.com', 'www.cochinillosegoviano.com', 'www.knowledge4africa.co.za', 'cy.m.wikipedia.org', 'www.ras.ru', 'artofwar.ru', 'www.laverdad.es', 'www.botsad.ru', 'profootballtalk.nbcsports.com', 'slam.nhs.uk', 'www.artehistoria.com', 'www.venuswilliams.com', 'www.niviasports.com', 'about.jstor.org', 'newsroom.kh.ua', 'yandex.by', 'innopac.unav.es', 'www.hcmc.org', 'www.fopl.org', 'cartel.buzznet.com', 'www.merail.com', 'williamsinstitute.law.ucla.edu', 'aplica.rae.es', 'base.consultant.ru', 'www.javeriana.edu.co', 'www.metrocouncil.org', 'bip.bogatynia.pl', 'www.goettle.com', 'data.worldbank.org', 'mshistory.k12.ms.us', 'library.ku.edu.tr', 'biznes.newsweek.pl', 'gapines.org', 'www.ndt1.com', 'www.kibo.com.tr', 'diariocronica.com.ar', 'www.motogp.com', 'www.greyhound.com', 'news.chinabyte.com', 'www.poloniasandiego.com', 'kommersant.ru', 'fan.tcm.com', 'www.diplomaticourier.com', 'autokult.pl', 'www.outofthepastblog.com', 'www.idigitaltimes.com', 'india.blogs.nytimes.com', 'www.gazeta-pravda.ru', 'blogs.biomedcentral.com', 'tbivision.com', 'purl.oclc.org', 'opac.braidense.it', 'www.jies.org', 'www.galeon.com', 'www.mexicocity.gob.mx', 'www.porsche-se.com', 'library.car.chula.ac.th', 'uk.wikiquote.org', 'cicentre.com', 'www.guadalajara.gob.mx', 'www.ubcmedia.com', 'katalog.nukat.edu.pl', 'www.ncpedia.org', 'dt.ua', 'view.koreaherald.com', 'eng.stat.gov.tw', 'images.forbes.com', 'www.munihuaral.gob.pe', 'charlierose.com', 'vision.gnb.ca', 'opencorporates.com', 'www.catholicnewsagency.com', 'talygen.com', 'slpl.org', 'www.mmuncii.ro', 'www.orange-business.com', 'baileylib.hendrix.edu', 'www.foodandwine.com', 'www.hrc.utexas.edu', 'www.infomap24.com', 'www.stpaul.gov', 'www.royal.gov.uk', 'www.minutouno.com', 'timashov.com.ua', 'www.autozine.org', 'www.tiscali.co.uk', 'webcat.warwick.ac.uk', 'www.cext.es', 'www.history.co.uk:80', 'www.acog.org', 'eune.leagueoflegends.com', 'opac.regione.sardegna.it', 'doninformburo.ru', 'autonom.pl', 'astronaut.ru', 'e.korsoun.free.fr', 'www.mecexpo.com', 'revista.dgt.es', 'stats.wikimedia.org', 'www.rolandcollection.com', 'servir.uevora.pt', 'www.lavanguardia.com', 'www.edgewaterhistory.org', 'www.news.tj', 'www.soweto.gov.za', 'www.hronos.km.ru', 'www.focus.de', 'www.bibliotekfh.se', 'www.ess.co.at', 'www.sportsdaily.ru', 'hkall.hku.hk', 'www.revistaeria.es', 'therightscoop.com', 'www.granadanatural.com', 'encarta.msn.com', 'www.donostia.eus', 'www.kirjasto.sci.fi', 'eol.org', 'www.indoorcricketusa.com', 'www.stat.kg', 'turismo.opennemas.com', 'www.pstbi.ccas.ru', 'www.iat.uni-leipzig.de', 'www.housing.sjsu.edu', 'www.oca.org', 'www.bibliando.it', 'www.firstworldwar.com', 'sport.wp.pl', 'www.biblioteket.stockholm.se', 'www.chauy.com', 'www.ketrzyn.mm.pl', 'opl.co.in', 'climexp.knmi.nl', 'catalogo.bn.gov.ar', 'busca.saraiva.com.br', 'hispania.revistas.csic.es', 'www.rockworldmagazine.com', 'ine.es', 'www.pophistorydig.com', 'id.ndl.go.jp', 'www.ktul.com', 'www.camarateruel.com', 'www.diecezja.rzeszow.pl', 'korabley.net', 'anti-offshore.livejournal.com', 'www.mondadoristore.it', 'www.sba.unifi.it', 'kingfeatures.com', 'donate.wikimedia.org', 'maps.latimes.com', 'safari.informit.com', 'hi.wiktionary.org', 'indianexpress.com', 'www.lamborghini.com', 'www.greenbuildingsnyc.com', 'www.pravoslavieto.com', 'us.blastingnews.com', 'comin.kmu.gov.ua', 'extensions.services.openoffice.org', 'www.chitai-gorod.ru', 'www.movoto.com', 'www.dailystar.com.lb', 'forum.metro.donetsk.ua', 'baranowicze.3dn.ru', 'library.uark.edu', 'opac.library.kr.ua', 'www.toplukatalog.gov.tr', 'media.cq.com', 'www.msfc.com', 'sevillapedia.org', 'freepages.genealogy.rootsweb.ancestry.com', 'www.laroussecocina.mx', 'www.mizantropia.org', 'cityblog.com.ua', 'census2011.adrianfrith.com', 'www.mediaspy.org', 'mysteriouscountry.ru', 'www.sovetika.ru', 'denver.cbslocal.com', 'www.goodreads.com', 'www.sydneywater.com.au', 'pressroom.target.com', 'uainfo.org', 'divit.library.itu.edu.tr', 'aalto.finna.fi', 'www.pereplet.ru', 'www.aa.com.tr', 'innovbusiness.ru', 'skpkpss.ru', 'digital.library.pitt.edu', 'valeria.cilea.it', 'citypopulation.de', 'www.slobodnaevropa.org', 'www.australiangamesawards.com', 'deyna.info', 'sport.pravda.sk', 'ch.wikipedia.org', 'www.gadget4boys.com', 'search.barnesandnoble.com', 'india-photo.ru', 'www.eurolab.ua', 'www.olimpbase.org', 'www.anticorrupcion.gov.ar', 'uscc.com', 'www.historiasiglo20.org', 'www.president.lv', 'www.sonyericssonwtatour.com', 'www.uofaweb.ualberta.ca', '186.71.28.67', 'www.chicanef1.com', 'www.stablebelts.co.uk', 'italianvideogameawards.com', 'russkie-tsari.ru', 'www.slovoichas.in.ua', 'nominatim.openstreetmap.org', 'www.co.hunterdon.nj.us', 'www.politicargentina.com', 'medievalrus.csu.ru', 'www.capital.ua', 'archive.is', 'www.buffalonews.com', 'www.zum.de', 'winners.webbyawards.com', 'whotv.com', 'www.geophysik.rwth-aachen.de', 'www.vikingline.ru', 'www.vatican.va', 'www.brightcove.com', 'www.mcalesternews.com', 'www.mysuruwarriors.com', 'www.downtownkc.org', 'www.libcat.oxfordshire.gov.uk', 'library.ohio-state.edu', 'www.kccall.com', 'castillogrupo.com', 'www.segodnia.ru', 'www.thenewjournalsquare.com', 'www.cria.ca', 'daccess-ods.un.org', 'www.essexcountyofnj.com', 'www.supremecourtofindia.nic.in', '1tv.com.ua', 'www.wco.ru', 'ams-ix.net', 'www.mrftyres.com', 'www.newsofdelhi.com', 'www.tv-soyuz.ru', 'www.parafiarzepin.pl', 'rebelya.pl', 'www.maestrazgo.org', 'www.tripsavvy.com', 'jv.wikipedia.org', 'www.nvtc.gov', 'ieeexplore.ieee.org', 'missoulian.com', 'www.red2000.com', 'www.cygnusproductions.com', 'www.biuroprasowe.plus.pl', 'www.stlouis-mo.gov', 'www.njspotlight.com', 'poznajpolske.onet.pl', 'www.bankshot.com', 'www.mtv3.fi', 'rejestr.nil.org.pl', 'ar.wikinews.org', 'www.ibnlive.com', 'www.bestplaces.net', 'www.aif.ru', 'www.bamf.de', 'weblognews.ir', 'www.books.com.tw', 'digit.pism.pl', 'www.eramedia.com.ua', 'tbdbitl.osu.edu', 'www.haaretz.co.il', 'srn.wikipedia.org', 'www.amazon.cn', 'books.slovo.bg', 'www.icon-art.info', 'catalog.denverlibrary.org', 'www1.ku.edu.tr', 'www.duel.ru', 'www.n-tv.de', 'www.aldia.cr', 'overcomingapartheid.msu.edu', 'www.cityofpacificgrove.org', 'www.stat.gov.pl', 'ehstoday.com', 'csb.m.wikipedia.org', 'ko.m.wikipedia.org', 'hif.wikipedia.org', 'services.parliament.uk', 'people.com', 'nrs.harvard.edu', 'pt5.aretne.com', 'www.infoq.com', 'gv.wikipedia.org', 'holloway.co.nz', 'newyork.mets.mlb.com', 'www.dwds.de', 'www.morriscanal.org', 'www.deadmicrophone.org', 'glimmerglass.org', 'www.milannews.it', 'hip1.sjvls.org', 'www.bgpost.bg', 'www.fiba.basketball', 'ukrlit.org', 'www.onecountry.com', 'www.alphr.com', 'www.storsjoodjuret.com', 'megabook.ru', 'www.411mania.com', 'froogle.google.com', 'www.letemps.ch', 'www.osha.gov', 'seattletimes.nwsource.com', 'www.625.pl', 'www.euskomedia.org', 'www.allmusicguide.com', 'bwfcontent.tournamentsoftware.com', 'waldo.library.nashville.org', 'money.com', 'www.oed.com', 'www.indianarchery.info', 'www.gsk.com.au', 'tvline.com', 'www.essex.edu', 'www.unionromani.org', 'www.pearljam.com', 'bransk.eu', 'ultimatebib.sns.it', 'trst.narod.ru', 'www.kcmo.org', 'www.ddaily.co.kr', 'signup.leagueoflegends.com', 'www.kanienkeha.net', 'www.spidersweb.pl', 'www3.who.int', '212.145.146.10', 'archives.chicagotribune.com', 'infox.ru', 'www.gov.je', 'usps.whitepages.com', 'www.thebaseballcube.com', 'www.olsztyn24.com', 'kramerius.mzk.cz', 'sapl.sat.lib.tx.us', 'www.india.gov.in', 'opac.tulsalibrary.org', 'turbofuture.com', 'theudericus.free.fr', 'patrio.org.ru', 'www.routesonline.com', 'www.usforex.com', 'sam80dev3.blogspot.com', 'ko.wikiquote.org', 'biografieonline.it', 'www.gamesradar.com', 'www.nat-geo.ru', 'www.ridgewoodlibrary.org', 'cbk-zam.wikipedia.org', 'www.overcomingapartheid.msu.edu', 'www.tour.colostate.edu', 'www.legifrance.gouv.fr', 'ziarullumina.ro', 'www.autogen.pl', 'publishingperspectives.com', 'aleph3.libnet.ac.il', 'www.elporvenir.com.mx', 'ml.wikipedia.org', 'sk.m.wikipedia.org', 'csugreeks.colostate.edu', 'www.abebooks.it', 'ketupa.net', 'www.persee.fr', 'www.timeanddate.com', 'www.museum.tv', 'www.colegios-valencia.es', 'www.rarenewspapers.com', 'www.business-gazeta.ru', 'www.bizasialive.com', 'www2.army.mod.uk', 'ar.wikiversity.org', 'clio.fivecolleges.edu', 'health.usnews.com', 'voices.washingtonpost.com', 'www.newsru.ru', 'www.myrivne.org', 'www.hr.gov.nt.ca', 'f1wm.pl', 'news.sportbox.ru', 'orthodoxwiki.org', 'www.slg-coe.org.ua', 'opactrapani.sebina.it', 'www.unisa.edu.au', 'www.deccanherald.com', 'tvlistings.zap2it.com', 'www.tcz.pl', 'sport.se.pl', 'www.bn.br', 'www.dival.es', 'www.haworthlibrary.org', 'www.kino-teatr.ru', 'www.burgosconecta.es', 'film.wp.pl', 'interactive.unwomen.org', 'www.esquire.com', 'www.booky.fi', 'www.ocln.org', 'www.setimes.com', 'www.btcomms.com', 'he.m.wikipedia.org', 'worldhistoryproject.org', 'www.airspacemag.com', 'perevodika.ru', 'www.vladimironline.ru', 'uwashington.worldcat.org', 'zh.wikiversity.org', 'data.beeldengeluid.nl', 'www.neooffice.org', 'vi.wikiquote.org', 'opac.unipr.it', 'hipertextual.com', 'www.svobodanews.ru', 'www.airportjournals.com', 'www.nbc5.com', 'africanarguments.org', 'www.zoopark-rostov.ru', 'shanghaicenter.harvard.edu', 'lupa.by', 'www.pressacademy.com', 'www.gp.gov.ua', 'www.knopfler.com', 'crosarka.com', 'www.nga.org', 'socialarchive.iath.virginia.edu', 'www.regione.sicilia.it', 'www.eldiario.es', 'www.terneracharra.org', 'www.gettysburgsports.com', 'www.unifi.it', 'wsbf.net', 'www.logoblog.org', 'www.fatenhamama.com', 'english.lem.pl', 'articles.sfgate.com', 'www.europapress.es', 'www.ilfattoquotidiano.it', 'www.behardware.com', 'www.tanap.net', 'www.nciv.net', 'aleph.library.upt.ro', 'www.radawarszawy.um.warszawa.pl', 'pres-centr.ck.ua', 'www.regiments.org:80', 'www.arrakis.es', 'baseballhall.org', 'www.dip-caceres.es', 'www.diveevo.ru', 'www.scgenealogia.org', 'credo.press', 'www.librarytechnology.org', 'taf.by', 'unina2.on-line.it', 'blog.librarything.com', 'www.worldpostalcodes.org', 'dev.aol.com', 'www.formula2.net', 'www.dailybulletin.com', 'www.gocrimson.com', 'www.sardegnadigitallibrary.it', 'www.peabody.uga.edu', 'www.ohwejagehka.com', 'webprod2.leeds.ac.uk', 'vaski.finna.fi', 'itlboard.ewha.ac.kr', 'believeinbetter.sky.com', 'www.persecution.org', 'www.ausanthrop.net', 'bookitpub.krokom.se', 'muurrbay.org.au', 'sverigesradio.se', 'pepperdine.worldcat.org', 'h-g-r.eu', 'www.surrenderat20.net', 'www.cuke.com', 'graph.document.kremlin.ru', 'zakon3.rada.gov.ua', 'www.transbridgelines.com', 'www.ucalgary.ca', 'www.channel4.com', 'es.wikipedia.org', 'www.france24.com', 'www.opendoors.de', 'www.icd9data.com', 'inogolo.com', 'rcp-brcko.com', 'www.naturalist.if.ua', 'www.eubam.org', 'drohobych.co.ua', 'pcn.loc.gov', 'www.losmejoresdestinos.com', 'www.dof.gob.mx', 'changingnewscasts.wordpress.com', 'chemapps.stolaf.edu', 'www.centraljersey.com', 'wcatwc.arh.noaa.gov', '140.141.130.3', 'www.martin.romano.org', 'www.johnralstonsaul.com', 'search.lib.monash.edu.au', 'www.ordens.presidencia.pt', 'www.ukrlib.com.ua', 'avmalgin.livejournal.com', 'tindelgadoec.wordpress.com', 'news.wenweipo.com', 'rmy.wikipedia.org', 'www.michiguide.com', 'docs.newsbank.com', 'mind.ua', 'www.smh.com.au', 'www.thehansindia.com', 'abell.as.arizona.edu', 'www.wakacje.pl', 'www.dipalme.org', 'infos.joyyang.com', 'www.mrofoundation.org', 'demografia.stat.gov.pl', 'www.hyderabad.cricket', 'www.senato.it', 'orendaenergy.com', 'www.chemicals.news', 'mrada.ochakiv.info', 'ua.comments.ua', 'www.amnesty.org.uk', 'www.twitter.com', 'repository.library.georgetown.edu', 'helpforum.sky.com', 'www.archjournal.ru', 'novayagazeta.ru', 'www.dw.com', 'www.wk.pl', 'www.washingtontimes.com', 'github.com', 'www.timeshighereducation.com', 'old2.svabodaby.net', 'www.news-medical.net', 'www.australiangeographic.com.au', 'obamawhitehouse.archives.gov', 'www.jourclub.ru', 'leonialibrary.org', 'beacon.findbuch.de', 'www.sec.gov', 'www.uciprotour.com', 'nebraskaradionetwork.com', 'www.56.com', 'www.hongkongfp.com', 'samlib.ru', 'findmybook.de', 'ka.m.wikipedia.org', 'ulb.summon.serialssolutions.com', 'www.jeremyreimer.com', 'www.kiel.de', 'www.bestwebbuys.com', 'www.ksgrains.com', 'www.thelocal.se', 'wwww.hudsoncountyclerk.org', 'sports.ndtv.com', 'izdatsovet.ru', 'www.wienerzeitung.at', 'www.voopiik-don.ru', 'www.versalamanca.com', 'www.jpl.nasa.gov', 'encore.barriepubliclibrary.ca', 'espnmediazone.com', 'www.doncaster.gov.uk', 'www.scotsman.com', 'privacy.msn.com', 'www.wikiquote.org', 'kceconomy.org', 'imtlucca.comperio.it', 'www.voachinese.com', 'www.csb.gov.lv', 'www.newsru.com', 'www.davniyhalych.com.ua', 'aleph.uma.pt', 'www.doorbraak.eu', 'a9.com', 'www.overnights.tv', 'www.aiba.org', 'www.allbookstores.com', 'opac.units.it', 'antyapps.pl', 'www.ociogipuzkoa.com', 'www.bartonccc.edu', 'csncoyotes.com', 'www.diputacionalicante.es', '151.99.174.27', 'www.december.com', 'gska2.rada.gov.ua', 'josiah.brown.edu', 'www.ohchr.org', 'www.lyndhurstnj.org', 'www.nlr.ru', 'www.tvradiobits.co.uk', 'www.searchbox.org', 'www.tindelgado.com', 'www.svd.se', 'www.berkshireeagle.com', 'salernobibliorete.on-line.it', 'www.orthodoxa.org', 'www.thewaltdisneycompany.com', 'www.noranbook.net', 'www.agost.es}', 'abetka.ukrlife.org', 'www.und.nodak.edu', 'uk.pc.ign.com', 'runews24.ru', 'bibliotecadigital.jcyl.es', 'www.torfaen.gov.uk', 'www.adecocir.es', 'ent.qq.com', 'www.oneontahistory.org', 'articles.sun-sentinel.com', 'www.russianamericanbusiness.org', 'bn.m.wikipedia.org', 'www.scotland.gov.uk', 'blog.nielsen.com', 'www.valaam.ru', 'play.com', 'www.foreignpolicy.com', 'statinja.gov.jm', 'archive.wired.com', 'www.rem.routledge.com', 'rostov.gks.ru', 'olo.m.wikipedia.org', 'mg.co.za', 'sabi.ufrgs.br', 'fabian.balearweb.net', 'www.atwonline.com', 'psychcentral.com', 'www.unesco.ru', 'www.ncaa.com', 'ug.rbc.ru', 'collage.cityoflondon.gov.uk', 'www.russ.ru', 'ecoethics.ru', 'www.minneapolis.org', 'malmo.stadsbibliotek.org', 'www.honeywellnow.com', 'minerva.ufrj.br', 'www.sustainabilityinstitute.org', 'ang.m.wikipedia.org', 'www.reddithelp.com', 'www.swiatseriali.pl', 'poema.pl', 'www.barrons.com', 'www.grreporter.info', 'surrogate.morriscountynj.gov', 'lj.rossia.org', 'www.mod.gov.lv', 'news.softpedia.com', 'iss.ndl.go.jp', 'blogs.lse.ac.uk', 'pub.stat.ee', 'mediatel.co.uk', 'www.galvanicline.ru', 'www.unioviedo.net', 'biblioteca.utcb.ro', 'www.herald.ie', 'httpool.ru', 'www.i-r-p.ru', 'ahvalnews.com', 'www.revolutionpark.ru', 'tigerprints.clemson.edu', 'meiraacademy.org', 'www.roux.co.za', 'www.bizjournals.com', 'webarchive.loc.gov', 'www.kotv.com', 'www.ddgi.org', 'www.forbes.com.mx', 'www.rusbaptist.stunda.org', 'www.xbitlabs.com', 'fiu-vro.wikipedia.org', 'www.hitfm.ua', 'www150.statcan.gc.ca', 'www.monctonpubliclibrary.ca', 'www.mobilecrunch.com', 'www.zidaho.com', 'www.calcuttaweb.com', 'empendium.com', 'www.bulwer-lytton.com', 'www.hesa.ac.uk', 'www.puntoinfo.idecnet.com', 'www.kaziev.ru', 'www.observer.materik.ru', 'www.researchgate.net', 'www.santafetrailresearch.com', 'arxiv.org', 'www.citypages.com', 'jbo.wikipedia.org', 'www.oratlas.com', 'everystevejobsvideo.com', 'www.vip.org.rs', 'www.wikimedia.no', 'www.indianexpress.com', 'www.itcilo.org', 'abcmedianet.com', 'ab.wikipedia.org', 'www.brocgaus.ru', 'd-nb.info', 'www.eluniversal.com.mx', 'investor.twitterinc.com', 'sn.wikipedia.org', 'challenge.co.uk', 'www.sccgov.org', 'radicalinfo.wordpress.com', 'zerocarbonista.com', 'www.co.fresno.ca.us', 'libweb.lib.tcu.edu', 'cyberabadpolice.gov.in', 'www.ingentaconnect.com', 'www.ucpress.edu', 'cityreporter.ru', 'si.wikipedia.org', 'catalog.libvar.bg', 'elib.nlu.org.ua', 'www.computerworld.com', 'www.beckershospitalreview.com', 'www.gdynia.pl', 'www.walesonline.co.uk', 'www.mtholyoke.edu', 'www.montereylibrary.org', 'www.anderson.ucla.edu', 'lmo.m.wikipedia.org', 'biorxiv.org', 'www.rightlivelihood.org', 'www.book-bg.com', 'setonpaloalto.org', 'tv.cream.org', 'www.vera.org', 'www.elle.com', 'comoros.africadata.org', 'nj-passaiccounty.civicplus.com', 'www.ozon.ru', 'www.lexpress.fr', 'www.hartz.com', 'www.kcsistercities.org', 'india.nba.com', 'www.buscorestaurantes.com', 'www.16dli.net', 'www.sansilvestredeguzman.es', 'www.mineralienatlas.de', 'www.tulsaworld.com', 'www.bantu-languages.com', 'yun.baidu.com', 'www.heiligenlexikon.de', 'www.wtatennis.com', 'lp3.polskieradio.pl', 'mjp.univ-perp.fr', 'revisionisthistory.com', 'dontourism.ru', 'www.bpaww.com', 'bxr.wikipedia.org', 'freepages.genealogy.rootsweb.com', 'www.it-markt.ch', 'www.daytonhouse.org', 'www.gdconlineawards.com', 'www.academiacanarialengua.org', 'www.cgb.info', 'www.yaz8.com', 'aleph.library.nottingham.ac.uk', 'simple.m.wikipedia.org', 'innopac.lib.ryerson.ca', 'www.gallup.com', 'teanecklibrary.org', 'haititempo.com', 'www.afrinic.net', 'www.polishmarket.com.pl', 'petr-shelokhonov.narod.ru', 'jmp.ru', 'finance.cjzg.cn', 'www.anticompromat.org', 'cdiak.archives.gov.ua', 'eu.univ.kiev.ua', 'opac.apat.it', 'do.wp.mil.pl', 'golf.grinnell.edu', 'angeles.sierraclub.org', 'www.ctmam.es', 'www.fastcompany.com', 'www.shopwiki.com', 'www.prosoundnews.com', 'harvard.edu', '%d1%84%d1%81%d0%b8%d0%bd.%d1%80%d1%84', 'www.sfltimes.com', 'www.columbiamissourian.com', 'nationalwomenshistoryalliance.org', 'ru.leagueoflegends.com', 'physics.nist.gov', 'www.businesswire.com', 'www.fabmall.com', 'mapy.google.pl', 'www.sanbi.org', 'www.smswgtn.org', 'ipac2.vpl.ca', 'catholicnews.org.ua', 'www.glos-znad-pregoly.org', 'www.emergencysquad.com', 'www.viamagazine.com', 'taibnet.sinica.edu.tw', '193.205.80.56:8991', 'biblio.adm.unipi.it', 'broadwayworld.com', 'timpani.globescope.com', 'www.patriotledger.com', 'cgi.cnn.com', 'allies.tamu.edu', 'www.ffrandonnee.fr', 'www.caa.co.uk', 'education.state.mn.us', 'wikimedia.org.uk', 'www.newsroom.kh.ua', 'nvdatabase.swarthmore.edu', 'www.chduero.es', 'www.visitgreatbend.com', 'www.autonoom.net', 'search.rsl.ru', 'goraknig.org', 'komsomol.front.ru', 'www.cloudflare.com', 'www.siguaray.com', 'www.dionnewarwickinternationalfanclub.com', 'www.graptolite.net', 'michigan.gov', 'salamancartvaldia.es', 'waikato.lconz.ac.nz', 'sev.prnewswire.com', 'www.swissbib.ch', 'searchmobius.org', 'xtratime.in', 'gil.gatech.edu', 'ext.wikipedia.org', 'tim-lit.narod.ru', 'online.zakon.kz', 'thelonsdalebattalion.co.uk', 'ru.wikisource.org', 'www.archives.state.al.us', 'sr.wikipedia.org', 'www.medialifemagazine.com:8080', 'www.flls.org', 'www.computerhistory.org', 'www.ksh.hu', 'katalog.kfbz.cz', 'fennica.linneanet.fi', 'es.wikivoyage.org', 'www.firstlanguages.org.au', 'news.17173.com', 'www.garminasus.com', 'biblia.deon.pl', 'www.dailybreeze.com', 'www.eleconomista.es', 'orcid.org', 'uudised.err.ee', 'mediafm.net', 'www.lacnic.net', 'www.betterworldbooks.com', 'www.cameraguild.com', 'www.bibliotekacyfrowa.pl', 'www.statsbiblioteket.dk', 'www.usatf.com', 'spanishcharts.com', 'dpbuvr.org.ua', 'ms.wikipedia.org', 'circuit.sdsu.edu', 'catalog.lib.uchicago.edu', 'www.avweb.com', 'www.nrk.no', 'bikemag.hu', 'www.nationalregisterofhistoricplaces.com', 'lgbtweekly.com', 'www.minneapolisdid.com', 'da.m.wikipedia.org', 'www.iacs.org.uk', 'www.herald.co.zw', 'grebinky.in.ua', 'mic.com', 'porbase.bnportugal.pt', 'www.stanfordalumni.org', 'www.collegegridirons.com', 'business.highbeam.com', 'www.astronaut.ru', 'www.archive.org', 'nlsa.on.worldcat.org', 'www.sacp.org.za', 'www.mainlesson.com', 'www.degruyter.com', 'www.motornovosti.ru', 'polona.pl', 'apiv3.iucnredlist.org', 'www.elturow.pgegiek.pl', 'downloadfestival.co.uk', 'linc.nus.edu.sg', 'www.tassphoto.com', 'visionofhumanity.org', 'www.krakowpodgorze.zhp.pl', 'www.huffingtonpost.in', 'clerk.assembly.ca.gov', 'www.grovemusic.com', 'www.sistemabibliotecheirpine.it', 'news.kmib.co.kr', 'jig.ru', 'www.mojgorod.ru', 'www.news18.com', 'catalogue.halifaxpubliclibraries.ca', 'www.cwgc.org', 'www.joshuaproject.net', 'upstart.bizjournals.com', 'www.bookcost.com', 'www.tamesisbooks.com', 'nadbuhom.pl', 'www.londonrecruits.com', 'autores.uy', 'thefilmdetective.tv', 'sli.uvigo.es', 'cu.wikipedia.org', 'konflikty.wp.pl', 'www.nationalgeographic.jp', 'www.diputados.gov.ar', 'www.lva.virginia.gov', 'www.unian.info', 'www.internetlivestats.com', 'ru.ucoin.net', 'www.thesandb.com', 'www.parliament.gov.zm', 'www.sardegna-clima.it', 'joinmvpd.com', 'pogoda.wp.pl', 'www.thewalkingdeadnomansland.com', 'www.nik.gov.pl', 'www.sandiego.gov', 'cdnc.ucr.edu', 'memoirs.ru', 'www.digitimes.com', 'prettybird.co', 'www.newswala.com', 'pt.m.wikipedia.org', 'revista-hc.com', 'goal.com', 'www.finansowysupermarket.pl', 'opacrea.comune.re.it', 'lj.libraryjournal.com', 'xn--d1aml.xn--h1aaridg8g.xn--p1ai', 'www.cup2002.ru', 'www.proartsjc.org', 'uk.theinquirer.net', 'th.wikiquote.org', 'www.oki-regensburg.de', 'minspace.narod.ru', 'www.nl.go.kr', 'www.nueva-ciudad.com.ar', 'usnews.nbcnews.com', 'nutleypubliclibrary.org', 'www3.hants.gov.uk', 'www.imore.com', 'www.bostonradio.org', 'minneapolisparks.org', 'www.fivb.org', 'www.knomos.org', 'am.wikipedia.org', 'www.lyndhurstengine1.com', 'www.wnba.com', 'www.kurginyan.ru', 'aleph.cvut.cz', 'infohawk.uiowa.edu', 'www.koreabasketball.or.kr', 'www.mikeoldfield.org', 'hooke.lib.cam.ac.uk', 'www.pravmir.ru', 'm.marketscreener.com', 'www.ridgefieldparkpubliclibrary.org', 'rsport.ria.ru', 'pac.daytonmetrolibrary.org', 'hip.geelonglibraries.vic.gov.au', 'mdf.wikipedia.org', 'club.americanjazzmuseum.org', 'arstechnica.com', 'chgs.umn.edu', 'www.rcio.rsu.ru', 'dovidka.com.ua', 'catalog.imcpl.org', 'wigi.wmflabs.org', 'www.recode.net', 'opac.unilorin.edu.ng', 'www.peoples.ru', 'catalog.multcolib.org', 'factfinder2.census.gov', 'www.bogguide.dk', 'www.lyndhurstpolice.com', 'www.dipujaen.es', 'www.musicmight.com', 'pl.m.wikipedia.org', 'nov.wikipedia.org', 'www.rochestercitynewspaper.com', 'www.manchesterhistoric.org', 'www.devonremembers.co.uk', 'actrav.itcilo.org', 'www.geektown.co.uk', 'www.senatehouselibrary.ac.uk', 'sportarena.com', 'www.hswgdynia.pl', 'ukr.radio', 'www.shelfari.com', 'www.somalilandtimes.net', 'www.istp.org', 'www.wholefoodsmarket.com', 'www.timewarner.com', 'www.d3hoops.com', 'www.terra.com', 'ignca.nic.in', 'www12.statcan.gc.ca', 'www.pbs.org', 'www.metacritic.com', 'www.namcobandaigames.com', 'www.dane.gov.co', 'www.southwestjournal.com', 'www.mumbaimirror.com', 'www.classicrockmagazine.com', 'data.rero.ch', 'claretianvocations.claretians.org', 'www.orderofdanilo.org', 'en.wikinews.org', 'www.minonline.com', 'actors.mandy.com', 'www.kng750.kanet.ru', 'www.epochtimes.com', 'www.collectionscanada.gc.ca', 'www.englishpen.org', 'www.presseurop.eu', 'www.huawei.com', 'evergreen.noblenet.org', 'www.rian.ru', 'www.kolmarden.com', 'albert.krakow.pl', 'ru.wiktionary.org', 'www.statistik.at', 'compulenta.computerra.ru', 'www.booksense.com', 'atheistsforhumanrights.org', 'elguanche.net', 'bugzilla.wikimedia.org', 'futureofwork.mit.edu', 'www.agenciaandaluzadelagua.com', 'opac.uniba.it', 'www.csfd.cz', 'forums.atomicmpc.com.au', 'www.waterstones.com', 'www.csumentor.edu', 'pisarze.pl', 'serenawilliams.com', 'www.pegi.info', 'www.hrono.ru', 'www.zchor.org', 'liberea.gerodot.ru', 'visitoswegocounty.com', 'www.somaliland.org', 'www.adinehbook.com', 'www.gddkia.gov.pl', 'www.torun.pl', 'catalog.hathitrust.org', 'fakty.ua', 'www.libma.ru', 'www.journalmpls.com', 'www.public-ledger.com', 'peruhits.com', 'whatson.sling.com', 'biblioteche.provinciasondrio.gov.it', 'global.rakuten.com', 'www.bessarabia.it', 'kent.spydus.co.uk', 'www.slcl.org', 'goldfishnet.km.ua', 'dnistrove.narod.ru', 'www.theprospectgroup.com', 'www.sciencedaily.com', 'www.nowastrategia.org.pl', 'leehday.com', 'www.isfdb.org', 'africanhistory.about.com', 'www.kolkatamycity.com', 'www.gedonet.com', 'www.raco.cat', 'money.aol.com', 'books.google.com.ar', 'forum.nashtransport.ru', 'id.sbn.it', 'tl.wiktionary.org', 'www.pravo.by', 'www.tcplfoundation.org', 'metrowarszawa.gazeta.pl', 'www.subrotocup.org', 'g1.globo.com', 'tcabasa.org', 'renovarcarnetentenerife.com', 'vechervkarpatah.at.ua', 'disser.spbu.ru', 'espreso.tv', 'wakeipac.co.wake.nc.us', 'www.kdgltv.com', 'www.handbook.fas.harvard.edu', 'search.library.wisc.edu', 'www.hotstar.com', 'www.applet-magic.com', 'www.censtatd.gov.hk', 'info.break.com', 'www.ftchinese.com', 'www.dcd.zju.edu.cn', 'yi.wikipedia.org', 'rozklady.bieleccybus.pl', 'ta.wikisource.org', 'www.mymovies.it', 'thebreakthrough.org', 'nn.wikipedia.org', 'zoomindianmedia.wordpress.com', 'www.unhchr.ch', 'onesearch.slq.qld.gov.au', 'libserv4.rhul.ac.uk', 'www.haaretz.com', 'www.eltrecetv.com.ar', 'www.lfla.org', 'whitereference.blogspot.com', 'greatbendks.net', 'www.dmgt.co.uk', 'drohobych.rada4you.org', 'lol.garena.com', 'library.leeds.ac.uk', 'www.thisamericanlife.org', 'ja.wiktionary.org', 'www.sciencedirect.com', 'thefangarage.com', 'www.segodnya.ua', 'omaha.net', 'www.robertboynton.com', 'fairview.bccls.org', 'brockhaus.de', 'news.stlpublicradio.org', 'czywiesz.polki.pl', 'encore.toledolibrary.org', 'www.greatbend.org', 'transferenciadevehiculos.com.es', 'docs.kodeks.ru', 'www.lasiciliainrete.it', 'bibliotecasicl.pt', 'www.chemistryworld.com', 'library.minlib.net', 'www.magrama.gob.es', 'kherson.net.ua', 'www.historyofwar.org', 'www.carlstadtlibrary.org', 'www.nasdaq.com', 'newsru.com', 'www.cincopa.com', 'mpe.kmu.gov.ua', 'mukolaiv-sh2.at.ua', 'www.erielackhs.org', 'planetyakutia.com', 'oce.leagueoflegends.com', 'www.enagas.es', 'agra.nic.in', 'en.wikipedia.org', 'www.statistics.gov.tl', '205.247.101.11', 'www.dhm.de', 'apps.jw.org', 'ro.wikipedia.org', 'isip.sejm.gov.pl', 'svn.wikimedia.org', 'www.krimoved.crimea.ua', 'press.arrivenet.com', 'corporate.darlic.com', 'americanfitnessindex.org', 'staging.tiscali.co.uk', 'original.britannica.com', 'www.ifawb.com', 'hhs.sagepub.com', 'zh-yue.wikipedia.org', 'calendate.com.ua', 'www.stltoday.com', 'plot.ly', 'burshtyn.br.if.ua', 'almena.uva.es', 'www.abante.com.ph', 'www.afrocom.ru', 'www.ethnologue.com', 'www.hear-it.org', 'www.fecwis.org', 'www.androidauthority.com', 'www.neptun8.ru', 'www.datafirst.uct.ac.za', 'swiatczytnikow.pl', 'beta-ege.ru', 'naviny.by', 'www.sjsualumni.com', 'www.nationalgeographic.kz', 'web.coachusa.com', 'wikidata.org', 'ln.wikipedia.org', 'lletra.uoc.edu', 'www.pbi.edu.pl', 'lafutbolteca.com', 'www.charter.com', 'www.transfermarkt.es', 'www.rbcwealthmanagement.com', 'www.antikbuch24.de', 'www.livingstonlibrary.org', 'horyzont.narod.ru', 'www.eol.org', 'www.wiesbadener-tagblatt.de', 'www.forumbiznesu.pl', 'www.campaignlive.co.uk', 'www.rhul.ac.uk', 'assembly.ca.gov', 'www.globalgayz.com', 'bjp.org', 'www.mjusticia.es', 'www.demoscope.ru', 'www.treaties.mfat.govt.nz', 'lloydslist.maritimeintelligence.informa.com', 'nzlibrariescatalogue.natlib.govt.nz', 'library.dundee.ac.uk', 'www.religio.ru', 'www.comlaw.gov.au', 'wftda.com', 'merhav.nli.org.il', 'medium.com', 'www.unhcr.org', 'www.marelibri.com', 'topics.nytimes.com', 'www.gamerevolution.com', 'litnik.org', 'wikirank-2016.di.unimi.it', 'www.ridewise.org', 'www.temadnya.ru', 'www.dots.co', 'www.avtoradio.ua', 'www.firtka.if.ua', 'www.filosofia.org', 'www.elhierro.es', 'www.primsoroca.md', 'www.msnbc.msn.com', 'www.noblenet.org', 'ecodiario.eleconomista.es', 'rostov.urbanistika.ru', 'www.rockarch.org', 'uk.nicebooks.com', 'www.bergenpac.org', 'www.goethe.de', 'www.blitzquotidiano.it', 'tw.wikipedia.org', 'www.regione.sardegna.it', 'www.dr.dk', 'www.ebi.ac.uk', 'www.apnic.net', 'instytucja.pan.pl', 'www.ilga.org', 'bellwether.metapress.com', 'www.cityofpaloalto.org', 'www.abo.fi', 'sodalicja.org', 'www.helplinelaw.com', 'www.pcsheriff.org', 'sea.unep-wcmc.org', 'idolator.com', 'fi.m.wikipedia.org', 'pbc.biaman.pl', 'seriesofseries.owu.edu', 'www.greeks.ua', 'blogdojuliogomes.blogosfera.uol.com.br', 'uk-ua.facebook.com', 'www.mignews.com', 'gameinfo.na.leagueoflegends.com', 'www.bustle.com', 'www.airdisaster.ru', 'antifo.wordpress.com', 'przewodnik.onet.pl', 'qcat.library.queensu.ca', 'www.aph.gov.au', 'www.histarmar.com.ar', 'www.diariojaen.es', 'poczta.o2.pl', 'www.openurl.de', 'markham.bibliocommons.com', 'gol24.pl', 'internetua.com', 'www.parlement.com', 'help.sky.com', 'www.rs.goal.com', 'books.google.pl', 'naparise.com', 'www.silicon.com', 'www.worldwidewebsize.com', 'www.ochakiv.info', 'nn.m.wikipedia.org', 'www.patrimonio-gastronomico.com', 'pcc.worldcat.org', 'www.rediff.com', 'motlc.learningcenter.wiesenthal.org', 'blogs.yahoo.co.jp', 'dallascityhall.com', 'mynewsla.com', 'new-york.miasta.org', 'libcat.linnbenton.edu', 'i-city.com.ua', 'histsoc.stanford.edu', 'lmo.wikipedia.org', 'www.techzim.co.zw', 'evfleetworld.co.uk', 'groups.yahoo.com', 'catalogue.library.carleton.ca', 'entercom.com', 'tk.wikipedia.org', 'theheritageportal.co.za', 'twitter.com', 'www.utilityweek.co.uk', 'www.today.colostate.edu', 'eleven.co.il', 'www.knowbysight.info', 'garydrobson.com', 'www.nndc.bnl.gov', 'www.nationalgeographic.de', 'catalogue.nlu.org.ua', 'www.gov.gva.es', 'tv.yahoo.com', 'aviation-safety.net', 'www.interaksyon.com', 'www.flybe.com', 'support.leagueoflegends.com', 'www.68dli.co.uk', 'www.parafia.org.ua', 'rizalls.lib.admu.edu.ph', 'fo.wikipedia.org', 'www.london.ac.uk', 'protect.gost.ru', 'www.fastcocreate.com', 'stv.detector.media', 'troypoint.com', 'am.m.wikipedia.org', 'www.paraphrasis.com', 'tvi.ua', 'wilanow-palac.pl', 'vesna.org.ua', 'www.nlc.state.ne.us', 'www.india-picture.net', 'www.myslenedrevo.com.ua', 'american3p.org', 'www.cpj.org', 'gordonua.com', 'www.techweekeurope.co.uk', 'www.thecrimson.com', 'jpress.org.il', 'www.webnoviny.sk', 'www.hbo.com', 'www.vertaa.fi', 'tvnewscheck.com', 'www.pysar.net', 'www.catalogobibliotecheliguri.it', 'classicgames.about.com', 'ts.wikipedia.org', 'www2.bpaonline.org', 'plus.google.com', 'mediaboyblog.blogspot.com', 'aleph.stk.cz', 'www.terueltirwal.es', 'www.fn.no', 'www.andrejew.com', 'www.huelvainformacion.es', 'www.nintendolife.com', 'www.pcbs.gov.ps', 'www.segodnya.ru', 'minnesotabusiness.com', 'seattletimes.com', 'gan.wikipedia.org', 'stable.toolserver.org', 'georgewbush-whitehouse.archives.gov', 'www.inright.ru', 'www.christiantoday.com', 'news.krakow.pl', 'www.castlesofpoland.com', 'sussex-primo.hosted.exlibrisgroup.com', 'mosday.ru', 'www.skyuser.co.uk', 'ipac.hunterdon.lib.nj.us', 'www.prdailysun.com', 'www.enciclopedia-aragonesa.com', 'tvroscosmos.ru', 'thenextweb.com', 'ukrainian.voanews.com', 'www.sustainingtowers.org', 'ki.wikipedia.org', 'w2.weather.gov', 'www.bookhq.com', 'www.hrdc.unam.na', 'mdgs.un.org', 'bismarcktribune.com', 'www.ba-inc.com', 'how-much.net', 'www.infotour.org.ua', 'chinagame.178.com', 'www.usd428.net', 'www.spiegel.de', 'catalogo.ubi.pt', 'www.hoy.es', 'www.gumer.info', 'blogs.guardian.co.uk', 'novostipmr.com', 'www.business-internet-china.com', 'www.mapcoordinates.net', 'cn.nytimes.com', 'www.nationalgeographic.com.es', 'www.cpmhe.fr', 'anw14.wordpress.com', 'www.bogatynia.pl', 'shop.barnesandnoble.com', 'www.korkahnawake.org', 'www.minnesotafinnish.org', 'worldweather.wmo.int', 'www.irinnews.org', 'www.sprawynauki.waw.pl', 'www.diariovasco.com', 'inforesist.org', 'ady.wikipedia.org', 'www.moldovaholiday.travel', 'library.nehu.ac.in', 'news.sky.com', 'www.radiodiscussions.com', 'www.rg.ru', 'www.zoominfo.com', 'www.lavanguardia.es', 'olympstats.com', 'www.stlamerican.com', 'pc.gamespy.com', 'uzlibsys.uz.ac.zw', 'www.powells.com', 'ecode360.com', 'gdynia.pl', 'www.ibs.it', 'www.warcry.com', 'sr.wikinews.org', 'sport.bigmir.net', 'www.isac.io', 'cat.ubn.ru.nl', 'durhammagazine.co.uk', 'www.isuresults.com', 'www.mnufc.com', 'nds-nl.wikipedia.org', 'www.patriarchate.org', 'www.canadacollege.edu', 'news.enquirer.com', 'facet.wp.pl', 'canadachannel.ca', 'www.manilatimes.net', 'yo.m.wikipedia.org', 'www.greenvilleonline.com', 'pawet.net', 'deser.gazeta.pl', 'www.bcsd.us', 'www.ukszgorzelec.pl', 'rangel.house.gov', 'xal.m.wikipedia.org', 'www.majorcomm.ca', 'www.bookprice24.co.uk', 'movies.nytimes.com', 'en.wikibooks.org', 'www.cnewa.org', 'huelva.hospitales.guia.paginasamarillas.hispavista.com', 'rbi.org.in', 'www.baidu.com', 'aleph1.novanet.ns.ca', 'www.nsk.hr', 'british-army-units1945on.co.uk', 'www.ptzp.org', 'www.hollywoodreporter.com', 'www.marketingweek.co.uk', 'www.gup.ua', 'hi.wikibooks.org', 'www.infobaires24.com.ar', 'gazeta.ru', 'ta.wikinews.org', 'news.online.ua', 'suche.eurobuch.com', 'lubimyczytac.pl', 'www.dradio.de', 'www.refugees.org', 'www.idrc.ca', 'bitchute.com', 'webplanet.ru', 'www.boe.es', 'orgullososdejaen.es', 'www.guardian.co.uk', 'angryloki.github.io', 'newsinfo.colostate.edu', 'molbuk.ua', 'www.tvplayer.com', 'kalush.net', 'digilib.utcb.ro', 'www.johnmcferrinmusicreviews.org', 'blog.tstc.org', 'www.eecs.berkeley.edu', 'www.joburg.org.za', 'www.xtec.es', 'www.fedcup.com', 'myv.m.wikipedia.org', 'opacplus.bib-bvb.de', 'www.ethiopianreview.com', 'wiadomosci.gazeta.pl', 'www.ridethelink.com', 'epl.bibliocommons.com', 'www.wisdomworld.org', 'el-campello.comunitatvalenciana.com', 'www.redstar.ru', 'wiedzoholik.pl', 'www.nj.gov', 'bug.wikipedia.org', 'dvizhok.su', 'www.nrc.k12.ok.us', 'na.lolesports.com', 'www.knowitall.org', 'www.jcyl.es', 'seopulse.ru', 'library.ci.mtnview.ca.us', 'www.yes24.com', 'www.wikidata.org', 'connevted.blogspot.com', 'www.tcdailyplanet.net', 'www.peacecorps.gov', 'telanganatoday.com', 'www.dicyt.com', 'forbes.net.ua', 'ze-swiata.pl', 'www.rrhhpress.com', 'ksiazki.wp.pl', 'www.unitedsportsclub.in', 'cat.lib.grinnell.edu', 'www.iso.org', 'www.lib.ua-ru.net', 'weibo.com', 'library.thinkquest.org', 'www.sardegnaambiente.it', 'www.se-ed.com', 'nrm.wikipedia.org', 'www.nssl.noaa.gov', 'www-sul.stanford.edu', 'www.liturgica.ru', 'stevens.usc.edu', 'dle.rae.es', 'pt.wikisource.org', 'opc.ub.rug.nl', 'www.house.gov', 'www.orthodoxtheologicalschool.org', 'mcls.sirsi.net', 'www.ifly50.com', 'www.eaem.co.uk', 'gom.wikipedia.org', 'www.ocu.org', 'www.ezaf.org', 'www.webbyawards.com', 'news.stanford.edu', 'tsinghua-primo.hosted.exlibrisgroup.com', 'www.agolpedeefecto.com', 'www.europapress.cat', 'plejada.pl', 'es.wikiversity.org', 'rollingstone.es', 'www.nso.mn', 'www.ugsdw.org', 'www.baranovichy.by', 'www.bnaibrith.ca', 'maywoodpubliclibrary.com', 'www.brama.com', 'www.nosabooks.com', 'www.nationalgeographicpartners.com', 'www.fussballtempel.net', 'search.library.duke.edu', 'thinkprogress.org', 'articles.timesofindia.indiatimes.com', 'vingranovsky.org.ua', 'dysgraphyk.madasafish.com', 'www.library.nlt.go.th:8991', '3saints.com', 'rig.katowice.pl', 'www.comarcas.es', 'www.un-documents.net', 'www.theplantlist.org', 'www.lpac.org', 'spokane.wustl.edu', 'litopys.org.ua', 'www.country-studies.com', 'www.armenianweekly.com', 'www.lusakatimes.com', 'www.sopranosue.com', 'fur.m.wikipedia.org', 'proektstroy.ru', 'www.commentarymagazine.com', 'people.rambler.ru', 'www.alisweb.org', 'raceandgenomics.ssrc.org', 'cihe.neasc.org', 'www.euronews.com', 'www.kosciol.pl', 'www.dgt.es', 'www.powstanie.pl', 'swb.bsz-bw.de', 'alltimelow.buzznet.com', 'www.hudsoncountynj.org', 'hdl.handle.net', 'habrahabr.ru', 'www.stand-firm-strike-hard.org.uk', 'www.feverpitch.in', 'www.lardi-trans.com', 'wtafiles.wtatennis.com', 'www.uni-goettingen.de', 'skymovies.sky.com', 'sbl.org.ua', 'www.publico.es', 'www.raf.mod.uk', 'corporate.sky.com', 'mreadz.com', 'www.orthodox.clara.net', 'versii.if.ua', 'www.librarylink.org.ph', 'www.filmreference.com', 'www.thehermitage.org', 'www.rbc.dnaru', 'dz.wikipedia.org', 'the-talks.com', 'www.starfury.demon.co.uk', 'constitution.garant.ru', 'matsui.house.gov', 'www.juntadeandalucia.es', 'www.malagahoy.es', 'library.enc.edu', 'www.microprocessor.sscc.ru', 'www.quinnipiac.edu', 'www.topgear.com', 'w110.bcn.cat', 'dostup.pravda.com.ua', 'www.utro.ru', 'www.czso.cz', 'www.bostonglobe.com', 'www.westmilfordmessenger.com', 'www.egroups.com', 'www.libreriarizzoli.it', 'childrencomefirst.com', 'www.tvweek.com', 'www.omegawatches.com', 'cdon.fi', 'www.kadis.ru', 'oclc.org', 'nedoma.com.ua', 'www.garda.ie', 'dlib.nli.org.il', 'www.financialgazette.co.zw', 'play.google.com', 'www.compromat.ru', 'snow.cals.uidaho.edu', 'tn.wikipedia.org', 'www.culture.gov.au', 'www.sixtiescity.com', 'www.stinfa.ru', 'www.newyorkcool.com', 'www.pta.es', 'hsb.m.wikipedia.org', 'www.englewoodlibrary.org', 'www.ined.fr', 'adage.com', 'www.crich-memorial.org.uk', 'www.bookbutler.at', 'zea.m.wikipedia.org', 'losarbolesinvisibles.com', 'maastrichtuniversity.on.worldcat.org', 'www.pressandjournal.co.uk', 'pravoslavnews.com.ua', 'ky.wikipedia.org', 'fenix951.com.ar', 'uef.finna.fi', 'italiancharts.com', 'tribal.nic.in', 'hawthorne.bccls.org', 'www.king5.com', 'tools.usps.com', 'www.virtualnorge.com', 'sws.geonames.org', 'prospector.coalliance.org', 'www.chicagotribune.com', 'www.srpska.ru', 'www.gismeteo.ua', 'www.coloplast.com', 'archives.ulrls.lon.ac.uk', 'www.imer.mx', 'www.wrestling-titles.com', 'www.moviestvnetwork.com', 'www.orthodox.cn', 'www.nhpr.org', 'tr.wikiquote.org', 'www.ulib.in', 'www.singstat.gov.sg', 'www.montereyherald.com', 'www.fighterstudiohk.com', 'www2.vcdh.virginia.edu', 'co.wikipedia.org', 'traveldk.com', 'archive.thepoint.gm', 'www.juedische-allgemeine.de', 'stats.areppim.com', 'www.okolha.net', 'www.ifeja.org', 'www.sedmicka.cz', 'www.articlesbase.com', 'allthingsd.com', 'bvpb.mcu.es', 'www.njsea.com', 'catalog.iyte.edu.tr', 'ipac.svkkl.cz', 'www.nps.gov', 'www.dalmor.pl', 'librarytechnology.org', 'www.ed-critica.es', 'lv.wikipedia.org', 'www.fwi.co.uk', 'www.obalkyknih.cz', 'curlie.org', 'corpsreps.com', 'www.pch.gc.ca', 'rivnenchanka.info', 'no.m.wikipedia.org', 'www.mostobud.com.ua', 'll3ep3kc7k.search.serialssolutions.com', 'www.biblacad.ro', 'beta.xtratime.in', 'www.academyofurbanism.org.uk', 'www.unocero.com', 'www.wintermadness.net', 'www.kielmonitor.de', 'www.ecsocman.edu.ru', 'ukrcensus.gov.ua', 'www.cellularoneonline.com', 'www.ferratermora.com', 'catalog.archives.gov', 'www.derechos.org', 'www.hmhco.com', 'books.google.com.ua', 'wiki-commons.genealogy.net', 'www.moe.gov.cn', 'www.synod.com', 'www.citytowninfo.com', 'www.pensum.dk', 'www.forbes.com', 'www.boksala.is', 'oswegocounty.com', 'scholar.google.ca', 'www.kragozor.com', 'www.yahoo.com', 'hippo.lib.uoa.gr', 'www.eleven.co.il', 'www.wisdenindia.com', 'www.csusystem.edu', 'books.google.kz', 'dishuser.org', 'rn.wikipedia.org', 'gazeta.aif.ru', 'www.nationallibrary.bg', 'uf.catalog.fcla.edu', 'archive.spectator.co.uk', 'www.tur-gazeta.md', 'tools.wikimedia.de', 'www.getprice.de', 'www.massasoit.mass.edu', 'linus.lib.uts.edu.au', 'in.news.yahoo.com', 'mobilis.bg', 'www.talkmohawk.com', 'library.bilkent.edu.tr', 'www.gov.ph', 'www.bcu-iasi.ro', 'www.trendmicro.tw', 'www.ukrcensus.gov.ua', 'vo.wikipedia.org', 'rybalka.co.ua', 'www.kunda.ee', 'kliment.cocolog-nifty.com', 'voyager.plymouth.ac.uk', 'www.paris-nice.fr', 'www.newadvent.org', 'www.clintonfoundation.org', 'sichovyk.com.ua', 'www.dipucuenca.es', 'search.yahoo.com', 'manchesterinklink.com', 'www.seattle.gov', 'www.pinterest.com', 'st.wikipedia.org', 'www.radiosantacruz.icrt.cu', 'www.gis.leg.mn', 'www.studium.uw.edu.pl', 'www.selkirkshire.demon.co.uk', 'creativebits.org', 'animal.discovery.com', 'bombsite.com', 'www.grandprix-plouay.bzh', 'www.undg.org', 'www.stsl.ru', 'www.greenwood.com', 'www.deloru.ru', 'www.elmundo.es', 'trojmiasto.wyborcza.pl', 'www.fresnoregfoundation.org', 'www.teruel.org', 'translate.google.com', 'sanjose.bizjournals.com', 'www.lightreading.com', 'az.m.wikipedia.org', 'ebookscambridge.wordpress.com', 'www.raisingthewords.com', 'dedalus.usp.br', 'miss.ent.sirsidynix.net', 'www.somersetpatriots.com', 'www.foliomag.com', 'www.book-ye.com', 'www.londoninternational.ac.uk', 'ru.slovoidilo.ua', 'www.kcl.ac.uk', 'www.camera.it', 'www.brianjohnsonracing.com', 'www.censusviewer.com', 'www.jstor.org', 'heavens-above.com', 'library.dit.ie', 'travel.nytimes.com', 'www.nfb.ca', 'www.flickr.com', 'www.life.com', 'scroll.in', 'scarletknights.com', 'www.nasa.gov', 'www.gzt.ru', 'www.netboghandel.dk', 'jamaica-star.com', 'www.cdu.ru', 'www.xxc.ru', 'www.johnweeks.com', 'www.gadgetsnow.com', 'zakon5.rada.gov.ua', 'heathen.su', 'wallington.bccls.org', 'www.searchlightmagazine.com', 'www.cuesportsindia.com', 'shop.rediff.com', 'mgar.net', 'm.thehindubusinessline.com', 'www.procyclingstats.com', 'msz.gov.pl', 'www.dzhemelev.openua.net', 'af.m.wikipedia.org', 'web.utk.edu', 'www.goal.com', 'www.connectny.info', 'www.gea.de', 'luc.finna.fi', 'khodoriv.at.ua', 'universe.leagueoflegends.com', 'tapemark.narod.ru', 'agravery.com', 'espn.go.com', 'berkeleycollege.edu', 'www.basha.lv', 'zanostroy.ru', 'www.manilastandardtoday.com', 'www.politika.su', 'ru.m.wikipedia.org', 'www.isbn-check.de', 'basketball.usbasket.com', 'www.wolftree.freeserve.co.uk', 'forix.autosport.com', 'oc.wikipedia.org', 'www1.toronto.ca', 'www.sekkeistudio.com', 'www.homebook.pl', 'www.duma.gov.ru', '2000.net.ua', 'www.tenaflynaturecenter.org', 'www.eb.com', 'news.ugcc.ua', 'www.buscape.com.br', 'mikolaiv.lviv.ua', 'lez.m.wikipedia.org', 'iplayerhelp.external.bbc.co.uk', 'catalog.lib.byu.edu', 'eu.northjersey.com', 'sq.m.wikipedia.org', 'www.monsterbevcorp.com', 'www.independent.co.uk', 'ezitis.myzen.co.uk', 'www.deutsche-biographie.de', 'www.radio-locator.com', 'mountainview.gov', 'gospodarka.dziennik.pl', 'it.wikisource.org', 'www.somethingawful.com', 'www.verfassungen.de', 'books.google.co.jp', 'www.bookcrossing.com', 'herba.msu.ru', 'millfalls.org', 'tuoitrenews.vn', 'www.rusharchives.com', 'istoria.md', 'www.infoexpres.es', 'ss.wikipedia.org', 'ccaa.elpais.com', 'www.meldrum.co.uk', 'noticiasya.com', 'lviv.davr.gov.ua', 'www.1romanico.com', 'www.utsandiego.com', 'www.oliveoilquotation.com', 'www.liepaja.lv', 'www.aei.org', 'www.eluniversal.com', 'www.ib.hu-berlin.de', 'esensja.pl', 'jstor.org', 'www.ostpolitik.net', 'scoutingmagazine.org', 'euw.lolesports.com', 'www.helion.co.uk', 'www.ldschurchtemples.com', 'opacdb.unipv.it', 'www.bayonnenj.org', 'media.uow.edu.au', 'www.newspress.com', 'nba-croatia.com', 'loudwire.com', 'www.lanacion.com.ar', 'www.adezos.es', 'www.ifoapplestore.com', 'heraldry.at.ua', 'www.essortment.com', 'www.elzbietajodlowska.art.pl', 'www.access.prov.vic.gov.au', 'hack4mobile.com', 'bookitpub.berg.se', 'www.ddgi.cat', 'www.20min.ch', 'www.theadvocate.com', 'hebrew.fjc.ru', 'www.sf-encyclopedia.com', 'www.autonews.ru', 'diq.wikipedia.org', 'orthochristian.com', 'www.gbif.org', 'library.newcastle.edu.au', 'welcome.colostate.edu', 'web.grinnell.edu', 'listserv.linguistlist.org', 'fiu-vro.m.wikipedia.org', 'krai.lib.kherson.ua', 'mvs.gov.ua', 'www.dcdiocese.org', 'travelcraft.blogspot.com', 'ajovomultja.hu', 'www.stat.ee', 'www.angusrobertson.com.au', 'www.uoc.edu', 'www.embajada-sudafrica.cl', 'www.nawolyniu.pl', 'www.rostov-transport.info', 'www.asamblea.gob.ni', 'www.washingtonbanglaradio.com', 'lib.rin.ru', 'www.swatchgroup.com', 'book.11st.co.kr', 'www.asus.com', 'www.girlsms.org', 'elections.nytimes.com', 'lij.wikipedia.org', 'www.bukowina-institut.de', 'www.krakow.come2europe.eu', 'mykgimnazija.at.ua', 'classics.mit.edu', 'www.tnmoc.org', 'www.ansa.it', 'www.dfa.gov.za', 'www.thehardtackle.com', 'www.solbrilhando.com.br', 'samilitaryhistory.org', 'uk.bookchecker.com', 'central.colostate.edu', 'www.thefilmdetective.com', 'www.infonews.com', 'info.pandora.tv', 'life.pravda.com.ua', 'faqukr.ru', 'census.missouri.edu', 'articles.boston.com', 'www.lovdata.no', 'www.computerandvideogames.com', 'br.leagueoflegends.com', 'buckinghamshire.spydus.co.uk', 'www.maryknollvocations.org', 'www.chem.msu.su', 'www.myfoxdc.com', 'biblioinrete.comperio.it', 'www.awm.gov.au', 'wotsat.techradar.com', 'w1.c1.rada.gov.ua', 'niniwa22.cba.pl', 'www.kamaz.net', 'ucsdnews.ucsd.edu', 'www.elections.org.za', 'www.statoids.com', 'magazines.russ.ru', 'davesbikeblog.blogspot.com', 'rivne.name', 'glenrockgurudwara.org', 'www.torontosun.com', 'isites.harvard.edu', 'www.sfgenealogy.com', 'las.leagueoflegends.com', 'morristowngreen.com', 'archive.e-vestnik.ru', 'www.retail4growth.com', 'dw.com', 'irishfilmcritic.com', 'blog.wikimedia.bg', 'nv.wikipedia.org', 'www.sunrise.ch', 'offcampus.rutgers.edu', 'www.downtownnews.com', 'rivnenski.info', 'catalog.einetwork.net', 'portalwiedzy.onet.pl', 'urn.porbase.org', 'www.washburn.edu', 'www.rv-prestige.ru', 'www.siteducyclisme.net', 'www.abajournal.com', 'cbsopac.rz.uni-frankfurt.de', 'wybory2011.pkw.gov.pl', 'rusoir.ru', 'ukrlife.org', 'www.ocl.colostate.edu', 'www.azom.com', 'www.bublos.com', 'www.72g.com', 'kremplavni.narod.ru', 'ko.wikibooks.org', 'pnb.wikipedia.org', 'www.stmarysoca.org', 'www.spl.surrey.bc.ca', 'www.geograph.ie', 'scepsis.ru', 'www.thegreenpapers.com', 'energetika.in.ua', 'www.twoja-praga.pl', 'product.darlic.com', 'gso.gbv.de', 'news.independent.co.uk', 'www.aluka.org', 'www.billigbuch.ch', 'www.mctaweb.org', 'view.fdu.edu', 'tnpl.tnca.cricket', 'hi.wikipedia.org', 'rue.wikipedia.org', 'hagedorn.house.gov', 'infoweb.newsbank.com', 'www.eldestapeweb.com', 'cisne.sim.ucm.es', 'wikimapia.org', 'niedziela.pl', 'doc20vek.ru', 'www.gks.ru', 'nuclearweaponarchive.org', 'www.bib.ub.edu', 'postnauka.ru', 'www.cde.ca.gov', 'news.outlookindia.com', 'news.goo.ne.jp', 'new-rdlj.blogspot.com', 'www.bangkokstartup.com', 'www.bransk.podlaskie.pl', 'dx.doi.org', 'en.wikiquote.org', 'www.eluniverso.com', 'francoprussianwar.com', 'azertag.az', 'uk.eonline.com', 'employeeissues.com', 'www.ebar.com', 'resultadoslocales2015.interior.es', 'istrodina.com', 'www.argylls.co.uk', 'eprints.ucm.es', 'www.courierpress.com', 'qccollections.ddns.net', 'www.longlongtrail.co.uk', 'karta.patriarchia.ru', 'www.newbridgelanding.org', 'dsb.wikipedia.org', 'jykdok.linneanet.fi', 'www.castillodeniebla.com', 'www.kleyff.pl', 'www.balboapark.org', 'www.ferra.ru', 'news.liga.net', 'ng.ru', 'www.observer.com', 'rateyourmusic.com', 'data.cervantesvirtual.com', 'www.radiosvoboda.org', 'qu.wikipedia.org', 'www.fiba.com', 'www.seipub.org', 'alef.ir', 'tvshows.aol.com', 'www.mukachevo.net', 'opac.biblio.polimi.it', 'blog.dipalme.org', 'si.m.wikipedia.org', 'www.reta.es', 'www.monroecenter.com', 'www.deputacionlugo.org', 'id.wikipedia.org', 'sv.wikisource.org', 'www.f1wm.pl', 'news.google.com', 'www.bibliotekvarmland.se', 'www.mariners-l.co.uk', 'narodna-pravda.te.ua', 'dixienet.org', 'islam.com.ua', 'www.kp.ru', 'bestmvno.com', 'karostascietums.lv', 'www.robertfeder.com', 'tyrell-corporation.pp.se', 'www.usgbc.org', 'catalog.somerset.lib.nj.us', 'pressarchive.ru', 'www.funof1.com.ar', 'sbp.provincia.verona.it', 'izbornyk.org.ua', 'www.telecinco.es', 'picarta.pica.nl', 'eprints.rclis.org', 'dv.m.wikipedia.org', 'crh.wikipedia.org', 'www.canarias7.es', 'superluchas.net', 'poczta.wp.pl', 'www.uobaghdad.edu.iq', 'litrus.net', 'www.mineco.gob.es', 'www.universityofcalifornia.edu', 'projects.scsc.k12.ar.us', 'bbc-rss.herokuapp.com', 'iplayersupport.external.bbc.co.uk', 'www.dziennikbaltycki.pl', 'jfcoopersociety.org', 'www.stratigraphy.org', 'www.bailii.org', 'www.self.com', 'www.anandtech.com', 'ridewise.org', 'www.dnv.no', 'www.poprzednia.gwizdow.pl', 'atwonline.com', 'help.nowtv.com', 'www.eurodroid.com', 'mpl.mk.ua', 'www.gramota.ru', 'www.ideal.es', 'www.emtmalaga.es', 'www.elcampello.es', 'www.whatsontv.co.uk', 'www.rop.ru', 'www.radmorowo.elektroda.eu', 'www.kaaba.ru', 'calgary.bibliocommons.com', '3dnews.ru', 'research.schev.edu', 'tpi.wikipedia.org', 'authors.simonandschuster.com', 'sl.wikipedia.org', 'eu.m.wikipedia.org', 'www.caverbob.com', 'sandiegohistory.org', 'www.bncatalogo.cl', 'www.liberation.fr', 'lol.tga.plu.cn', 'www.pegalajar.org', 'pravoslavie.ru', 'catalog.wccls.org', 'os.wikipedia.org', 'www.catalystmagazine.org', 'www.ecoticias.com', 'www.zvab.com', 'www.actashistoria.com', 'www.puertoaroche.com', 'www.mohammedansportingindia.com', 'www.greenpeace.org', 'lists.arabeyes.org', 'j-source.ca', 'www.direct-time.ru', 'tps.cr.nps.gov', 'qha.com.ua', 'seekingalpha.com', 'www.osce.org', 'hi.m.wikipedia.org', 'demography.narod.ru', 'www.lff.org.uk', 'goal.blogs.nytimes.com', 'nl.wikinews.org', 'www.usabasketball.com', 'www.politicsresources.net', 'pac.sals.edu', 'www.nynjtc.org', 'goidirectory.nic.in', 'www.nancyzeltsman.com', 'sfgate.com', 'delcat.worldcat.org', 'www.derbytelegraph.co.uk', 'carkva-gazeta.by', 'www.rh.by', 'ucd.summon.serialssolutions.com', 'wybory2006.pkw.gov.pl', 'norwellschools.org', 'wwjnews.radio.com', 'holidayyear.com', 'www.ripe.net', 'www.imm.com.pl', 'www.irrodl.org', 'www.reelradio.com', 'udm.m.wikipedia.org', 'www.yamnj.blogspot.com', 'www.music-reviewer.com', 'www.fenerbahce.org', 'citeseerx.ist.psu.edu', 'ru.parlament.tj', 'www.thisdayinquotes.com', 'www.lyndhurstlibrary.org', 'www.wtafinals.com', 'riafan.ru', 'www.centralparknyc.org', 'rzeszow.wyborcza.pl', 'archive.zt.ua', 'www.cmcsa.com', 'www.thetruthaboutcars.com', 'irivnyanyn.com', 'hoboken.bccls.org', 'games.qq.com', 'www.statcan.gc.ca', 'www.theinformation.com', 'pl.librarything.com', 'www.kirkusreviews.com', 'www.theedgemalaysia.com', 'etext.lib.virginia.edu', 'wikistudies.org', 'www.dipcas.es', 'www.btinternet.com', 'www.slate.com', 'pl.wikisource.org', 'miasteria.pl', 'www.zeit.de', 'www.pravoslavie.by', 'stadiumsofprofootball.com', 'saclibrary.org', 'www.coolloud.org.tw', 'www.mademan.com', 'www.njmonthly.com', 'www.joneslanglasalle.pl', 'kultura.dziennik.pl', 'openrbl.org', 'www.proskauer.com', 'medina.uco.es', 'www.electricnews.net', 'kansalliskirjasto.finna.fi', 'parkscore.tpl.org', 'leksika.com.ua', 'news.bbc.co.uk', 'classic.battle.net', 'gazettereview.com', 'library.lemoyne.edu', 'www.thepeoplehistory.com', 'www.kmsfc.com', 'news.avclub.com', 'www.bangladeshsociology.org', 'kcl.ac.uk', 'reason.com', 'www.tv-ark.org.uk', 'www.labalenabianca.com', 'www.stockmarketwire.com', 'www.audiogang.org', 'www.web-lit.net', 'mspmag.com', 'www.baronservices.com', 'philipkdickfans.com', 'prywatyzacja.msp.gov.pl', 'www.weather.gov', 'www.rada.gov.ua', 'ur.wikipedia.org', 'issuu.com', 'articles.chicagotribune.com', 'www.priceowl.com', 'www.amazon.es', 'tripgang.com', 'ms.m.wikipedia.org', 'www.ecns.cn', 'www.anglo-boer.co.za', 'www.adb.online.anu.edu.au', 'www.yjc.ir', 'www.kaiwright.com', 'webcatplus-equal.nii.ac.jp', 'android.gamedog.cn', 'headline.gamespot.com', 'www.verdi.de', 'sportal.nic.in', 'www.5.ua', 'www.ssf.net', 'www.indiatoday.in', 'thesaurus.ascleiden.nl', 'www.snhu.edu', 'russian.news.cn', 'www.dzemiliev-rada.org.ua', 'www.escapistmagazine.com', 'www.csmonitor.com', 'www.mytelus.com', 'libdigi.unicamp.br', 'www.wsav.com', 'competitive.na.leagueoflegends.com', 'renewables.seenews.com', 'www.thehoot.org', 'ksoutdoors.com', 'www.arkagdynia.info', 'www.formula1.com', 'osp.stat.gov.lt', 'kirimtatar.com', 'catalog.pacificgrovelibrary.org', 'www.cnhi.com', 'www.rbr.com', 'www.amazon.co.uk', 'www.zlok.net', 'www.basketball-reference.com', 'www.planespotters.net', 'www.thetigernews.com', 'newrepublic.com', 'www.buchhandel.de', 'th.wikipedia.org', 'www.regnum.ru', 'documentacion.diputacionalicante.es', 'genome.ch.bbc.co.uk', 'bw-original-reporting.tumblr.com', 'www.press-citizen.com', 'www.haw.uni-heidelberg.de', 'www.astronet.ru', 'www.mywire.com', 'www.libreriauniversitaria.it', 'www.andaluciajunta.es', 'www.themarshallproject.org', 'www.cinemablend.com', 'wo.wikipedia.org', 'www.ksiazka.net.pl', 'vi.m.wikipedia.org', 'weekly.hatnote.com', 'universoandalucista.blogspot.com.es', 'lfn.m.wikipedia.org', 'uk.wikipedia.org', 'www.fckuban.ru', 'www.vestifinance.ru', 'german.imdb.com', 'bm.wikipedia.org', 'electrek.co', 'ithighlights.com', 'aleph.nkp.cz', 'www.mining-enc.ru', 'pryroda.in.ua', 'www.insidesocal.com', 'www.bcs.org', 'ua.korrespondent.net', 'www.allclassical.com', 'www.bookfinder.it', 'nytimes.com', 'www.volksfrontinternational.com', 'aisel.aisnet.org', 'library.gettysburg.edu', 'www.gsi.gov.in', 'knesset.gov.il', 'chy.wikipedia.org', 'support.google.com', 'boe.es', 'usinfo.state.gov', 'pl.php.net', 'nl.wikipedia.org', 'www.qd3.com', 'bg.m.wikipedia.org', 'cupola.gettysburg.edu', 'www.gbrathletics.com', 'theecologist.org', 'info.rp.pl', 'dailystormer.name', 'vm.ee', 'www.rol.ru', 'slpl.sdp.sirsi.net', 'windhoek.usembassy.gov', 'www.na-gore.ru', 'www.publiceye.org', 'state.rin.ru', 'www.e-reading.org.ua', 'www.lasalina.es', 'opac.nebis.ch', 'comm.sites.grinnell.edu', 'hud.summon.serialssolutions.com', 'www.bokfynd.nu', 'www.letour.com', 'hosted.ap.org', 'www.hno.harvard.edu', 'publius.oxfordjournals.org', 'www.iep.utm.edu', 'aleph500.biblacad.ro:8991', 'www.bip.podkarpackie.pl', 'nndb.com', 'www.kcla.co.uk', 'www.farmersmuseum.org', 'press.vatican.va', 'librivox.org', 'm.indiatoday.in', 'rush.com', 'snaccooperative.org', 'cbk-zam.m.wikipedia.org', 'www.asce.org', 'www.astronautix.com', 'www.cityoflancasterca.org', 'tamcat.linneanet.fi', 'www.foxtvdvd.co.uk', 'ssweb.mpt.es', 'www.tass-ural.ru', 'www.chronicle.co.zw', 'www.cerkva.info', 'www.magazyndetektyw.pl', 'www.sport.be', 'archive.indianexpress.com', 'najbogatsiludzieswiata.forbes.pl', 'arsco.org', 'www.lockheedmartin.co.uk', 'katalog.kvary.cz', 'www.bookfinder4u.com', 'www.beeline-express.com', 'www.news9.com', 'koszykowkadlakazdego.strefa.pl', 'isap.sejm.gov.pl', 'www.chapters.indigo.ca', 'agroclimap.aemet.es', 'xn--h1akkl.xn--p1ai', 'www.bookrenter.com', 'housing.colostate.edu', 'www.badbadakmedia.com', 'www.reghardware.co.uk', 'www.rhythmtech.com', 'www.aau.edu', 'www2.topeka.k12.ks.us', 'yas.nic.in', 'www.acdcrocks.com', 'weatherspark.com', 'www.aim25.ac.uk', 'www.blagogon.ru', 'ksng.gugik.gov.pl', 'www.salamancaemocion.es', 'www.todayinsci.com', 'www.lancasterchamber.org', 'cat.inist.fr', 'society.lb.ua', 'www.rabbitears.info', 'crystalmn.gov', 'www.secaucuslibrary.org', 'www.anobii.com', 'www.ucm.es', 'www.iana.org', 'www.nybooks.com', 'archive-ouverte.unige.ch', 'pih.wikipedia.org', 'religion.blogs.cnn.com', 'www.ssa.gov', 'www.kansascity.com', 'www.gray.tv', 'opac.nlai.ir', 'rammb.cira.colostate.edu', 'www.pravda.com.ua', 'scholarship.law.upenn.edu', 'via-midgard.com', 'forum.ugcc.org.ua', 'chapcat.chapman.edu', 'slovak.statistics.sk', 'www.stockleypark.co.uk', 'uz.m.wikipedia.org', 'www1.sympatico.ca', 'www.princetonreview.com', 'www.cell.com', 'www.deccanchronicle.com', 'old.knihi.com', 'pontypoolmuseum.org.uk', 'transition.fcc.gov', 'mb.com.ph', 'www.ga.gov.au', 'www.blagovest-info.ru', 'www.emanuellevy.com', 'www.tabnak.ir', 'www.i-mash.ru', 'dinamo32.ucoz.ru', 'minnesota.cbslocal.com', 'www.itishistory.ru', 'www.qaa.ac.uk', 'agh.edu.pl', 'www.novayagazeta.ru', 'www.gosugamers.net', 'www.marymediatrix-resourceonline.com', 'politrada.com', 'yi.m.wikipedia.org', 'www.leopoldina.org', 'comminfo.rutgers.edu', 'collegemediamatters.com', 'scores.usaultimate.org', 'www.km.ukrstat.gov.ua', 'www.diariodemexico.com', 'www.merriam-webster.com', 'hitparade.ch', 'www.durhamrecordoffice.org.uk', 'www.bibsys.no', 'sudafrica.pordescubrir.com', 'eo.wikinews.org', 'bvba2.bib-bvb.de', 'sable.jefferson.lib.co.us', 'jornal.publico.pt', 'rusarchives.ru', 'bartrans.net', 'www.amazon.ca', 'daten.digitale-sammlungen.de', 'www.odin.tc', 'pam.m.wikipedia.org', 'www.kkbids.episkopat.pl', 'www.wwf.org.uk', 'montereybaycam.com', 'www.jimhagedorn.org', 'www.gnu.org', 'www.laopiniondemalaga.es', 'www.torontopubliclibrary.ca', 'www.youtube.com', 'konstytucja.e-studio.biz.pl', 'blog.brightcove.com', 'zeszytypoetyckie.pl', 'www.wrestlezone.com', 'm.economictimes.com', 'constitution.kremlin.ru', 'www.friendster.com', 'vi.wikipedia.org', 'www.iar.unlp.edu.ar', 'wildlife.state.co.us', 'www.festesdelcampello.es', 'www.capetalk.co.za', 'www.evansvilleliving.com', 'ocw.mit.edu', 'www.minneapolisfed.org', 'store.britannica.com', 'www.elib.at', 'www.rsssf.com', 'www.mediaweek.com', 'www.prospectmagazine.co.uk', 'articles.economictimes.indiatimes.com', 'www.diaconia.ru', 'thesaurus.cerl.org', 'www.aemet.es', 'personal.telefonica.terra.es', 'webcat.hkpl.gov.hk', 'www.picarta.nl', 'www.zlev.ru', 'tamcat.finna.fi', 'www.votersforhillary.com:80', 'lawlor.cs.uaf.edu', 'www.lagacetadesalamanca.es', 'dumskaya.net', 'www.fcw.com', 'www.worldatlas.com', 'www.mcfc.co.uk', 'www.wurlington-bros.com', 'www.huaralenlinea.com', 'bdh.bne.es', 'www.westincrowncenterkansascity.com', 'www.hyderabadpolice.gov.in', 'www.lfp.es', 'deadspin.com', 'be.m.wikipedia.org', 'spartak.com', 'www.amazon.de', 'www.acapod.ru', 'www.uv.es', 'www.orissacricket.org', 'www.filmportal.de', 'sjsutv.wordpress.com', 'webdept.fiu.edu', 'newsaints.faithweb.com', 'www.sisbi.uba.ar', 'www.leapinglaughter.org', 'www.whathifi.com', 'themohunbaganac.com', 'ajou.ac.kr', 'cwensi.com', 'clean.darlic.com', 'www.ka.edu.pl', 'www.wktv.com', 'www.newsamen.com', 'www.twofeetthick.com', 'www.askmen.com', 'www.plmtm.com', 'articles.citypages.com', 'ilo.wikipedia.org', 'www.librarieswest.org.uk', 'ottawacitizen.com', 'homepages.rootsweb.com', 'www.thirteen.org', 'www.passaiccountynj.org', 'n.rivals.com', 'terme.ru', 'www.runnersworld.com', 'www.actofunion.ac.uk', 'www.psychopathysociety.org', 'hemeroteca.mundodeportivo.com', 'euromaidanpress.com', 'ces.iisc.ernet.in', 'www.regional.org.au', 'www.sportstarlive.com', 'www.coronaca.gov', 'www.rspp.su', 'www.venceremos.cu', 'www.fcc.gov', 'instagram.com', 'deadline.com', 'www.theagencyre.com', 'www.foxsports.com', 'www.expressindia.com', 'sabix.ufrgs.br', 'www.roughedge.com', 'rostov-biz.livejournal.com', 'bnto.comperio.it', 'www2.broadcastnow.co.uk', 'www.hudsonriver.com', 'ilga.org', 'www.ti.com', 'cdm15387.contentdm.oclc.org', 'olo.wikipedia.org', 'www.gypaetus.org', 'www.wakeforestsports.com', 'www.milanotorino.it', 'vls.m.wikipedia.org', 'www.portal.lviv.ua', 'www.agra-net.com', 'www.economiza.com', 'work.co', 'bookitpub.stromsund.se', 'muzyka.onet.pl', 'woodies.mtvu.com', 'www.number10.gov.uk', 'www.tercerafundacion.net', 'www.hullpubliclibrary.org', 'reprobi.erasmo.it', 'www.chsegura.es', 'myship.com', 'www.reviewjournal.com', 'www.mdarchives.state.md.us', 'greyhill.com', 'www.birthplaceofhockey.com', 'www.elseptimoarte.net', 'mapm34.narod.ru', 'www.mediathek.at', 'www.estlit.ee', 'eleventhdli.wordpress.com', 'www.caat.org.uk', 'avherald.com', 'fox7.blackhills.com', 'www.pkdickbooks.com', 'www.revolvermag.com', 'www.obozrevatel.com', 'skyatlantic.sky.com', 'www.meteoprog.ua', 'www.instagram.com', 'www.yalebulldogs.com', 'kpk.if.ua', 'be.wikipedia.org', 'webmasterinfo.ru', 'search.onb.ac.at', 'hip.cor.gov', 'news.qoo-app.com', 'ilib.upd.edu.ph', 'bg.wikipedia.org', 'www.city-data.com', 'www.informationweek.com', 'www.omnibus.ru', 'arebiblioteken-fb.mikromarc.se', 'www.danki.ru', 'www.eonline.com', 'www.wikilearning.com', 'enna.sebina.it', 'www.historicmonterey.org', 'ratusha.lviv.ua', 'repozytorium.umk.pl', 'wikipedia.ramselehof.de', 'www.startribune.com', 'movies.sky.com', 'www.sportstaronnet.com', 'americanhistory.about.com', 'www.idahostatesman.com', 'www.parroquiadegibraleon.org', 'www.memleket.com.tr', 'www.voinenet.ru', 'www.environmentaldefense.org', 'minorityrights.org', 'pittcat.pitt.edu', 'www.chernobyl-international.org', 'xh.wikipedia.org', 'www.twice.com', 'chnm.gmu.edu', 'eastbengalfootballclub.com', 'ug.wikipedia.org', 'paramuslibrary.org', 'tessmann-primo.hosted.exlibrisgroup.com', 'indiancountrytodaymedianetwork.com', 'www.lingvolive.com', 'www-nds.iaea.org', 'www.sky.com', 'www.w3.org', 'search.daum.net', 'www.cic.gc.ca', 'www.poezdnik.kiev.ua', 'www.linkcat.info', 'www.tulsatvmemories.com', 'www.philipkdick.com', 'odesskiy.com', 'gapp.rada.gov.ua', 'ejournals.bc.edu', 'googis.info', 'www.cis.es', 'www.insae-bj.org', 'www.nbcchicago.com', 'hy.wikipedia.org', 'quickfacts.census.gov', 'russian.eurasianet.org', 'ruskline.ru', 'iac.com', 'www.reading.ac.uk', 'data.stats.gov.cn', 'fur.wikipedia.org', 'www.foxtvusvi.com', 'int.soccerway.com', 'www.raamatukoi.ee', 'web.lemoyne.edu', 'www.alenuty.pl', 'www.encyc.mir-x.ru', 'www.winnipeg.ca', 'vec.m.wikipedia.org', 'www.rbc.ua', 'www.corkfilmfest.org', 'westmonmouthschool.com', 'www.wsy.lt', '6abc.com', 'ktuu.titantv.com', 'www.jamiolkowski.pl', 'www.7c.ru', 'thoth.lib.ucalgary.ca', 'blog.wikimedia.org', 'www.urdu.co', 'www.njvoterinfo.org', 'www.worldportsource.com', 'www.panynj.gov', 'www.telam.com.ar', 'nczas.com', 'nspcanada.nfshost.com', 'www.salamanca24horas.com', 'www.bn.org.pl', 'www.islamnews.ru', 'realestate.darlic.com', 'www.archives.upenn.edu', 'www.thelutheran.org', 'www.fortification.ru', 'www.corps.at', 'www.cato.org', 'www.mayoarts.org', 'asterion.udesa.edu.ar', 'www.celtiberia.net', 'meteo.gov.ua', 'www.lmmc.nic.in', 'www.civilization.ca', 'memorybook.org.ua', 'www.ias.ac.in', 'www.olivertobias.co.uk', 'www.marxists.org', 'www.physorg.com', 'bc.pollub.pl', 'www.shape.com', 'bleacherreport.com', 'www.provinciadelsole.it', 'www.barichev.ru', 'freeholders.essexcountynj.org', 'www.dailynews.com', 'hzapps.hclib.org', 'www.handballindia.com', 'rt.com', 'www.discogs.com', 'groundwire.org', 'nature.org.ua', 'www.businessweek.com', 'bundjalung.dalang.com.au', 'www.gfbv.de', 'catalogue.mcmaster.ca', 'www.wcswarriors.com', 'www.ra39-45.pwp.blueyonder.co.uk', 'fifa.com', 'www-03.ibm.com', 'www.abebooks.de', 'www.vrns.ru', 'babel.hathitrust.org', 'www.thailandometers.mahidol.ac.th', 'www.iffhs.de', 'mrnussbaum.com', 'www.ensayistas.org', 'archives.cnn.com', 'www.fresnobee.com', 'www.britisharmedforces.org', 'ifoonsku.ucoz.ua', 'lol.gamepedia.com', 'www.emmyonline.tv', 'www.dziennikzachodni.pl', 'www.securitylab.ru', 'www.estabus.emtsam.es', 'www.booker.senate.gov', 'www.donnews.ru', 'wiki.teamliquid.net', 'bar.wikipedia.org', 'www.francetvinfo.fr', 'www.legacy.com', 'www.vivacom.bg', 'www.valverdedelcamino.net', 'www.vectronicsappleworld.com', 'www.lolking.net', 'www.sharonpubliclibrary.org', 'elcocheingles.com', 'cuicar.com', 'www.nationalgeographic.fr', 'media.ofcom.org.uk', 'catalogo.up.pt', 'downhold.org', 'vechirka.ck.ua', 'www.lextalk.com', 'weather.in.ua', 'www.nelsonmandela.org', 'www.dnestrovsk.com', 'www.alaskadispatch.com', 'www.c20society.org.uk', 'katalog.kjm.cz:8080', 'www.ign.es', 'www.anandabazar.com', 'www.pravoslavie.ru', 'brand.colostate.edu', 'ictj.org', 'waldwick.bccls.org', 'www.fmprc.gov.cn', 'www.dsns.gov.ua', 'www.ine.gov.ve', 'www.bundestag.de', 'www.plk-sa.pl', 'www.huanzhongnet.com', 'www.ibtimes.co.in', 'crave.cnet.co.uk', 'openmagick.com', 'www.a516digital.com', 'government.ru', 'pcd.wikipedia.org', 'ronsslav.com', 'www.nancy.fr', 'www.tri-countyny.net', 'ourmothertongues.org', 'www.kpl.org', 'www.vilnius-tourism.lt', 'www.hennepintheatredistrict.org', 'twit.tv', 'old-ru.ru', 'www.hughjacobsen.com', 'aleph20.svkpl.cz', 'wood-prom.ru', 'mg.wikipedia.org', 'collegesearch.collegeboard.com', 'nbacro.com', 'gutenberg.net.au', 'www.venezuelatuya.com', 'www.sunstar.com.ph', 'libguides.gettysburg.edu', 'gk-press.if.ua', 'www.colostate.edu', 'www.viamichelin.pl', 'fr.wikisource.org', 'dyvensvit.org', 'ia.m.wikipedia.org', 'www.horticulture.com.au', 'standards.emporis.com', 'homepage.newschool.edu', 'press.altontowers.com', 'www.atlanticaxxii.com', 'www.alohacriticon.com', 'www.marketwire.com', 'ca.wikinews.org', 'www.microtron.ua', 'www.collegiatewaterpolo.org', 'edgar.secdatabase.com', 'onezero.medium.com', 'www.aguastenerife.org', 'wyborcza.biz', 'www.telekritika.ua', 'www.turgranada.es', 'hi.wikiquote.org', 'njms.rutgers.edu', 'lt.wikipedia.org', 'www.geekweek.pl', 'uk.pcmag.com', 'www.rushtimestandstill.com', 'www.ine.cl', 'www.tvfool.com', 'katalog.cbvk.cz', 'www.gg.ca', 'www.tourdates.co.uk', 'mosvedi.ru', 'www.idc.com', 'www.letrap.com.ar', 'finance.google.com', 'www.slownik-online.pl', 'www.belta.by', 'www.pb.pl', 'vrcity.comperio.itopac', 'www.kosmas.cz', 'uz.wikipedia.org', 'nah.wikipedia.org', 'www.fifa.com', 'www.eiu.com', 'boston.bizjournals.com', 'ru-an.info', 'shophq.com', 'www.mgc.dps.mo.gov', 'www.rp-online.de', 'radiofreealbemuth.com', 'www.itatti.it', 'time.com', 'delhipubliclibrary.in', 'www.paulakoivuniemi.fi', 'www.spark-interfax.ru', 'www.32signalregiment.org', 'www.guitarplayer.com', 'krakow.pl', 'www.lib.utexas.edu', 'orka.sejm.gov.pl', 'www.adn.com', 'www.gorodrus.com', 'www.city-adm.rv.ua', 'www.rfhwb.de', 'www.clarin.com', 'www.math.harvard.edu', 'www.viaverdeab.es', 'catalogue.nla.gov.au', 'open.fm', 'www.theofficialcharts.com', 'www.cnbc.com', 'www.klausmusic.pl', 'webpac.library.unlv.edu', 'opac.library.usyd.edu.au', 'www.opl.co.in', '3989.pl', 'www.socal-sandiego.com', 'cjonline.com', 'www.kansassampler.org', 'snpp.com', 'italiansoccerseriea.com', 'mediawiki2latex.wmflabs.org', 'valdelinares.deteruel.es', 'www.pacbc.org', 'bs.wikipedia.org', 'catalog.brooklynpubliclibrary.org', 'www.tartessos.info', 'www.uga.edu', 'www.archimadrid.es', 'jewish-bendery.narod.ru', 'fidibo.com', 'www.mobygames.com', 'www.essexclerk.com', 'www.wspolnota-polska.org.pl', 'www.ccl.in', 'www.rayovallecano.es', 'www.ngthai.com', 'inhabitat.com', 'www.necn.com', 'tuoitre.vn', 'www.engr.colostate.edu', 'www.jerseycityindependent.com', 'www.uned.es', 'blogs.wsj.com', 'www.therockradio.com', 'cliftonpark.org.uk', 'www.kingstonpubliclibrary.org', 'www.poppyfestival.com', 'fr.m.wikipedia.org', 'www.partage-plus.eu', 'nlnzcat.natlib.govt.nz', 'www.wascsenior.org', 'nso.wikipedia.org', 'www.carpages.co.uk', 'edge.pse.com.ph', 'www.usatoday.com', 'www.arso.org', 'www.eco2site.com', 'www.bbc.co.uk', 'www.barnesandnoble.com', 'aleph-sba.unipi.it', 'www.wikipediatrends.com', 'ottawa.bibliocommons.com', 'sektori.com', 'www.rondtb.msk.ru', 'sv.m.wikipedia.org', 'www.toptj.com', 'wam.umn.edu', 'www.stat.gov.mk', 'www.holycouncil.org', 'www.ulu.co.uk', 'www.telegraph.co.uk', 'as.com', 'foreignpolicy.com', 'andrewanglinblog.wordpress.com', 'www.mega-sa.com.pl', 'www.knesset.gov.il', 'www.friendssfpl.org', 'desktoppub.about.com', 'helpbets.com', 'ca.wikipedia.org', 'esu.com.ua', 'zh.wikipedia.org', 'www.montclair.edu', 'www.adultfilmdatabase.com', 'www.uhp.kharkov.ua', 'www.granddictionnaire.com', 'uk.mac.ign.com', 'www.imaginginfo.com', 'www.couriermail.com.au', 'www.atlantafalcons.com', 'maia.usno.navy.mil', 'euobserver.com', 'www.bu.umk.pl', 'www.xinhuanet.com', 'www.sportsbusinessdaily.com', 'metalstorm.ee', 'google.com', 'plato.stanford.edu', 'luthers.ru', 'sebinaopac.claudiana.bz.it', 'encyclopedia.1914-1918-online.net', 'www.fss.ru', 'www.british-film-locations.com', 'www.slpl.org', 'www.crh.noaa.gov', 'jbc.jelenia-gora.pl', 'wclcat.weberpl.lib.ut.us', 'psmag.com', 'www.opsi.gov.uk', 'www.jackals.com', 'www.roadrunnerrecords.com', 'www.airlinehistory.org', 'ru.wikivoyage.org', 'www.ibsf.info', 'www.aldeadavila.com', 'bibliogo.ccm.it', 'www.itconversations.com', 'www.arqiva.com', 'rushim.ru', 'www.1944.pl', 'www.informa.com', 'www.tv2.no', 'www.dailytimes.com.pk', 'id.wikisource.org', 'sportstar.thehindu.com', 'www.springerpub.com', 'afreecatv.com', 'lplaces.com', 'www.purolove.com', 'www.isbn.org.ar', 'www.psz.pl', 'www.spasi.ru', 'www.boxnews.com.ua', 'libunix.ku.edu.tr', 'alliancecm.org', 'www.maccullochhall.org', 'www.usc.edu', 'www.mayo.edu', 'www.valleynationalbank.com', 'www.artima.com', 'www.southendmuseum.co.za', 'www.polygon.com', 'www.footballdatabase.eu', 'www.alib.ru', 'www.khovar.tj', 'mercury.uwinnipeg.ca', 'www.625.uk.com', 'racurs.ua', 'library.christchurch.org.nz', 'nobhist.narod.ru', 'censor.net.ua', 'religions.unian.ua', 'www.mvep.hr', 'www.ntv.ru', 'www.btobonline.com', 'www.helmut-kohl-kas.de', 'crh.m.wikipedia.org', 'www.nationaltrust.org.uk', 'www.tenniscircus.com', 'www.rnz.co.nz', 'www.imxprs.com', 'grigoriopol.net', 'www13.shu.edu', 'alpha.bn.org.pl', 'mediarnbo.org', 'timesofindia.indiatimes.com', '7chudes.in.ua', 'ps.m.wikipedia.org', 'www.dnvgl.com', 'nationalpolicy.institute', 'www.lon.ac.uk', 'www.broadband-finder.co.uk', 'www.mpibpc.mpg.de', 'masdeporte.as.com', 'www.voiceofsandiego.org', 'connection.ebscohost.com', 'select.nytimes.com', 'opac.bilgi.edu.tr', 'www.jutarnji.hr', 'lietuvos.istorija.net', 'www.mundoguanche.com', 'memory.loc.gov', 'kmr.gov.ua', 'file770.com', 'pomus.net', 'www.emmys.com', 'fish.kulichki.net', 'www.thedailyshow.com', 'authority.ddbc.edu.tw', 'www.rusidea.org', 'hunterdoncountyalive.com', 'www.montereylanguagecapital.org', 'www.prodrive.com', 'historiamniejznanaizapomniana.wordpress.com', 'www.merida.gob.ve', 'www.virginiafirst.com', 'www.canadapost.ca', 'appleinsider.com', 'www.ksrf.ru', 'www.tritonia.fi', 'www.theblvdlancaster.com', 'chindits.wordpress.com', 'www.ibtimes.com', 'aut.lconz.ac.nz', 'www.cbs.nl', 'ucc.summon.serialssolutions.com', 'papers.ssrn.com', 'gmina.bogatynia.sisco.info', 'scoprirete.bibliotecheromagna.it', 'dictionary.reference.com', 'uk.wikimedia.org', 'sv.wikipedia.org', 'collegeofsanmateo.edu', 'www.pridnestrovie.net', 'www.hippopress.com', '997thefox.iheart.com', 'liulanqi.baidu.com', 'pop-stat.mashke.org', 'lipari.istat.it', 'www.trumpnationalbedminster.com', 'old.towerstimes.co.uk', 'www.pinknews.co.uk', 'www.infoleg.gob.ar', 'www.verfassungen.eu', 'tools.ietf.org', 'www.belhistory.eu', 'www.midpenmedia.org', 'www.kued.org', 'www.zrp.pl', 'aleph.ub.tuwien.ac.at', 'www.aascu.org', 'dbe.rah.es', 'www.theismaili.org', 'www.csurams.com', 'www.fivehorizons.com', 'www.classicfm.com', 'www.lloydslistintelligence.com', 'www.simpsons-art.ru', 'www.ukrmilitary.com', 'soligorsk.by', 'www.bulatnvr.com.ua', 'www.itftennis.com', 'risu.org.ua', 'sports.163.com', 'www.stankiewicz.e.pl', 'closterpubliclibrary.org', 'lao.ca.gov', 'gorzow.wyborcza.pl', 'www.mtp.pl', '1914-1918.invisionzone.com', 'cyberleninka.ru', 'mospi.nic.in', 'www.hurriyet.com.tr', 'www.cia.gov', 'pag.m.wikipedia.org', 'rm.m.wikipedia.org', 'unian.net', 'temadnya.ru', 'www.musicinafrica.net', 'www1.skysports.com', 'rcps.egov.go.kr:8081', 'gadgets.ndtv.com', 'chamo.kis3g.sk', 'sportpress.by', 'www.corriere.it', 'www.southwalesargus.co.uk', 'tech.ifeng.com', 'techvibes.com', 'catalog.roundrocktexas.gov', 'library.pepperdine.edu', 'www.elrocio.org', 'www.nato.int', 'univertv.ru', 'uaprom.info', 'www.appledaily.com.tw', 'www.charlotteobserver.com', 'statsmauritius.gov.mu', 'co.m.wikipedia.org', 'www.rapidtvnews.com', 'www.felician.edu', 'blogs.gnome.org', 'brainerddispatch.com', 'uk.wikisource.org', 'www.minneapolisconventioncenter.com', 'pravapis.info', 'librarycatalog.bilkent.edu.tr', 'vep.wikipedia.org', 'www.krugosvet.ru', 'politica.elpais.com', 'voir.ca', 'comicbookroundup.com', 'www.fayobserver.com', 'www.pzn.pl', 'rapidttp.com', 'www.goodboydigital.com', 'mkpe.com', 'www.listal.com', 'www.harvardmagazine.com', 'indiacode.nic.in', 'www.lne.es', 'www.guiahuaral.com', 'www.mari-el.name', 'nsu.ru', 'soksam.biblioteken.fi', 'www.rsu.ru', 'privacylaw.proskauer.com', 'levskisofia.info', 'eu.wikipedia.org', 'www.minesandcommunities.org', 'bibchioggia.comperio.it', 'www.dqnews.com', 'charlotte.bizjournals.com', 'www.harvard.edu', 'www.diocesicivitacastellana.it', 'www.ciol.com', 'www.prnewswire.com', 'chans.lib.chalmers.se', 'sdrc.lib.uiowa.edu', 'wsprod.colostate.edu', 'thephora.net', 'www.dinosaurrockguitar.com', 'turystyka.wp.pl', 'www.acfccfsignals.org.uk', 'www.kyobobook.co.kr', 'www.fiestasdeandalucia.com', 'www.verfassungsschutz.de', 'www.kcmo.gov', 'www.hristianstvo.ru', 'www.audiovision-nj.org', 'www.bibliotheek.be', 'collections.artsmia.org', 'aleph.bibnat.ro:8991', 'www.sportsbharti.com', 'stadiumdb.com', 'www.publishersweekly.com', 'www.instat.gov.al', 'www.mactech.com', 'www.kryminalistyka.fr.pl', 'communities.intel.com', 'wpolityce.pl', 'sevillanosilustres.wikispaces.com', 'www.ibac.info', 'blog.codexify.com', 'www.consultsos.com', 'www.pong-story.com', 'lospueblosdeshabitados.blogspot.com', 'www.bdm.insee.fr', 'www.naia.org', 'www.hup.harvard.edu', 'www.temples.ru', 'profile.id.com.au', 'www.vfcg.eu', 'www.orissapost.com', 'www.basket.ru', 'www.fc-istiklol.tj', 'www.mvd.ru', 'summa.upsa.es', 'www.hmdb.org', 'vickie-britton.suite101.com', 'www.cisport.ca', 'www.dlcmagazine.com', 'www.hornazodesalamanca.org', 'www.directtextbook.com', 'www.guancha.cn', 'censusviewer.com', 'opac.rero.ch', 'numizmat.com.ua', 'www.zap2it.com', 'townhall.com', 'rasp.yandex.ru', 'www.mobeard.org', 'odishanewstoday.com', 'www.fresnolibrary.org', 'sounds.bl.uk', 'www.jstandard.com', 'www.gdanskstrefa.com', 'manage.oxosolutions.com', 'www.born05.com', 'www.blender.com', 'library.digiguide.com', 'bernews.com', 'www.scoutcamphenderson.org', 'english.people.com.cn', 'yle.fi', 'www.roadsideamerica.com', 'www.informaworld.com', 'isbn.camlibro.com.co', 'www.gmanetwork.com', 'ecommerce.darlic.com', 'cbs.gov.il', 'www.as.com', 'stats.nba.com', 'archive.stats.govt.nz', 'library.federation.edu.au', 'es.wikinews.org', 'world.huanqiu.com', 'tech.co', 'www.experts.in.ua', 'www.jusp-jasenovac.hr', 'www.inverness-courier.co.uk', 'www.lasexta.com', 'm.vesti.kz', 'www.poetryinternationalweb.net', 'masglp.olemiss.edu', 'www.time.com', 'www.abc.es', 'www.mphonline.com', 'technodrive.ru', 'www.uscurrency.gov', 'www.panoramio.com', 'www.nextenergynews.co.uk', 'www.sciencebusiness.net', 'paralleli.if.ua', 'www.xeno-canto.org', 'technode.com', 'www.thetvroomplus.com', 'www.ekskursii.by', 'www.sandiegomagazine.com', 'bcl.wikipedia.org', 'motor.ru', 'welcome.warnercnr.colostate.edu', 'cheapbooks.com', 'vz.ru', '50forfreedom.org', 'www.cnu.edu', 'www.ketab.ir', 'content-www.cricinfo.com', 'dichterwiki.lib.byu.edu', 'news.cctv.com', 'creativecommons.org', 'nexus404.com', 'nk-online.tv', 'www.fetchbook.co.uk', 'www.cengage.com', 'www.fundinguniverse.com', 'www.hanovermass.com', 'primo-direct-apac.hosted.exlibrisgroup.com', 'www.crystallewis.com', 'no.bookchecker.com', 'www.managementtoday.co.uk', 'www.icc-icc.ca', 'www.leagueoflegends.com', 'journals.viamedica.pl', 'iz.ru', 'www.edn.com', 'www.esrb.org', 'libertyellisfoundation.org', 'www.gamezone.com', 'www.thenorthernecho.co.uk', 'ext.m.wikipedia.org', 'libguides.sjsu.edu', 'www.thesimpsons.com', 'www.bavarikon.de', 'www.msssi.gob.es', 'www.sfpl.org', 'www.culture.pl', 'geography.about.com', 'moldgres.com', 'www.oswaldmosley.com', 'koi.wikipedia.org', 'club.telepolis.com', 'www.funaba.org', 'www.redorbit.com', 'links.jstor.org', 'www.tubefilter.com', 'www.ekonomia24.pl', 'variety.com', 'blogs.elcorreodigital.com', 'www.iea.sjsu.edu', 'www.abs-cbnnews.com', 'acb.com', 'pzpn.pl', 'www.abcmedianet.com', 'www.bokpris.com', 'www.westportnow.com', 'about.upi.com', 'en.rian.ru', 'www.kanienkehaka.com', 'omahalibrary.org', 'www.nyulawreview.org', 'nbinet2.ncl.edu.tw', 'www.radicalphilosophy.com', 'www.rocor.de', 'isbn.bnp.gob.pe', 'nonprofitquarterly.org', 'kg.wikipedia.org', 'www.famousnewjerseyans.com', 'www.tresor.economie.gouv.fr', 'www.nhregister.com', 'isport.ua', 'schott.blogs.nytimes.com', 'www.birds.cornell.edu', 'www.anupamtimes.com', 'jean-jacques-aillagon.typepad.fr', 'www.capmas.gov.eg', 'www.werelate.org', 'www.libdemvoice.org', 'www.airnav.com', 'www.bcut.ro', 'bigsearch.unibg.it', 'www.decamp.com', 'www.wishtv.com', 'www.mecd.gob.es', 'www.villagevoice.com', 'www.stefczyk.info', 'theuptake.org', 'nooklyn.com', 'www.juntaelectoralcentral.es', 'www.wikitree.com', 'www.greatwar.co.uk', 'www.como.gov', 'hemerotecadigital.bne.es', 'www.polskawliczbach.pl', 'search.angusrobertson.com.au', 'populstat.info', 'journaltimes.com', 'www.kwintessential.co.uk', 'www.rustrana.ru', 'data.bibliotheken.nl', 'www.statistica.md', 'www.nwhp.org', 'www.worldinteriordesignnetwork.com', 'ang.wikipedia.org', 'www.office-zirka.com', 'ba.m.wikipedia.org', 'russiapedia.rt.com', 'www.legendsofkansas.com', 'andrewdalton2019.sites.gettysburg.edu', 'www.gent-wevelgem.be', 'telewizjarepublika.pl', 'parkridge.bccls.org', 'www.hs.fi', 'www.lejdd.fr', 'germanyinnyc.org', 'www.metro.net', 'textmex.blogspot.com', 'utilityweek.co.uk', 'www.history.org.ua', 'www.ipd.uka.de', 'www.metvdenver.com', 'poderciudadano.org', 'gazetakrakowska.pl', 'www.szlaki.mazury.pl', 'classicrockrevisited.com', 'www.zonarosa.com', 'www.legislation.govt.nz', 'voyager.jpl.nasa.gov', 'statshockey.homestead.com', 'en.satexpat.com', '9to5mac.com', 'biz.colostate.edu', 'blog.vh1.com', 'src.k12.ok.us', 'radiogdansk.pl', 'www.kbia.org', 'aleph20.knihovna-pardubice.cz', 'www.symphonyx.com', 'www.sandiegouniontribune.com', 'www.news-usa.ru', 'www.klaipeda.lt', 'lhrtnews.wordpress.com', 'sportstories.rsport.ru', 'www.calstate.edu', 'mykolaivmr.lviv.ua', 'www.e-teatr.pl', 'www.revelationz.net', 'www.gardencitychamber.net', 'books.google.com', 'www.elpais.com', 'www.bip.krakow.pl', 'www.brewiarz.katolik.pl', 'www.foundingdocs.gov.au', 'zephyr.lib.uoc.gr', 'www.koepp-kollektion.de', 'electionresources.org', 'www.golf.com', 'www.senate.gov', 'www.grammy.com', 'www.culteducation.com', 'www.hln.be', 'blog.plan28.org', 'biblioteca.org.ar', 'www.atsdr.cdc.gov', 'www.stratford.library.on.ca', 'www.kshb.com', 'www.jakubas.pl', 'bigpicture.ru', 'hy.m.wikipedia.org', 'eml.wikipedia.org', 'www.bahamas.com', 'gamescc.rbkdesign.com', 'www.museum.co.za', 'autoreview.ru', 'catalogo.sbi.genova.it', 'www.manchesternh.gov', 'www.iasp.ws', 'www.nowtv.com', 'www.stat.tj', 'chickenporkadobo.abs-cbn.com', 'www.photon.info', 'www.star-telegram.com', 'tennesseeencyclopedia.net', 'webcat.lib.unc.edu', 'www.novinky.cz', 'santaclaraca.gov', 'www.c2b2web.org', 'universidades.universia.es', 'www.bhutan.gov.bt', 'www.dmz-vat.com', 'www.allbusiness.com', 'wp.tv', 'www.menendez.senate.gov', 'www.ci.minneapolis.mn.us', 'www.ac-dc.cc', 'www.wikimapia.org', 'www.statistics.gov.my', 'www.brooklynpubliclibrary.org', 'newsbalt.ru', 'tilastokeskus.fi', 'hebdo.ahram.org.eg', 'glos.on.worldcat.org', 'www.google.es', 'legacy.roadrunnerrecords.com', '2x2tv.ru', 'www.phalanx.pl', 'www.ecotricity.co.uk', 'www.iop.kcl.ac.uk', 'www.komodorock.com', 'yourstory.com', 'www.radioaustralia.net.au', 'www.kloestitzgenealogy.org', 'www.terragalleria.com', 'tr.m.wikipedia.org', 'esc.watch', 'www.apnewsarchive.com', 'www.memoriacastello.cat', 'grants1.nih.gov', 'iplayer.bbc.com', 'www.ofcom.org.uk', 'www.heraldlive.co.za', 'limanowa.krakow.lasy.gov.pl', 'rfi.fr', 'es.geocities.com', 'novorus.info', 'militera.lib.ru', 'www.wydawnictwoolesiejuk.pl', 'www.huguenot.org.za', 'www.tasteofthai.ru', 'villagegreennj.com', 'ten.wikipedia.org', 'www.tauschticket.de', 'bn.wikipedia.org', 'leagueofthesouth.com', 'www.remady.ch', 'essexcountynj.org', 'www.infopotik.com.ua', 'www.mediaite.com', 'www.dod.mil.za', 'experimental.worldcat.org', 'www.heritage.com.ua', 'www.filipinoamericanfestival.com', 'www.wikia.com', 'www.mgoblue.com', 'www.tychyna.com', 'www.coronacemetery.com', 'www.renfe.es', 'engineering.sjsu.edu', 'kcparks.org', 'www.basketballforcoaches.com', 'www.empireonline.com', 'www.bionews.org.uk', 'www.startlandnews.com', 'www.asta24.pl', 'www.satakirjastot.fi', 'www.laalmanac.com', 'rajasthanpatrika.patrika.com', 'ar.wikisource.org', 'www.ethnomuseum.ru', 'web.vita.it', 'uli.nli.org.il', 'sig.mapa.es', 'www.newenglishreview.org', 'www.anche.org', 'gnn.gamer.com.tw', 'www1.dziennik.krakow.pl', 'catalogue.mcgill.ca', 'www.rv-blr.com', 'liberisinefano.ucoz.net', 'www.thefreelibrary.com', 'finance.yahoo.com', 'forward.com', 'www.escriptors.cat', 'iarf.net', 'bct.comperio.it', 'lib.odu.edu', 'epaper.usqiaobao.com:81', 'se.librarything.com', 'www.macleans.ca', 'www.svaboda.org', 'westki.info', 'www.rememberingscotlandatwar.org.uk', 'libraries.admin.ch', 'www.cricmetric.com', 'bookz.ru', 'www.archiwum.wyborcza.pl', 'www.roughlydrafted.com', 'www.adventistdirectory.org', 'rsf.org', 'dk.wikimedia.org', 'nbm.md', 'www.booksamillion.com', 'www.boxofficemojo.com', 'dmla.clan.lib.nv.us', 'www.mariobalotelli.it', 'www.edpress.org', 'library-opac.birmingham.gov.uk', 'der-dritte-weg.info', 'www.geograph.org.uk', 'www.marvel.com', 'www.lyndhursthistoricalsociety.org', 'www.telecompaper.com', 'hansard.parliament.uk', 'www.grad.umn.edu', 'amp.theguardian.com', 'www.vremya.tv', 'www.patrioticyouthleague.net', 'static.ktvb.com', 'w01.sascms.wf.ulcc.ac.uk', 'www.see-sciencecenter.org', 'www.canada.com', 'www.doverlanemusicconference.org', 'www.devon.gov.uk', 'www.americanabstractartists.org', 'www.google.com.ph', 'economictimes.indiatimes.com', 'www.ibtimes.co.uk', 'hu.wikipedia.org', 'www.ebtrust.org.uk', 'www.xumuk.ru', 'auto.mail.ru', 'simpsonsmovie.com', 'ursus.maine.edu', 'mountainlynx.lib.wvu.edu', 'www.sos.ca.gov', 'www.dnvgl.pl', 'lb.m.wikipedia.org', 'www.sabah.com.tr', 'www.newmilford.njlibraries.org', 'hoopshabit.com', 'www.docketalarm.com', 'kazka.pp.ua', 'asus.com', 'elib.bsu.by', 'investor.mcgraw-hill.com', 'mapuniversal.com', 'www.slam.nhs.uk', 'www.radiokrakow.pl', 'kcaqua.kclibrary.org', 'museodeltraje.mcu.es', 'sports.yahoo.com', 'njtoday.net', 'x-libri.ru', 'lienminh.garena.vn', 'www.silk-road.com', 'www.clovekaspolocnost.sk', 'www.harpercollins.com', 'public.gettysburg.edu', 'files.usgwarchives.net', 'ht.m.wikipedia.org', 'www.peredelkino-land.ru', 'www.holytrinityorthodox.com', 'www.masshightech.com', 'www.huelva.es', 'www.homin.ca', 'www.rivera-ortiz.com', 'www.prezydent.pl', 'runeberg.org', 'www.pogodaiklimat.ru', 'frognews.bg', 'www.timeshighereducation.co.uk', 'www.steimatzky.co.il', 'askep.net', 'www.globaltimes.cn', 'www.upiu.com', 'vfarte.ru', 'www.majddoc.com', 'hunterdon.happeningmag.com', 'roma.undp.sk', 'www.thinkdowntownkc.com', 'www.lockheedmartin.com', 'www.lloydslist.com', 'www.epo.org', 'www.eholiday.pl', 'www.nlr.ru:8101', 'americanhistory.si.edu', 'franklin.library.upenn.edu', 'dk.librarything.com', 'www.bergen.edu', 'www.tnl.net', 'vs13.kobv.de', 'www.dbc.wroc.pl', 'www.compassairline.com', '3g.56.com', 'www.weeklystandard.com', 'globalpanel.net', 'www.photius.com', 'auto.vesti.ru', 'www.vermonthistory.org', 'www.gobroomecounty.com', 'www.mos.ru', 'www.aintitcool.com', 'nbinet3.ncl.edu.tw', 'www.irishexaminer.com', 'www.infoatleti.es', 'restauro.on-line.it', 'www.georgegregan.com', 'www.cheapunibooks.co.uk', 'pl.wiktionary.org', 'www.nti.org', 'foldoc.org', 'menlopark.org', 'geo.ladimir.kiev.ua', 'www.zonezero.com', 'victoria.lconz.ac.nz', 'www.australianwoolgrowers.com.au', 'www.thestreet.com', 'www.dreamhack.se', 'whois.domaintools.com', 'sangam.org', 'www.cun.edu.co', 'www.weather-us.com', 'www.libvar.bg', 'www.digit.ru', 'www.ngenespanol.com', 'www.nationalgeographic.com.tw', 'www.crowncenter.com', 'www.leyaonline.com', 'www.lavra.kiev.ua', 'www.intertrend.ru', 'www.trojmiasto.pl', 'parenting.pl', 'slate.com', 'www.diputoledo.es', 'sjp.pwn.pl', 'www.guatiza.com', 'catalogue.spl.surrey.bc.ca', 'www.wikipedia.org', '193.231.13.10:8991', 'spokesman-recorder.com', 'zakon4.rada.gov.ua', 'www.romahistory.com', 'theundefeated.com', 'www.co.washington.or.us', 'johanneksenpoika.fi', 'webpages.ull.es', 'www.twintone.com', 'www.scituatetownlibrary.org', 'www.seanbennett.net', 'www.twinfm.com', 'kv.m.wikipedia.org', 'www.justbooks.de', 'albert.rit.edu', 'hip.jcu.edu.au', 'www.gesetze-im-internet.de', 'hungary.orthodoxia.org', 'www.latimes.com', 'www.filipinohome.com', 'ua.interfax.com.ua', 'idreambooks.com', 'finance.naver.com', 'wikimania2018.wikimedia.org', 'juvenia.info', 'helcat.linneanet.fi', 'www.datacenterknowledge.com', 'www.lidovky.cz', 'opac.bib.uniud.it', 'www.plymouthpubliclibrary.org', 'alchemi.co.uk', 'www.njleg.state.nj.us', 'www.mediabistro.com', 'www.slowaimysli.pl', 'maps.howstuffworks.com', 'capitadiscovery.co.uk', 'www.merlin.com.pl', 'de.orthodoxlinks.info', 'aa.wikipedia.org', 'www.elib.gov.ph', 'www.nypl.org', 'ir.aboutamazon.com', 'www.mohunbaganclub.com', 'old.mns.gov.ua', 'birislepe.bitacoras.com', 'windowoneurasia2.blogspot.ca', 'www.booknet.co.il', 'www.mk.gov.lv', 'library.uncg.edu', 'venturebeat.com', 'www.joystiq.com', 'www.forexpf.ru', 'www.rocor.org', 'investvine.com', 'www.imer.gob.mx', 'www.amazon.co.jp', 'rtb.rv.ua', 'www.chipolbrok.us', 'www.ccmmagazine.com', 'rossignol.cream.org', 'encore.ulrls.lon.ac.uk', 'www.skylinecollege.edu', 'global.oup.com', 'web.mit.edu', 'www.nationalgeographic.com.tr', 'www.southwestbusiness.co.uk', 'www.lse.ac.uk', 'engineering.dartmouth.edu', 'www.turismosevilla.org', 'hype.ru', 'telegraf.by', 'www.hickoryrecord.com', 'gag.wikipedia.org', 'letopis.msu.ru', 'www.eater.com', 'aquaculture.mlml.calstate.edu', 'www.chg.pl', 'tutbuv.com', 'www.bbceng.info', 'www.realclearpolitics.com', 'www.rnw.nl', 'www.ture.ua', 'po-ru.com', 'stirileprotv.ro', 'www.shz.de', 'library.cqu.edu.au', 'www.lider-press.by', 'juneauempire.com', 'www.mnwest.edu', 'www.e-vestnik.ru', 'mazowsze.hist.pl', 'dailyprincetonian.com', 'de.wikivoyage.org', 'www.sptnews.ca', 'www.hintaseuranta.fi', 'webbyawards.com', 'www.losalamosnm.us', 'www.c-span.org', 'portales.gva.es', 'hls-dhs-dss.ch', 'www.opera.wroclaw.pl', 'www.nh.gov', 'thehill.com', 'day.kyiv.ua', 'mel.org', 'dl.nanet.go.kr', 'ssrn.com', 'zh-classical.wikipedia.org', 'arcrelief.org', 'www.apfn.org', 'koi.m.wikipedia.org', 'orbita.bib.ub.es', 'www.johnhavlicekbasketball.com', 'www.awastars.com', 'www.nam.gov.za', 'www.xda-developers.com', 'www.courtlistener.com', 'sify.com', 'www.sueddeutsche.de', 'isbndb.com', 'www.ohiostatebuckeyes.com', 'www.kalmistud.ee', 'asia.nikkei.com', 'nuremberg.law.harvard.edu', 'emlib.ent.sirsidynix.net.uk', 'biurorekordow.pl', 'www.laweekly.com', 'www.buzzfeed.com', 'www.wirtualnakatedra.pl', 'www.savelapl.org', 'www.holocaust-history.org', 'www.jasonkidd.com', 'blog.hemmings.com', 'www.sedmitza.ru', 'www.speaking4earth.net', 'www.mvla.net', 'www.1902encyclopedia.com', 'www.remembertheaba.com', 'gomarquette.com', 'www.wan-press.org', 'www.jamesbusterdouglas.net', 'www.bergenbrt.com', 'www.historychannel.com.au', 'www.libertyshawnee.com', 'pbe.account.leagueoflegends.com', 'www.slj.com', 'www.hclibrary.us', 'www.kancoll.org', 'www.union.sjsu.edu', 'radio.krcb.org', 'catalog.flls.org', 'www.espn.com', 'espnpressroom.com', 'www.unison.ie', 'www.sakharov-center.ru', 'life.ture.ua', 'www.clemsonwiki.com', 'swiatseriali.interia.pl', 'www.trud.bg', 'www.maccabi.co.il', 'www.niche.com', 'about.virginmedia.com', 'www.muninetguide.com', 'www.1820settlers.com', 'www.agost.es', 'www.spravedlivie.ru', 'www.parliament.gov.bd', 'homeroom5.doe.state.nj.us', 'www.indaloart.com', 'www.afreecatv.com', 'karmaentertainment.co.in', 'helloadr.blogspot.tw', 'discovery.baidu.com', 'www.punjabdesher.com', 'days.peoples.ru', 'www.rnbo.gov.ua', 'www.radiotrek.rv.ua', 'www.pot.gov.pl', 'www.transdiffusion.org', 'www.proradio.org.ua', 'www.bfu.bg', 'memoriaviva5.blogspot.com', 'fy.m.wikipedia.org', 'www.minnpost.com', 'www.overdrive.com', 'www.kino-nika.com', 'www.timesonline.co.uk', 'sport.news.am', 'www.indiebound.org', 'libelli.ru', 'www.lapoliticaonline.com', 'education.nationalgeographic.com', 'www.thefa.com', 'www.hk01.com', 'blockbyblock.com', 'apnews.com', 'tt.wikipedia.org', 'www.cellonenation.com', 'swco.ttu.edu', 'www.cqranking.com', 'www.davidpbrown.co.uk', 'www.peoplesworld.org', 'vivaceproductions.com', 'wilma.finna.fi', 'www.citymayors.com', 'www.educ.fc.ul.pt', 'rsport.ru', 'www.canadiangeographic.ca', 'www.radiomaria.org.ua', 'www.merlonegeier.com', 'www.uscirf.gov', 'kr.leagueoflegends.com', 'www.wndu.com', 'te.wikiquote.org', 'www.thespacereview.com', 'www.kiplinger.com:80', 'slashdot.org', 'chi-e.com', 'www.thermo.karelia.ru', 'dbpcosdcsgt.co.san-diego.ca.us', 'iea.sjsu.edu', 'www.jasofnj.com', 'www.tennisworldusa.org', 'ohp.parks.ca.gov', 'jam.canoe.ca', 'www.western-locations-spain.com', 'www.citizen-times.com', 'www.rupert.net', 'tonto.eia.doe.gov', 'www.bookbutler.de', 'currentsmagazinecnu.wordpress.com', 'cruxnow.com', 'film4od.film4.com', 'www.metal.it', 'www.rockmetal.pl', 'videogamehistorian.wordpress.com', 'ari.ru', 'justengineeringschools.com', 'whitehatseorankings.com', 'www.thueringer-allgemeine.de', 'publications.parliament.uk', 'ne.wikipedia.org', 'polfair.pl', 'zik.ua', 'www.africa.upenn.edu', 'www.cup.columbia.edu', 'www.moneyweb.co.za', 'www.parkridgelibrary.org:80', 'www.unidiversidad.com.ar', 'oldsite.library.upenn.edu', 'www.teatrstudio.pl', 'shopping.yahoo.com', 'minnesota.publicradio.org', 'elibrary.ru', 'patriarch.voskres.ru', 'marketshare.hitslink.com', 'azb.m.wikipedia.org', 'www-history.mcs.st-and.ac.uk', 'aleph.nottingham.ac.uk', 'bandera.inquirer.net', 'www.bbcasia.com', 'www.lyndhurstschools.net', 'www.bookchecker.com', 'www.pulitzer.org', 'www.alertnet.org', 'www.thelocal.de', 'www.coalingachamber.com', 'theivors.com', 'journals.plos.org', 'www.cinemagia.ro', 'www.drohobych.net', 'www.belstat.gov.by', 'www.nieuwsblad.be', 'www.nanjingmarketinggroup.com', 'www.thenation.com', 'www.regions.ru', 'faqs.yaroslavl.ru', 'www.bergencountyhistory.org', 'daily.bhaskar.com', 'espndeportes.espn.go.com', 'oasis.unisa.ac.za', 'gatchina3000.ru', 'ba.wikipedia.org', 'www.gckschools.com', 'fr.wikipedia.org', 'www.nauczaniejp2.pl', 'biblio.vub.ac.be', 'www.liberty.ru', 'www.allied-media.com', 'history.wikireading.ru', 'www.airvault.com', 'www.nationalgeographic.rs', 'www.tni.org', 'www.cervantesvirtual.com', 'www.hcdn.gov.ar', 'worldstatesmen.org', 'city-adm.rv.ua', 'www.apcnet.org', 'tools.wmflabs.org', 'www.parliament.gov.za', 'www.oldtappanlibrary.com', 'www.bibliotechecalabria.it', 'anywhere.virginmedia.com', 'www.umbransk.bip.podlaskie.pl', 'nb-helveticat.primo.exlibrisgroup.com', 'www.kmu.gov.ua', 'espejo.unesco.org.uy', 'novorossia.su', 'www.walkscore.com', 'gas2.org', 'pqdtopen.proquest.com', 'www.wjla.com', 'www.sas.upenn.edu', 'vidia.org', 'www.artglaube.de', 'www.google.pl', 'www.google.com.ar', 'www.hiru.com', 'www.ornl.gov', 'investors.wmg.com', 'www.bookbutler.co.uk', 'opac.crumbria.it', 'kotaku.com', 'morriscountyhistory.org', 'ebuw.uw.edu.pl', 'tt.m.wikipedia.org', 'www.effecton.net', 'www.statistics.gr', 'monavista.ru', 'video.indiannewsandviews.com', 'www.soitu.es', 'www.somersetcountyparks.org', 'www.chaffey.org', 'www.springerlink.com', 'wwjx-tv23.com', 'www.marinespecies.org', 'www.niedziela.pl', 'tlc.library.usc.edu.ph:8080', 'www.boston.com', 'eo.wikipedia.org', 'www.wrcc.dri.edu', 'www-01.sil.org', 'www.cinemarx.ro', 'www.hindunet.org', 'rubl.ru', 'jurnalul.ro', 'www.nfte.org', 'www.iltempo.it', 'wiadomosci.dziennik.pl', 'www.russiancity.ru', 'peeep.us', 'www.cs.utexas.edu', 'www.microsoft.com', '160.97.80.3:8998', 'www.firstshowing.net', 'ipac.cce.ac.nz', 'web.e.toscana.it', 'www.glaad.org', 'www.fcfb.org', 'ca.ign.com', 'kremlion.ru', 'australian-charts.com', 'www.bbc.com', 'gop.com', 'www.orada.if.ua', 'www.nexstar.tv', 'geonames.usgs.gov', 'www.canoe.ca', 'dlc.lib.de.us', 'www.russianamerica.com', 'maydan.drohobych.net', 'www.firstparishnorwell.org', 'www.csun.edu', 'www.conapo.gob.mx', 'www.nationalgeographic.ee', 'toolserver.org', 'docs.google.com', 'sabr.org', 'teatralny.pl', 'www.likeni.ru', 'greeks.ua', 'www.immi.gov.au', 'www.health.state.mn.us', 'www.pedrosilloelralo.es', 'mobile.nytimes.com', '202.116.174.99', 'nasledie.russportal.ru', 'nn.by', 'www.diphis.ru', 'ulc.gov.pl', 'www.zjaic.gov.cn', 'www.russische-kirche-l.de', 'www.muzeum.umk.pl', 'fourstateshomepage.com', 'docm.jccm.es', 'sports.news.naver.com', 'www.weymouth.ma.us', 'postmusicas-e.blogspot.com.es', 'www.news24.com', 'www.sudafrica.com', 'planeta.by', 'www.jewishgen.org', 'explorer.naco.org', 'el.soccerway.com', 'catalog.ocln.org', 'www.tubular.net', 'ta.wikipedia.org', 'www.rockol.it', 'venezuela.mfa.gov.by', 'hsozkult.geschichte.hu-berlin.de', 'www.cbb.com.br', 'ko.wikipedia.org', 'www.ifri.org', 'www.munzinger.de', 'rcin.org.pl', 'sportsauthorityofindia.nic.in', 'www.registrar.fas.harvard.edu', 'animaldiversity.org', 'www.totalexposure.co.za', 'mr.m.wikipedia.org', 'opac.admin.ch:9080', 'catalog.abu.edu.ng', 'summitthoops.com', 'www.morristourism.org', 'translate.googleusercontent.com', 'www.balcanicaucaso.org', 'krytyka.com', 'www.europeandatajournalism.eu', 'wdef.com', 'spectator.org', 'prawo.sejm.gov.pl', 'insportsnews.blogspot.com', 'nordic.businessinsider.com', 'www.pat.krakow.pl', 'www.chron.com', 'www.un.int', 'henrykuttner.bravehost.com', 'www.ctvnews.ca', 'libnet.ac.il', 'www.oprah.com', 'www.users.bit.te.ua', 'www.beinsports.com', 'www.record-producer.com', 'www.kremenchug.online', 'query.wikidata.org', 'www.stankiewicze.com', 'phys.org', 'jam.wikipedia.org', 'andalucianatural.com', 'www.justallstar.com', 'zkm.de', 'www.ideasinactiontv.com', 'www.banknoteworld.com', 'www.aeiou.at', 'www.alpa.org', 'www.yourmanchesternh.com', 'joewilson.house.gov', 'cs.m.wikipedia.org', 'www.rrt.ua', 'blog.sfgate.com', 'money.rin.ru', 'dspace.njstatelib.org', 'www.asteriscos.tv', 'rusplt.ru', 'www.palgrave-journals.com', 'dnipro-live.narod.ru', 'www.findagrave.com', 'visitkujawsko-pomorskie.pl', 'www.librarything.com', 'www.icehockeyindia.com', 'www.google.ru', 'tria.linneanet.fi', 'www.pobronson.com', 'www.urdupoint.com', 'www.officialcharts.com', 'www.gov.za', 'www.almanacwhf.ru', 'www.nywaterway.com', 'www.fides.org', 'techdigest.tv', 'www.elconfidencial.com', 'money.cnn.com', 'www.thecitymarket.org', 'www.apn-spb.ru', 'yorsearch.york.ac.uk', 'litmisto.org.ua', 'www.scwm.gov.ua', 'mi.wikipedia.org', 'www.pomisna.info', 'www.teamusa.org', 'ru.reuters.com', 'www.baltimoresun.com', 'www.repubblica.it', 'www.anobii.it', 'www.horizon.tv', 'unb.worldcat.org', 'www.iccs-ciec.ca', 'www.nationalgeographic.si', 'www.indiastat.com', 'm.forbes.co.il', 'www.renthop.com', 'greenbrooknj.com', 'encyklopedia.pwn.pl', 'about.cnu.edu', 'www.tylermedia.com', 'www.guiadesicilia.com', 'www.riverballet.org', 'boxrec.com', 'www.dalhousieac.com', 'saddlebrook.bccls.org', 'www.tomtom.com', 'www.news5cleveland.com', 'www.brocktonpubliclibrary.org', 'www.webometrics.info', 'www.tv.com', 'www.dziennikpolski24.pl', 'www.bcub.ro', 'www.sherdog.com', 'ckb.m.wikipedia.org', 'abo.finna.fi', 'nypost.com', 'os.m.wikipedia.org', 'www3.mkcr.cz', 'crimeofaggression.info', 'www.digitalhit.com', 'newsstand.clemson.edu', 'csb.wikipedia.org', 'old.classif.gov.spb.ru', 'science.sciencemag.org', 'www.wildlife-sound.org', 'user-2221582232.cld.bz', 'www.t20mumbai.com', 'www.hinghamlibrary.org', 'grebinky.org.ua', 'jagiellonia.org', 'www.futbolsantander.com', 'katalog.library.lg.ua', 'www.bookswim.com', 'www.waymarking.com', 'books.google.com.au', 'www.politifact.com', 'www.grupoinaer.com', 'www.aitatennis.com', 'papercuts.blogs.nytimes.com', 'therealdeal.com', 'www.r-19.ru', 'www.iht.com', 'www.military-technologies.net', 'www.censorbugbear.org', 'www.jaycashman.com', 'storify.com', 'poltava.to', 'business.guardian.co.uk', 'biblos.usac.edu.gt', 'www.adweek.com', 'www.aladdin.co.kr', 'ca.bookchecker.com', 'www.portaldoms.com.br', 'www.inide.gob.ni', 'mutualfunds.info', 'zh.planet.wikimedia.org', 'acervo.bn.br', 'media.www.collegian.com', 'www.history.adpsp.ru', 'worldcat.org', 'data.bnf.fr', 'proceedings.esri.com', 'www.epiphone.com', 'darganfod.llyfrgell.cymru', 'www.amantesdeteruel.es', 'www.cop.gva.es', 'www.fibaeurope.com', 'itar-tass.com', 'kbd.wikipedia.org', 'www.strandbooks.com', 'en.wikisource.org', 'www.emeraldinsight.com', 'www.vita.mn', 'biznes.pl', 'pobho.com.ua', 'tw.blog.nicovideo.jp', 'eleanor.lib.gla.ac.uk', 'www.seljord.kommune.no', 'rostov.kp.ru', 'blog.meteomodel.pl', 'sjp.sagepub.com', 'maps.yandex.ru', 'www.ofgem.gov.uk', 'sportsillustrated.cnn.com', 'www.ok.gov', 'www.diarioinformacion.com', 'thisisarecording.com', 'www.nationalheadlinerawards.com', 'www.watchdog.org', 'www.thefreedictionary.com', 'bwnt.businessweek.com', 'www.infobae.com', 'puckey.studio', 'www.satodayscatholic.com', 'zal.te.ua', 'fleetworld.co.uk', 'www.bibula.com', 'ce.wikipedia.org', 'informa.com', 'savethedli.org.uk', 'nap.wikipedia.org', 'encyklopedie.seznam.cz', 'malaya.com.ph', 'www.cob.sjsu.edu', 'www.haikou.gov.cn', 'www.bogoslov.org.ua', 'www.f1ultra.pl', 'www.amazon.fr', 'who.ca-news.org', 'repository.countway.harvard.edu', 'argumenti.ru', 'www.popmatters.com', 'adrastea.ugr.es', 'lib.leeds.ac.uk', 'www.bookkoob.com', 'www.traffick.com', 'shipregister.ua', 'hawaiipublicradio.org', 'www.lvrj.com', 'docs.cntd.ru', 'warrax.net', 'www.lkm.org', 'polovea.sebina.it', 'www.airdisaster.com', 'www.gamblegarden.org', 'islam-info.ru', 'www.aeeolica.org', 'www.journals.cambridge.org', 'www.indiamike.com', 'www.sras.org', 'pinoywikipedia.multiply.com', 'bookitpub.bracke.se', 'www.mndaily.com', 'superiorne.com', 'ftw.usatoday.com', 'www.environment.gov.au', 'aleph.nli.org.il', 'www.campusi.com', 'www.morrisschooldistrict.org', 'leninstatues.ru', 'www.lboro.ac.uk', 'sum.in.ua', 'www.diegosalvador.com', 'archive.kontrakty.ua', 'www.jerseycityonline.com', 'www.galychankaif.com.ua', 'www.audiovis.nac.gov.pl', 'www.allmanbrothersband.com', 'ukranews.com', 'news.winshang.com', 'www.lydakrewson.com', 'www.cyberpsych.org', 'www.ktpzg.pttk.pl', 'www.bloomberg.com:80', 'www.rusactors.ru', 'www.bklynlibrary.org', 'www.quora.com', 'patch.com', 'www.tribune.com', 'dty.wikipedia.org', 'www.seroundtable.com', 'episkopat.pl', 'www.foodtechconnect.com', 'www.sister-cities.org', 'primo-pds.tug-libraries.on.ca', 'www.elcinema.com', 'lt.m.wikipedia.org', 'www.nemccathletics.com', 'www.neptun.pl:80', 'www.equalityhumanrights.com', 'www.pharmencyclopedia.com.ua', 'www.dailykos.com', 'www.hort.purdue.edu', 'www.conferenciaepiscopal.es', 'fora.tv', 'www.freedompop.com', 'expres.ua', 'www.housing.colostate.edu', 'www.thefreemansjournal.com', 'fototeka.fn.org.pl', 'images.kclibrary.org', 'www.thestar.com', 'www.znak.org.pl', 'deoxy.org', 'sundog.usask.ca', 'www.thelunchboxfund.org', 'www.perbasi.or.id', 'intersex.su', 'www.onlyinbhutan.ru', 'www.firstandsecond.com', 'www.myveronanj.com', 'www.bart.gov', 'lodi.bccls.org', 'www.rodziewicz.waw.pl', 'www.soligorsk.by', 'it.wikipedia.org', 'www.nancy-tourisme.fr', 'era.library.ualberta.ca', 'player.radio.com', 'www.cs.grinnell.edu', 'www.energiadiario.com', 'www.firstpost.com', 'www.epochtimes.ru', 'chamo-ukb.kis3g.sk', 'www.focus.pl', 'www.topuniversities.com', 'www.blackarchives.org', 'burnaby.bibliocommons.com', 'media.www.dailytrojan.com', 'gdyniasport.pl', 'meria.idc.ac.il', 'storico.radiovaticana.org', 'fox40.com', 'hromadske.ua', 'www.smartplanet.com', 'alephprod.library.nd.edu', 'blog.sina.com.cn', 'english.republiquelibre.org', 'games.sina.com.cn', 'www.psychoanalytikerinnen.de', 'garden.walkerart.org', 'www.bnr.de', 'livemedia.in', 'www.njmeadowlands.gov', 'www2.hu-berlin.de', 'russia.tv', 'www.libcatalog.uams.edu', 'peruenlinea.pe', 'www.radomsko.pl', 'www.getty.edu', 'www.transfermarkt.com', 'www.um.warszawa.pl', 'www.democracynow.org', 'www1.webpublish.se', 'www.ecologylife.ru', 'upload.wikimedia.org', 'in.reuters.com', 'avto-mir.info', 'scholar.google.com.br', 'ils.pup.edu.ph', 'macdailynews.com', 'doc.histrf.ru', 'www.radiorelax.ua', 'gd.wikipedia.org', 'lista.mercadolivre.com.br', 'liepaja.travel', 'www.thebetterindia.com', 'norrkoping.se', 'germanhistorydocs.ghi-dc.org', 'www.elcolombiano.com', 'www.usctrojans.com', 'www.rio2016.com', 'recode.net', 'aleph.muni.cz', 'www.diphuelva.es', 'sh.wikipedia.org', 'www.acb.com', 'www.dipucordoba.es', 'vaslib.vassar.edu', 'www.webcitation.org', 'lostworld.com.ua', 'direct.money.pl', 'www.mprnews.org', 'clinton2.nara.gov', 'als.m.wikipedia.org', 'www.latrobe.edu.au', 'caselaw.lp.findlaw.com', 'www.koeln-magazin.info', 'ast.m.wikipedia.org', 'www.census.gov', 'www.planetary.org', 'www.zrkuban.ru', 'archiwum.mswia.gov.pl', 'www.inosmi.ru', 'www.bard.bg', 'ochakov.narod.ru', 'business.timesonline.co.uk', 'www.harboremployers.com', 'www.abookbargain.com', 'www.http', 'www.newslitva.lt', 'www.biblioteca.ase.ro', 'cityofpaloalto.org', 'www.ksiazkahistorycznaroku.pl', 'evartist.narod.ru', 'www.national-geographic.ro', 'www.lapl.org', 'tcbmag.com', 'nikcenter.org', 'dng.northjersey.com', 'enciclopediafacil.com', 'yura-ksonzhek.narod.ru', 'paloalto.bibliocommons.com', 'www.rakemag.com', 'clio.columbia.edu', 'www.londonrecruits.org.uk', 'www.drohobych-rada.gov.ua', 'old.pravoslavie.by', 'www.activeboard.com', 'pc.ign.com', 'library.nottingham.edu.my', 'columbus.vanderkrogt.net', 'finance.baidu.com', 'cantic.bnc.cat', 'v6.player.abacast.net', 'zbruc.eu', 'bocker.kelkoo.se', 'www.target.com', 'www.thetimes.co.uk', 'webmandry.com', 'www.tcpl.org', 'www.understandingrace.org', 'primo-pmtna01.hosted.exlibrisgroup.com', 'www.blabbermouth.net', 'www.tripadvisor.com', 'www.allthequeensmen.co.uk', 'www.kcchamber.com', 'www.paloaltoonline.com', 'www.renren.com', 'www.advocatekhoj.com', 'arsiv.sabah.com.tr', 'a-shishkin.ru', 'fdb.pl', 'www.cbs8.com', 'www.mk.ru', 'friendsomahalibrary.org', 'www.comic-con.org', 'weather.com', 'bat-smg.m.wikipedia.org', 'www.westernmininghistory.com', 'www.portalnovosti.com', 'rpsc.ru', 'www.uwi.edu', 'unpaywall.org', 'library.aut.ac.ir', 'www.maywoodstation.com', 'www-old.inib.uj.edu.pl', 'home.zonnet.nl', 'corruption.kiev.ua', 'tyv.wikipedia.org', 'www.hindu.com', 'library.uow.edu.au', '220.191.211.173:8090', 'somalia.nm.ru', 'www.pohlyad.com', 'www.unisourcedesign.ca', 'www.stockholmnews.com', 'www.earthday.org', 'www.cityam.com', 'www.statehouse.gov.zm', 'mcpl.us', 'oxfordbibliographiesonline.com', 'www.alliance87.org', 'www.library.ru', 'lusakapublictransportmap.wordpress.com', 'echo.msk.ru', 'www.dialog.ua', 'www.granthill.com', 'audiovis.nac.gov.pl', 'www.ynetnews.com', 'www.hoepli.it', 'www.armandobronca.com', 'siva-ph.jobstreet.com', 'www.bazabiur.pl', 'community.livejournal.com', 'thestandard.com.ph', 'www.radiozet.pl', 'chicanef1.com', 'rw.wikipedia.org', 'www.cayuga-cc.edu', 'www.cosmoetica.com', 'www.cis.minsk.by', 'elpaisdigital.com.ar', 'www.fin.gc.ca', 'ru.scribd.com', 'publications.europa.eu', 'www.njtpa.org', 'www.nrj.ua', 'nds.wiktionary.org', 'policies.google.com', 'www.vilnius.lt', 'www.inflation.eu', 'www.pkobp.pl', 'www.tennistournaments4u.com', 'loadmap.net', 'opendatacharter.net', 'www.co.somerset.nj.us', 'www.nationalarchives.gov.uk', 'www.encyclopedia.com', 'content.apa.org', 'lema.rae.es', 'fontaneroterrassa.com', 'ubz-primo.hosted.exlibrisgroup.com', 'www.riotgames.com', 'www.estemb.ru', 'ch.m.wikipedia.org', 'koha.ffzg.hr', 'nahnews.org', 'hansard.millbanksystems.com', 'www.cmaj.ca', 'doi.org', 'solo.bodleian.ox.ac.uk', 'www.kronikarp.pl', 'www.peckschool.org', 'www.vitaminshoppe.com', 'www.paravine.com', 'www.cordcuttersnews.com', 'hi.wikisource.org', 'www.novilist.hr', 'www.damian-hungs.de', 'hohokus.bccls.org', 'www.puroresu.com', 'archive.li', 'dcist.com', 'www.unesco.org', 'www.helmet.fi', 'grahamarader.blogspot.com', 'www.resultados.eleccionesgenerales19.es', 'www.perseus.tufts.edu', 'www.planetware.com', 'visti-kalush.com.ua', 'www.ucl.ac.uk', 'finna.fi', 'news.vzw.com', 'arhiv.orthodoxy.org.ua', 'www.errc.org', 'ofcs.rottentomatoes.com', 'www.wpl.ca', 'www.travellerstimes.org.uk', 'www.teruelinfo.com', 'www.books.or.jp', 'www.lmu.edu', 'www.eurosport.com', 'e-sochaczew.pl', 'news.ename.cn', 'www.gamesindustry.biz', 'eggfreckles.net', 'base.garant.ru', 'www.dispatch.com', 'www.riccardofogli.net', 'clemsongreeklife.com', 'journals.cambridge.org', 'www.oreilly.com', 'vivovoco.astronet.ru', 'nj1015.com', 'www.havanatimes.org', 'www.warpath.orbat.com', 'webarchiv.bundestag.de', 'publ.lib.ru', 'www.rocklandmemoriallibrary.org', 'www.jadwiga.org', 'www.komonews.com', 'www.sehepunkte.de', 'urokiistorii.ru', 'www.caldwell.edu', 'www.gotennis.ru', 'www.basketball.com', 'www.thedailyanchor.com', 'www.gencourt.state.nh.us', 'ruslo.info', 'www.riaa.com', 'www.detroitnews.com', 'www.scimagoir.com', 'www.sabanciuniv.edu', 'corazones.org', 'www.mediamergers.co.uk', 'lol.garena.co.id', 'www.faqs.org', 'www.zeno.org', 'tl.wikiversity.org', 'www.arcre.com', 'www.courts.gov.bc.ca', 'ssweb.seap.minhap.es', 'www.southafricaholiday.org.uk', 'www.dip-alicante.es', 'es.wikisource.org', 'www.baa.com', 'opac.uniss.it', 'www.specialtycrops.colostate.edu', 'wybory2010.pkw.gov.pl', 'szl.wikipedia.org', 'www.fomento.gob.es', 'www.oasport.it', 'theintercept.com', 'www.amazon.nl', 'archive.sltrib.com', 'www.nationsencyclopedia.com', 'iagenweb.org', 'www.eurobasket.com', 'www.pagesix.com', 'www.mcser.org', 'www.gok.lezajsk.pl', 'idnc.library.illinois.edu', 'ustlib.ust.edu.ph', 'www.fiercewireless.com', 'www.hdtvtest.co.uk', 'wtop.com', 'min.wikipedia.org', 'www.royalsignalsmuseum.co.uk', 'ta.wikibooks.org', 'thetvroom.com', 'natlib1.unisa.ac.za', 'weborigo.loviisa.fi', 'www.mcclatchydc.com', 'icons.spbda.ru', 'www.4029tv.com', 'www.mtm-international.org', 'www.info-pc.home.pl', 'www.books.ru', 'www.motherjones.com', 'munksroll.rcplondon.ac.uk', 'www.warlinks.com', 'europa.eu', 'www.sjsuspartans.com', 'www.weehawken-nj.us', 'mlb.mlb.com', 'news.drom.ru', 'www.gibs.info', 'is.wikipedia.org', 'www.rostovbereg.ru', 'pdc.wikipedia.org', 'www.wipo.int', 'www.toponymic-dictionary.in.ua', 'www.ancient.eu', 'www.calendar.am', 'www.revwar.org', 'ie.wikipedia.org', 'www.sde.org.ua', 'ilib.upm.edu.ph', 'webchat.freenode.net', 'hbr.org', 'hyperallergic.com', 'diebuchsuche.de', 'www.sasklibraries.ca', 'www.unia.es', 'investors.imediabrands.com', 'vufind.carli.illinois.edu', 'ent.kotui.org.nz', 'www.ortho-rus.ru', 'www.mynetworktv.com', 'en.climate-data.org', 'kutuphane.gtu.edu.tr', 'slisweb.sjsu.edu', 'www.religiondispatches.org', 'canadiancoinnews.com', 'www.torrijos.es', 'solidnet.org', 'peninsulaclarion.com', 'mediadecoder.blogs.nytimes.com', 'www.corbisimages.com', 'caltanissetta.sebina.it', 'www.yareah.com', 'www.njskylands.com', 'www1.uni-hamburg.de', 'www.dailytech.com', 'interviews.televisionacademy.com', 'www.president.colostate.edu', 'www.svoboda.org', 'discover.sjlibrary.org', 'mikemcguff.blogspot.com', 'www.ulib.org.cn', 'www.liu.edu', 'www.globalpost.com', 'eds.b.ebscohost.com', 'washingtonsheadquarters.org', 'www.e-yearbook.com', 'www.acfun.cn', 'groups.google.com', 'www.patersonnj.gov', 'stat.gov.pl', 'www.variety.com', 'www.leismunicipais.com.br', 'panic.com', 'www.deadline.com', 'www.bookbutler.com', 'www.gold.ac.uk', 'op.gg', 'www.ceskenoviny.cz', 'www.xeb.imer.com.mx', 'www.stenaline.pl', 'www.stetson.edu', 'nadoloni.com', 'online.wsj.com', 'www.bundespraesident.de', 'education.yahoo.com', 'cbeebies.com', 'www.ci.wilsonville.or.us', 'www.przegladsportowy.pl', 'zhanzhang.baidu.com', 'collegebasketballexperience.com', 'spontaneousgenerations.library.utoronto.ca', 'lo.wikipedia.org', 'www.aetv.com', 'www.buffaloah.com', 'www.rockhall.com', 'www.jewishworldreview.com', 'ee.wikipedia.org', 'www.shanghairanking.com', 'www.gizmodo.com.au', 'fvrl.ent.sirsi.net', 'two-n.com', 'ansar.ru', 'www.cfl.ca', 'www.idahopressclub.org', 'www.oneonta.ny.us', 'www.welt.de', 'www.bl.uk', 'www.betanews.com', 'ringpsychology.wordpress.com', 'www.iglesiacatolica.org.pe', 'www.usnews.com', 'www.gpw.pl', 'www.si.com', 'njchurchscape.com', 'www.otechestvo.org.ua', 'ucark.uca.edu', 'wits.worldbank.org', 'www.sanluisobispo.com', 'www.videogamer.com', 'radiointerior.es', 'patriarchia.ru', 'russia.ru', 'www.oblgazeta.ru', 'www.map.colostate.edu', 'renseradioarchives.com', 'bsearch.interpark.com', 'www.superdataresearch.com', 'eltrajecharro.com', 'www.ksmstv.com', 'sport.guardian.co.uk', 'buktoday.com', 'kath.tv', 'www.theregister.co.uk', 'www.britannica.co.uk', 'chem21.info', 'www.ksn.com', 'alpha.lib.uwo.ca', 'www.caucasusforum.org', 'www.abareconomics.com', 'www.grwar.ru', 'www.diariosur.es', 'www.buscabiografias.com', 'www.ala.org', 'www.vedomosti.ru', 'blogs.discovermagazine.com', 'www.dustedmagazine.com', 'www.rusempire.ru', 'toroprod.library.utoronto.ca', 'www.licasoft.com.ua', 'www1.arbitron.com', 'www.booksandculture.com', 'www.america.gov', 'www.thespruce.com', 'www.court.by', 'restaurant.darlic.com', 'www.twincities.com', 'www.sib.org.bz', 'www.unian.ua', 'sabio.library.arizona.edu', 'www.postandcourier.com', 'www.ayuntamientodeledesma.com', 'ria.ru', 'www.gpupdate.net', 'firma.interia.pl', 'dogbert.abebooks.com', 'ta.wiktionary.org', 'uranos.cto.us.edu.pl', 'www.abc.net.au', 'www.labunion.agava.ru', 'nuestravision.tv', 'asiaplustj.info', 'www.lnfs.es', 'www.newswire.ca', 'www.thegoodlife.ru', 'content.usatoday.com', 'www.avia.mns.gov.ua', 'www.diputaciolleida.cat', 'hrinchenko.com', 'ratings.fide.com', 'community.virginmedia.com', 'vocab.getty.edu', 'aleph.rsl.ru', 'kurort.lt', 'www.nbuv.gov.ua', 'jss.sagepub.com', 'strana.ua', 'www.nashe.ua', 'ru-india.livejournal.com', 'www.ladssociety.com', 'urn.bn.pt', 'www.lawyersweekly.com.au', 'www.similarweb.com', 'www.ukrmandry.com.ua', 'www.ccaption.com', 'www.libraryjournal.com', 'www.theworlds50best.com', 'english.alarabiya.net', 'autobus.cyclingnews.com', 'www2.census.gov', 'www.polarischarterschool.org', 'fo.m.wikipedia.org', 'www.tomaszholuj.com', 'ibisweb.miami.edu', 'www.nbcnews.com', 'www.konradlechner.de', 'cr.wikipedia.org', 'abscbnpr.com', 'www.ndtv.com', 'libcat.qut.edu.au', 'www.accessabc.com', '140.211.82.133', 'www.iwm.org.uk', 'roadcyclinguk.com', 'www.payscale.com', 'webpac.library.gov.mo', '198.162.102.2', 'www.rac.org.ua', 'www.grandprix.com', 'flashesandflames.com', 'tidsskrift.dk', 'www.tvb.org', 'pripyat.com', 'io.wiktionary.org', 'pa.m.wikipedia.org', 'wiarygodnaszkola.pl', 'sports.espn.go.com', 'www.radcliffe.harvard.edu', 'www.scielo.cl', 'cv.m.wikipedia.org', 'naismithbasketballfoundation.com', 'www.mycentraljersey.com', 'www.systemaspetsnaz.com', 'www.exchange4media.com', 'rostov-arena.ml', 'diversitydata.sph.harvard.edu', 'herjedalen-fb.mikromarc.se', 'vbcg.vbcg.me', 'www.frontline.in', 'www.ispreview.co.uk', 'cho.wikipedia.org', 'www.inopressa.ru', 'theappendix.net', 'www.airwar.ru', 'dusia.telekritika.ua', 'www.gradewinner.com', 'id.loc.gov', 'cs.wikipedia.org', 'www.biomanantial.com', 'www.daistesja.de', 'www.religare.ru', 'www.bghelsinki.org', 'europe.chinadaily.com.cn', 'asianjournal.com', 'www.fishbase.org', 'belpolitics.org', 'zoeken.bibliotheek.be', 'www.ester.ee', 'cec.rwanda2.free.fr', 'www.elblag.eu', 'community.seattletimes.nwsource.com', 'www.ceausescu.org', 'www.archiwum.trzciana.pl', 'www.stateofworldliberty.org', 'zdclock.cngba.com', 'www.proza.ru', 'www.camaracordoba.com', 'innopac.library.drexel.edu', 'rxdxt.tumblr.com', 'www.idescat.cat', 'www.naismithmuseum.com', 'apri-code.com', 'www.weatheronline.co.uk', 'visioo-writer.tuxfamily.org', 'www.latinpost.com', 'www.kolkatafootball.com', 'leememoriallibrary.org', 'www.latvia.eu', 'ka.wikipedia.org', 'www.todoslosnombres.org', 'books.google.ca', 'www.neontommy.com', 'www.westendword.com', 'www.libertatea.ro', 'sprotyv.info', 'et.wikipedia.org', 'www.eastbengalfootballclub.com', 'www.press.pl', 'www.channel5.com', 'creatingcustomerevangelists.com', 'ostarbeiter.vn.ua', 'turbina.ru', 'or.wikipedia.org', 'rivne-future.com.ua', 'www.eldiario24.com', 'www.cutigervision.com', 'www.sacredheartlynd.org', 'investor.apple.com', 'www.patdioschools.org', 'www.aihw.gov.au', 'nces.ed.gov', 'www.number-10.gov.uk', 'books.google.com.co', 'www.wcw.com', 'www.parkiet.com', 'webcache.googleusercontent.com', 'www.energias-renovables.com', 'aleph.lsl.lviv.ua:8991', 'www.khabar.com', 'ipac.weber.edu', 'www.constitution.org', 'www.xserver.ru', 'ugsra.org', 'www.ozzy.com', 'ru.wikipedia.org', 'tenasia.hankyung.com', 'www.turnerfreelibrary.org', 'opac.bibliotecaprovinciale.foggia.it', 'www.alaskapublic.org', 'resultadosprovisionales2019.juntaex.es', 'www.nfhs.org', 'www.unionrayo.es', 'lrc.wikipedia.org', 'www.dnr.state.mn.us', 'www.bookkoob.net', 'www.legislation.gov.uk', 'histmag.org', 'helka.finna.fi', 'www.ci.pg.ca.us', 'blog.twitter.com', 'www.censusindia.gov.in', 'webcatplus.nii.ac.jp', 'he.wikipedia.org', 'www.fishpond.com.au', 'global.mapit.mysociety.org', 'www.kierunekwlochy.pl', 'photojournal.jpl.nasa.gov', 'gameinfo.tr.leagueoflegends.com']\n"
     ]
    }
   ],
   "source": [
    "domains_set = set(df['host_url'])\n",
    "domains_list = list(domains_set)\n",
    "print(domains_list)"
   ]
  },
  {
   "cell_type": "code",
   "execution_count": 12,
   "metadata": {},
   "outputs": [
    {
     "data": {
      "text/plain": [
       "7086"
      ]
     },
     "execution_count": 12,
     "metadata": {},
     "output_type": "execute_result"
    }
   ],
   "source": [
    "len(df['domain'].unique())"
   ]
  },
  {
   "cell_type": "code",
   "execution_count": 13,
   "metadata": {},
   "outputs": [
    {
     "data": {
      "text/plain": [
       "11191"
      ]
     },
     "execution_count": 13,
     "metadata": {},
     "output_type": "execute_result"
    }
   ],
   "source": [
    "len(df['host_url'].unique())"
   ]
  },
  {
   "cell_type": "code",
   "execution_count": 14,
   "metadata": {},
   "outputs": [
    {
     "data": {
      "text/plain": [
       "3144"
      ]
     },
     "execution_count": 14,
     "metadata": {},
     "output_type": "execute_result"
    }
   ],
   "source": [
    "len(df['url_from'].unique())"
   ]
  },
  {
   "cell_type": "code",
   "execution_count": 15,
   "metadata": {},
   "outputs": [
    {
     "data": {
      "text/plain": [
       "406134"
      ]
     },
     "execution_count": 15,
     "metadata": {},
     "output_type": "execute_result"
    }
   ],
   "source": [
    "len(df['url_to'].unique())"
   ]
  },
  {
   "cell_type": "code",
   "execution_count": 18,
   "metadata": {},
   "outputs": [
    {
     "data": {
      "text/plain": [
       "domain        object\n",
       "host_url      object\n",
       "sub_domain    object\n",
       "tld           object\n",
       "url_from      object\n",
       "url_to        object\n",
       "dtype: object"
      ]
     },
     "execution_count": 18,
     "metadata": {},
     "output_type": "execute_result"
    }
   ],
   "source": [
    "df.dtypes"
   ]
  },
  {
   "cell_type": "code",
   "execution_count": 20,
   "metadata": {},
   "outputs": [],
   "source": [
    "df = pd.read_csv(r'C:\\Users\\Anand kumar\\Desktop\\domains\\domains\\cr.csv')"
   ]
  },
  {
   "cell_type": "code",
   "execution_count": 35,
   "metadata": {},
   "outputs": [],
   "source": [
    "df = pd.read_csv(r'C:\\Users\\Anand kumar\\Desktop\\domains\\domains\\link.csv')"
   ]
  },
  {
   "cell_type": "code",
   "execution_count": 36,
   "metadata": {},
   "outputs": [
    {
     "data": {
      "text/plain": [
       "(18140, 6)"
      ]
     },
     "execution_count": 36,
     "metadata": {},
     "output_type": "execute_result"
    }
   ],
   "source": [
    "df.shape"
   ]
  },
  {
   "cell_type": "code",
   "execution_count": 2,
   "metadata": {},
   "outputs": [],
   "source": [
    "import pandas as pd\n",
    "df = pd.read_csv(r'C:\\Users\\Anand kumar\\Desktop\\domains\\domains\\domain1.csv')"
   ]
  },
  {
   "cell_type": "code",
   "execution_count": 20,
   "metadata": {},
   "outputs": [
    {
     "data": {
      "text/plain": [
       "(204518, 6)"
      ]
     },
     "execution_count": 20,
     "metadata": {},
     "output_type": "execute_result"
    }
   ],
   "source": [
    "df.shape"
   ]
  },
  {
   "cell_type": "code",
   "execution_count": 21,
   "metadata": {},
   "outputs": [
    {
     "data": {
      "text/plain": [
       "1744"
      ]
     },
     "execution_count": 21,
     "metadata": {},
     "output_type": "execute_result"
    }
   ],
   "source": [
    "len(df['domain'].unique())"
   ]
  },
  {
   "cell_type": "code",
   "execution_count": 15,
   "metadata": {},
   "outputs": [],
   "source": [
    "import requests\n",
    "\n",
    "payload = {'page':2,'count':25}\n",
    "r = requests.get('https://httpbin.org/get',params = payload)"
   ]
  },
  {
   "cell_type": "code",
   "execution_count": 17,
   "metadata": {},
   "outputs": [
    {
     "name": "stdout",
     "output_type": "stream",
     "text": [
      "{\n",
      "  \"args\": {\n",
      "    \"count\": \"25\", \n",
      "    \"page\": \"2\"\n",
      "  }, \n",
      "  \"headers\": {\n",
      "    \"Accept\": \"*/*\", \n",
      "    \"Accept-Encoding\": \"gzip, deflate\", \n",
      "    \"Host\": \"httpbin.org\", \n",
      "    \"User-Agent\": \"python-requests/2.24.0\", \n",
      "    \"X-Amzn-Trace-Id\": \"Root=1-6030b6e1-34453d184ab3de002f03786e\"\n",
      "  }, \n",
      "  \"origin\": \"112.196.84.124\", \n",
      "  \"url\": \"https://httpbin.org/get?page=2&count=25\"\n",
      "}\n",
      "\n"
     ]
    }
   ],
   "source": [
    "print(r.text)"
   ]
  },
  {
   "cell_type": "code",
   "execution_count": 6,
   "metadata": {},
   "outputs": [
    {
     "name": "stdout",
     "output_type": "stream",
     "text": [
      "['__attrs__', '__bool__', '__class__', '__delattr__', '__dict__', '__dir__', '__doc__', '__enter__', '__eq__', '__exit__', '__format__', '__ge__', '__getattribute__', '__getstate__', '__gt__', '__hash__', '__init__', '__init_subclass__', '__iter__', '__le__', '__lt__', '__module__', '__ne__', '__new__', '__nonzero__', '__reduce__', '__reduce_ex__', '__repr__', '__setattr__', '__setstate__', '__sizeof__', '__str__', '__subclasshook__', '__weakref__', '_content', '_content_consumed', '_next', 'apparent_encoding', 'close', 'connection', 'content', 'cookies', 'elapsed', 'encoding', 'headers', 'history', 'is_permanent_redirect', 'is_redirect', 'iter_content', 'iter_lines', 'json', 'links', 'next', 'ok', 'raise_for_status', 'raw', 'reason', 'request', 'status_code', 'text', 'url']\n"
     ]
    }
   ],
   "source": [
    "print(dir(r))"
   ]
  },
  {
   "cell_type": "code",
   "execution_count": 18,
   "metadata": {},
   "outputs": [
    {
     "name": "stdout",
     "output_type": "stream",
     "text": [
      "https://httpbin.org/get?page=2&count=25\n"
     ]
    }
   ],
   "source": [
    "print(r.url)"
   ]
  },
  {
   "cell_type": "code",
   "execution_count": 19,
   "metadata": {},
   "outputs": [],
   "source": [
    "payload = {'username':'anand','password':'anand123'}\n",
    "r = requests.post('https://httpbin.org/post',params = payload)"
   ]
  },
  {
   "cell_type": "code",
   "execution_count": 20,
   "metadata": {},
   "outputs": [
    {
     "name": "stdout",
     "output_type": "stream",
     "text": [
      "{\n",
      "  \"args\": {\n",
      "    \"password\": \"anand123\", \n",
      "    \"username\": \"anand\"\n",
      "  }, \n",
      "  \"data\": \"\", \n",
      "  \"files\": {}, \n",
      "  \"form\": {}, \n",
      "  \"headers\": {\n",
      "    \"Accept\": \"*/*\", \n",
      "    \"Accept-Encoding\": \"gzip, deflate\", \n",
      "    \"Content-Length\": \"0\", \n",
      "    \"Host\": \"httpbin.org\", \n",
      "    \"User-Agent\": \"python-requests/2.24.0\", \n",
      "    \"X-Amzn-Trace-Id\": \"Root=1-6030b79a-739d979930b5782a77f8355e\"\n",
      "  }, \n",
      "  \"json\": null, \n",
      "  \"origin\": \"112.196.84.124\", \n",
      "  \"url\": \"https://httpbin.org/post?username=anand&password=anand123\"\n",
      "}\n",
      "\n"
     ]
    }
   ],
   "source": [
    "print(r.text)"
   ]
  },
  {
   "cell_type": "code",
   "execution_count": 23,
   "metadata": {},
   "outputs": [
    {
     "name": "stdout",
     "output_type": "stream",
     "text": [
      "{'args': {'password': 'anand123', 'username': 'anand'}, 'data': '', 'files': {}, 'form': {}, 'headers': {'Accept': '*/*', 'Accept-Encoding': 'gzip, deflate', 'Content-Length': '0', 'Host': 'httpbin.org', 'User-Agent': 'python-requests/2.24.0', 'X-Amzn-Trace-Id': 'Root=1-6030b79a-739d979930b5782a77f8355e'}, 'json': None, 'origin': '112.196.84.124', 'url': 'https://httpbin.org/post?username=anand&password=anand123'}\n"
     ]
    }
   ],
   "source": [
    "print(r.json())"
   ]
  },
  {
   "cell_type": "code",
   "execution_count": 24,
   "metadata": {},
   "outputs": [],
   "source": [
    "r_dict = r.json()"
   ]
  },
  {
   "cell_type": "code",
   "execution_count": 26,
   "metadata": {},
   "outputs": [
    {
     "name": "stdout",
     "output_type": "stream",
     "text": [
      "{'password': 'anand123', 'username': 'anand'}\n"
     ]
    }
   ],
   "source": [
    "print(r_dict['args'])"
   ]
  },
  {
   "cell_type": "code",
   "execution_count": 40,
   "metadata": {},
   "outputs": [],
   "source": [
    "r = requests.get('http://httpbin.org/basic-auth/anand/123',auth =('anan','123'))"
   ]
  },
  {
   "cell_type": "code",
   "execution_count": 39,
   "metadata": {},
   "outputs": [
    {
     "name": "stdout",
     "output_type": "stream",
     "text": [
      "{\n",
      "  \"authenticated\": true, \n",
      "  \"user\": \"anand\"\n",
      "}\n",
      "\n"
     ]
    }
   ],
   "source": [
    "print(r.text)"
   ]
  },
  {
   "cell_type": "code",
   "execution_count": 41,
   "metadata": {},
   "outputs": [
    {
     "name": "stdout",
     "output_type": "stream",
     "text": [
      "<Response [401]>\n"
     ]
    }
   ],
   "source": [
    "print(r)"
   ]
  },
  {
   "cell_type": "code",
   "execution_count": 48,
   "metadata": {},
   "outputs": [],
   "source": [
    "d = requests.get('http://httpbin.org/delay/1',timeout=3)"
   ]
  },
  {
   "cell_type": "code",
   "execution_count": 49,
   "metadata": {},
   "outputs": [
    {
     "name": "stdout",
     "output_type": "stream",
     "text": [
      "<Response [200]>\n"
     ]
    }
   ],
   "source": [
    "print(d)"
   ]
  },
  {
   "cell_type": "code",
   "execution_count": null,
   "metadata": {},
   "outputs": [],
   "source": [
    "import requests\n",
    "r = requests.get('')"
   ]
  },
  {
   "cell_type": "code",
   "execution_count": 1,
   "metadata": {},
   "outputs": [],
   "source": [
    "from sqlalchemy import create_engine\n",
    "engine = create_engine('sqlite://', echo=False)"
   ]
  },
  {
   "cell_type": "code",
   "execution_count": 2,
   "metadata": {},
   "outputs": [
    {
     "data": {
      "text/html": [
       "<div>\n",
       "<style scoped>\n",
       "    .dataframe tbody tr th:only-of-type {\n",
       "        vertical-align: middle;\n",
       "    }\n",
       "\n",
       "    .dataframe tbody tr th {\n",
       "        vertical-align: top;\n",
       "    }\n",
       "\n",
       "    .dataframe thead th {\n",
       "        text-align: right;\n",
       "    }\n",
       "</style>\n",
       "<table border=\"1\" class=\"dataframe\">\n",
       "  <thead>\n",
       "    <tr style=\"text-align: right;\">\n",
       "      <th></th>\n",
       "      <th>domain</th>\n",
       "      <th>host_url</th>\n",
       "      <th>sub_domain</th>\n",
       "      <th>tld</th>\n",
       "      <th>url_from</th>\n",
       "      <th>url_to</th>\n",
       "    </tr>\n",
       "  </thead>\n",
       "  <tbody>\n",
       "    <tr>\n",
       "      <th>0</th>\n",
       "      <td>facebook</td>\n",
       "      <td>www.facebook.com</td>\n",
       "      <td>www</td>\n",
       "      <td>com</td>\n",
       "      <td>https://oxosolutions.com/</td>\n",
       "      <td>https://www.facebook.com/oxosolutions/</td>\n",
       "    </tr>\n",
       "    <tr>\n",
       "      <th>1</th>\n",
       "      <td>twitter</td>\n",
       "      <td>twitter.com</td>\n",
       "      <td>NaN</td>\n",
       "      <td>com</td>\n",
       "      <td>https://oxosolutions.com/</td>\n",
       "      <td>https://twitter.com/oxosolutions</td>\n",
       "    </tr>\n",
       "    <tr>\n",
       "      <th>2</th>\n",
       "      <td>youtube</td>\n",
       "      <td>www.youtube.com</td>\n",
       "      <td>www</td>\n",
       "      <td>com</td>\n",
       "      <td>https://oxosolutions.com/</td>\n",
       "      <td>https://www.youtube.com/oxosolutions</td>\n",
       "    </tr>\n",
       "    <tr>\n",
       "      <th>3</th>\n",
       "      <td>linkedin</td>\n",
       "      <td>www.linkedin.com</td>\n",
       "      <td>www</td>\n",
       "      <td>com</td>\n",
       "      <td>https://oxosolutions.com/</td>\n",
       "      <td>https://www.linkedin.com/company/oxo-solutions/</td>\n",
       "    </tr>\n",
       "    <tr>\n",
       "      <th>4</th>\n",
       "      <td>whatsapp</td>\n",
       "      <td>api.whatsapp.com</td>\n",
       "      <td>api</td>\n",
       "      <td>com</td>\n",
       "      <td>https://oxosolutions.com/</td>\n",
       "      <td>https://api.whatsapp.com/send?phone=9195010101...</td>\n",
       "    </tr>\n",
       "    <tr>\n",
       "      <th>...</th>\n",
       "      <td>...</td>\n",
       "      <td>...</td>\n",
       "      <td>...</td>\n",
       "      <td>...</td>\n",
       "      <td>...</td>\n",
       "      <td>...</td>\n",
       "    </tr>\n",
       "    <tr>\n",
       "      <th>679</th>\n",
       "      <td>oxosolutions</td>\n",
       "      <td>oxosolutions.com</td>\n",
       "      <td>NaN</td>\n",
       "      <td>com</td>\n",
       "      <td>https://oxosolutions.com/products/</td>\n",
       "      <td>https://oxosolutions.com/happenings/</td>\n",
       "    </tr>\n",
       "    <tr>\n",
       "      <th>680</th>\n",
       "      <td>oxosolutions</td>\n",
       "      <td>oxosolutions.com</td>\n",
       "      <td>NaN</td>\n",
       "      <td>com</td>\n",
       "      <td>https://oxosolutions.com/products/</td>\n",
       "      <td>https://oxosolutions.com/event/</td>\n",
       "    </tr>\n",
       "    <tr>\n",
       "      <th>681</th>\n",
       "      <td>oxosolutions</td>\n",
       "      <td>oxosolutions.com</td>\n",
       "      <td>NaN</td>\n",
       "      <td>com</td>\n",
       "      <td>https://oxosolutions.com/research/web/website-...</td>\n",
       "      <td>https://oxosolutions.com/research/iot/</td>\n",
       "    </tr>\n",
       "    <tr>\n",
       "      <th>682</th>\n",
       "      <td>oxosolutions</td>\n",
       "      <td>oxosolutions.com</td>\n",
       "      <td>NaN</td>\n",
       "      <td>com</td>\n",
       "      <td>https://oxosolutions.com/research/web/website-...</td>\n",
       "      <td>https://oxosolutions.com/research/security/</td>\n",
       "    </tr>\n",
       "    <tr>\n",
       "      <th>683</th>\n",
       "      <td>oxosolutions</td>\n",
       "      <td>oxosolutions.com</td>\n",
       "      <td>NaN</td>\n",
       "      <td>com</td>\n",
       "      <td>https://oxosolutions.com/research/web/website-...</td>\n",
       "      <td>https://oxosolutions.com/portfolio/</td>\n",
       "    </tr>\n",
       "  </tbody>\n",
       "</table>\n",
       "<p>684 rows × 6 columns</p>\n",
       "</div>"
      ],
      "text/plain": [
       "           domain          host_url sub_domain  tld  \\\n",
       "0        facebook  www.facebook.com        www  com   \n",
       "1         twitter       twitter.com        NaN  com   \n",
       "2         youtube   www.youtube.com        www  com   \n",
       "3        linkedin  www.linkedin.com        www  com   \n",
       "4        whatsapp  api.whatsapp.com        api  com   \n",
       "..            ...               ...        ...  ...   \n",
       "679  oxosolutions  oxosolutions.com        NaN  com   \n",
       "680  oxosolutions  oxosolutions.com        NaN  com   \n",
       "681  oxosolutions  oxosolutions.com        NaN  com   \n",
       "682  oxosolutions  oxosolutions.com        NaN  com   \n",
       "683  oxosolutions  oxosolutions.com        NaN  com   \n",
       "\n",
       "                                              url_from  \\\n",
       "0                            https://oxosolutions.com/   \n",
       "1                            https://oxosolutions.com/   \n",
       "2                            https://oxosolutions.com/   \n",
       "3                            https://oxosolutions.com/   \n",
       "4                            https://oxosolutions.com/   \n",
       "..                                                 ...   \n",
       "679                 https://oxosolutions.com/products/   \n",
       "680                 https://oxosolutions.com/products/   \n",
       "681  https://oxosolutions.com/research/web/website-...   \n",
       "682  https://oxosolutions.com/research/web/website-...   \n",
       "683  https://oxosolutions.com/research/web/website-...   \n",
       "\n",
       "                                                url_to  \n",
       "0               https://www.facebook.com/oxosolutions/  \n",
       "1                     https://twitter.com/oxosolutions  \n",
       "2                 https://www.youtube.com/oxosolutions  \n",
       "3      https://www.linkedin.com/company/oxo-solutions/  \n",
       "4    https://api.whatsapp.com/send?phone=9195010101...  \n",
       "..                                                 ...  \n",
       "679               https://oxosolutions.com/happenings/  \n",
       "680                    https://oxosolutions.com/event/  \n",
       "681             https://oxosolutions.com/research/iot/  \n",
       "682        https://oxosolutions.com/research/security/  \n",
       "683                https://oxosolutions.com/portfolio/  \n",
       "\n",
       "[684 rows x 6 columns]"
      ]
     },
     "execution_count": 2,
     "metadata": {},
     "output_type": "execute_result"
    }
   ],
   "source": [
    "import pandas as pd\n",
    "df = pd.read_csv(r'C:\\Users\\Anand kumar\\Desktop\\practice_notebooks\\customers.csv')\n",
    "df"
   ]
  },
  {
   "cell_type": "code",
   "execution_count": 3,
   "metadata": {},
   "outputs": [
    {
     "ename": "OperationalError",
     "evalue": "(sqlite3.OperationalError) no such table: customers\n[SQL: SELECT * FROM customers]\n(Background on this error at: http://sqlalche.me/e/13/e3q8)",
     "output_type": "error",
     "traceback": [
      "\u001b[1;31m---------------------------------------------------------------------------\u001b[0m",
      "\u001b[1;31mOperationalError\u001b[0m                          Traceback (most recent call last)",
      "\u001b[1;32mc:\\users\\anand kumar\\appdata\\local\\programs\\python\\python38\\lib\\site-packages\\sqlalchemy\\engine\\base.py\u001b[0m in \u001b[0;36m_execute_context\u001b[1;34m(self, dialect, constructor, statement, parameters, *args)\u001b[0m\n\u001b[0;32m   1275\u001b[0m                 \u001b[1;32mif\u001b[0m \u001b[1;32mnot\u001b[0m \u001b[0mevt_handled\u001b[0m\u001b[1;33m:\u001b[0m\u001b[1;33m\u001b[0m\u001b[1;33m\u001b[0m\u001b[0m\n\u001b[1;32m-> 1276\u001b[1;33m                     self.dialect.do_execute(\n\u001b[0m\u001b[0;32m   1277\u001b[0m                         \u001b[0mcursor\u001b[0m\u001b[1;33m,\u001b[0m \u001b[0mstatement\u001b[0m\u001b[1;33m,\u001b[0m \u001b[0mparameters\u001b[0m\u001b[1;33m,\u001b[0m \u001b[0mcontext\u001b[0m\u001b[1;33m\u001b[0m\u001b[1;33m\u001b[0m\u001b[0m\n",
      "\u001b[1;32mc:\\users\\anand kumar\\appdata\\local\\programs\\python\\python38\\lib\\site-packages\\sqlalchemy\\engine\\default.py\u001b[0m in \u001b[0;36mdo_execute\u001b[1;34m(self, cursor, statement, parameters, context)\u001b[0m\n\u001b[0;32m    607\u001b[0m     \u001b[1;32mdef\u001b[0m \u001b[0mdo_execute\u001b[0m\u001b[1;33m(\u001b[0m\u001b[0mself\u001b[0m\u001b[1;33m,\u001b[0m \u001b[0mcursor\u001b[0m\u001b[1;33m,\u001b[0m \u001b[0mstatement\u001b[0m\u001b[1;33m,\u001b[0m \u001b[0mparameters\u001b[0m\u001b[1;33m,\u001b[0m \u001b[0mcontext\u001b[0m\u001b[1;33m=\u001b[0m\u001b[1;32mNone\u001b[0m\u001b[1;33m)\u001b[0m\u001b[1;33m:\u001b[0m\u001b[1;33m\u001b[0m\u001b[1;33m\u001b[0m\u001b[0m\n\u001b[1;32m--> 608\u001b[1;33m         \u001b[0mcursor\u001b[0m\u001b[1;33m.\u001b[0m\u001b[0mexecute\u001b[0m\u001b[1;33m(\u001b[0m\u001b[0mstatement\u001b[0m\u001b[1;33m,\u001b[0m \u001b[0mparameters\u001b[0m\u001b[1;33m)\u001b[0m\u001b[1;33m\u001b[0m\u001b[1;33m\u001b[0m\u001b[0m\n\u001b[0m\u001b[0;32m    609\u001b[0m \u001b[1;33m\u001b[0m\u001b[0m\n",
      "\u001b[1;31mOperationalError\u001b[0m: no such table: customers",
      "\nThe above exception was the direct cause of the following exception:\n",
      "\u001b[1;31mOperationalError\u001b[0m                          Traceback (most recent call last)",
      "\u001b[1;32m<ipython-input-3-cc7bc5dced19>\u001b[0m in \u001b[0;36m<module>\u001b[1;34m\u001b[0m\n\u001b[0;32m      1\u001b[0m \u001b[0mdf\u001b[0m\u001b[1;33m.\u001b[0m\u001b[0mto_sql\u001b[0m\u001b[1;33m(\u001b[0m\u001b[1;34m'users'\u001b[0m\u001b[1;33m,\u001b[0m \u001b[0mcon\u001b[0m\u001b[1;33m=\u001b[0m\u001b[0mengine\u001b[0m\u001b[1;33m)\u001b[0m\u001b[1;33m\u001b[0m\u001b[1;33m\u001b[0m\u001b[0m\n\u001b[1;32m----> 2\u001b[1;33m \u001b[0mengine\u001b[0m\u001b[1;33m.\u001b[0m\u001b[0mexecute\u001b[0m\u001b[1;33m(\u001b[0m\u001b[1;34m\"SELECT * FROM customers\"\u001b[0m\u001b[1;33m)\u001b[0m\u001b[1;33m.\u001b[0m\u001b[0mfetchall\u001b[0m\u001b[1;33m(\u001b[0m\u001b[1;33m)\u001b[0m\u001b[1;33m\u001b[0m\u001b[1;33m\u001b[0m\u001b[0m\n\u001b[0m",
      "\u001b[1;32mc:\\users\\anand kumar\\appdata\\local\\programs\\python\\python38\\lib\\site-packages\\sqlalchemy\\engine\\base.py\u001b[0m in \u001b[0;36mexecute\u001b[1;34m(self, statement, *multiparams, **params)\u001b[0m\n\u001b[0;32m   2233\u001b[0m \u001b[1;33m\u001b[0m\u001b[0m\n\u001b[0;32m   2234\u001b[0m         \u001b[0mconnection\u001b[0m \u001b[1;33m=\u001b[0m \u001b[0mself\u001b[0m\u001b[1;33m.\u001b[0m\u001b[0m_contextual_connect\u001b[0m\u001b[1;33m(\u001b[0m\u001b[0mclose_with_result\u001b[0m\u001b[1;33m=\u001b[0m\u001b[1;32mTrue\u001b[0m\u001b[1;33m)\u001b[0m\u001b[1;33m\u001b[0m\u001b[1;33m\u001b[0m\u001b[0m\n\u001b[1;32m-> 2235\u001b[1;33m         \u001b[1;32mreturn\u001b[0m \u001b[0mconnection\u001b[0m\u001b[1;33m.\u001b[0m\u001b[0mexecute\u001b[0m\u001b[1;33m(\u001b[0m\u001b[0mstatement\u001b[0m\u001b[1;33m,\u001b[0m \u001b[1;33m*\u001b[0m\u001b[0mmultiparams\u001b[0m\u001b[1;33m,\u001b[0m \u001b[1;33m**\u001b[0m\u001b[0mparams\u001b[0m\u001b[1;33m)\u001b[0m\u001b[1;33m\u001b[0m\u001b[1;33m\u001b[0m\u001b[0m\n\u001b[0m\u001b[0;32m   2236\u001b[0m \u001b[1;33m\u001b[0m\u001b[0m\n\u001b[0;32m   2237\u001b[0m     \u001b[1;32mdef\u001b[0m \u001b[0mscalar\u001b[0m\u001b[1;33m(\u001b[0m\u001b[0mself\u001b[0m\u001b[1;33m,\u001b[0m \u001b[0mstatement\u001b[0m\u001b[1;33m,\u001b[0m \u001b[1;33m*\u001b[0m\u001b[0mmultiparams\u001b[0m\u001b[1;33m,\u001b[0m \u001b[1;33m**\u001b[0m\u001b[0mparams\u001b[0m\u001b[1;33m)\u001b[0m\u001b[1;33m:\u001b[0m\u001b[1;33m\u001b[0m\u001b[1;33m\u001b[0m\u001b[0m\n",
      "\u001b[1;32mc:\\users\\anand kumar\\appdata\\local\\programs\\python\\python38\\lib\\site-packages\\sqlalchemy\\engine\\base.py\u001b[0m in \u001b[0;36mexecute\u001b[1;34m(self, object_, *multiparams, **params)\u001b[0m\n\u001b[0;32m   1001\u001b[0m         \"\"\"\n\u001b[0;32m   1002\u001b[0m         \u001b[1;32mif\u001b[0m \u001b[0misinstance\u001b[0m\u001b[1;33m(\u001b[0m\u001b[0mobject_\u001b[0m\u001b[1;33m,\u001b[0m \u001b[0mutil\u001b[0m\u001b[1;33m.\u001b[0m\u001b[0mstring_types\u001b[0m\u001b[1;33m[\u001b[0m\u001b[1;36m0\u001b[0m\u001b[1;33m]\u001b[0m\u001b[1;33m)\u001b[0m\u001b[1;33m:\u001b[0m\u001b[1;33m\u001b[0m\u001b[1;33m\u001b[0m\u001b[0m\n\u001b[1;32m-> 1003\u001b[1;33m             \u001b[1;32mreturn\u001b[0m \u001b[0mself\u001b[0m\u001b[1;33m.\u001b[0m\u001b[0m_execute_text\u001b[0m\u001b[1;33m(\u001b[0m\u001b[0mobject_\u001b[0m\u001b[1;33m,\u001b[0m \u001b[0mmultiparams\u001b[0m\u001b[1;33m,\u001b[0m \u001b[0mparams\u001b[0m\u001b[1;33m)\u001b[0m\u001b[1;33m\u001b[0m\u001b[1;33m\u001b[0m\u001b[0m\n\u001b[0m\u001b[0;32m   1004\u001b[0m         \u001b[1;32mtry\u001b[0m\u001b[1;33m:\u001b[0m\u001b[1;33m\u001b[0m\u001b[1;33m\u001b[0m\u001b[0m\n\u001b[0;32m   1005\u001b[0m             \u001b[0mmeth\u001b[0m \u001b[1;33m=\u001b[0m \u001b[0mobject_\u001b[0m\u001b[1;33m.\u001b[0m\u001b[0m_execute_on_connection\u001b[0m\u001b[1;33m\u001b[0m\u001b[1;33m\u001b[0m\u001b[0m\n",
      "\u001b[1;32mc:\\users\\anand kumar\\appdata\\local\\programs\\python\\python38\\lib\\site-packages\\sqlalchemy\\engine\\base.py\u001b[0m in \u001b[0;36m_execute_text\u001b[1;34m(self, statement, multiparams, params)\u001b[0m\n\u001b[0;32m   1170\u001b[0m         \u001b[0mdialect\u001b[0m \u001b[1;33m=\u001b[0m \u001b[0mself\u001b[0m\u001b[1;33m.\u001b[0m\u001b[0mdialect\u001b[0m\u001b[1;33m\u001b[0m\u001b[1;33m\u001b[0m\u001b[0m\n\u001b[0;32m   1171\u001b[0m         \u001b[0mparameters\u001b[0m \u001b[1;33m=\u001b[0m \u001b[0m_distill_params\u001b[0m\u001b[1;33m(\u001b[0m\u001b[0mmultiparams\u001b[0m\u001b[1;33m,\u001b[0m \u001b[0mparams\u001b[0m\u001b[1;33m)\u001b[0m\u001b[1;33m\u001b[0m\u001b[1;33m\u001b[0m\u001b[0m\n\u001b[1;32m-> 1172\u001b[1;33m         ret = self._execute_context(\n\u001b[0m\u001b[0;32m   1173\u001b[0m             \u001b[0mdialect\u001b[0m\u001b[1;33m,\u001b[0m\u001b[1;33m\u001b[0m\u001b[1;33m\u001b[0m\u001b[0m\n\u001b[0;32m   1174\u001b[0m             \u001b[0mdialect\u001b[0m\u001b[1;33m.\u001b[0m\u001b[0mexecution_ctx_cls\u001b[0m\u001b[1;33m.\u001b[0m\u001b[0m_init_statement\u001b[0m\u001b[1;33m,\u001b[0m\u001b[1;33m\u001b[0m\u001b[1;33m\u001b[0m\u001b[0m\n",
      "\u001b[1;32mc:\\users\\anand kumar\\appdata\\local\\programs\\python\\python38\\lib\\site-packages\\sqlalchemy\\engine\\base.py\u001b[0m in \u001b[0;36m_execute_context\u001b[1;34m(self, dialect, constructor, statement, parameters, *args)\u001b[0m\n\u001b[0;32m   1314\u001b[0m \u001b[1;33m\u001b[0m\u001b[0m\n\u001b[0;32m   1315\u001b[0m         \u001b[1;32mexcept\u001b[0m \u001b[0mBaseException\u001b[0m \u001b[1;32mas\u001b[0m \u001b[0me\u001b[0m\u001b[1;33m:\u001b[0m\u001b[1;33m\u001b[0m\u001b[1;33m\u001b[0m\u001b[0m\n\u001b[1;32m-> 1316\u001b[1;33m             self._handle_dbapi_exception(\n\u001b[0m\u001b[0;32m   1317\u001b[0m                 \u001b[0me\u001b[0m\u001b[1;33m,\u001b[0m \u001b[0mstatement\u001b[0m\u001b[1;33m,\u001b[0m \u001b[0mparameters\u001b[0m\u001b[1;33m,\u001b[0m \u001b[0mcursor\u001b[0m\u001b[1;33m,\u001b[0m \u001b[0mcontext\u001b[0m\u001b[1;33m\u001b[0m\u001b[1;33m\u001b[0m\u001b[0m\n\u001b[0;32m   1318\u001b[0m             )\n",
      "\u001b[1;32mc:\\users\\anand kumar\\appdata\\local\\programs\\python\\python38\\lib\\site-packages\\sqlalchemy\\engine\\base.py\u001b[0m in \u001b[0;36m_handle_dbapi_exception\u001b[1;34m(self, e, statement, parameters, cursor, context)\u001b[0m\n\u001b[0;32m   1508\u001b[0m                 \u001b[0mutil\u001b[0m\u001b[1;33m.\u001b[0m\u001b[0mraise_\u001b[0m\u001b[1;33m(\u001b[0m\u001b[0mnewraise\u001b[0m\u001b[1;33m,\u001b[0m \u001b[0mwith_traceback\u001b[0m\u001b[1;33m=\u001b[0m\u001b[0mexc_info\u001b[0m\u001b[1;33m[\u001b[0m\u001b[1;36m2\u001b[0m\u001b[1;33m]\u001b[0m\u001b[1;33m,\u001b[0m \u001b[0mfrom_\u001b[0m\u001b[1;33m=\u001b[0m\u001b[0me\u001b[0m\u001b[1;33m)\u001b[0m\u001b[1;33m\u001b[0m\u001b[1;33m\u001b[0m\u001b[0m\n\u001b[0;32m   1509\u001b[0m             \u001b[1;32melif\u001b[0m \u001b[0mshould_wrap\u001b[0m\u001b[1;33m:\u001b[0m\u001b[1;33m\u001b[0m\u001b[1;33m\u001b[0m\u001b[0m\n\u001b[1;32m-> 1510\u001b[1;33m                 util.raise_(\n\u001b[0m\u001b[0;32m   1511\u001b[0m                     \u001b[0msqlalchemy_exception\u001b[0m\u001b[1;33m,\u001b[0m \u001b[0mwith_traceback\u001b[0m\u001b[1;33m=\u001b[0m\u001b[0mexc_info\u001b[0m\u001b[1;33m[\u001b[0m\u001b[1;36m2\u001b[0m\u001b[1;33m]\u001b[0m\u001b[1;33m,\u001b[0m \u001b[0mfrom_\u001b[0m\u001b[1;33m=\u001b[0m\u001b[0me\u001b[0m\u001b[1;33m\u001b[0m\u001b[1;33m\u001b[0m\u001b[0m\n\u001b[0;32m   1512\u001b[0m                 )\n",
      "\u001b[1;32mc:\\users\\anand kumar\\appdata\\local\\programs\\python\\python38\\lib\\site-packages\\sqlalchemy\\util\\compat.py\u001b[0m in \u001b[0;36mraise_\u001b[1;34m(***failed resolving arguments***)\u001b[0m\n\u001b[0;32m    180\u001b[0m \u001b[1;33m\u001b[0m\u001b[0m\n\u001b[0;32m    181\u001b[0m         \u001b[1;32mtry\u001b[0m\u001b[1;33m:\u001b[0m\u001b[1;33m\u001b[0m\u001b[1;33m\u001b[0m\u001b[0m\n\u001b[1;32m--> 182\u001b[1;33m             \u001b[1;32mraise\u001b[0m \u001b[0mexception\u001b[0m\u001b[1;33m\u001b[0m\u001b[1;33m\u001b[0m\u001b[0m\n\u001b[0m\u001b[0;32m    183\u001b[0m         \u001b[1;32mfinally\u001b[0m\u001b[1;33m:\u001b[0m\u001b[1;33m\u001b[0m\u001b[1;33m\u001b[0m\u001b[0m\n\u001b[0;32m    184\u001b[0m             \u001b[1;31m# credit to\u001b[0m\u001b[1;33m\u001b[0m\u001b[1;33m\u001b[0m\u001b[1;33m\u001b[0m\u001b[0m\n",
      "\u001b[1;32mc:\\users\\anand kumar\\appdata\\local\\programs\\python\\python38\\lib\\site-packages\\sqlalchemy\\engine\\base.py\u001b[0m in \u001b[0;36m_execute_context\u001b[1;34m(self, dialect, constructor, statement, parameters, *args)\u001b[0m\n\u001b[0;32m   1274\u001b[0m                             \u001b[1;32mbreak\u001b[0m\u001b[1;33m\u001b[0m\u001b[1;33m\u001b[0m\u001b[0m\n\u001b[0;32m   1275\u001b[0m                 \u001b[1;32mif\u001b[0m \u001b[1;32mnot\u001b[0m \u001b[0mevt_handled\u001b[0m\u001b[1;33m:\u001b[0m\u001b[1;33m\u001b[0m\u001b[1;33m\u001b[0m\u001b[0m\n\u001b[1;32m-> 1276\u001b[1;33m                     self.dialect.do_execute(\n\u001b[0m\u001b[0;32m   1277\u001b[0m                         \u001b[0mcursor\u001b[0m\u001b[1;33m,\u001b[0m \u001b[0mstatement\u001b[0m\u001b[1;33m,\u001b[0m \u001b[0mparameters\u001b[0m\u001b[1;33m,\u001b[0m \u001b[0mcontext\u001b[0m\u001b[1;33m\u001b[0m\u001b[1;33m\u001b[0m\u001b[0m\n\u001b[0;32m   1278\u001b[0m                     )\n",
      "\u001b[1;32mc:\\users\\anand kumar\\appdata\\local\\programs\\python\\python38\\lib\\site-packages\\sqlalchemy\\engine\\default.py\u001b[0m in \u001b[0;36mdo_execute\u001b[1;34m(self, cursor, statement, parameters, context)\u001b[0m\n\u001b[0;32m    606\u001b[0m \u001b[1;33m\u001b[0m\u001b[0m\n\u001b[0;32m    607\u001b[0m     \u001b[1;32mdef\u001b[0m \u001b[0mdo_execute\u001b[0m\u001b[1;33m(\u001b[0m\u001b[0mself\u001b[0m\u001b[1;33m,\u001b[0m \u001b[0mcursor\u001b[0m\u001b[1;33m,\u001b[0m \u001b[0mstatement\u001b[0m\u001b[1;33m,\u001b[0m \u001b[0mparameters\u001b[0m\u001b[1;33m,\u001b[0m \u001b[0mcontext\u001b[0m\u001b[1;33m=\u001b[0m\u001b[1;32mNone\u001b[0m\u001b[1;33m)\u001b[0m\u001b[1;33m:\u001b[0m\u001b[1;33m\u001b[0m\u001b[1;33m\u001b[0m\u001b[0m\n\u001b[1;32m--> 608\u001b[1;33m         \u001b[0mcursor\u001b[0m\u001b[1;33m.\u001b[0m\u001b[0mexecute\u001b[0m\u001b[1;33m(\u001b[0m\u001b[0mstatement\u001b[0m\u001b[1;33m,\u001b[0m \u001b[0mparameters\u001b[0m\u001b[1;33m)\u001b[0m\u001b[1;33m\u001b[0m\u001b[1;33m\u001b[0m\u001b[0m\n\u001b[0m\u001b[0;32m    609\u001b[0m \u001b[1;33m\u001b[0m\u001b[0m\n\u001b[0;32m    610\u001b[0m     \u001b[1;32mdef\u001b[0m \u001b[0mdo_execute_no_params\u001b[0m\u001b[1;33m(\u001b[0m\u001b[0mself\u001b[0m\u001b[1;33m,\u001b[0m \u001b[0mcursor\u001b[0m\u001b[1;33m,\u001b[0m \u001b[0mstatement\u001b[0m\u001b[1;33m,\u001b[0m \u001b[0mcontext\u001b[0m\u001b[1;33m=\u001b[0m\u001b[1;32mNone\u001b[0m\u001b[1;33m)\u001b[0m\u001b[1;33m:\u001b[0m\u001b[1;33m\u001b[0m\u001b[1;33m\u001b[0m\u001b[0m\n",
      "\u001b[1;31mOperationalError\u001b[0m: (sqlite3.OperationalError) no such table: customers\n[SQL: SELECT * FROM customers]\n(Background on this error at: http://sqlalche.me/e/13/e3q8)"
     ]
    }
   ],
   "source": [
    "df.to_sql('users', con=engine)\n",
    "engine.execute(\"SELECT * FROM customers\").fetchall()"
   ]
  },
  {
   "cell_type": "code",
   "execution_count": 5,
   "metadata": {},
   "outputs": [],
   "source": [
    "from os import environ\n",
    "HOST = environ.get('SERVER_HOST', 'localhost')"
   ]
  },
  {
   "cell_type": "code",
   "execution_count": 6,
   "metadata": {},
   "outputs": [
    {
     "name": "stdout",
     "output_type": "stream",
     "text": [
      "localhost\n"
     ]
    }
   ],
   "source": [
    "print(HOST)"
   ]
  },
  {
   "cell_type": "code",
   "execution_count": 1,
   "metadata": {},
   "outputs": [],
   "source": [
    "def process_request():\n",
    "        domain_parts = request.get_host().split('.')\n",
    "        if (len(domain_parts) > 2):\n",
    "            subdomain = domain_parts[0]\n",
    "            if (subdomain.lower() == 'www'):\n",
    "                subdomain = None\n",
    "            domain = '.'.join(domain_parts[1:])\n",
    "        else:\n",
    "            subdomain = None\n",
    "            domain = request.get_host()\n",
    "#         if subdomain in settings.DOMAINS_URLCONF:\n",
    "#             request.__setattr__('urlconf',settings.DOMAINS_URLCONF[subdomain])\n",
    "        try:\n",
    "            current_site = Site.objects.get(domain=request.get_host())\n",
    "        except Site.DoesNotExist:\n",
    "            current_site = Site.objects.get(id=settings.SITE_ID)\n",
    "\n",
    "        request.current_site = current_site\n",
    "        #settings.SITE_ID = current_site.id\n",
    "        request.subdomain = subdomain\n",
    "        request.domain = domain"
   ]
  },
  {
   "cell_type": "code",
   "execution_count": 2,
   "metadata": {},
   "outputs": [],
   "source": [
    "domain = 'www.google.com'\n",
    "domain_parts = domain.split('.')"
   ]
  },
  {
   "cell_type": "code",
   "execution_count": 4,
   "metadata": {},
   "outputs": [],
   "source": [
    "sub_domain = domain_parts[0]\n",
    "if (sub_domain.lower()=='www'):\n",
    "    sub_domain = None\n",
    "domain = '.'.join(domain_parts[1:])    "
   ]
  },
  {
   "cell_type": "code",
   "execution_count": 5,
   "metadata": {},
   "outputs": [
    {
     "data": {
      "text/plain": [
       "'google.com'"
      ]
     },
     "execution_count": 5,
     "metadata": {},
     "output_type": "execute_result"
    }
   ],
   "source": [
    "domain"
   ]
  },
  {
   "cell_type": "code",
   "execution_count": 9,
   "metadata": {},
   "outputs": [],
   "source": [
    "st = ['a','abdgfg','dfg','hghg','ghhdfd','tretet','dsfdfsdfsdf','vcxvccbcb']"
   ]
  },
  {
   "cell_type": "code",
   "execution_count": 35,
   "metadata": {},
   "outputs": [],
   "source": [
    "sort = sorted(st,key=len)"
   ]
  },
  {
   "cell_type": "code",
   "execution_count": 36,
   "metadata": {},
   "outputs": [],
   "source": [
    "tld = 'com'"
   ]
  },
  {
   "cell_type": "code",
   "execution_count": 37,
   "metadata": {},
   "outputs": [],
   "source": [
    "host_url  = 'exquisiteivoryevents.com'"
   ]
  },
  {
   "cell_type": "code",
   "execution_count": 38,
   "metadata": {},
   "outputs": [],
   "source": [
    "dom = host_url[-len(tld):]"
   ]
  },
  {
   "cell_type": "code",
   "execution_count": 39,
   "metadata": {},
   "outputs": [
    {
     "data": {
      "text/plain": [
       "'com'"
      ]
     },
     "execution_count": 39,
     "metadata": {},
     "output_type": "execute_result"
    }
   ],
   "source": [
    "dom"
   ]
  },
  {
   "cell_type": "code",
   "execution_count": 40,
   "metadata": {},
   "outputs": [],
   "source": [
    "domainLeft = host_url[0:-(len(tld)+1):]"
   ]
  },
  {
   "cell_type": "code",
   "execution_count": null,
   "metadata": {},
   "outputs": [],
   "source": []
  },
  {
   "cell_type": "code",
   "execution_count": 57,
   "metadata": {},
   "outputs": [],
   "source": [
    "domain = 'www.google.com'\n",
    "domain_parts = domain.split('.')\n",
    "subdomain = '.'.join(domain_parts)"
   ]
  },
  {
   "cell_type": "code",
   "execution_count": 58,
   "metadata": {},
   "outputs": [
    {
     "data": {
      "text/plain": [
       "'www.google.com'"
      ]
     },
     "execution_count": 58,
     "metadata": {},
     "output_type": "execute_result"
    }
   ],
   "source": [
    "subdomain"
   ]
  },
  {
   "cell_type": "code",
   "execution_count": 54,
   "metadata": {},
   "outputs": [],
   "source": [
    "finaldomain = domain_parts.pop()"
   ]
  },
  {
   "cell_type": "code",
   "execution_count": 59,
   "metadata": {},
   "outputs": [
    {
     "data": {
      "text/plain": [
       "'com'"
      ]
     },
     "execution_count": 59,
     "metadata": {},
     "output_type": "execute_result"
    }
   ],
   "source": [
    "finaldomain"
   ]
  },
  {
   "cell_type": "code",
   "execution_count": 61,
   "metadata": {},
   "outputs": [
    {
     "data": {
      "text/plain": [
       "['www', 'google', 'com']"
      ]
     },
     "execution_count": 61,
     "metadata": {},
     "output_type": "execute_result"
    }
   ],
   "source": [
    "domain_parts"
   ]
  },
  {
   "cell_type": "code",
   "execution_count": 1,
   "metadata": {},
   "outputs": [],
   "source": [
    "import mlflow"
   ]
  },
  {
   "cell_type": "code",
   "execution_count": 2,
   "metadata": {},
   "outputs": [
    {
     "name": "stdout",
     "output_type": "stream",
     "text": [
      "<ActiveRun: >\n"
     ]
    }
   ],
   "source": [
    "print(mlflow.mlflow.start_run())"
   ]
  },
  {
   "cell_type": "code",
   "execution_count": 4,
   "metadata": {},
   "outputs": [],
   "source": [
    "r = ['saffsaf', 'dsfsdfsddfdf','dgdsgfgfdg']"
   ]
  },
  {
   "cell_type": "code",
   "execution_count": 5,
   "metadata": {},
   "outputs": [],
   "source": [
    "total = '.'.join(r)"
   ]
  },
  {
   "cell_type": "code",
   "execution_count": 6,
   "metadata": {},
   "outputs": [
    {
     "data": {
      "text/plain": [
       "'saffsaf.dsfsdfsddfdf.dgdsgfgfdg'"
      ]
     },
     "execution_count": 6,
     "metadata": {},
     "output_type": "execute_result"
    }
   ],
   "source": [
    "total"
   ]
  },
  {
   "cell_type": "code",
   "execution_count": 8,
   "metadata": {},
   "outputs": [
    {
     "name": "stdout",
     "output_type": "stream",
     "text": [
      "Enter NO.223\n"
     ]
    }
   ],
   "source": [
    "a = int(input(\"Enter NO.\"))"
   ]
  },
  {
   "cell_type": "code",
   "execution_count": 12,
   "metadata": {},
   "outputs": [
    {
     "name": "stdout",
     "output_type": "stream",
     "text": [
      "ENter char.vxfgfgf\n"
     ]
    }
   ],
   "source": [
    "b = input(\"ENter char.\")"
   ]
  },
  {
   "cell_type": "code",
   "execution_count": 14,
   "metadata": {},
   "outputs": [
    {
     "ename": "NameError",
     "evalue": "name 'n' is not defined",
     "output_type": "error",
     "traceback": [
      "\u001b[1;31m---------------------------------------------------------------------------\u001b[0m",
      "\u001b[1;31mNameError\u001b[0m                                 Traceback (most recent call last)",
      "\u001b[1;32m<ipython-input-14-74adfa83daed>\u001b[0m in \u001b[0;36m<module>\u001b[1;34m\u001b[0m\n\u001b[1;32m----> 1\u001b[1;33m \u001b[0mtype\u001b[0m\u001b[1;33m(\u001b[0m\u001b[0mn\u001b[0m\u001b[1;33m)\u001b[0m\u001b[1;33m\u001b[0m\u001b[1;33m\u001b[0m\u001b[0m\n\u001b[0m",
      "\u001b[1;31mNameError\u001b[0m: name 'n' is not defined"
     ]
    }
   ],
   "source": [
    "type(n)"
   ]
  },
  {
   "cell_type": "code",
   "execution_count": null,
   "metadata": {},
   "outputs": [],
   "source": []
  }
 ],
 "metadata": {
  "kernelspec": {
   "display_name": "Python 3",
   "language": "python",
   "name": "python3"
  },
  "language_info": {
   "codemirror_mode": {
    "name": "ipython",
    "version": 3
   },
   "file_extension": ".py",
   "mimetype": "text/x-python",
   "name": "python",
   "nbconvert_exporter": "python",
   "pygments_lexer": "ipython3",
   "version": "3.8.7"
  }
 },
 "nbformat": 4,
 "nbformat_minor": 4
}
