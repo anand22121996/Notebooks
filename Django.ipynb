{
 "cells": [
  {
   "cell_type": "markdown",
   "metadata": {},
   "source": [
    "## Froms"
   ]
  },
  {
   "cell_type": "code",
   "execution_count": 1,
   "metadata": {},
   "outputs": [],
   "source": [
    "from django import forms"
   ]
  },
  {
   "cell_type": "code",
   "execution_count": 5,
   "metadata": {},
   "outputs": [],
   "source": [
    "#In form.py file\n",
    "class RegisterationForm(forms.Form):\n",
    "    name = forms.CharField()\n",
    "    email = forms.EmailField()"
   ]
  },
  {
   "cell_type": "code",
   "execution_count": null,
   "metadata": {},
   "outputs": [],
   "source": [
    "#In view.py file\n",
    "\n",
    "from .forms import RegisterationForm\n",
    "\n",
    "def showformdata(request):\n",
    "    obj = RegisterationForm()\n",
    "    return render(request, 'page.html',{'form':obj})"
   ]
  },
  {
   "cell_type": "code",
   "execution_count": null,
   "metadata": {},
   "outputs": [],
   "source": [
    "#In html file\n",
    "<body>\n",
    "<form action='' method='get' or 'post'>\n",
    "\n",
    "{{form}}\n",
    "\n",
    "<input type='submit', value='submit'>\n",
    "\n",
    "</form>\n",
    "</body>"
   ]
  }
 ],
 "metadata": {
  "kernelspec": {
   "display_name": "Python 3",
   "language": "python",
   "name": "python3"
  },
  "language_info": {
   "codemirror_mode": {
    "name": "ipython",
    "version": 3
   },
   "file_extension": ".py",
   "mimetype": "text/x-python",
   "name": "python",
   "nbconvert_exporter": "python",
   "pygments_lexer": "ipython3",
   "version": "3.8.7"
  }
 },
 "nbformat": 4,
 "nbformat_minor": 4
}
