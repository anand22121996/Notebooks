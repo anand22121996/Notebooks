{
 "cells": [
  {
   "cell_type": "code",
   "execution_count": 1,
   "metadata": {},
   "outputs": [],
   "source": [
    "from pytube import YouTube\n",
    "import pytube"
   ]
  },
  {
   "cell_type": "code",
   "execution_count": 2,
   "metadata": {},
   "outputs": [],
   "source": [
    "yt = YouTube('https://youtu.be/sdr527S6fh4')"
   ]
  },
  {
   "cell_type": "code",
   "execution_count": 3,
   "metadata": {},
   "outputs": [
    {
     "name": "stdout",
     "output_type": "stream",
     "text": [
      "Video no. 0 <Stream: itag=\"18\" mime_type=\"video/mp4\" res=\"360p\" fps=\"30fps\" vcodec=\"avc1.42001E\" acodec=\"mp4a.40.2\" progressive=\"True\" type=\"video\">\n",
      "Video no. 1 <Stream: itag=\"22\" mime_type=\"video/mp4\" res=\"720p\" fps=\"30fps\" vcodec=\"avc1.64001F\" acodec=\"mp4a.40.2\" progressive=\"True\" type=\"video\">\n",
      "Video no. 2 <Stream: itag=\"137\" mime_type=\"video/mp4\" res=\"1080p\" fps=\"30fps\" vcodec=\"avc1.640028\" progressive=\"False\" type=\"video\">\n",
      "Video no. 3 <Stream: itag=\"248\" mime_type=\"video/webm\" res=\"1080p\" fps=\"30fps\" vcodec=\"vp9\" progressive=\"False\" type=\"video\">\n",
      "Video no. 4 <Stream: itag=\"136\" mime_type=\"video/mp4\" res=\"720p\" fps=\"30fps\" vcodec=\"avc1.64001f\" progressive=\"False\" type=\"video\">\n",
      "Video no. 5 <Stream: itag=\"247\" mime_type=\"video/webm\" res=\"720p\" fps=\"30fps\" vcodec=\"vp9\" progressive=\"False\" type=\"video\">\n",
      "Video no. 6 <Stream: itag=\"135\" mime_type=\"video/mp4\" res=\"480p\" fps=\"30fps\" vcodec=\"avc1.4d401e\" progressive=\"False\" type=\"video\">\n",
      "Video no. 7 <Stream: itag=\"244\" mime_type=\"video/webm\" res=\"480p\" fps=\"30fps\" vcodec=\"vp9\" progressive=\"False\" type=\"video\">\n",
      "Video no. 8 <Stream: itag=\"134\" mime_type=\"video/mp4\" res=\"360p\" fps=\"30fps\" vcodec=\"avc1.4d401e\" progressive=\"False\" type=\"video\">\n",
      "Video no. 9 <Stream: itag=\"243\" mime_type=\"video/webm\" res=\"360p\" fps=\"30fps\" vcodec=\"vp9\" progressive=\"False\" type=\"video\">\n",
      "Video no. 10 <Stream: itag=\"133\" mime_type=\"video/mp4\" res=\"240p\" fps=\"30fps\" vcodec=\"avc1.4d4015\" progressive=\"False\" type=\"video\">\n",
      "Video no. 11 <Stream: itag=\"242\" mime_type=\"video/webm\" res=\"240p\" fps=\"30fps\" vcodec=\"vp9\" progressive=\"False\" type=\"video\">\n",
      "Video no. 12 <Stream: itag=\"160\" mime_type=\"video/mp4\" res=\"144p\" fps=\"30fps\" vcodec=\"avc1.4d400c\" progressive=\"False\" type=\"video\">\n",
      "Video no. 13 <Stream: itag=\"278\" mime_type=\"video/webm\" res=\"144p\" fps=\"30fps\" vcodec=\"vp9\" progressive=\"False\" type=\"video\">\n",
      "Video no. 14 <Stream: itag=\"140\" mime_type=\"audio/mp4\" abr=\"128kbps\" acodec=\"mp4a.40.2\" progressive=\"False\" type=\"audio\">\n",
      "Video no. 15 <Stream: itag=\"249\" mime_type=\"audio/webm\" abr=\"50kbps\" acodec=\"opus\" progressive=\"False\" type=\"audio\">\n",
      "Video no. 16 <Stream: itag=\"250\" mime_type=\"audio/webm\" abr=\"70kbps\" acodec=\"opus\" progressive=\"False\" type=\"audio\">\n",
      "Video no. 17 <Stream: itag=\"251\" mime_type=\"audio/webm\" abr=\"160kbps\" acodec=\"opus\" progressive=\"False\" type=\"audio\">\n"
     ]
    }
   ],
   "source": [
    "j = 0\n",
    "for i in yt.streams.filter():\n",
    "    print(\"Video no. \"+str(j)+\" \"+str(i))\n",
    "    j+=1"
   ]
  },
  {
   "cell_type": "code",
   "execution_count": 4,
   "metadata": {},
   "outputs": [
    {
     "name": "stdout",
     "output_type": "stream",
     "text": [
      "complete\n"
     ]
    }
   ],
   "source": [
    "yt.streams[2].download('ML-2.mp4')\n",
    "print('complete')"
   ]
  },
  {
   "cell_type": "code",
   "execution_count": 3,
   "metadata": {},
   "outputs": [
    {
     "ename": "AttributeError",
     "evalue": "'YouTube' object has no attribute 'order_by'",
     "output_type": "error",
     "traceback": [
      "\u001b[1;31m---------------------------------------------------------------------------\u001b[0m",
      "\u001b[1;31mAttributeError\u001b[0m                            Traceback (most recent call last)",
      "\u001b[1;32m<ipython-input-3-fae9a8239cfb>\u001b[0m in \u001b[0;36m<module>\u001b[1;34m\u001b[0m\n\u001b[1;32m----> 1\u001b[1;33m \u001b[0myt\u001b[0m\u001b[1;33m.\u001b[0m\u001b[0morder_by\u001b[0m\u001b[1;33m(\u001b[0m\u001b[1;34m'resolution'\u001b[0m\u001b[1;33m)\u001b[0m\u001b[1;33m\u001b[0m\u001b[1;33m\u001b[0m\u001b[0m\n\u001b[0m",
      "\u001b[1;31mAttributeError\u001b[0m: 'YouTube' object has no attribute 'order_by'"
     ]
    }
   ],
   "source": [
    "yt.order_by('resolution')"
   ]
  },
  {
   "cell_type": "code",
   "execution_count": 4,
   "metadata": {
    "scrolled": false
   },
   "outputs": [
    {
     "name": "stdout",
     "output_type": "stream",
     "text": [
      "Help on YouTube in module pytube.__main__ object:\n",
      "\n",
      "class YouTube(builtins.object)\n",
      " |  YouTube(url: str, defer_prefetch_init: bool = False, on_progress_callback: Union[Callable[[Any, bytes, int], NoneType], NoneType] = None, on_complete_callback: Union[Callable[[Any, Union[str, NoneType]], NoneType], NoneType] = None, proxies: Dict[str, str] = None)\n",
      " |  \n",
      " |  Core developer interface for pytube.\n",
      " |  \n",
      " |  Methods defined here:\n",
      " |  \n",
      " |  __init__(self, url: str, defer_prefetch_init: bool = False, on_progress_callback: Union[Callable[[Any, bytes, int], NoneType], NoneType] = None, on_complete_callback: Union[Callable[[Any, Union[str, NoneType]], NoneType], NoneType] = None, proxies: Dict[str, str] = None)\n",
      " |      Construct a :class:`YouTube <YouTube>`.\n",
      " |      \n",
      " |      :param str url:\n",
      " |          A valid YouTube watch URL.\n",
      " |      :param bool defer_prefetch_init:\n",
      " |          Defers executing any network requests.\n",
      " |      :param func on_progress_callback:\n",
      " |          (Optional) User defined callback function for stream download\n",
      " |          progress events.\n",
      " |      :param func on_complete_callback:\n",
      " |          (Optional) User defined callback function for stream download\n",
      " |          complete events.\n",
      " |  \n",
      " |  check_availability(self)\n",
      " |      Check whether the video is available.\n",
      " |      Raises different exceptions based on why the video is unavailable,\n",
      " |      otherwise does nothing.\n",
      " |  \n",
      " |  descramble(self) -> None\n",
      " |      Descramble the stream data and build Stream instances.\n",
      " |      \n",
      " |      The initialization process takes advantage of Python's\n",
      " |      \"call-by-reference evaluation,\" which allows dictionary transforms to\n",
      " |      be applied in-place, instead of holding references to mutations at each\n",
      " |      interstitial step.\n",
      " |      \n",
      " |      :rtype: None\n",
      " |  \n",
      " |  initialize_stream_objects(self, fmt: str) -> None\n",
      " |      Convert manifest data to instances of :class:`Stream <Stream>`.\n",
      " |      \n",
      " |      Take the unscrambled stream data and uses it to initialize\n",
      " |      instances of :class:`Stream <Stream>` for each media stream.\n",
      " |      \n",
      " |      :param str fmt:\n",
      " |          Key in stream manifest (``ytplayer_config``) containing progressive\n",
      " |          download or adaptive streams (e.g.: ``url_encoded_fmt_stream_map``\n",
      " |          or ``adaptive_fmts``).\n",
      " |      \n",
      " |      :rtype: None\n",
      " |  \n",
      " |  prefetch(self) -> None\n",
      " |      Eagerly download all necessary data.\n",
      " |      \n",
      " |      Eagerly executes all necessary network requests so all other\n",
      " |      operations don't does need to make calls outside of the interpreter\n",
      " |      which blocks for long periods of time.\n",
      " |      \n",
      " |      :rtype: None\n",
      " |  \n",
      " |  register_on_complete_callback(self, func: Callable[[Any, Union[str, NoneType]], NoneType])\n",
      " |      Register a download complete callback function post initialization.\n",
      " |      \n",
      " |      :param callable func:\n",
      " |          A callback function that takes ``stream`` and  ``file_path``.\n",
      " |      \n",
      " |      :rtype: None\n",
      " |  \n",
      " |  register_on_progress_callback(self, func: Callable[[Any, bytes, int], NoneType])\n",
      " |      Register a download progress callback function post initialization.\n",
      " |      \n",
      " |      :param callable func:\n",
      " |          A callback function that takes ``stream``, ``chunk``,\n",
      " |           and ``bytes_remaining`` as parameters.\n",
      " |      \n",
      " |      :rtype: None\n",
      " |  \n",
      " |  ----------------------------------------------------------------------\n",
      " |  Readonly properties defined here:\n",
      " |  \n",
      " |  author\n",
      " |      Get the video author.\n",
      " |      :rtype: str\n",
      " |  \n",
      " |  caption_tracks\n",
      " |      Get a list of :class:`Caption <Caption>`.\n",
      " |      \n",
      " |      :rtype: List[Caption]\n",
      " |  \n",
      " |  captions\n",
      " |      Interface to query caption tracks.\n",
      " |      \n",
      " |      :rtype: :class:`CaptionQuery <CaptionQuery>`.\n",
      " |  \n",
      " |  description\n",
      " |      Get the video description.\n",
      " |      \n",
      " |      :rtype: str\n",
      " |  \n",
      " |  keywords\n",
      " |      Get the video keywords.\n",
      " |      :rtype: List[str]\n",
      " |  \n",
      " |  length\n",
      " |      Get the video length in seconds.\n",
      " |      \n",
      " |      :rtype: str\n",
      " |  \n",
      " |  metadata\n",
      " |      Get the metadata for the video.\n",
      " |      \n",
      " |      :rtype: YouTubeMetadata\n",
      " |  \n",
      " |  publish_date\n",
      " |      Get the publish date.\n",
      " |      \n",
      " |      :rtype: datetime\n",
      " |  \n",
      " |  rating\n",
      " |      Get the video average rating.\n",
      " |      \n",
      " |      :rtype: float\n",
      " |  \n",
      " |  streams\n",
      " |      Interface to query both adaptive (DASH) and progressive streams.\n",
      " |      \n",
      " |      :rtype: :class:`StreamQuery <StreamQuery>`.\n",
      " |  \n",
      " |  thumbnail_url\n",
      " |      Get the thumbnail url image.\n",
      " |      \n",
      " |      :rtype: str\n",
      " |  \n",
      " |  title\n",
      " |      Get the video title.\n",
      " |      \n",
      " |      :rtype: str\n",
      " |  \n",
      " |  views\n",
      " |      Get the number of the times the video has been viewed.\n",
      " |      \n",
      " |      :rtype: str\n",
      " |  \n",
      " |  ----------------------------------------------------------------------\n",
      " |  Data descriptors defined here:\n",
      " |  \n",
      " |  __dict__\n",
      " |      dictionary for instance variables (if defined)\n",
      " |  \n",
      " |  __weakref__\n",
      " |      list of weak references to the object (if defined)\n",
      "\n"
     ]
    }
   ],
   "source": [
    "help(yt)"
   ]
  },
  {
   "cell_type": "code",
   "execution_count": 10,
   "metadata": {},
   "outputs": [
    {
     "data": {
      "text/plain": [
       "2524"
      ]
     },
     "execution_count": 10,
     "metadata": {},
     "output_type": "execute_result"
    }
   ],
   "source": [
    "yt.views"
   ]
  },
  {
   "cell_type": "code",
   "execution_count": 11,
   "metadata": {},
   "outputs": [
    {
     "data": {
      "text/plain": [
       "'https://i.ytimg.com/vi/sdr527S6fh4/maxresdefault.jpg'"
      ]
     },
     "execution_count": 11,
     "metadata": {},
     "output_type": "execute_result"
    }
   ],
   "source": [
    "yt.thumbnail_url"
   ]
  },
  {
   "cell_type": "code",
   "execution_count": 12,
   "metadata": {},
   "outputs": [
    {
     "data": {
      "text/plain": [
       "[<Stream: itag=\"18\" mime_type=\"video/mp4\" res=\"360p\" fps=\"30fps\" vcodec=\"avc1.42001E\" acodec=\"mp4a.40.2\" progressive=\"True\" type=\"video\">, <Stream: itag=\"22\" mime_type=\"video/mp4\" res=\"720p\" fps=\"30fps\" vcodec=\"avc1.64001F\" acodec=\"mp4a.40.2\" progressive=\"True\" type=\"video\">, <Stream: itag=\"137\" mime_type=\"video/mp4\" res=\"1080p\" fps=\"30fps\" vcodec=\"avc1.640028\" progressive=\"False\" type=\"video\">, <Stream: itag=\"248\" mime_type=\"video/webm\" res=\"1080p\" fps=\"30fps\" vcodec=\"vp9\" progressive=\"False\" type=\"video\">, <Stream: itag=\"136\" mime_type=\"video/mp4\" res=\"720p\" fps=\"30fps\" vcodec=\"avc1.64001f\" progressive=\"False\" type=\"video\">, <Stream: itag=\"247\" mime_type=\"video/webm\" res=\"720p\" fps=\"30fps\" vcodec=\"vp9\" progressive=\"False\" type=\"video\">, <Stream: itag=\"135\" mime_type=\"video/mp4\" res=\"480p\" fps=\"30fps\" vcodec=\"avc1.4d401e\" progressive=\"False\" type=\"video\">, <Stream: itag=\"244\" mime_type=\"video/webm\" res=\"480p\" fps=\"30fps\" vcodec=\"vp9\" progressive=\"False\" type=\"video\">, <Stream: itag=\"134\" mime_type=\"video/mp4\" res=\"360p\" fps=\"30fps\" vcodec=\"avc1.4d401e\" progressive=\"False\" type=\"video\">, <Stream: itag=\"243\" mime_type=\"video/webm\" res=\"360p\" fps=\"30fps\" vcodec=\"vp9\" progressive=\"False\" type=\"video\">, <Stream: itag=\"133\" mime_type=\"video/mp4\" res=\"240p\" fps=\"30fps\" vcodec=\"avc1.4d4015\" progressive=\"False\" type=\"video\">, <Stream: itag=\"242\" mime_type=\"video/webm\" res=\"240p\" fps=\"30fps\" vcodec=\"vp9\" progressive=\"False\" type=\"video\">, <Stream: itag=\"160\" mime_type=\"video/mp4\" res=\"144p\" fps=\"30fps\" vcodec=\"avc1.4d400c\" progressive=\"False\" type=\"video\">, <Stream: itag=\"278\" mime_type=\"video/webm\" res=\"144p\" fps=\"30fps\" vcodec=\"vp9\" progressive=\"False\" type=\"video\">, <Stream: itag=\"140\" mime_type=\"audio/mp4\" abr=\"128kbps\" acodec=\"mp4a.40.2\" progressive=\"False\" type=\"audio\">, <Stream: itag=\"249\" mime_type=\"audio/webm\" abr=\"50kbps\" acodec=\"opus\" progressive=\"False\" type=\"audio\">, <Stream: itag=\"250\" mime_type=\"audio/webm\" abr=\"70kbps\" acodec=\"opus\" progressive=\"False\" type=\"audio\">, <Stream: itag=\"251\" mime_type=\"audio/webm\" abr=\"160kbps\" acodec=\"opus\" progressive=\"False\" type=\"audio\">]"
      ]
     },
     "execution_count": 12,
     "metadata": {},
     "output_type": "execute_result"
    }
   ],
   "source": [
    "yt.streams"
   ]
  },
  {
   "cell_type": "code",
   "execution_count": 14,
   "metadata": {},
   "outputs": [
    {
     "data": {
      "text/plain": [
       "5.0"
      ]
     },
     "execution_count": 14,
     "metadata": {},
     "output_type": "execute_result"
    }
   ],
   "source": [
    "yt.rating"
   ]
  },
  {
   "cell_type": "code",
   "execution_count": 17,
   "metadata": {},
   "outputs": [
    {
     "data": {
      "text/plain": [
       "<pytube.metadata.YouTubeMetadata at 0x2a9728316d0>"
      ]
     },
     "execution_count": 17,
     "metadata": {},
     "output_type": "execute_result"
    }
   ],
   "source": [
    "yt.metadata"
   ]
  },
  {
   "cell_type": "code",
   "execution_count": 18,
   "metadata": {},
   "outputs": [
    {
     "data": {
      "text/plain": [
       "'iNeuron iNtelligence'"
      ]
     },
     "execution_count": 18,
     "metadata": {},
     "output_type": "execute_result"
    }
   ],
   "source": [
    "yt.author"
   ]
  },
  {
   "cell_type": "code",
   "execution_count": 22,
   "metadata": {},
   "outputs": [],
   "source": [
    "vls = yt.length"
   ]
  },
  {
   "cell_type": "code",
   "execution_count": 23,
   "metadata": {},
   "outputs": [],
   "source": []
  },
  {
   "cell_type": "code",
   "execution_count": null,
   "metadata": {},
   "outputs": [],
   "source": []
  },
  {
   "cell_type": "code",
   "execution_count": 26,
   "metadata": {},
   "outputs": [],
   "source": [
    "def convert(seconds): \n",
    "    seconds = seconds % (24 * 3600) \n",
    "    hour = seconds // 3600\n",
    "    seconds %= 3600\n",
    "    minutes = seconds // 60\n",
    "    seconds %= 60\n",
    "      \n",
    "    return \"%d:%02d:%02d\" % (hour, minutes, seconds) \n",
    "      "
   ]
  },
  {
   "cell_type": "code",
   "execution_count": 27,
   "metadata": {},
   "outputs": [
    {
     "data": {
      "text/plain": [
       "'2:30:07'"
      ]
     },
     "execution_count": 27,
     "metadata": {},
     "output_type": "execute_result"
    }
   ],
   "source": [
    "convert(vls)"
   ]
  },
  {
   "cell_type": "code",
   "execution_count": 28,
   "metadata": {
    "scrolled": false
   },
   "outputs": [
    {
     "name": "stdout",
     "output_type": "stream",
     "text": [
      "Help on StreamQuery in module pytube.query object:\n",
      "\n",
      "class StreamQuery(collections.abc.Sequence)\n",
      " |  StreamQuery(fmt_streams)\n",
      " |  \n",
      " |  Interface for querying the available media streams.\n",
      " |  \n",
      " |  Method resolution order:\n",
      " |      StreamQuery\n",
      " |      collections.abc.Sequence\n",
      " |      collections.abc.Reversible\n",
      " |      collections.abc.Collection\n",
      " |      collections.abc.Sized\n",
      " |      collections.abc.Iterable\n",
      " |      collections.abc.Container\n",
      " |      builtins.object\n",
      " |  \n",
      " |  Methods defined here:\n",
      " |  \n",
      " |  __getitem__(self, i: Union[slice, int])\n",
      " |  \n",
      " |  __init__(self, fmt_streams)\n",
      " |      Construct a :class:`StreamQuery <StreamQuery>`.\n",
      " |      \n",
      " |      param list fmt_streams:\n",
      " |          list of :class:`Stream <Stream>` instances.\n",
      " |  \n",
      " |  __len__(self) -> int\n",
      " |  \n",
      " |  __repr__(self) -> str\n",
      " |      Return repr(self).\n",
      " |  \n",
      " |  all(self) -> List[pytube.streams.Stream]\n",
      " |      Get all the results represented by this query as a list.\n",
      " |      \n",
      " |      :rtype: list\n",
      " |  \n",
      " |  asc(self) -> 'StreamQuery'\n",
      " |      Sort streams in ascending order.\n",
      " |      \n",
      " |      :rtype: :class:`StreamQuery <StreamQuery>`\n",
      " |  \n",
      " |  count(self, value: Union[str, NoneType] = None) -> int\n",
      " |      Get the count of items in the list.\n",
      " |      \n",
      " |      :rtype: int\n",
      " |  \n",
      " |  desc(self) -> 'StreamQuery'\n",
      " |      Sort streams in descending order.\n",
      " |      \n",
      " |      :rtype: :class:`StreamQuery <StreamQuery>`\n",
      " |  \n",
      " |  filter(self, fps=None, res=None, resolution=None, mime_type=None, type=None, subtype=None, file_extension=None, abr=None, bitrate=None, video_codec=None, audio_codec=None, only_audio=None, only_video=None, progressive=None, adaptive=None, is_dash=None, custom_filter_functions=None)\n",
      " |      Apply the given filtering criterion.\n",
      " |      \n",
      " |      :param fps:\n",
      " |          (optional) The frames per second.\n",
      " |      :type fps:\n",
      " |          int or None\n",
      " |      \n",
      " |      :param resolution:\n",
      " |          (optional) Alias to ``res``.\n",
      " |      :type res:\n",
      " |          str or None\n",
      " |      \n",
      " |      :param res:\n",
      " |          (optional) The video resolution.\n",
      " |      :type resolution:\n",
      " |          str or None\n",
      " |      \n",
      " |      :param mime_type:\n",
      " |          (optional) Two-part identifier for file formats and format contents\n",
      " |          composed of a \"type\", a \"subtype\".\n",
      " |      :type mime_type:\n",
      " |          str or None\n",
      " |      \n",
      " |      :param type:\n",
      " |          (optional) Type part of the ``mime_type`` (e.g.: audio, video).\n",
      " |      :type type:\n",
      " |          str or None\n",
      " |      \n",
      " |      :param subtype:\n",
      " |          (optional) Sub-type part of the ``mime_type`` (e.g.: mp4, mov).\n",
      " |      :type subtype:\n",
      " |          str or None\n",
      " |      \n",
      " |      :param file_extension:\n",
      " |          (optional) Alias to ``sub_type``.\n",
      " |      :type file_extension:\n",
      " |          str or None\n",
      " |      \n",
      " |      :param abr:\n",
      " |          (optional) Average bitrate (ABR) refers to the average amount of\n",
      " |          data transferred per unit of time (e.g.: 64kbps, 192kbps).\n",
      " |      :type abr:\n",
      " |          str or None\n",
      " |      \n",
      " |      :param bitrate:\n",
      " |          (optional) Alias to ``abr``.\n",
      " |      :type bitrate:\n",
      " |          str or None\n",
      " |      \n",
      " |      :param video_codec:\n",
      " |          (optional) Video compression format.\n",
      " |      :type video_codec:\n",
      " |          str or None\n",
      " |      \n",
      " |      :param audio_codec:\n",
      " |          (optional) Audio compression format.\n",
      " |      :type audio_codec:\n",
      " |          str or None\n",
      " |      \n",
      " |      :param bool progressive:\n",
      " |          Excludes adaptive streams (one file contains both audio and video\n",
      " |          tracks).\n",
      " |      \n",
      " |      :param bool adaptive:\n",
      " |          Excludes progressive streams (audio and video are on separate\n",
      " |          tracks).\n",
      " |      \n",
      " |      :param bool is_dash:\n",
      " |          Include/exclude dash streams.\n",
      " |      \n",
      " |      :param bool only_audio:\n",
      " |          Excludes streams with video tracks.\n",
      " |      \n",
      " |      :param bool only_video:\n",
      " |          Excludes streams with audio tracks.\n",
      " |      \n",
      " |      :param custom_filter_functions:\n",
      " |          (optional) Interface for defining complex filters without\n",
      " |          subclassing.\n",
      " |      :type custom_filter_functions:\n",
      " |          list or None\n",
      " |  \n",
      " |  first(self) -> Union[pytube.streams.Stream, NoneType]\n",
      " |      Get the first :class:`Stream <Stream>` in the results.\n",
      " |      \n",
      " |      :rtype: :class:`Stream <Stream>` or None\n",
      " |      :returns:\n",
      " |          the first result of this query or None if the result doesn't\n",
      " |          contain any streams.\n",
      " |  \n",
      " |  get_audio_only(self, subtype: str = 'mp4') -> Union[pytube.streams.Stream, NoneType]\n",
      " |      Get highest bitrate audio stream for given codec (defaults to mp4)\n",
      " |      \n",
      " |      :param str subtype:\n",
      " |          Audio subtype, defaults to mp4\n",
      " |      :rtype: :class:`Stream <Stream>` or None\n",
      " |      :returns:\n",
      " |          The :class:`Stream <Stream>` matching the given itag or None if\n",
      " |          not found.\n",
      " |  \n",
      " |  get_by_itag(self, itag: int) -> Union[pytube.streams.Stream, NoneType]\n",
      " |      Get the corresponding :class:`Stream <Stream>` for a given itag.\n",
      " |      \n",
      " |      :param int itag:\n",
      " |          YouTube format identifier code.\n",
      " |      :rtype: :class:`Stream <Stream>` or None\n",
      " |      :returns:\n",
      " |          The :class:`Stream <Stream>` matching the given itag or None if\n",
      " |          not found.\n",
      " |  \n",
      " |  get_by_resolution(self, resolution: str) -> Union[pytube.streams.Stream, NoneType]\n",
      " |      Get the corresponding :class:`Stream <Stream>` for a given resolution.\n",
      " |      \n",
      " |      Stream must be a progressive mp4.\n",
      " |      \n",
      " |      :param str resolution:\n",
      " |          Video resolution i.e. \"720p\", \"480p\", \"360p\", \"240p\", \"144p\"\n",
      " |      :rtype: :class:`Stream <Stream>` or None\n",
      " |      :returns:\n",
      " |          The :class:`Stream <Stream>` matching the given itag or None if\n",
      " |          not found.\n",
      " |  \n",
      " |  get_highest_resolution(self) -> Union[pytube.streams.Stream, NoneType]\n",
      " |      Get highest resolution stream that is a progressive video.\n",
      " |      \n",
      " |      :rtype: :class:`Stream <Stream>` or None\n",
      " |      :returns:\n",
      " |          The :class:`Stream <Stream>` matching the given itag or None if\n",
      " |          not found.\n",
      " |  \n",
      " |  get_lowest_resolution(self) -> Union[pytube.streams.Stream, NoneType]\n",
      " |      Get lowest resolution stream that is a progressive mp4.\n",
      " |      \n",
      " |      :rtype: :class:`Stream <Stream>` or None\n",
      " |      :returns:\n",
      " |          The :class:`Stream <Stream>` matching the given itag or None if\n",
      " |          not found.\n",
      " |  \n",
      " |  last(self)\n",
      " |      Get the last :class:`Stream <Stream>` in the results.\n",
      " |      \n",
      " |      :rtype: :class:`Stream <Stream>` or None\n",
      " |      :returns:\n",
      " |          Return the last result of this query or None if the result\n",
      " |          doesn't contain any streams.\n",
      " |  \n",
      " |  order_by(self, attribute_name: str) -> 'StreamQuery'\n",
      " |      Apply a sort order. Filters out stream the do not have the attribute.\n",
      " |      \n",
      " |      :param str attribute_name:\n",
      " |          The name of the attribute to sort by.\n",
      " |  \n",
      " |  otf(self, is_otf: bool = False) -> 'StreamQuery'\n",
      " |      Filter stream by OTF, useful if some streams have 404 URLs\n",
      " |      \n",
      " |      :param bool is_otf: Set to False to retrieve only non-OTF streams\n",
      " |      :rtype: :class:`StreamQuery <StreamQuery>`\n",
      " |      :returns: A StreamQuery object with otf filtered streams\n",
      " |  \n",
      " |  ----------------------------------------------------------------------\n",
      " |  Data descriptors defined here:\n",
      " |  \n",
      " |  __dict__\n",
      " |      dictionary for instance variables (if defined)\n",
      " |  \n",
      " |  __weakref__\n",
      " |      list of weak references to the object (if defined)\n",
      " |  \n",
      " |  ----------------------------------------------------------------------\n",
      " |  Data and other attributes defined here:\n",
      " |  \n",
      " |  __abstractmethods__ = frozenset()\n",
      " |  \n",
      " |  ----------------------------------------------------------------------\n",
      " |  Methods inherited from collections.abc.Sequence:\n",
      " |  \n",
      " |  __contains__(self, value)\n",
      " |  \n",
      " |  __iter__(self)\n",
      " |  \n",
      " |  __reversed__(self)\n",
      " |  \n",
      " |  index(self, value, start=0, stop=None)\n",
      " |      S.index(value, [start, [stop]]) -> integer -- return first index of value.\n",
      " |      Raises ValueError if the value is not present.\n",
      " |      \n",
      " |      Supporting start and stop arguments is optional, but\n",
      " |      recommended.\n",
      " |  \n",
      " |  ----------------------------------------------------------------------\n",
      " |  Class methods inherited from collections.abc.Reversible:\n",
      " |  \n",
      " |  __subclasshook__(C) from abc.ABCMeta\n",
      " |      Abstract classes can override this to customize issubclass().\n",
      " |      \n",
      " |      This is invoked early on by abc.ABCMeta.__subclasscheck__().\n",
      " |      It should return True, False or NotImplemented.  If it returns\n",
      " |      NotImplemented, the normal algorithm is used.  Otherwise, it\n",
      " |      overrides the normal algorithm (and the outcome is cached).\n",
      "\n"
     ]
    }
   ],
   "source": [
    "help(yt.streams)"
   ]
  },
  {
   "cell_type": "code",
   "execution_count": 34,
   "metadata": {},
   "outputs": [
    {
     "data": {
      "text/plain": [
       "<Stream: itag=\"22\" mime_type=\"video/mp4\" res=\"720p\" fps=\"30fps\" vcodec=\"avc1.64001F\" acodec=\"mp4a.40.2\" progressive=\"True\" type=\"video\">"
      ]
     },
     "execution_count": 34,
     "metadata": {},
     "output_type": "execute_result"
    }
   ],
   "source": [
    "yt.streams.get_by_resolution('720p')"
   ]
  },
  {
   "cell_type": "code",
   "execution_count": 32,
   "metadata": {},
   "outputs": [
    {
     "name": "stdout",
     "output_type": "stream",
     "text": [
      "Help on method get_by_resolution in module pytube.query:\n",
      "\n",
      "get_by_resolution(resolution: str) -> Union[pytube.streams.Stream, NoneType] method of pytube.query.StreamQuery instance\n",
      "    Get the corresponding :class:`Stream <Stream>` for a given resolution.\n",
      "    \n",
      "    Stream must be a progressive mp4.\n",
      "    \n",
      "    :param str resolution:\n",
      "        Video resolution i.e. \"720p\", \"480p\", \"360p\", \"240p\", \"144p\"\n",
      "    :rtype: :class:`Stream <Stream>` or None\n",
      "    :returns:\n",
      "        The :class:`Stream <Stream>` matching the given itag or None if\n",
      "        not found.\n",
      "\n"
     ]
    }
   ],
   "source": [
    "help(yt.streams.get_by_resolution)"
   ]
  },
  {
   "cell_type": "code",
   "execution_count": 36,
   "metadata": {},
   "outputs": [
    {
     "data": {
      "text/plain": [
       "<Stream: itag=\"22\" mime_type=\"video/mp4\" res=\"720p\" fps=\"30fps\" vcodec=\"avc1.64001F\" acodec=\"mp4a.40.2\" progressive=\"True\" type=\"video\">"
      ]
     },
     "execution_count": 36,
     "metadata": {},
     "output_type": "execute_result"
    }
   ],
   "source": [
    "yt.streams.get_highest_resolution()"
   ]
  },
  {
   "cell_type": "code",
   "execution_count": 37,
   "metadata": {},
   "outputs": [
    {
     "data": {
      "text/plain": [
       "[<Stream: itag=\"18\" mime_type=\"video/mp4\" res=\"360p\" fps=\"30fps\" vcodec=\"avc1.42001E\" acodec=\"mp4a.40.2\" progressive=\"True\" type=\"video\">, <Stream: itag=\"22\" mime_type=\"video/mp4\" res=\"720p\" fps=\"30fps\" vcodec=\"avc1.64001F\" acodec=\"mp4a.40.2\" progressive=\"True\" type=\"video\">, <Stream: itag=\"137\" mime_type=\"video/mp4\" res=\"1080p\" fps=\"30fps\" vcodec=\"avc1.640028\" progressive=\"False\" type=\"video\">, <Stream: itag=\"248\" mime_type=\"video/webm\" res=\"1080p\" fps=\"30fps\" vcodec=\"vp9\" progressive=\"False\" type=\"video\">, <Stream: itag=\"136\" mime_type=\"video/mp4\" res=\"720p\" fps=\"30fps\" vcodec=\"avc1.64001f\" progressive=\"False\" type=\"video\">, <Stream: itag=\"247\" mime_type=\"video/webm\" res=\"720p\" fps=\"30fps\" vcodec=\"vp9\" progressive=\"False\" type=\"video\">, <Stream: itag=\"135\" mime_type=\"video/mp4\" res=\"480p\" fps=\"30fps\" vcodec=\"avc1.4d401e\" progressive=\"False\" type=\"video\">, <Stream: itag=\"244\" mime_type=\"video/webm\" res=\"480p\" fps=\"30fps\" vcodec=\"vp9\" progressive=\"False\" type=\"video\">, <Stream: itag=\"134\" mime_type=\"video/mp4\" res=\"360p\" fps=\"30fps\" vcodec=\"avc1.4d401e\" progressive=\"False\" type=\"video\">, <Stream: itag=\"243\" mime_type=\"video/webm\" res=\"360p\" fps=\"30fps\" vcodec=\"vp9\" progressive=\"False\" type=\"video\">, <Stream: itag=\"133\" mime_type=\"video/mp4\" res=\"240p\" fps=\"30fps\" vcodec=\"avc1.4d4015\" progressive=\"False\" type=\"video\">, <Stream: itag=\"242\" mime_type=\"video/webm\" res=\"240p\" fps=\"30fps\" vcodec=\"vp9\" progressive=\"False\" type=\"video\">, <Stream: itag=\"160\" mime_type=\"video/mp4\" res=\"144p\" fps=\"30fps\" vcodec=\"avc1.4d400c\" progressive=\"False\" type=\"video\">, <Stream: itag=\"278\" mime_type=\"video/webm\" res=\"144p\" fps=\"30fps\" vcodec=\"vp9\" progressive=\"False\" type=\"video\">, <Stream: itag=\"140\" mime_type=\"audio/mp4\" abr=\"128kbps\" acodec=\"mp4a.40.2\" progressive=\"False\" type=\"audio\">, <Stream: itag=\"249\" mime_type=\"audio/webm\" abr=\"50kbps\" acodec=\"opus\" progressive=\"False\" type=\"audio\">, <Stream: itag=\"250\" mime_type=\"audio/webm\" abr=\"70kbps\" acodec=\"opus\" progressive=\"False\" type=\"audio\">, <Stream: itag=\"251\" mime_type=\"audio/webm\" abr=\"160kbps\" acodec=\"opus\" progressive=\"False\" type=\"audio\">]"
      ]
     },
     "execution_count": 37,
     "metadata": {},
     "output_type": "execute_result"
    }
   ],
   "source": [
    "yt.streams"
   ]
  },
  {
   "cell_type": "code",
   "execution_count": 57,
   "metadata": {},
   "outputs": [
    {
     "data": {
      "text/plain": [
       "[<Stream: itag=\"137\" mime_type=\"video/mp4\" res=\"1080p\" fps=\"30fps\" vcodec=\"avc1.640028\" progressive=\"False\" type=\"video\">]"
      ]
     },
     "execution_count": 57,
     "metadata": {},
     "output_type": "execute_result"
    }
   ],
   "source": [
    "file = 'mp4'\n",
    "resolution = '1080p'\n",
    "yt.streams.filter(file_extension=file, resolution=resolution )"
   ]
  },
  {
   "cell_type": "code",
   "execution_count": 55,
   "metadata": {},
   "outputs": [
    {
     "ename": "AttributeError",
     "evalue": "'Stream' object has no attribute 'res'",
     "output_type": "error",
     "traceback": [
      "\u001b[1;31m---------------------------------------------------------------------------\u001b[0m",
      "\u001b[1;31mAttributeError\u001b[0m                            Traceback (most recent call last)",
      "\u001b[1;32m<ipython-input-55-aac0157a7da3>\u001b[0m in \u001b[0;36m<module>\u001b[1;34m\u001b[0m\n\u001b[0;32m      1\u001b[0m \u001b[1;32mfor\u001b[0m \u001b[0mstream\u001b[0m \u001b[1;32min\u001b[0m \u001b[0myt\u001b[0m\u001b[1;33m.\u001b[0m\u001b[0mstreams\u001b[0m\u001b[1;33m:\u001b[0m\u001b[1;33m\u001b[0m\u001b[1;33m\u001b[0m\u001b[0m\n\u001b[1;32m----> 2\u001b[1;33m     \u001b[0mprint\u001b[0m\u001b[1;33m(\u001b[0m\u001b[0mstream\u001b[0m\u001b[1;33m.\u001b[0m\u001b[0mres\u001b[0m\u001b[1;33m)\u001b[0m\u001b[1;33m\u001b[0m\u001b[1;33m\u001b[0m\u001b[0m\n\u001b[0m",
      "\u001b[1;31mAttributeError\u001b[0m: 'Stream' object has no attribute 'res'"
     ]
    }
   ],
   "source": [
    "for stream in yt.streams:\n",
    "    print(stream.)"
   ]
  },
  {
   "cell_type": "code",
   "execution_count": 63,
   "metadata": {},
   "outputs": [
    {
     "name": "stdout",
     "output_type": "stream",
     "text": [
      "Enter Youtube Video Link Here : https://youtu.be/vvpb8IdDZZI\n",
      "1 <Stream: itag=\"18\" mime_type=\"video/mp4\" res=\"360p\" fps=\"30fps\" vcodec=\"avc1.42001E\" acodec=\"mp4a.40.2\" progressive=\"True\" type=\"video\">\n",
      "2 <Stream: itag=\"22\" mime_type=\"video/mp4\" res=\"720p\" fps=\"30fps\" vcodec=\"avc1.64001F\" acodec=\"mp4a.40.2\" progressive=\"True\" type=\"video\">\n",
      "3 <Stream: itag=\"136\" mime_type=\"video/mp4\" res=\"720p\" fps=\"30fps\" vcodec=\"avc1.4d401f\" progressive=\"False\" type=\"video\">\n",
      "4 <Stream: itag=\"247\" mime_type=\"video/webm\" res=\"720p\" fps=\"30fps\" vcodec=\"vp9\" progressive=\"False\" type=\"video\">\n",
      "5 <Stream: itag=\"135\" mime_type=\"video/mp4\" res=\"480p\" fps=\"30fps\" vcodec=\"avc1.4d4014\" progressive=\"False\" type=\"video\">\n",
      "6 <Stream: itag=\"244\" mime_type=\"video/webm\" res=\"480p\" fps=\"30fps\" vcodec=\"vp9\" progressive=\"False\" type=\"video\">\n",
      "7 <Stream: itag=\"134\" mime_type=\"video/mp4\" res=\"360p\" fps=\"30fps\" vcodec=\"avc1.4d401e\" progressive=\"False\" type=\"video\">\n",
      "8 <Stream: itag=\"243\" mime_type=\"video/webm\" res=\"360p\" fps=\"30fps\" vcodec=\"vp9\" progressive=\"False\" type=\"video\">\n",
      "9 <Stream: itag=\"133\" mime_type=\"video/mp4\" res=\"240p\" fps=\"30fps\" vcodec=\"avc1.4d400c\" progressive=\"False\" type=\"video\">\n",
      "10 <Stream: itag=\"242\" mime_type=\"video/webm\" res=\"240p\" fps=\"30fps\" vcodec=\"vp9\" progressive=\"False\" type=\"video\">\n",
      "11 <Stream: itag=\"160\" mime_type=\"video/mp4\" res=\"144p\" fps=\"30fps\" vcodec=\"avc1.4d400b\" progressive=\"False\" type=\"video\">\n",
      "12 <Stream: itag=\"278\" mime_type=\"video/webm\" res=\"144p\" fps=\"30fps\" vcodec=\"vp9\" progressive=\"False\" type=\"video\">\n",
      "13 <Stream: itag=\"140\" mime_type=\"audio/mp4\" abr=\"128kbps\" acodec=\"mp4a.40.2\" progressive=\"False\" type=\"audio\">\n",
      "14 <Stream: itag=\"251\" mime_type=\"audio/webm\" abr=\"160kbps\" acodec=\"opus\" progressive=\"False\" type=\"audio\">\n"
     ]
    }
   ],
   "source": [
    "from pytube import YouTube\n",
    "link = input(\"Enter Youtube Video Link Here : \")\n",
    "yt = YouTube(link)\n",
    "i = 1\n",
    "for stream in yt.streams:\n",
    "    print(str(i)+ \" \" + str(stream[]))\n",
    "    i+= 1\n",
    "    \n"
   ]
  },
  {
   "cell_type": "code",
   "execution_count": 71,
   "metadata": {
    "scrolled": false
   },
   "outputs": [
    {
     "name": "stdout",
     "output_type": "stream",
     "text": [
      "<\n",
      "S\n",
      "t\n",
      "r\n",
      "e\n",
      "a\n",
      "m\n",
      ":\n",
      " \n",
      "i\n",
      "t\n",
      "a\n",
      "g\n",
      "=\n",
      "\"\n",
      "2\n",
      "2\n",
      "\"\n",
      " \n",
      "m\n",
      "i\n",
      "m\n",
      "e\n",
      "_\n",
      "t\n",
      "y\n",
      "p\n",
      "e\n",
      "=\n",
      "\"\n",
      "v\n",
      "i\n",
      "d\n",
      "e\n",
      "o\n",
      "/\n",
      "m\n",
      "p\n",
      "4\n",
      "\"\n",
      " \n",
      "r\n",
      "e\n",
      "s\n",
      "=\n",
      "\"\n",
      "7\n",
      "2\n",
      "0\n",
      "p\n",
      "\"\n",
      " \n",
      "f\n",
      "p\n",
      "s\n",
      "=\n",
      "\"\n",
      "3\n",
      "0\n",
      "f\n",
      "p\n",
      "s\n",
      "\"\n",
      " \n",
      "v\n",
      "c\n",
      "o\n",
      "d\n",
      "e\n",
      "c\n",
      "=\n",
      "\"\n",
      "a\n",
      "v\n",
      "c\n",
      "1\n",
      ".\n",
      "6\n",
      "4\n",
      "0\n",
      "0\n",
      "1\n",
      "F\n",
      "\"\n",
      " \n",
      "a\n",
      "c\n",
      "o\n",
      "d\n",
      "e\n",
      "c\n",
      "=\n",
      "\"\n",
      "m\n",
      "p\n",
      "4\n",
      "a\n",
      ".\n",
      "4\n",
      "0\n",
      ".\n",
      "2\n",
      "\"\n",
      " \n",
      "p\n",
      "r\n",
      "o\n",
      "g\n",
      "r\n",
      "e\n",
      "s\n",
      "s\n",
      "i\n",
      "v\n",
      "e\n",
      "=\n",
      "\"\n",
      "T\n",
      "r\n",
      "u\n",
      "e\n",
      "\"\n",
      " \n",
      "t\n",
      "y\n",
      "p\n",
      "e\n",
      "=\n",
      "\"\n",
      "v\n",
      "i\n",
      "d\n",
      "e\n",
      "o\n",
      "\"\n",
      ">\n"
     ]
    }
   ],
   "source": [
    "yt.stream"
   ]
  },
  {
   "cell_type": "code",
   "execution_count": null,
   "metadata": {},
   "outputs": [],
   "source": []
  }
 ],
 "metadata": {
  "kernelspec": {
   "display_name": "Python 3",
   "language": "python",
   "name": "python3"
  },
  "language_info": {
   "codemirror_mode": {
    "name": "ipython",
    "version": 3
   },
   "file_extension": ".py",
   "mimetype": "text/x-python",
   "name": "python",
   "nbconvert_exporter": "python",
   "pygments_lexer": "ipython3",
   "version": "3.8.7"
  }
 },
 "nbformat": 4,
 "nbformat_minor": 4
}
